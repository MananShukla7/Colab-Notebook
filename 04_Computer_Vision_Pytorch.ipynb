{
  "cells": [
    {
      "cell_type": "markdown",
      "metadata": {
        "id": "view-in-github",
        "colab_type": "text"
      },
      "source": [
        "<a href=\"https://colab.research.google.com/github/MananShukla7/Colab-Notebook/blob/main/04_Computer_Vision_Pytorch.ipynb\" target=\"_parent\"><img src=\"https://colab.research.google.com/assets/colab-badge.svg\" alt=\"Open In Colab\"/></a>"
      ]
    },
    {
      "cell_type": "markdown",
      "source": [
        "##0. Computer_vision Libraries\n",
        "\n",
        "* `torchvision` -base domain lib for pytorch comp vision\n",
        "* `torchvision.datasets` -get datasets and data loading functions for computer vision here\n",
        "* `torchvision.models` -get pretrained computer vision models that you can leverage for your own problems\n",
        "* `torchvision.transforms` -funtions for manipulating your vision data(images) to be suitable for use with ml models\n",
        "* `torchvision.data.Dataset` -Base datasets class for Pytorch\n",
        "* `torch.utils.data.DataLoaders` -Creates a python iterable over a dataset"
      ],
      "metadata": {
        "id": "clLXE9Otfvab"
      }
    },
    {
      "cell_type": "code",
      "source": [
        "import torch\n",
        "from torch import nn\n",
        "\n",
        "import torchvision\n",
        "from torchvision import datasets\n",
        "from torchvision import transforms\n",
        "from torchvision.transforms import ToTensor\n",
        "\n",
        "import matplotlib.pyplot as plt"
      ],
      "metadata": {
        "id": "7dI8HXkThGKK"
      },
      "execution_count": 1,
      "outputs": []
    },
    {
      "cell_type": "markdown",
      "source": [
        "##1. Getting a dataset\n",
        "\n",
        "Going to use Fashion MNIST's dataset from torchvision datasets"
      ],
      "metadata": {
        "id": "gDhJ-uHhhw-V"
      }
    },
    {
      "cell_type": "code",
      "source": [
        "#Setup training data"
      ],
      "metadata": {
        "id": "RU_7I8VNisDy"
      },
      "execution_count": 2,
      "outputs": []
    },
    {
      "cell_type": "code",
      "source": [
        "train_data=datasets.FashionMNIST(root=\"data\",\n",
        "                                 train=True,\n",
        "                                 download=True,\n",
        "                                 transform=ToTensor(),\n",
        "                                 target_transform=None)\n",
        "\n",
        "test_data=datasets.FashionMNIST(root=\"data\",\n",
        "                                train=False,\n",
        "                                download=True,\n",
        "                                transform=ToTensor(),\n",
        "                                target_transform=None)"
      ],
      "metadata": {
        "id": "itXNPFqIip_M",
        "outputId": "a091fa4a-3695-4b96-d009-e14ff85da606",
        "colab": {
          "base_uri": "https://localhost:8080/",
          "height": 423,
          "referenced_widgets": [
            "b1e1116cb4ac469b8748b22ef5e02053",
            "b542f4af72da4684a1f7f3c0669d3cb5",
            "771f253c47324dfe9982fb4864ac8eb7",
            "a079231d97124c2d87a47931f14021ca",
            "7bdd10508df44497995713c07f26f960",
            "c8fa3278c680448194416607da8adb2b",
            "52815abeb18c46a0939ec94210505e88",
            "6c2155ff2368431ea756433f77e00710",
            "a9a734af113a44898df6f65770d1301c",
            "82ca86545c4242a9861517b6a3468706",
            "4019e29e671d41b981bc6b7b2464d02f",
            "a4cbbe54cdde4d329b6a5892e37ccd1f",
            "3862ade9acc94ce6b26d5bf54b167bf8",
            "1c7a7ae6189a4188a42b53cd354f5ec2",
            "0132a1fd927c493a87532c7bfe5af352",
            "04aeeff2599b4ab5b303818c0858f573",
            "ac2f4736c5254c04b5bdcb43136af463",
            "17178a58e3f640b38535c5fcb6a4269b",
            "f15f9a3a849b457d9efe073285737b4a",
            "ebf4a66cef744f6eaae208e55cc16167",
            "6c33fe6e7d964911b200dbfd6aa3b6ed",
            "685f39eff5bb43a0b7018b138ea846a2",
            "0614dbde0ccd4455b21299bae825c1c5",
            "a1357fd314b74c4f9308037ece0e3ee4",
            "31dda3b36a2647498615ea384ecce614",
            "2e5af108b60f459dab7f843e3f867a08",
            "0ce2c36580ee4a779a78f33f14afb2f7",
            "e89b1a57e93947a8b5f602ee4fa83661",
            "9322066e44fa4d8fa92510bed2ae170f",
            "ba5608daf7304e4099186adddac28e0b",
            "af18ede1a7754fb8b7bfb4f61a476cc7",
            "7df529e991224d05b61b98006badac71",
            "9c5327e0c48343ffa27506637d04d1e1",
            "0b9cc7fbe2cb4807a5114e7849ef89e5",
            "00751221844045d2a51a6b48f8105c5b",
            "219d0c46d7214a6697b8b92218f16c23",
            "5f5e2d38970247c4975bbf1ab32fb634",
            "4b04f70f0c374eee9b76d9fdd6b77c7a",
            "1a1e415b1a3246149f2b45fab2175387",
            "ef147eaf59164d12945c9b45a2fbb8a3",
            "b20b447aeba7445e82061d8e72abf84a",
            "2a9fbd965c1b4109bb62dca73186995c",
            "3aca6d92a76849b7ba93324273fade00",
            "75053f98aa3a415f98dc8be03d059096"
          ]
        }
      },
      "execution_count": 3,
      "outputs": [
        {
          "output_type": "stream",
          "name": "stdout",
          "text": [
            "Downloading http://fashion-mnist.s3-website.eu-central-1.amazonaws.com/train-images-idx3-ubyte.gz\n",
            "Downloading http://fashion-mnist.s3-website.eu-central-1.amazonaws.com/train-images-idx3-ubyte.gz to data/FashionMNIST/raw/train-images-idx3-ubyte.gz\n"
          ]
        },
        {
          "output_type": "display_data",
          "data": {
            "text/plain": [
              "  0%|          | 0/26421880 [00:00<?, ?it/s]"
            ],
            "application/vnd.jupyter.widget-view+json": {
              "version_major": 2,
              "version_minor": 0,
              "model_id": "b1e1116cb4ac469b8748b22ef5e02053"
            }
          },
          "metadata": {}
        },
        {
          "output_type": "stream",
          "name": "stdout",
          "text": [
            "Extracting data/FashionMNIST/raw/train-images-idx3-ubyte.gz to data/FashionMNIST/raw\n",
            "\n",
            "Downloading http://fashion-mnist.s3-website.eu-central-1.amazonaws.com/train-labels-idx1-ubyte.gz\n",
            "Downloading http://fashion-mnist.s3-website.eu-central-1.amazonaws.com/train-labels-idx1-ubyte.gz to data/FashionMNIST/raw/train-labels-idx1-ubyte.gz\n"
          ]
        },
        {
          "output_type": "display_data",
          "data": {
            "text/plain": [
              "  0%|          | 0/29515 [00:00<?, ?it/s]"
            ],
            "application/vnd.jupyter.widget-view+json": {
              "version_major": 2,
              "version_minor": 0,
              "model_id": "a4cbbe54cdde4d329b6a5892e37ccd1f"
            }
          },
          "metadata": {}
        },
        {
          "output_type": "stream",
          "name": "stdout",
          "text": [
            "Extracting data/FashionMNIST/raw/train-labels-idx1-ubyte.gz to data/FashionMNIST/raw\n",
            "\n",
            "Downloading http://fashion-mnist.s3-website.eu-central-1.amazonaws.com/t10k-images-idx3-ubyte.gz\n",
            "Downloading http://fashion-mnist.s3-website.eu-central-1.amazonaws.com/t10k-images-idx3-ubyte.gz to data/FashionMNIST/raw/t10k-images-idx3-ubyte.gz\n"
          ]
        },
        {
          "output_type": "display_data",
          "data": {
            "text/plain": [
              "  0%|          | 0/4422102 [00:00<?, ?it/s]"
            ],
            "application/vnd.jupyter.widget-view+json": {
              "version_major": 2,
              "version_minor": 0,
              "model_id": "0614dbde0ccd4455b21299bae825c1c5"
            }
          },
          "metadata": {}
        },
        {
          "output_type": "stream",
          "name": "stdout",
          "text": [
            "Extracting data/FashionMNIST/raw/t10k-images-idx3-ubyte.gz to data/FashionMNIST/raw\n",
            "\n",
            "Downloading http://fashion-mnist.s3-website.eu-central-1.amazonaws.com/t10k-labels-idx1-ubyte.gz\n",
            "Downloading http://fashion-mnist.s3-website.eu-central-1.amazonaws.com/t10k-labels-idx1-ubyte.gz to data/FashionMNIST/raw/t10k-labels-idx1-ubyte.gz\n"
          ]
        },
        {
          "output_type": "display_data",
          "data": {
            "text/plain": [
              "  0%|          | 0/5148 [00:00<?, ?it/s]"
            ],
            "application/vnd.jupyter.widget-view+json": {
              "version_major": 2,
              "version_minor": 0,
              "model_id": "0b9cc7fbe2cb4807a5114e7849ef89e5"
            }
          },
          "metadata": {}
        },
        {
          "output_type": "stream",
          "name": "stdout",
          "text": [
            "Extracting data/FashionMNIST/raw/t10k-labels-idx1-ubyte.gz to data/FashionMNIST/raw\n",
            "\n"
          ]
        }
      ]
    },
    {
      "cell_type": "code",
      "source": [
        "len(train_data),len(test_data)"
      ],
      "metadata": {
        "id": "GAa2FAY6kOaO",
        "outputId": "e990ceb6-2309-4d88-b117-d2a79d1a8edf",
        "colab": {
          "base_uri": "https://localhost:8080/"
        }
      },
      "execution_count": 4,
      "outputs": [
        {
          "output_type": "execute_result",
          "data": {
            "text/plain": [
              "(60000, 10000)"
            ]
          },
          "metadata": {},
          "execution_count": 4
        }
      ]
    },
    {
      "cell_type": "code",
      "source": [
        "train_data"
      ],
      "metadata": {
        "id": "3VVyIap2kjKA",
        "outputId": "70ec261a-f6bf-4b26-ad54-3b09f9e86c8b",
        "colab": {
          "base_uri": "https://localhost:8080/"
        }
      },
      "execution_count": 5,
      "outputs": [
        {
          "output_type": "execute_result",
          "data": {
            "text/plain": [
              "Dataset FashionMNIST\n",
              "    Number of datapoints: 60000\n",
              "    Root location: data\n",
              "    Split: Train\n",
              "    StandardTransform\n",
              "Transform: ToTensor()"
            ]
          },
          "metadata": {},
          "execution_count": 5
        }
      ]
    },
    {
      "cell_type": "code",
      "source": [
        "image,label=train_data[0]\n",
        "image,label"
      ],
      "metadata": {
        "id": "pD8tHxsDkbq3",
        "outputId": "5a2ede2a-00dc-4897-fcc0-a28dd53946d4",
        "colab": {
          "base_uri": "https://localhost:8080/"
        }
      },
      "execution_count": 6,
      "outputs": [
        {
          "output_type": "execute_result",
          "data": {
            "text/plain": [
              "(tensor([[[0.0000, 0.0000, 0.0000, 0.0000, 0.0000, 0.0000, 0.0000, 0.0000,\n",
              "           0.0000, 0.0000, 0.0000, 0.0000, 0.0000, 0.0000, 0.0000, 0.0000,\n",
              "           0.0000, 0.0000, 0.0000, 0.0000, 0.0000, 0.0000, 0.0000, 0.0000,\n",
              "           0.0000, 0.0000, 0.0000, 0.0000],\n",
              "          [0.0000, 0.0000, 0.0000, 0.0000, 0.0000, 0.0000, 0.0000, 0.0000,\n",
              "           0.0000, 0.0000, 0.0000, 0.0000, 0.0000, 0.0000, 0.0000, 0.0000,\n",
              "           0.0000, 0.0000, 0.0000, 0.0000, 0.0000, 0.0000, 0.0000, 0.0000,\n",
              "           0.0000, 0.0000, 0.0000, 0.0000],\n",
              "          [0.0000, 0.0000, 0.0000, 0.0000, 0.0000, 0.0000, 0.0000, 0.0000,\n",
              "           0.0000, 0.0000, 0.0000, 0.0000, 0.0000, 0.0000, 0.0000, 0.0000,\n",
              "           0.0000, 0.0000, 0.0000, 0.0000, 0.0000, 0.0000, 0.0000, 0.0000,\n",
              "           0.0000, 0.0000, 0.0000, 0.0000],\n",
              "          [0.0000, 0.0000, 0.0000, 0.0000, 0.0000, 0.0000, 0.0000, 0.0000,\n",
              "           0.0000, 0.0000, 0.0000, 0.0000, 0.0039, 0.0000, 0.0000, 0.0510,\n",
              "           0.2863, 0.0000, 0.0000, 0.0039, 0.0157, 0.0000, 0.0000, 0.0000,\n",
              "           0.0000, 0.0039, 0.0039, 0.0000],\n",
              "          [0.0000, 0.0000, 0.0000, 0.0000, 0.0000, 0.0000, 0.0000, 0.0000,\n",
              "           0.0000, 0.0000, 0.0000, 0.0000, 0.0118, 0.0000, 0.1412, 0.5333,\n",
              "           0.4980, 0.2431, 0.2118, 0.0000, 0.0000, 0.0000, 0.0039, 0.0118,\n",
              "           0.0157, 0.0000, 0.0000, 0.0118],\n",
              "          [0.0000, 0.0000, 0.0000, 0.0000, 0.0000, 0.0000, 0.0000, 0.0000,\n",
              "           0.0000, 0.0000, 0.0000, 0.0000, 0.0235, 0.0000, 0.4000, 0.8000,\n",
              "           0.6902, 0.5255, 0.5647, 0.4824, 0.0902, 0.0000, 0.0000, 0.0000,\n",
              "           0.0000, 0.0471, 0.0392, 0.0000],\n",
              "          [0.0000, 0.0000, 0.0000, 0.0000, 0.0000, 0.0000, 0.0000, 0.0000,\n",
              "           0.0000, 0.0000, 0.0000, 0.0000, 0.0000, 0.0000, 0.6078, 0.9255,\n",
              "           0.8118, 0.6980, 0.4196, 0.6118, 0.6314, 0.4275, 0.2510, 0.0902,\n",
              "           0.3020, 0.5098, 0.2824, 0.0588],\n",
              "          [0.0000, 0.0000, 0.0000, 0.0000, 0.0000, 0.0000, 0.0000, 0.0000,\n",
              "           0.0000, 0.0000, 0.0000, 0.0039, 0.0000, 0.2706, 0.8118, 0.8745,\n",
              "           0.8549, 0.8471, 0.8471, 0.6392, 0.4980, 0.4745, 0.4784, 0.5725,\n",
              "           0.5529, 0.3451, 0.6745, 0.2588],\n",
              "          [0.0000, 0.0000, 0.0000, 0.0000, 0.0000, 0.0000, 0.0000, 0.0000,\n",
              "           0.0000, 0.0039, 0.0039, 0.0039, 0.0000, 0.7843, 0.9098, 0.9098,\n",
              "           0.9137, 0.8980, 0.8745, 0.8745, 0.8431, 0.8353, 0.6431, 0.4980,\n",
              "           0.4824, 0.7686, 0.8980, 0.0000],\n",
              "          [0.0000, 0.0000, 0.0000, 0.0000, 0.0000, 0.0000, 0.0000, 0.0000,\n",
              "           0.0000, 0.0000, 0.0000, 0.0000, 0.0000, 0.7176, 0.8824, 0.8471,\n",
              "           0.8745, 0.8941, 0.9216, 0.8902, 0.8784, 0.8706, 0.8784, 0.8667,\n",
              "           0.8745, 0.9608, 0.6784, 0.0000],\n",
              "          [0.0000, 0.0000, 0.0000, 0.0000, 0.0000, 0.0000, 0.0000, 0.0000,\n",
              "           0.0000, 0.0000, 0.0000, 0.0000, 0.0000, 0.7569, 0.8941, 0.8549,\n",
              "           0.8353, 0.7765, 0.7059, 0.8314, 0.8235, 0.8275, 0.8353, 0.8745,\n",
              "           0.8627, 0.9529, 0.7922, 0.0000],\n",
              "          [0.0000, 0.0000, 0.0000, 0.0000, 0.0000, 0.0000, 0.0000, 0.0000,\n",
              "           0.0000, 0.0039, 0.0118, 0.0000, 0.0471, 0.8588, 0.8627, 0.8314,\n",
              "           0.8549, 0.7529, 0.6627, 0.8902, 0.8157, 0.8549, 0.8784, 0.8314,\n",
              "           0.8863, 0.7725, 0.8196, 0.2039],\n",
              "          [0.0000, 0.0000, 0.0000, 0.0000, 0.0000, 0.0000, 0.0000, 0.0000,\n",
              "           0.0000, 0.0000, 0.0235, 0.0000, 0.3882, 0.9569, 0.8706, 0.8627,\n",
              "           0.8549, 0.7961, 0.7765, 0.8667, 0.8431, 0.8353, 0.8706, 0.8627,\n",
              "           0.9608, 0.4667, 0.6549, 0.2196],\n",
              "          [0.0000, 0.0000, 0.0000, 0.0000, 0.0000, 0.0000, 0.0000, 0.0000,\n",
              "           0.0000, 0.0157, 0.0000, 0.0000, 0.2157, 0.9255, 0.8941, 0.9020,\n",
              "           0.8941, 0.9412, 0.9098, 0.8353, 0.8549, 0.8745, 0.9176, 0.8510,\n",
              "           0.8510, 0.8196, 0.3608, 0.0000],\n",
              "          [0.0000, 0.0000, 0.0039, 0.0157, 0.0235, 0.0275, 0.0078, 0.0000,\n",
              "           0.0000, 0.0000, 0.0000, 0.0000, 0.9294, 0.8863, 0.8510, 0.8745,\n",
              "           0.8706, 0.8588, 0.8706, 0.8667, 0.8471, 0.8745, 0.8980, 0.8431,\n",
              "           0.8549, 1.0000, 0.3020, 0.0000],\n",
              "          [0.0000, 0.0118, 0.0000, 0.0000, 0.0000, 0.0000, 0.0000, 0.0000,\n",
              "           0.0000, 0.2431, 0.5686, 0.8000, 0.8941, 0.8118, 0.8353, 0.8667,\n",
              "           0.8549, 0.8157, 0.8275, 0.8549, 0.8784, 0.8745, 0.8588, 0.8431,\n",
              "           0.8784, 0.9569, 0.6235, 0.0000],\n",
              "          [0.0000, 0.0000, 0.0000, 0.0000, 0.0706, 0.1725, 0.3216, 0.4196,\n",
              "           0.7412, 0.8941, 0.8627, 0.8706, 0.8510, 0.8863, 0.7843, 0.8039,\n",
              "           0.8275, 0.9020, 0.8784, 0.9176, 0.6902, 0.7373, 0.9804, 0.9725,\n",
              "           0.9137, 0.9333, 0.8431, 0.0000],\n",
              "          [0.0000, 0.2235, 0.7333, 0.8157, 0.8784, 0.8667, 0.8784, 0.8157,\n",
              "           0.8000, 0.8392, 0.8157, 0.8196, 0.7843, 0.6235, 0.9608, 0.7569,\n",
              "           0.8078, 0.8745, 1.0000, 1.0000, 0.8667, 0.9176, 0.8667, 0.8275,\n",
              "           0.8627, 0.9098, 0.9647, 0.0000],\n",
              "          [0.0118, 0.7922, 0.8941, 0.8784, 0.8667, 0.8275, 0.8275, 0.8392,\n",
              "           0.8039, 0.8039, 0.8039, 0.8627, 0.9412, 0.3137, 0.5882, 1.0000,\n",
              "           0.8980, 0.8667, 0.7373, 0.6039, 0.7490, 0.8235, 0.8000, 0.8196,\n",
              "           0.8706, 0.8941, 0.8824, 0.0000],\n",
              "          [0.3843, 0.9137, 0.7765, 0.8235, 0.8706, 0.8980, 0.8980, 0.9176,\n",
              "           0.9765, 0.8627, 0.7608, 0.8431, 0.8510, 0.9451, 0.2549, 0.2863,\n",
              "           0.4157, 0.4588, 0.6588, 0.8588, 0.8667, 0.8431, 0.8510, 0.8745,\n",
              "           0.8745, 0.8784, 0.8980, 0.1137],\n",
              "          [0.2941, 0.8000, 0.8314, 0.8000, 0.7569, 0.8039, 0.8275, 0.8824,\n",
              "           0.8471, 0.7255, 0.7725, 0.8078, 0.7765, 0.8353, 0.9412, 0.7647,\n",
              "           0.8902, 0.9608, 0.9373, 0.8745, 0.8549, 0.8314, 0.8196, 0.8706,\n",
              "           0.8627, 0.8667, 0.9020, 0.2627],\n",
              "          [0.1882, 0.7961, 0.7176, 0.7608, 0.8353, 0.7725, 0.7255, 0.7451,\n",
              "           0.7608, 0.7529, 0.7922, 0.8392, 0.8588, 0.8667, 0.8627, 0.9255,\n",
              "           0.8824, 0.8471, 0.7804, 0.8078, 0.7294, 0.7098, 0.6941, 0.6745,\n",
              "           0.7098, 0.8039, 0.8078, 0.4510],\n",
              "          [0.0000, 0.4784, 0.8588, 0.7569, 0.7020, 0.6706, 0.7176, 0.7686,\n",
              "           0.8000, 0.8235, 0.8353, 0.8118, 0.8275, 0.8235, 0.7843, 0.7686,\n",
              "           0.7608, 0.7490, 0.7647, 0.7490, 0.7765, 0.7529, 0.6902, 0.6118,\n",
              "           0.6549, 0.6941, 0.8235, 0.3608],\n",
              "          [0.0000, 0.0000, 0.2902, 0.7412, 0.8314, 0.7490, 0.6863, 0.6745,\n",
              "           0.6863, 0.7098, 0.7255, 0.7373, 0.7412, 0.7373, 0.7569, 0.7765,\n",
              "           0.8000, 0.8196, 0.8235, 0.8235, 0.8275, 0.7373, 0.7373, 0.7608,\n",
              "           0.7529, 0.8471, 0.6667, 0.0000],\n",
              "          [0.0078, 0.0000, 0.0000, 0.0000, 0.2588, 0.7843, 0.8706, 0.9294,\n",
              "           0.9373, 0.9490, 0.9647, 0.9529, 0.9569, 0.8667, 0.8627, 0.7569,\n",
              "           0.7490, 0.7020, 0.7137, 0.7137, 0.7098, 0.6902, 0.6510, 0.6588,\n",
              "           0.3882, 0.2275, 0.0000, 0.0000],\n",
              "          [0.0000, 0.0000, 0.0000, 0.0000, 0.0000, 0.0000, 0.0000, 0.1569,\n",
              "           0.2392, 0.1725, 0.2824, 0.1608, 0.1373, 0.0000, 0.0000, 0.0000,\n",
              "           0.0000, 0.0000, 0.0000, 0.0000, 0.0000, 0.0000, 0.0000, 0.0000,\n",
              "           0.0000, 0.0000, 0.0000, 0.0000],\n",
              "          [0.0000, 0.0000, 0.0000, 0.0000, 0.0000, 0.0000, 0.0000, 0.0000,\n",
              "           0.0000, 0.0000, 0.0000, 0.0000, 0.0000, 0.0000, 0.0000, 0.0000,\n",
              "           0.0000, 0.0000, 0.0000, 0.0000, 0.0000, 0.0000, 0.0000, 0.0000,\n",
              "           0.0000, 0.0000, 0.0000, 0.0000],\n",
              "          [0.0000, 0.0000, 0.0000, 0.0000, 0.0000, 0.0000, 0.0000, 0.0000,\n",
              "           0.0000, 0.0000, 0.0000, 0.0000, 0.0000, 0.0000, 0.0000, 0.0000,\n",
              "           0.0000, 0.0000, 0.0000, 0.0000, 0.0000, 0.0000, 0.0000, 0.0000,\n",
              "           0.0000, 0.0000, 0.0000, 0.0000]]]), 9)"
            ]
          },
          "metadata": {},
          "execution_count": 6
        }
      ]
    },
    {
      "cell_type": "code",
      "source": [
        "class_names=train_data.classes\n",
        "class_names"
      ],
      "metadata": {
        "id": "LO8r_I4bnNgu",
        "outputId": "84646b63-f23e-404d-e805-68708e41121f",
        "colab": {
          "base_uri": "https://localhost:8080/"
        }
      },
      "execution_count": 7,
      "outputs": [
        {
          "output_type": "execute_result",
          "data": {
            "text/plain": [
              "['T-shirt/top',\n",
              " 'Trouser',\n",
              " 'Pullover',\n",
              " 'Dress',\n",
              " 'Coat',\n",
              " 'Sandal',\n",
              " 'Shirt',\n",
              " 'Sneaker',\n",
              " 'Bag',\n",
              " 'Ankle boot']"
            ]
          },
          "metadata": {},
          "execution_count": 7
        }
      ]
    },
    {
      "cell_type": "code",
      "source": [
        "class_to_idx=train_data.class_to_idx\n",
        "class_to_idx"
      ],
      "metadata": {
        "id": "I2zvZrkLnWcY",
        "outputId": "f1366440-e401-4da8-98d7-8620502d85d8",
        "colab": {
          "base_uri": "https://localhost:8080/"
        }
      },
      "execution_count": 8,
      "outputs": [
        {
          "output_type": "execute_result",
          "data": {
            "text/plain": [
              "{'T-shirt/top': 0,\n",
              " 'Trouser': 1,\n",
              " 'Pullover': 2,\n",
              " 'Dress': 3,\n",
              " 'Coat': 4,\n",
              " 'Sandal': 5,\n",
              " 'Shirt': 6,\n",
              " 'Sneaker': 7,\n",
              " 'Bag': 8,\n",
              " 'Ankle boot': 9}"
            ]
          },
          "metadata": {},
          "execution_count": 8
        }
      ]
    },
    {
      "cell_type": "code",
      "source": [
        "train_data.train_labels.unique()"
      ],
      "metadata": {
        "id": "YykdCeiknk3Z",
        "outputId": "b7506072-9ca8-46d1-e523-ffff023698ac",
        "colab": {
          "base_uri": "https://localhost:8080/"
        }
      },
      "execution_count": 9,
      "outputs": [
        {
          "output_type": "stream",
          "name": "stderr",
          "text": [
            "/usr/local/lib/python3.8/dist-packages/torchvision/datasets/mnist.py:65: UserWarning: train_labels has been renamed targets\n",
            "  warnings.warn(\"train_labels has been renamed targets\")\n"
          ]
        },
        {
          "output_type": "execute_result",
          "data": {
            "text/plain": [
              "tensor([0, 1, 2, 3, 4, 5, 6, 7, 8, 9])"
            ]
          },
          "metadata": {},
          "execution_count": 9
        }
      ]
    },
    {
      "cell_type": "code",
      "source": [
        "#Check the shape of out image"
      ],
      "metadata": {
        "id": "lq9ClrTan23Q"
      },
      "execution_count": 10,
      "outputs": []
    },
    {
      "cell_type": "code",
      "source": [
        "image.shape,label"
      ],
      "metadata": {
        "id": "7n7GeV1bn5nP",
        "outputId": "083e2e89-4db6-4d27-99d9-65a3c6da973f",
        "colab": {
          "base_uri": "https://localhost:8080/"
        }
      },
      "execution_count": 11,
      "outputs": [
        {
          "output_type": "execute_result",
          "data": {
            "text/plain": [
              "(torch.Size([1, 28, 28]), 9)"
            ]
          },
          "metadata": {},
          "execution_count": 11
        }
      ]
    },
    {
      "cell_type": "markdown",
      "source": [
        "###1.2 Visualizing our data"
      ],
      "metadata": {
        "id": "OGHlGHPKou0_"
      }
    },
    {
      "cell_type": "code",
      "source": [
        "image,label=train_data[0]\n",
        "print(f\"Image shape: {image.shape}\")\n",
        "plt.imshow(image.squeeze());\n",
        "plt.title(label);"
      ],
      "metadata": {
        "id": "h2S-wK_1oymI",
        "outputId": "1dad0593-fd70-40fd-bcfb-685ea70d6379",
        "colab": {
          "base_uri": "https://localhost:8080/",
          "height": 298
        }
      },
      "execution_count": 12,
      "outputs": [
        {
          "output_type": "stream",
          "name": "stdout",
          "text": [
            "Image shape: torch.Size([1, 28, 28])\n"
          ]
        },
        {
          "output_type": "display_data",
          "data": {
            "text/plain": [
              "<Figure size 432x288 with 1 Axes>"
            ],
            "image/png": "[encoded data removed]"
          },
          "metadata": {
            "needs_background": "light"
          }
        }
      ]
    },
    {
      "cell_type": "code",
      "source": [
        "plt.imshow(image.squeeze(),cmap=\"gray\")\n",
        "plt.title(class_names[label]);\n",
        "plt.axis(False);"
      ],
      "metadata": {
        "id": "eDhwbDpvpcBl",
        "outputId": "2ddd078b-c1e7-4427-ec46-b811a07cc9dc",
        "colab": {
          "base_uri": "https://localhost:8080/",
          "height": 264
        }
      },
      "execution_count": 13,
      "outputs": [
        {
          "output_type": "display_data",
          "data": {
            "text/plain": [
              "<Figure size 432x288 with 1 Axes>"
            ],
            "image/png": "[encoded data removed]"
          },
          "metadata": {
            "needs_background": "light"
          }
        }
      ]
    },
    {
      "cell_type": "code",
      "source": [
        "#plot more images\n",
        "# torch.manual_seed(42)\n",
        "fig=plt.figure(figsize=(9,9))\n",
        "rows,cols=4,4\n",
        "for i in range(1,rows*cols+1):\n",
        "  random_idx=torch.randint(0,len(train_data),size=[1]).item()\n",
        "  img,label=train_data[random_idx]\n",
        "  plt.subplot(rows,cols,i)\n",
        "  plt.imshow(img.squeeze(),cmap=\"gray\")\n",
        "  plt.title(class_names[label]);\n",
        "  plt.axis(False);"
      ],
      "metadata": {
        "id": "6V6xUZRnpvwM",
        "outputId": "fa5bfa42-3293-4082-9fa9-7e3f4c501ee2",
        "colab": {
          "base_uri": "https://localhost:8080/",
          "height": 536
        }
      },
      "execution_count": 14,
      "outputs": [
        {
          "output_type": "display_data",
          "data": {
            "text/plain": [
              "<Figure size 648x648 with 16 Axes>"
            ],
            "image/png": "[encoded data removed]"
          },
          "metadata": {
            "needs_background": "light"
          }
        }
      ]
    },
    {
      "cell_type": "markdown",
      "source": [
        "##2. Prepare DataLoader\n",
        "\n",
        "Righnow the data is in the form of Pytorch Datasets\n",
        "\n",
        "DataLoader converts data into python iterable\n",
        "\n",
        "MOre Specifically we want to turn our data into batches or mini-batches\n",
        "\n",
        "Why mini batches?\n",
        "\n",
        "- It is more computationally efficient, comp hardaware cant look at all data at one time\n",
        "\n",
        "- It gives our nn more chances to update its gradients per epoch"
      ],
      "metadata": {
        "id": "lFbfQWrp3aaT"
      }
    },
    {
      "cell_type": "code",
      "source": [],
      "metadata": {
        "id": "ucvWZFGR6JUs"
      },
      "execution_count": 14,
      "outputs": []
    },
    {
      "cell_type": "code",
      "source": [
        "train_data,test_data"
      ],
      "metadata": {
        "id": "pULloh8u5QnV",
        "outputId": "e09bb611-3ca5-4c3f-a8eb-719ec58e77d1",
        "colab": {
          "base_uri": "https://localhost:8080/"
        }
      },
      "execution_count": 15,
      "outputs": [
        {
          "output_type": "execute_result",
          "data": {
            "text/plain": [
              "(Dataset FashionMNIST\n",
              "     Number of datapoints: 60000\n",
              "     Root location: data\n",
              "     Split: Train\n",
              "     StandardTransform\n",
              " Transform: ToTensor(), Dataset FashionMNIST\n",
              "     Number of datapoints: 10000\n",
              "     Root location: data\n",
              "     Split: Test\n",
              "     StandardTransform\n",
              " Transform: ToTensor())"
            ]
          },
          "metadata": {},
          "execution_count": 15
        }
      ]
    },
    {
      "cell_type": "code",
      "source": [
        "from torch.utils.data import DataLoader\n",
        "#train\n",
        "train_dataloader=DataLoader(dataset=train_data,\n",
        "                            batch_size=32,\n",
        "                            shuffle=True)\n",
        "\n",
        "\n",
        "# test\n",
        "test_dataloader=DataLoader(dataset=test_data,\n",
        "                            batch_size=32,\n",
        "                            shuffle=True)\n",
        "\n",
        "test_dataloader.batch_size,train_dataloader.batch_size,len(train_dataloader),len(test_dataloader) # test_dataloader.size(),train_dataloader.size()\n",
        "train_batch_size=len(train_dataloader)\n",
        "train_batch_size"
      ],
      "metadata": {
        "id": "RGExYAus6mky",
        "outputId": "81101345-43fd-41b7-f8c8-aa6d6d6ec53d",
        "colab": {
          "base_uri": "https://localhost:8080/"
        }
      },
      "execution_count": 16,
      "outputs": [
        {
          "output_type": "execute_result",
          "data": {
            "text/plain": [
              "1875"
            ]
          },
          "metadata": {},
          "execution_count": 16
        }
      ]
    },
    {
      "cell_type": "code",
      "source": [
        "i=iter(train_dataloader)\n",
        "a=next(i)\n",
        "print(a[1])\n",
        "b=next(i)\n",
        "print(b[1])"
      ],
      "metadata": {
        "id": "HIYE62VP7m0W",
        "outputId": "c44ea6c0-4d5f-4d2e-ec97-8db70a6f4a41",
        "colab": {
          "base_uri": "https://localhost:8080/"
        }
      },
      "execution_count": 17,
      "outputs": [
        {
          "output_type": "stream",
          "name": "stdout",
          "text": [
            "tensor([4, 0, 3, 0, 2, 3, 0, 3, 1, 8, 7, 2, 2, 6, 7, 1, 9, 5, 9, 2, 8, 7, 3, 6,\n",
            "        3, 5, 7, 9, 9, 9, 9, 3])\n",
            "tensor([3, 2, 7, 9, 0, 0, 4, 8, 7, 6, 7, 7, 0, 7, 4, 0, 9, 0, 9, 8, 3, 9, 2, 1,\n",
            "        2, 6, 0, 9, 6, 7, 5, 8])\n"
          ]
        }
      ]
    },
    {
      "cell_type": "code",
      "source": [],
      "metadata": {
        "id": "98Jar-7M_o3R"
      },
      "execution_count": 17,
      "outputs": []
    },
    {
      "cell_type": "code",
      "source": [
        "train_features_batch,train_labels_batch=next(iter(train_dataloader))\n",
        "train_features_batch.size(),train_labels_batch.size()\n",
        "len(train_features_batch)"
      ],
      "metadata": {
        "id": "6NvCGOwc_l0a",
        "outputId": "7b2f5998-7e6a-4640-a267-375bee41b452",
        "colab": {
          "base_uri": "https://localhost:8080/"
        }
      },
      "execution_count": 18,
      "outputs": [
        {
          "output_type": "execute_result",
          "data": {
            "text/plain": [
              "32"
            ]
          },
          "metadata": {},
          "execution_count": 18
        }
      ]
    },
    {
      "cell_type": "code",
      "source": [
        "torch.manual_seed(42)\n",
        "random_idx=torch.randint(0,len(train_features_batch),size=[1]).item()\n",
        "print(random_idx)\n",
        "img,label=train_features_batch[random_idx],train_labels_batch[random_idx]\n",
        "# plt.plot(train_features_batch[random_idx])\n",
        "plt.imshow(img.squeeze(),cmap=\"gray\")\n",
        "plt.title(class_names[label])\n",
        "plt.axis(False)\n"
      ],
      "metadata": {
        "id": "pFSKSGlc-Nev",
        "outputId": "035b3657-3a82-4d93-dfac-b5b1d83722de",
        "colab": {
          "base_uri": "https://localhost:8080/",
          "height": 299
        }
      },
      "execution_count": 19,
      "outputs": [
        {
          "output_type": "stream",
          "name": "stdout",
          "text": [
            "6\n"
          ]
        },
        {
          "output_type": "execute_result",
          "data": {
            "text/plain": [
              "(-0.5, 27.5, 27.5, -0.5)"
            ]
          },
          "metadata": {},
          "execution_count": 19
        },
        {
          "output_type": "display_data",
          "data": {
            "text/plain": [
              "<Figure size 432x288 with 1 Axes>"
            ],
            "image/png": "[encoded data removed]"
          },
          "metadata": {
            "needs_background": "light"
          }
        }
      ]
    },
    {
      "cell_type": "code",
      "source": [
        " ##0. Build a baseline model\n"
      ],
      "metadata": {
        "id": "YrCNRvAe-M2R"
      },
      "execution_count": 20,
      "outputs": []
    },
    {
      "cell_type": "code",
      "source": [
        "#Create a flatten layer\n",
        "flatten_layer=nn.Flatten()\n",
        "#Get a single smple\n",
        "x=train_features_batch[0]\n",
        "print(x.shape)\n",
        "\n",
        "output=flatten_layer(x)\n",
        "\n",
        "print(output.shape)\n",
        "print(output.squeeze().shape)"
      ],
      "metadata": {
        "id": "Aag2nkceSzLu",
        "outputId": "267fe58f-74df-49d1-b3f0-223f61fbb6cf",
        "colab": {
          "base_uri": "https://localhost:8080/"
        }
      },
      "execution_count": 21,
      "outputs": [
        {
          "output_type": "stream",
          "name": "stdout",
          "text": [
            "torch.Size([1, 28, 28])\n",
            "torch.Size([1, 784])\n",
            "torch.Size([784])\n"
          ]
        }
      ]
    },
    {
      "cell_type": "code",
      "source": [
        "28*28"
      ],
      "metadata": {
        "id": "HM_qwsz4StgP",
        "outputId": "5b5a7580-bb9f-43e1-a74c-692fd9a5b29d",
        "colab": {
          "base_uri": "https://localhost:8080/"
        }
      },
      "execution_count": 22,
      "outputs": [
        {
          "output_type": "execute_result",
          "data": {
            "text/plain": [
              "784"
            ]
          },
          "metadata": {},
          "execution_count": 22
        }
      ]
    },
    {
      "cell_type": "code",
      "source": [
        "from torch import nn\n",
        "class FashionMNISTmodelV0(nn.Module):\n",
        "  def __init__(self,inp,outp,hidden):\n",
        "    super().__init__()\n",
        "    self.layer_stack=nn.Sequential(\n",
        "        nn.Flatten(),\n",
        "        nn.Linear(inp,hidden),\n",
        "        nn.Linear(hidden,outp)\n",
        "    )\n",
        "  def forward(self,x):\n",
        "    return self.layer_stack(x)\n"
      ],
      "metadata": {
        "id": "NqfNoQbGTSyz"
      },
      "execution_count": 23,
      "outputs": []
    },
    {
      "cell_type": "code",
      "source": [
        "torch.manual_seed(42)\n",
        "\n",
        "model_0=FashionMNISTmodelV0(inp=784, #28x28\n",
        "                            hidden=10,\n",
        "                            outp=len(class_names)).to(\"cpu\")\n",
        "model_0\n"
      ],
      "metadata": {
        "id": "ODpC0bIaT69X",
        "outputId": "bac9096f-7441-4637-824a-e478bbf7d5e8",
        "colab": {
          "base_uri": "https://localhost:8080/"
        }
      },
      "execution_count": 24,
      "outputs": [
        {
          "output_type": "execute_result",
          "data": {
            "text/plain": [
              "FashionMNISTmodelV0(\n",
              "  (layer_stack): Sequential(\n",
              "    (0): Flatten(start_dim=1, end_dim=-1)\n",
              "    (1): Linear(in_features=784, out_features=10, bias=True)\n",
              "    (2): Linear(in_features=10, out_features=10, bias=True)\n",
              "  )\n",
              ")"
            ]
          },
          "metadata": {},
          "execution_count": 24
        }
      ]
    },
    {
      "cell_type": "code",
      "source": [
        "dummy_x=torch.rand([1,1,28,28])\n",
        "model_0(dummy_x)"
      ],
      "metadata": {
        "id": "fOXnbHDVU-qq",
        "outputId": "c1e7cb9e-7ea8-4057-e06a-ae5739078ca3",
        "colab": {
          "base_uri": "https://localhost:8080/"
        }
      },
      "execution_count": 25,
      "outputs": [
        {
          "output_type": "execute_result",
          "data": {
            "text/plain": [
              "tensor([[-0.0315,  0.3171,  0.0531, -0.2525,  0.5959,  0.2112,  0.3233,  0.2694,\n",
              "         -0.1004,  0.0157]], grad_fn=<AddmmBackward0>)"
            ]
          },
          "metadata": {},
          "execution_count": 25
        }
      ]
    },
    {
      "cell_type": "code",
      "source": [
        "model_0.state_dict()"
      ],
      "metadata": {
        "id": "4qT82u3CVQDb",
        "outputId": "713611b3-5245-4b90-a1c2-dfc40efe5f87",
        "colab": {
          "base_uri": "https://localhost:8080/"
        }
      },
      "execution_count": 26,
      "outputs": [
        {
          "output_type": "execute_result",
          "data": {
            "text/plain": [
              "OrderedDict([('layer_stack.1.weight',\n",
              "              tensor([[ 0.0273,  0.0296, -0.0084,  ..., -0.0142,  0.0093,  0.0135],\n",
              "                      [-0.0188, -0.0354,  0.0187,  ..., -0.0106, -0.0001,  0.0115],\n",
              "                      [-0.0008,  0.0017,  0.0045,  ..., -0.0127, -0.0188,  0.0059],\n",
              "                      ...,\n",
              "                      [-0.0116,  0.0273, -0.0344,  ...,  0.0176,  0.0283, -0.0011],\n",
              "                      [-0.0230,  0.0257,  0.0291,  ..., -0.0187, -0.0087,  0.0001],\n",
              "                      [ 0.0176, -0.0147,  0.0053,  ..., -0.0336, -0.0221,  0.0205]])),\n",
              "             ('layer_stack.1.bias',\n",
              "              tensor([-0.0093,  0.0283, -0.0033,  0.0255,  0.0017,  0.0037, -0.0302, -0.0123,\n",
              "                       0.0018,  0.0163])),\n",
              "             ('layer_stack.2.weight',\n",
              "              tensor([[ 0.0614, -0.0687,  0.0021,  0.2718,  0.2109,  0.1079, -0.2279, -0.1063,\n",
              "                        0.2019,  0.2847],\n",
              "                      [-0.1495,  0.1344, -0.0740,  0.2006, -0.0475, -0.2514, -0.3130, -0.0118,\n",
              "                        0.0932, -0.1864],\n",
              "                      [ 0.2488,  0.1500,  0.1907,  0.1457, -0.3050, -0.0580,  0.1643,  0.1565,\n",
              "                       -0.2877, -0.1792],\n",
              "                      [ 0.2305, -0.2618,  0.2397, -0.0610,  0.0232,  0.1542,  0.0851, -0.2027,\n",
              "                        0.1030, -0.2715],\n",
              "                      [-0.1596, -0.0555, -0.0633,  0.2302, -0.1726,  0.2654,  0.1473,  0.1029,\n",
              "                        0.2252, -0.2160],\n",
              "                      [-0.2725,  0.0118,  0.1559,  0.1596,  0.0132,  0.3024,  0.1124,  0.1366,\n",
              "                       -0.1533,  0.0965],\n",
              "                      [-0.1184, -0.2555, -0.2057, -0.1909, -0.0477, -0.1324,  0.2905,  0.1307,\n",
              "                       -0.2629,  0.0133],\n",
              "                      [ 0.2727, -0.0127,  0.0513,  0.0863, -0.1043, -0.2047, -0.1185, -0.0825,\n",
              "                        0.2488, -0.2571],\n",
              "                      [ 0.0425, -0.1209, -0.0336, -0.0281, -0.1227,  0.0730,  0.0747, -0.1816,\n",
              "                        0.1943,  0.2853],\n",
              "                      [-0.1310,  0.0645, -0.1171,  0.2168, -0.0245, -0.2820,  0.0736,  0.2621,\n",
              "                        0.0012, -0.0810]])),\n",
              "             ('layer_stack.2.bias',\n",
              "              tensor([-0.0087,  0.1791,  0.2712, -0.0791,  0.1685,  0.1762,  0.2825,  0.2266,\n",
              "                      -0.2612, -0.2613]))])"
            ]
          },
          "metadata": {},
          "execution_count": 26
        }
      ]
    },
    {
      "cell_type": "code",
      "source": [
        "w1,b1,w2,b2=model_0.state_dict().values()"
      ],
      "metadata": {
        "id": "BjFE0tKdXLnH"
      },
      "execution_count": 27,
      "outputs": []
    },
    {
      "cell_type": "code",
      "source": [
        "w1.shape,b1.shape,w2.shape,b2.shape"
      ],
      "metadata": {
        "id": "wTttelhVVVX8",
        "outputId": "aad60e51-d28a-4989-fb2a-eb0d0e8a1f81",
        "colab": {
          "base_uri": "https://localhost:8080/"
        }
      },
      "execution_count": 28,
      "outputs": [
        {
          "output_type": "execute_result",
          "data": {
            "text/plain": [
              "(torch.Size([10, 784]),\n",
              " torch.Size([10]),\n",
              " torch.Size([10, 10]),\n",
              " torch.Size([10]))"
            ]
          },
          "metadata": {},
          "execution_count": 28
        }
      ]
    },
    {
      "cell_type": "markdown",
      "source": [
        "## 3.1 Setup loss ,opti and evaluation metrics\n",
        "\n",
        "- loss_fn = Working with the multi-class data,our loss fn will be `nn.CrossentropuLoss()`\n",
        "- Opti = Using `torch.optim.SGD()` or `torch.optim.Adam()`\n",
        "- Metrics = Using the torchmetrics lib amd using `Accurary()` fun"
      ],
      "metadata": {
        "id": "U0-H4fS7XkXF"
      }
    },
    {
      "cell_type": "code",
      "source": [
        "import requests\n",
        "from pathlib import Path\n",
        "\n",
        "if Path(\"help_fn.py\").is_file():\n",
        "  print(\"Already imported\")\n",
        "\n",
        "else:\n",
        "  request=requests.get('https://github.com/MananShukla7/Colab-Notebook/raw/main/helper_functions.py')\n",
        "  with open(\"help_fn.py\",\"wb\") as f:\n",
        "    f.write(request.content)"
      ],
      "metadata": {
        "id": "Cm1oaXgKZF5f"
      },
      "execution_count": 29,
      "outputs": []
    },
    {
      "cell_type": "code",
      "source": [
        "!pip -q install torchmetrics\n",
        "from torchmetrics import Accuracy\n",
        "\n",
        "acc=Accuracy(task='multiclass',num_classes=len(class_names))\n",
        "\n",
        "loss_fn=nn.CrossEntropyLoss()\n",
        "opti=torch.optim.SGD(params=model_0.parameters(),lr=0.1)\n",
        "acc"
      ],
      "metadata": {
        "id": "ixnj0deswj0D",
        "outputId": "44ab0195-003b-4a89-e411-de536936660b",
        "colab": {
          "base_uri": "https://localhost:8080/"
        }
      },
      "execution_count": 30,
      "outputs": [
        {
          "output_type": "stream",
          "name": "stdout",
          "text": [
            "\u001b[?25l     \u001b[90m━━━━━━━━━━━━━━━━━━━━━━━━━━━━━━━━━━━━━━━━\u001b[0m \u001b[32m0.0/518.6 KB\u001b[0m \u001b[31m?\u001b[0m eta \u001b[36m-:--:--\u001b[0m\r\u001b[2K     \u001b[91m━━━━━━━━━━━━━━━━━━\u001b[0m\u001b[90m╺\u001b[0m\u001b[90m━━━━━━━━━━━━━━━━━━━━\u001b[0m \u001b[32m245.8/518.6 KB\u001b[0m \u001b[31m7.2 MB/s\u001b[0m eta \u001b[36m0:00:01\u001b[0m\r\u001b[2K     \u001b[90m━━━━━━━━━━━━━━━━━━━━━━━━━━━━━━━━━━━━━━━\u001b[0m \u001b[32m518.6/518.6 KB\u001b[0m \u001b[31m8.2 MB/s\u001b[0m eta \u001b[36m0:00:00\u001b[0m\n",
            "\u001b[?25h"
          ]
        },
        {
          "output_type": "execute_result",
          "data": {
            "text/plain": [
              "MulticlassAccuracy()"
            ]
          },
          "metadata": {},
          "execution_count": 30
        }
      ]
    },
    {
      "cell_type": "markdown",
      "source": [
        "###Creating the func to time our experiments\n",
        "\n",
        "Machine learning is very experimental\n",
        "\n",
        "two of the main things you'll often want to track are:\n",
        "\n",
        "1. Model's performance\n",
        "2. How fat it runs"
      ],
      "metadata": {
        "id": "xLv5d9RTyJHN"
      }
    },
    {
      "cell_type": "code",
      "source": [
        "from timeit import default_timer as timer\n",
        "\n",
        "def print_train_time(start:float,\n",
        "                     end:float,\n",
        "                     device:str=None):\n",
        "  \"\"\"Print diff bw start and end time\"\"\"\n",
        "  total_time=end-start\n",
        "  print(f\"Train time on {device}: {total_time:.3f} seconds\")\n",
        "  return total_time"
      ],
      "metadata": {
        "id": "-lqlhBJfylod"
      },
      "execution_count": 31,
      "outputs": []
    },
    {
      "cell_type": "code",
      "source": [
        "start_time=timer()\n",
        "#some code...\n",
        "end_time=timer()\n",
        "print_train_time(start_time,end_time,device=\"cpu\")\n"
      ],
      "metadata": {
        "id": "D2_omg1hzXys",
        "outputId": "6674530b-20b2-4266-a6d4-61f67ce0f345",
        "colab": {
          "base_uri": "https://localhost:8080/"
        }
      },
      "execution_count": 32,
      "outputs": [
        {
          "output_type": "stream",
          "name": "stdout",
          "text": [
            "Train time on cpu: 0.000 seconds\n"
          ]
        },
        {
          "output_type": "execute_result",
          "data": {
            "text/plain": [
              "9.171899999671496e-05"
            ]
          },
          "metadata": {},
          "execution_count": 32
        }
      ]
    },
    {
      "cell_type": "code",
      "source": [
        "# y.shape"
      ],
      "metadata": {
        "id": "FbNah1TEMczP"
      },
      "execution_count": 33,
      "outputs": []
    },
    {
      "cell_type": "code",
      "source": [
        "def accuracy_fn(y_true, y_pred):\n",
        "    \"\"\"Calculates accuracy between truth labels and predictions.\n",
        "\n",
        "    Args:\n",
        "        y_true (torch.Tensor): Truth labels for predictions.\n",
        "        y_pred (torch.Tensor): Predictions to be compared to predictions.\n",
        "\n",
        "    Returns:\n",
        "        [torch.float]: Accuracy value between y_true and y_pred, e.g. 78.45\n",
        "    \"\"\"\n",
        "    correct = torch.eq(y_true, y_pred).sum().item()\n",
        "    acc = (correct / len(y_pred)) * 100\n",
        "    return acc"
      ],
      "metadata": {
        "id": "zSzIp53EQhGn"
      },
      "execution_count": 34,
      "outputs": []
    },
    {
      "cell_type": "markdown",
      "source": [
        "###3.3 Creating a training loop and train a model on batches of data\n",
        "\n",
        "1. Loop throug epochs\n",
        "2. Loop through training batches,perform training steps,calc the train loss *per batch*\n",
        "3. Loop through testing batches,perform testing steps,calc the test loss *per batch*.\n",
        "4. Print out whats happening.\n",
        "5. Time it all(for fun)"
      ],
      "metadata": {
        "id": "iT2UMJ0dwi1F"
      }
    },
    {
      "cell_type": "code",
      "source": [
        "#Import tqdm for progress bar\n",
        "from tqdm.auto import tqdm\n",
        "torch.manual_seed(42)\n",
        "train_time_start_on_cpu=timer()\n",
        "\n",
        "#epochs\n",
        "epochs=3\n",
        "\n",
        "#Create training and test loop\n",
        "for epoch in tqdm(range(epochs)):\n",
        "  print(f\"Epochs:{epoch}\\n-----\")\n",
        "  ##Training\n",
        "  train_loss=0\n",
        "  #add a poop to loop through the training batches\n",
        "  for batch, (X,y) in enumerate(train_dataloader):\n",
        "    # batch,X,y=batch.to(device),X.to(device),y.to(device)\n",
        "    # print(X[:5],y)\n",
        "    model_0.train()\n",
        "    #1. Forward pass\n",
        "    y_pred=model_0(X)\n",
        "\n",
        "    #2.calc the loss(per batch)\n",
        "    loss=loss_fn(y_pred,y)\n",
        "    train_loss+=loss\n",
        "\n",
        "    # test_acc+=accuracy_fn(y,y_pred.argmax(dim=1))\n",
        "    \n",
        "    opti.zero_grad()\n",
        "\n",
        "    loss.backward()\n",
        "\n",
        "    #NOTE: the opti will update the params of the model once per batch instead of once per epoch!\n",
        "    opti.step()\n",
        "\n",
        "    #Print out whats happenin\n",
        "    if batch%400==0:\n",
        "      print(f\"Looked at {batch*len(X)}/{len(train_dataloader.dataset)} samples.\")\n",
        "    \n",
        "  #Divide total traon loss by len of train dataloader\n",
        "  train_loss/=len(train_dataloader)\n",
        "  \n",
        "  ###Testing \n",
        "  test_loss,test_acc=0,0\n",
        "  model_0.eval()\n",
        "  with torch.inference_mode():\n",
        "    for X_test,y_test in test_dataloader:\n",
        "      # batch,X_test,y_test=batch.to(device),X_test.to(device),y_test.to(device)\n",
        "      #1. Forward pass\n",
        "      test_pred=model_0(X_test)\n",
        "\n",
        "      #Calc the loss\n",
        "      test_loss+=loss_fn(test_pred,y_test)\n",
        "\n",
        "      test_acc+=acc(test_pred.argmax(dim=1),y_test)\n",
        "\n",
        "    #Calc the test loss avg per batch\n",
        "    test_loss/=len(test_dataloader)\n",
        "\n",
        "    #Calc the test acc avg per batch\n",
        "    test_acc/=len(test_dataloader)\n",
        "  #print out\n",
        "  print(f\"\\nTrain Loss: {loss:.4f} |  test Loss: {test_loss:.4f} |  Test acc: {test_acc:.4f}\")\n",
        "\n",
        "  #calc training time\n",
        "  train_time_end_on_cpu=timer()\n",
        "  #calc the train time\n",
        "  total_train_time_model_0=print_train_time(train_time_end_on_cpu,train_time_start_on_cpu,device=str(next(model_0.parameters()).device))\n",
        "\n",
        "\n",
        "\n",
        "\n"
      ],
      "metadata": {
        "id": "oRKZ8v7g08Mw",
        "outputId": "59560a63-85ec-4ab2-8c62-5224d72b4d5f",
        "colab": {
          "base_uri": "https://localhost:8080/",
          "height": 570,
          "referenced_widgets": [
            "486345ab3a1b4cca8b48648c40956a47",
            "d427284b32a140a4b0e9a20fea4c41b5",
            "d22f0b9fe2694e4495c2ef0fb1e5e2fa",
            "90aa911374e440c7b4fc33f619608ab4",
            "14f3efa01f1c456683ad4f1568784780",
            "6a86966ee0c6463eaf18b61dd8d9514a",
            "c1e9b341ca474905a029fb0de38acf55",
            "e6ec85790c934774b701313d5d234b29",
            "8667dd57d6d240ea9122186e5a49bc9e",
            "8ca8b93052e3436293d90a5dc8459841",
            "80d91a01817a4980ba982e3e0b87bb0d"
          ]
        }
      },
      "execution_count": 35,
      "outputs": [
        {
          "output_type": "display_data",
          "data": {
            "text/plain": [
              "  0%|          | 0/3 [00:00<?, ?it/s]"
            ],
            "application/vnd.jupyter.widget-view+json": {
              "version_major": 2,
              "version_minor": 0,
              "model_id": "486345ab3a1b4cca8b48648c40956a47"
            }
          },
          "metadata": {}
        },
        {
          "output_type": "stream",
          "name": "stdout",
          "text": [
            "Epochs:0\n",
            "-----\n",
            "Looked at 0/60000 samples.\n",
            "Looked at 12800/60000 samples.\n",
            "Looked at 25600/60000 samples.\n",
            "Looked at 38400/60000 samples.\n",
            "Looked at 51200/60000 samples.\n",
            "\n",
            "Train Loss: 0.4652 |  test Loss: 0.5102 |  Test acc: 0.8204\n",
            "Train time on cpu: -16.679 seconds\n",
            "Epochs:1\n",
            "-----\n",
            "Looked at 0/60000 samples.\n",
            "Looked at 12800/60000 samples.\n",
            "Looked at 25600/60000 samples.\n",
            "Looked at 38400/60000 samples.\n",
            "Looked at 51200/60000 samples.\n",
            "\n",
            "Train Loss: 0.3622 |  test Loss: 0.5268 |  Test acc: 0.8168\n",
            "Train time on cpu: -32.066 seconds\n",
            "Epochs:2\n",
            "-----\n",
            "Looked at 0/60000 samples.\n",
            "Looked at 12800/60000 samples.\n",
            "Looked at 25600/60000 samples.\n",
            "Looked at 38400/60000 samples.\n",
            "Looked at 51200/60000 samples.\n",
            "\n",
            "Train Loss: 0.6687 |  test Loss: 0.5126 |  Test acc: 0.8300\n",
            "Train time on cpu: -51.350 seconds\n"
          ]
        }
      ]
    },
    {
      "cell_type": "code",
      "source": [
        "next(model_0.parameters()).device"
      ],
      "metadata": {
        "id": "BTw4zJTR5zp9",
        "outputId": "76192c00-290e-4832-c535-8bcd60b8ce39",
        "colab": {
          "base_uri": "https://localhost:8080/"
        }
      },
      "execution_count": 36,
      "outputs": [
        {
          "output_type": "execute_result",
          "data": {
            "text/plain": [
              "device(type='cpu')"
            ]
          },
          "metadata": {},
          "execution_count": 36
        }
      ]
    },
    {
      "cell_type": "code",
      "source": [
        "device=\"cuda\" if torch.cuda.is_available() else \"cpu\""
      ],
      "metadata": {
        "id": "foYfvWDfI3rF"
      },
      "execution_count": 38,
      "outputs": []
    },
    {
      "cell_type": "markdown",
      "source": [
        "##4. Make preds for model_0 results"
      ],
      "metadata": {
        "id": "y2hrPR740BX-"
      }
    },
    {
      "cell_type": "code",
      "source": [
        "torch.manual_seed(42)\n",
        "def eval_model(model:torch.nn.Module,\n",
        "               data_loader:torch.utils.data.DataLoader,\n",
        "               loss_fn:torch.nn.Module,\n",
        "               accuracy_fn,\n",
        "               device=device):\n",
        "  \n",
        "  \"\"\"Return a dictionary containing the results of model predicting on data loader\"\"\"\n",
        "  loss,acc=0,0\n",
        "  model.eval()\n",
        "  with torch.inference_mode():\n",
        "    for X,y in tqdm(data_loader):\n",
        "      X,y=X.to(device),y.to(device)\n",
        "      #Make preds\n",
        "      y_pred=model(X)\n",
        "\n",
        "      loss+=loss_fn(y_pred,y)\n",
        "      acc+=accuracy_fn(y_true=y,\n",
        "                       y_pred=y_pred.argmax(dim=1))\n",
        "      \n",
        "    #Scale loss and acc to find the avg loss/acc per batch\n",
        "    loss/=len(data_loader)\n",
        "    acc/=len(data_loader)\n",
        "\n",
        "    return{\"model_name\":model.__class__.__name__,\n",
        "           \"model_loss\":loss.item(),\n",
        "           \"model_acc\":acc}\n",
        "\n",
        "#Calc the model 0 results on test datasets\n",
        "model_0_results=eval_model(model=model_0,\n",
        "                            data_loader=test_dataloader,\n",
        "                            loss_fn=loss_fn,\n",
        "                            accuracy_fn=accuracy_fn,\n",
        "                            device=\"cpu\")\n",
        "model_0_results\n",
        "\n",
        "      \n",
        "      \n",
        "      \n",
        "                       "
      ],
      "metadata": {
        "id": "cvDRQeif0BFf",
        "outputId": "1e98a87b-5cff-49ae-a773-f5c6ede933b5",
        "colab": {
          "base_uri": "https://localhost:8080/",
          "height": 101,
          "referenced_widgets": [
            "ea649cdb53654b2f92d05d0e81ba618c",
            "85b4ffdfdab84cbdba08f7490f81254a",
            "1dbda4898e98406695340aa3c513ea18",
            "5900b69a3c304aff8236a229fe5b2542",
            "0228578437ec42fc8ae91216e4f639c0",
            "abeadc1060394373bf83f4bea9d3aa10",
            "bfe12475cfa34fb293bce54dd5c90324",
            "a17f7171ff784df4b040f086821bc5b1",
            "f9420cd81aee438cb736fefdb88d6f9d",
            "b51b7b4163634d18997f586f15b7eaf3",
            "58dfb22dcb29491d8b526b3438930128"
          ]
        }
      },
      "execution_count": 52,
      "outputs": [
        {
          "output_type": "display_data",
          "data": {
            "text/plain": [
              "  0%|          | 0/313 [00:00<?, ?it/s]"
            ],
            "application/vnd.jupyter.widget-view+json": {
              "version_major": 2,
              "version_minor": 0,
              "model_id": "ea649cdb53654b2f92d05d0e81ba618c"
            }
          },
          "metadata": {}
        },
        {
          "output_type": "execute_result",
          "data": {
            "text/plain": [
              "{'model_name': 'FashionMNISTmodelV0',\n",
              " 'model_loss': 0.512529730796814,\n",
              " 'model_acc': 83.00718849840256}"
            ]
          },
          "metadata": {},
          "execution_count": 52
        }
      ]
    },
    {
      "cell_type": "code",
      "source": [
        "##5. Setup device agnostiv code:\n",
        "device =\"cuda\" if torch.cuda.is_available() else \"cpu\""
      ],
      "metadata": {
        "id": "1eLPMwjWXWzJ"
      },
      "execution_count": 53,
      "outputs": []
    },
    {
      "cell_type": "code",
      "source": [
        "!nvidia-smi"
      ],
      "metadata": {
        "id": "Yu5P37DmkLXq",
        "outputId": "b815c813-54ba-45b3-d2e9-9f61e19c9a2f",
        "colab": {
          "base_uri": "https://localhost:8080/"
        }
      },
      "execution_count": 54,
      "outputs": [
        {
          "output_type": "stream",
          "name": "stdout",
          "text": [
            "Fri Mar  3 11:06:30 2023       \n",
            "+-----------------------------------------------------------------------------+\n",
            "| NVIDIA-SMI 525.85.12    Driver Version: 525.85.12    CUDA Version: 12.0     |\n",
            "|-------------------------------+----------------------+----------------------+\n",
            "| GPU  Name        Persistence-M| Bus-Id        Disp.A | Volatile Uncorr. ECC |\n",
            "| Fan  Temp  Perf  Pwr:Usage/Cap|         Memory-Usage | GPU-Util  Compute M. |\n",
            "|                               |                      |               MIG M. |\n",
            "|===============================+======================+======================|\n",
            "|   0  Tesla T4            Off  | 00000000:00:04.0 Off |                    0 |\n",
            "| N/A   47C    P0    28W /  70W |    805MiB / 15360MiB |      0%      Default |\n",
            "|                               |                      |                  N/A |\n",
            "+-------------------------------+----------------------+----------------------+\n",
            "                                                                               \n",
            "+-----------------------------------------------------------------------------+\n",
            "| Processes:                                                                  |\n",
            "|  GPU   GI   CI        PID   Type   Process name                  GPU Memory |\n",
            "|        ID   ID                                                   Usage      |\n",
            "|=============================================================================|\n",
            "+-----------------------------------------------------------------------------+\n"
          ]
        }
      ]
    },
    {
      "cell_type": "code",
      "source": [
        "#Non-linear funcs\n",
        "class FashionMNISTmodelV1(nn.Module):\n",
        "  def __init__(self,inp,outp,hidden):\n",
        "    super().__init__()\n",
        "    self.layer_stack=nn.Sequential(\n",
        "        nn.Flatten(),\n",
        "        nn.Linear(inp,hidden),\n",
        "        nn.ReLU(),\n",
        "        nn.Linear(hidden,outp),\n",
        "        nn.ReLU()\n",
        "    )\n",
        "  def forward(self,x):\n",
        "    return self.layer_stack(x)\n"
      ],
      "metadata": {
        "id": "fMLMCDHKkc-2"
      },
      "execution_count": 55,
      "outputs": []
    },
    {
      "cell_type": "code",
      "source": [
        "torch.manual_seed(42)\n",
        "torch.cuda.manual_seed(42)\n",
        "\n",
        "model_1=FashionMNISTmodelV0(inp=784, #28x28\n",
        "                            hidden=10,\n",
        "                            outp=len(class_names)).to(device)\n",
        "model_1"
      ],
      "metadata": {
        "id": "B2iw8kkelItB",
        "outputId": "6e32d515-a897-46ac-bc23-254cab8d3587",
        "colab": {
          "base_uri": "https://localhost:8080/"
        }
      },
      "execution_count": 56,
      "outputs": [
        {
          "output_type": "execute_result",
          "data": {
            "text/plain": [
              "FashionMNISTmodelV0(\n",
              "  (layer_stack): Sequential(\n",
              "    (0): Flatten(start_dim=1, end_dim=-1)\n",
              "    (1): Linear(in_features=784, out_features=10, bias=True)\n",
              "    (2): Linear(in_features=10, out_features=10, bias=True)\n",
              "  )\n",
              ")"
            ]
          },
          "metadata": {},
          "execution_count": 56
        }
      ]
    },
    {
      "cell_type": "code",
      "source": [
        "acc=Accuracy(task=\"multiclass\",num_classes=len(class_names)).to(device)"
      ],
      "metadata": {
        "id": "ZH_aT8nbnJjQ"
      },
      "execution_count": 57,
      "outputs": []
    },
    {
      "cell_type": "code",
      "source": [
        "loss_fn=nn.CrossEntropyLoss()\n",
        "opti=torch.optim.Adam(params=model_1.parameters(),lr=0.015)"
      ],
      "metadata": {
        "id": "p4rWDXNSo35w"
      },
      "execution_count": 58,
      "outputs": []
    },
    {
      "cell_type": "code",
      "source": [
        "#Import tqdm for progress bar\n",
        "from tqdm.auto import tqdm\n",
        "torch.manual_seed(42)\n",
        "torch.cuda.manual_seed(42)\n",
        "train_time_start_on_cpu=timer()\n",
        "\n",
        "#epochs\n",
        "epochs=5\n",
        "\n",
        "#Create training and test loop\n",
        "for epoch in tqdm(range(epochs)):\n",
        "  print(f\"Epochs:{epoch}\\n-----\")\n",
        "  ##Training\n",
        "  train_loss=0\n",
        "  #add a poop to loop through the training batches\n",
        "  for batch, (X,y) in enumerate(train_dataloader):\n",
        "    X,y=X.to(device),y.to(device)\n",
        "    # batch,X,y=batch.to(device),X.to(device),y.to(device)\n",
        "    # print(X[:5],y)\n",
        "    model_1.train()\n",
        "    #1. Forward pass\n",
        "    y_pred=model_1(X)\n",
        "\n",
        "    #2.calc the loss(per batch)\n",
        "    loss=loss_fn(y_pred,y)\n",
        "    train_loss+=loss\n",
        "\n",
        "    # test_acc+=accuracy_fn(y,y_pred.argmax(dim=1))\n",
        "    \n",
        "    opti.zero_grad()\n",
        "\n",
        "    loss.backward()\n",
        "\n",
        "    #NOTE: the opti will update the params of the model once per batch instead of once per epoch!\n",
        "    opti.step()\n",
        "\n",
        "    #Print out whats happenin\n",
        "    if batch%400==0:\n",
        "      print(f\"Looked at {batch*len(X)}/{len(train_dataloader.dataset)} samples.\")\n",
        "    \n",
        "  #Divide total traon loss by len of train dataloader\n",
        "  train_loss/=len(train_dataloader)\n",
        "  \n",
        "  ###Testing \n",
        "  test_loss,test_acc=0,0\n",
        "  model_1.eval()\n",
        "  with torch.inference_mode():\n",
        "    for X_test,y_test in test_dataloader:\n",
        "      X_test,y_test=X_test.to(device),y_test.to(device)\n",
        "      #1. Forward pass\n",
        "      test_pred=model_1(X_test)\n",
        "\n",
        "      #Calc the loss\n",
        "      test_loss+=loss_fn(test_pred,y_test)\n",
        "\n",
        "      # test_acc+=acc(test_pred.argmax(dim=1),y_test)\n",
        "      test_acc+=accuracy_fn(y_test,test_pred.argmax(dim=1))\n",
        "\n",
        "    #Calc the test loss avg per batch\n",
        "    test_loss/=len(test_dataloader)\n",
        "\n",
        "    #Calc the test acc avg per batch\n",
        "    test_acc/=len(test_dataloader)\n",
        "  #print out\n",
        "  print(f\"\\nTrain Loss: {loss:.4f} |  test Loss: {test_loss:.4f} |  Test acc: {test_acc:.4f}\")\n",
        "\n",
        "  #calc training time\n",
        "  train_time_end_on_cpu=timer()\n",
        "  #calc the train time\n",
        "  total_train_time_model_0=print_train_time(train_time_end_on_cpu,train_time_start_on_cpu,device=str(next(model_0.parameters()).device))\n",
        "\n",
        "\n",
        "\n",
        "\n"
      ],
      "metadata": {
        "id": "okkNhhMslRci",
        "outputId": "d2c9d66e-4435-4065-d8d0-0cb4400859f1",
        "colab": {
          "base_uri": "https://localhost:8080/",
          "height": 917,
          "referenced_widgets": [
            "d401fd015eda4f069b02cee5884e6ff7",
            "a722573376314a82b5f093bd4557644a",
            "c0aa006aea75408a9360351fd0dc7d2c",
            "04dec4978fd94a8b85fde18bd70398be",
            "cc7805888ba743cd9d89fa55d471d388",
            "4a8cdd4b50f04665a2581da8c896b04f",
            "f3682589096743d68ff431e625f25d20",
            "fa02da59e2b94f429ff7f263c75b7b3f",
            "cd717aca83874988b0a3c37f01d71746",
            "d81fb299a6a24ff9b920aad0a6e0bde1",
            "84c2be01d6a94dde851ee2a28abfe4f0"
          ]
        }
      },
      "execution_count": 46,
      "outputs": [
        {
          "output_type": "display_data",
          "data": {
            "text/plain": [
              "  0%|          | 0/5 [00:00<?, ?it/s]"
            ],
            "application/vnd.jupyter.widget-view+json": {
              "version_major": 2,
              "version_minor": 0,
              "model_id": "d401fd015eda4f069b02cee5884e6ff7"
            }
          },
          "metadata": {}
        },
        {
          "output_type": "stream",
          "name": "stdout",
          "text": [
            "Epochs:0\n",
            "-----\n",
            "Looked at 0/60000 samples.\n",
            "Looked at 12800/60000 samples.\n",
            "Looked at 25600/60000 samples.\n",
            "Looked at 38400/60000 samples.\n",
            "Looked at 51200/60000 samples.\n",
            "\n",
            "Train Loss: 0.2674 |  test Loss: 0.5410 |  Test acc: 81.1901\n",
            "Train time on cpu: -16.017 seconds\n",
            "Epochs:1\n",
            "-----\n",
            "Looked at 0/60000 samples.\n",
            "Looked at 12800/60000 samples.\n",
            "Looked at 25600/60000 samples.\n",
            "Looked at 38400/60000 samples.\n",
            "Looked at 51200/60000 samples.\n",
            "\n",
            "Train Loss: 0.4404 |  test Loss: 0.5543 |  Test acc: 81.1601\n",
            "Train time on cpu: -29.955 seconds\n",
            "Epochs:2\n",
            "-----\n",
            "Looked at 0/60000 samples.\n",
            "Looked at 12800/60000 samples.\n",
            "Looked at 25600/60000 samples.\n",
            "Looked at 38400/60000 samples.\n",
            "Looked at 51200/60000 samples.\n",
            "\n",
            "Train Loss: 0.8118 |  test Loss: 0.5674 |  Test acc: 81.5795\n",
            "Train time on cpu: -49.762 seconds\n",
            "Epochs:3\n",
            "-----\n",
            "Looked at 0/60000 samples.\n",
            "Looked at 12800/60000 samples.\n",
            "Looked at 25600/60000 samples.\n",
            "Looked at 38400/60000 samples.\n",
            "Looked at 51200/60000 samples.\n",
            "\n",
            "Train Loss: 0.6171 |  test Loss: 0.5490 |  Test acc: 82.1186\n",
            "Train time on cpu: -69.216 seconds\n",
            "Epochs:4\n",
            "-----\n",
            "Looked at 0/60000 samples.\n",
            "Looked at 12800/60000 samples.\n",
            "Looked at 25600/60000 samples.\n",
            "Looked at 38400/60000 samples.\n",
            "Looked at 51200/60000 samples.\n",
            "\n",
            "Train Loss: 0.7758 |  test Loss: 0.5448 |  Test acc: 81.3798\n",
            "Train time on cpu: -82.095 seconds\n"
          ]
        }
      ]
    },
    {
      "cell_type": "code",
      "source": [
        "import torchmetrics\n",
        "from tqdm.auto import tqdm\n",
        "###Writing functions fo training and testing loops\n",
        "def train_step(model:torch.nn.Module,\n",
        "               data:torch.utils.data.DataLoader,\n",
        "               loss_fn:torch.nn.Module,\n",
        "               opti:torch.optim.Optimizer,\n",
        "               accuracy_fn,\n",
        "               device:torch.device):\n",
        "  \"\"\"Performs a training with model trying to learn on data_loader\"\"\"\n",
        "  train_loss,train_acc=0,0\n",
        "  for batch,(X,y) in enumerate(data):\n",
        "\n",
        "    X,y=X.to(device),y.to(device)\n",
        "    model.train()\n",
        "    pred=model(X)\n",
        "\n",
        "    loss=loss_fn(pred,y)\n",
        "    train_loss+=loss\n",
        "\n",
        "    train_acc+=accuracy_fn(y,pred.argmax(dim=1))\n",
        "\n",
        "    opti.zero_grad()\n",
        "\n",
        "    loss.backward()\n",
        "\n",
        "    opti.step()\n",
        "\n",
        "    # if batch%400==0:\n",
        "      # print(f\"looked at {batch*len(X)}/{len(data.dataset)}\")\n",
        "\n",
        "  train_loss/=len(data)\n",
        "  train_acc/=len(data)\n",
        "  print(f\"Train_loss: {train_loss:.5f} | Train_acc: {train_acc:.2f}\")\n",
        " \n"
      ],
      "metadata": {
        "id": "aJRO_fmVmLW_"
      },
      "execution_count": 47,
      "outputs": []
    },
    {
      "cell_type": "code",
      "source": [
        "def test_step(model:torch.nn.Module,\n",
        "               data:torch.utils.data.DataLoader,\n",
        "               loss_fn:torch.nn.Module,\n",
        "               opti:torch.optim.Optimizer,\n",
        "               accuracy_fn,\n",
        "               device:torch.device):\n",
        "  \"\"\"\n",
        "    Performs testing with model trying to learn on data_loader\n",
        "    Padhaya hua yaad hai ki nai dekhne ke liye hai re baba!!  \n",
        "  \"\"\"\n",
        "  test_loss,test_acc=0,0\n",
        "  model.eval()\n",
        "  with torch.inference_mode():\n",
        "    for batch,(X,y) in enumerate(data):\n",
        "      X,y=X.to(device),y.to(device)\n",
        "      \n",
        "      pred=model(X)\n",
        "\n",
        "      test_loss+=loss_fn(pred,y)\n",
        "\n",
        "      test_acc+=accuracy_fn(y,pred.argmax(dim=1))\n",
        "\n",
        "      # if batch%400==0:\n",
        "        # print(f\"looked at {batch*len(X)}/{len(data.dataset)}\")\n",
        "\n",
        "    test_loss/=len(data)\n",
        "    test_acc/=len(data)\n",
        "    print(f\"Test_loss: {test_loss:.5f} | Test_acc: {test_acc:.2f}\")\n",
        "  "
      ],
      "metadata": {
        "id": "WsbPu7fzzLw3"
      },
      "execution_count": 48,
      "outputs": []
    },
    {
      "cell_type": "code",
      "source": [
        "from timeit import default_timer as timer\n",
        "\n",
        "start_time_gpu=timer()\n",
        "epochs=3\n",
        "\n",
        "for epoch in tqdm(range(epochs)):\n",
        "  print(f\"Epoch: {epoch}\\n---------\")\n",
        "\n",
        "  train_step(model_1,train_dataloader,loss_fn,opti,accuracy_fn,device)\n",
        "\n",
        "  test_step(model_1,test_dataloader,loss_fn,opti,accuracy_fn,device)\n",
        "\n",
        "end_timer_gpu=timer()\n",
        "\n",
        "print(print_train_time(end_timer_gpu,start_time_gpu,\"cuda\"))"
      ],
      "metadata": {
        "id": "YOKjmg8z0wHU",
        "outputId": "8253733b-bc35-4a9a-d829-cf043915aadf",
        "colab": {
          "base_uri": "https://localhost:8080/",
          "height": 292,
          "referenced_widgets": [
            "f345e954bc3c48e4ae8cc6a1f0ff0778",
            "02ae5fc5880141fe9c8aab7ae553bcea",
            "5939bda9f92f48f89cf60222c48a8241",
            "ad1bdca6430546309ddb74444893f2f8",
            "da3fc13e718847e69cddc0f65da0351f",
            "fddf84513a3b40798f3f3322f25cc9cc",
            "584a7cb6f26843b5b47f647ed1db6492",
            "7d36537ec77f4da093c31c9b1265ac38",
            "ad72c747cbdb4346b0b2423dfd6447d2",
            "e3b9a226d4a54155b7301c4e3655edcb",
            "818a97d55ec94e9eb0a88b8cd2e60c11"
          ]
        }
      },
      "execution_count": 49,
      "outputs": [
        {
          "output_type": "display_data",
          "data": {
            "text/plain": [
              "  0%|          | 0/3 [00:00<?, ?it/s]"
            ],
            "application/vnd.jupyter.widget-view+json": {
              "version_major": 2,
              "version_minor": 0,
              "model_id": "f345e954bc3c48e4ae8cc6a1f0ff0778"
            }
          },
          "metadata": {}
        },
        {
          "output_type": "stream",
          "name": "stdout",
          "text": [
            "Epoch: 0\n",
            "---------\n",
            "Train_loss: 0.52102 | Train_acc: 82.54\n",
            "Test_loss: 0.55151 | Test_acc: 82.17\n",
            "Epoch: 1\n",
            "---------\n",
            "Train_loss: 0.51353 | Train_acc: 82.94\n",
            "Test_loss: 0.60565 | Test_acc: 81.32\n",
            "Epoch: 2\n",
            "---------\n",
            "Train_loss: 0.51419 | Train_acc: 82.79\n",
            "Test_loss: 0.64265 | Test_acc: 79.35\n",
            "Train time on cuda: -38.989 seconds\n",
            "-38.98864045700003\n"
          ]
        }
      ]
    },
    {
      "cell_type": "code",
      "source": [
        "len(train_dataloader.dataset),len(train_dataloader)"
      ],
      "metadata": {
        "id": "wvDMqdAV2Kfi",
        "outputId": "7f43c5c2-78fc-427c-ccce-97dcfd7c0540",
        "colab": {
          "base_uri": "https://localhost:8080/"
        }
      },
      "execution_count": 50,
      "outputs": [
        {
          "output_type": "execute_result",
          "data": {
            "text/plain": [
              "(60000, 1875)"
            ]
          },
          "metadata": {},
          "execution_count": 50
        }
      ]
    },
    {
      "cell_type": "markdown",
      "source": [
        "![image.png](data:image/png;base64,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)"
      ],
      "metadata": {
        "id": "eqxFT0ja3ED6"
      }
    },
    {
      "cell_type": "markdown",
      "source": [
        "![image.png](data:image/png;base64,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)"
      ],
      "metadata": {
        "id": "OhJmD81TDUNc"
      }
    },
    {
      "cell_type": "code",
      "source": [
        "model_1_results=eval_model(model_1,test_dataloader,loss_fn,accuracy_fn,device)\n"
      ],
      "metadata": {
        "id": "LooEL9qKPgpf",
        "outputId": "543076b3-79c4-4958-f1fe-0d7d227b09a7",
        "colab": {
          "base_uri": "https://localhost:8080/",
          "height": 49,
          "referenced_widgets": [
            "bdcabac9ea4b4c7cb0ad935100b12359",
            "8fa1362d832a4721a7f083cd0f0237a0",
            "74e1afa064e045028bdb734624a7cc67",
            "534b1d3b0ff44b5997ce1089eef3368e",
            "6a2e214112eb44fe936028e869deeb63",
            "d218771941984f99931e2199ae2ffcdf",
            "e8baef8d91204af0b0619161c4c1a38e",
            "1a25fb27ce9442b7a98d3b7c4225efac",
            "808c67acd2bd457ea58f51088ffd651f",
            "5b5c80a807b741af83dd2492b2220cdc",
            "06e799e3ba6846ebb28e8b8de3e46237"
          ]
        }
      },
      "execution_count": 59,
      "outputs": [
        {
          "output_type": "display_data",
          "data": {
            "text/plain": [
              "  0%|          | 0/313 [00:00<?, ?it/s]"
            ],
            "application/vnd.jupyter.widget-view+json": {
              "version_major": 2,
              "version_minor": 0,
              "model_id": "bdcabac9ea4b4c7cb0ad935100b12359"
            }
          },
          "metadata": {}
        }
      ]
    },
    {
      "cell_type": "code",
      "source": [
        "model_1_results"
      ],
      "metadata": {
        "id": "SXeVhpf0Sohc",
        "outputId": "0c0fbe7a-5804-4014-cc51-95bcba3324f4",
        "colab": {
          "base_uri": "https://localhost:8080/"
        }
      },
      "execution_count": 60,
      "outputs": [
        {
          "output_type": "execute_result",
          "data": {
            "text/plain": [
              "{'model_name': 'FashionMNISTmodelV0',\n",
              " 'model_loss': 2.3189079761505127,\n",
              " 'model_acc': 10.86261980830671}"
            ]
          },
          "metadata": {},
          "execution_count": 60
        }
      ]
    },
    {
      "cell_type": "code",
      "source": [
        "model_0_results"
      ],
      "metadata": {
        "id": "U68pCNDKSkD3",
        "outputId": "f78cd353-eaf0-4d50-e2bf-73d5cb60dab3",
        "colab": {
          "base_uri": "https://localhost:8080/"
        }
      },
      "execution_count": 61,
      "outputs": [
        {
          "output_type": "execute_result",
          "data": {
            "text/plain": [
              "{'model_name': 'FashionMNISTmodelV0',\n",
              " 'model_loss': 0.512529730796814,\n",
              " 'model_acc': 83.00718849840256}"
            ]
          },
          "metadata": {},
          "execution_count": 61
        }
      ]
    },
    {
      "cell_type": "code",
      "source": [
        "# from google.colab import drive\n",
        "# drive.mount(\"/content/gdrive\")"
      ],
      "metadata": {
        "id": "b5htsmdQCCCB"
      },
      "execution_count": 62,
      "outputs": []
    },
    {
      "cell_type": "code",
      "source": [
        "\n",
        "# from IPython.display import HTML\n",
        "# from base64 import b64encode\n",
        "# import os\n",
        "\n",
        "# # Input video path\n",
        "# save_path = \"/content/gdrive/MyDrive/Rec/(597) MIT 6.S191_ Convolutional Neural Networks - YouTube - Google Chrome 2023-03-03 15-48-46.mp4\"\n",
        "\n",
        "# # Compressed video path\n",
        "# # compressed_path = \"/content/gdrive/MyDrive/Rec/compressed_video.mp4\"\n",
        "\n",
        "# os.system(f\"ffmpeg -i {save_path} -vcodec libx264 {save_path}\")\n",
        "\n",
        "# # Show video\n",
        "# mp4 = open(save_path,'rb').read()\n",
        "# data_url = \"data:video/mp4;base64,\" + b64encode(mp4).decode()\n",
        "# HTML(\"\"\"\n",
        "# <video width=400 controls>\n",
        "#       <source src=\"%s\" type=\"video/mp4\">\n",
        "# </video>\n",
        "# \"\"\" % data_url)"
      ],
      "metadata": {
        "id": "OZE4KKCATA-c"
      },
      "execution_count": 63,
      "outputs": []
    },
    {
      "cell_type": "markdown",
      "source": [
        "##Model 2:Building a convolutional NN(CNN)\n",
        "\n",
        "CNN's are also known as convnets\n",
        "\n",
        "they are known for their ability to fing patterns in visual data"
      ],
      "metadata": {
        "id": "l2txU3bCStMQ"
      }
    },
    {
      "cell_type": "code",
      "source": [
        "class FashionMNISTmodelV2(nn.Module):\n",
        "  def __init__(self,inp,outp,hidden):\n",
        "    super().__init__()\n",
        "    self.conv_block_1=nn.Sequential(\n",
        "      nn.Conv2d(in_channels=inp,\n",
        "                out_channels=hidden,\n",
        "                kernel_size=3,\n",
        "                stride=1,\n",
        "                padding=1), #Setting hyper parameters\n",
        "      nn.ReLU(),\n",
        "\n",
        "\n",
        "      nn.Conv2d(in_channels=hidden,\n",
        "                out_channels=hidden,\n",
        "                kernel_size=3,\n",
        "                stride=1,\n",
        "                padding=1),\n",
        "      nn.ReLU(),\n",
        "      nn.MaxPool2d(kernel_size=2)\n",
        "    )\n",
        "    self.conv_block_2=nn.Sequential(\n",
        "      nn.Conv2d(in_channels=hidden,\n",
        "                out_channels=hidden,\n",
        "                kernel_size=3,\n",
        "                stride=1,\n",
        "                padding=1),\n",
        "      nn.ReLU(),\n",
        "\n",
        "      nn.Conv2d(in_channels=hidden,\n",
        "                out_channels=hidden,\n",
        "                kernel_size=3,\n",
        "                stride=1,\n",
        "                padding=1),\n",
        "      nn.ReLU(),\n",
        "      nn.MaxPool2d(kernel_size=2),\n",
        "    )\n",
        "\n",
        "    self.Classifier=nn.Sequential(\n",
        "        nn.Flatten(),\n",
        "        nn.Linear(in_features=hidden*0,\n",
        "                  out_features=outp)\n",
        "    )\n",
        "  \n",
        "  def forward(self,x):\n",
        "    x=self.conv_block_1(x)\n",
        "    print(x.shape)\n",
        "    x=self.conv_block_2(x)\n",
        "    print(x.shape)\n",
        "    x=self.Classifier(x)\n",
        "    print(x.shape)\n"
      ],
      "metadata": {
        "id": "zS3BCRhvHFXr"
      },
      "execution_count": 79,
      "outputs": []
    },
    {
      "cell_type": "code",
      "source": [
        "torch.manual_seed(42)\n",
        "model_2=FashionMNISTmodelV2(inp=1,\n",
        "                            hidden=10,\n",
        "                            outp=len(class_names)).to(device)"
      ],
      "metadata": {
        "id": "rgeNxAeNHo80",
        "outputId": "81d6a28e-91e8-4060-b04d-71d5782cb268",
        "colab": {
          "base_uri": "https://localhost:8080/"
        }
      },
      "execution_count": 80,
      "outputs": [
        {
          "output_type": "stream",
          "name": "stderr",
          "text": [
            "/usr/local/lib/python3.8/dist-packages/torch/nn/init.py:405: UserWarning: Initializing zero-element tensors is a no-op\n",
            "  warnings.warn(\"Initializing zero-element tensors is a no-op\")\n"
          ]
        }
      ]
    },
    {
      "cell_type": "code",
      "source": [
        "  model_2.to(device)"
      ],
      "metadata": {
        "id": "wWJbSqrWOK6e",
        "outputId": "52b3c475-a8d9-4e8f-96b6-8fd271f1478f",
        "colab": {
          "base_uri": "https://localhost:8080/"
        }
      },
      "execution_count": 81,
      "outputs": [
        {
          "output_type": "execute_result",
          "data": {
            "text/plain": [
              "FashionMNISTmodelV2(\n",
              "  (conv_block_1): Sequential(\n",
              "    (0): Conv2d(1, 10, kernel_size=(3, 3), stride=(1, 1), padding=(1, 1))\n",
              "    (1): ReLU()\n",
              "    (2): Conv2d(10, 10, kernel_size=(3, 3), stride=(1, 1), padding=(1, 1))\n",
              "    (3): ReLU()\n",
              "    (4): MaxPool2d(kernel_size=2, stride=2, padding=0, dilation=1, ceil_mode=False)\n",
              "  )\n",
              "  (conv_block_2): Sequential(\n",
              "    (0): Conv2d(10, 10, kernel_size=(3, 3), stride=(1, 1), padding=(1, 1))\n",
              "    (1): ReLU()\n",
              "    (2): Conv2d(10, 10, kernel_size=(3, 3), stride=(1, 1), padding=(1, 1))\n",
              "    (3): ReLU()\n",
              "    (4): MaxPool2d(kernel_size=2, stride=2, padding=0, dilation=1, ceil_mode=False)\n",
              "  )\n",
              "  (Classifier): Sequential(\n",
              "    (0): Flatten(start_dim=1, end_dim=-1)\n",
              "    (1): Linear(in_features=0, out_features=10, bias=True)\n",
              "  )\n",
              ")"
            ]
          },
          "metadata": {},
          "execution_count": 81
        }
      ]
    }
  ],
  "metadata": {
    "kernelspec": {
      "display_name": "Python 3",
      "language": "python",
      "name": "python3"
    },
    "language_info": {
      "codemirror_mode": {
        "name": "ipython",
        "version": 3
      },
      "file_extension": ".py",
      "mimetype": "text/x-python",
      "name": "python",
      "nbconvert_exporter": "python",
      "pygments_lexer": "ipython3",
      "version": "3.10.4"
    },
    "orig_nbformat": 4,
    "vscode": {
      "interpreter": {
        "hash": "3ad933181bd8a04b432d3370b9dc3b0662ad032c4dfaa4e4f1596c548f763858"
      }
    },
    "colab": {
      "provenance": [],
      "include_colab_link": true
    },
    "gpuClass": "standard",
    "widgets": {
      "application/vnd.jupyter.widget-state+json": {
        "b1e1116cb4ac469b8748b22ef5e02053": {
          "model_module": "@jupyter-widgets/controls",
          "model_name": "HBoxModel",
          "model_module_version": "1.5.0",
          "state": {
            "_dom_classes": [],
            "_model_module": "@jupyter-widgets/controls",
            "_model_module_version": "1.5.0",
            "_model_name": "HBoxModel",
            "_view_count": null,
            "_view_module": "@jupyter-widgets/controls",
            "_view_module_version": "1.5.0",
            "_view_name": "HBoxView",
            "box_style": "",
            "children": [
              "IPY_MODEL_b542f4af72da4684a1f7f3c0669d3cb5",
              "IPY_MODEL_771f253c47324dfe9982fb4864ac8eb7",
              "IPY_MODEL_a079231d97124c2d87a47931f14021ca"
            ],
            "layout": "IPY_MODEL_7bdd10508df44497995713c07f26f960"
          }
        },
        "b542f4af72da4684a1f7f3c0669d3cb5": {
          "model_module": "@jupyter-widgets/controls",
          "model_name": "HTMLModel",
          "model_module_version": "1.5.0",
          "state": {
            "_dom_classes": [],
            "_model_module": "@jupyter-widgets/controls",
            "_model_module_version": "1.5.0",
            "_model_name": "HTMLModel",
            "_view_count": null,
            "_view_module": "@jupyter-widgets/controls",
            "_view_module_version": "1.5.0",
            "_view_name": "HTMLView",
            "description": "",
            "description_tooltip": null,
            "layout": "IPY_MODEL_c8fa3278c680448194416607da8adb2b",
            "placeholder": "​",
            "style": "IPY_MODEL_52815abeb18c46a0939ec94210505e88",
            "value": "100%"
          }
        },
        "771f253c47324dfe9982fb4864ac8eb7": {
          "model_module": "@jupyter-widgets/controls",
          "model_name": "FloatProgressModel",
          "model_module_version": "1.5.0",
          "state": {
            "_dom_classes": [],
            "_model_module": "@jupyter-widgets/controls",
            "_model_module_version": "1.5.0",
            "_model_name": "FloatProgressModel",
            "_view_count": null,
            "_view_module": "@jupyter-widgets/controls",
            "_view_module_version": "1.5.0",
            "_view_name": "ProgressView",
            "bar_style": "success",
            "description": "",
            "description_tooltip": null,
            "layout": "IPY_MODEL_6c2155ff2368431ea756433f77e00710",
            "max": 26421880,
            "min": 0,
            "orientation": "horizontal",
            "style": "IPY_MODEL_a9a734af113a44898df6f65770d1301c",
            "value": 26421880
          }
        },
        "a079231d97124c2d87a47931f14021ca": {
          "model_module": "@jupyter-widgets/controls",
          "model_name": "HTMLModel",
          "model_module_version": "1.5.0",
          "state": {
            "_dom_classes": [],
            "_model_module": "@jupyter-widgets/controls",
            "_model_module_version": "1.5.0",
            "_model_name": "HTMLModel",
            "_view_count": null,
            "_view_module": "@jupyter-widgets/controls",
            "_view_module_version": "1.5.0",
            "_view_name": "HTMLView",
            "description": "",
            "description_tooltip": null,
            "layout": "IPY_MODEL_82ca86545c4242a9861517b6a3468706",
            "placeholder": "​",
            "style": "IPY_MODEL_4019e29e671d41b981bc6b7b2464d02f",
            "value": " 26421880/26421880 [00:01&lt;00:00, 27118108.49it/s]"
          }
        },
        "7bdd10508df44497995713c07f26f960": {
          "model_module": "@jupyter-widgets/base",
          "model_name": "LayoutModel",
          "model_module_version": "1.2.0",
          "state": {
            "_model_module": "@jupyter-widgets/base",
            "_model_module_version": "1.2.0",
            "_model_name": "LayoutModel",
            "_view_count": null,
            "_view_module": "@jupyter-widgets/base",
            "_view_module_version": "1.2.0",
            "_view_name": "LayoutView",
            "align_content": null,
            "align_items": null,
            "align_self": null,
            "border": null,
            "bottom": null,
            "display": null,
            "flex": null,
            "flex_flow": null,
            "grid_area": null,
            "grid_auto_columns": null,
            "grid_auto_flow": null,
            "grid_auto_rows": null,
            "grid_column": null,
            "grid_gap": null,
            "grid_row": null,
            "grid_template_areas": null,
            "grid_template_columns": null,
            "grid_template_rows": null,
            "height": null,
            "justify_content": null,
            "justify_items": null,
            "left": null,
            "margin": null,
            "max_height": null,
            "max_width": null,
            "min_height": null,
            "min_width": null,
            "object_fit": null,
            "object_position": null,
            "order": null,
            "overflow": null,
            "overflow_x": null,
            "overflow_y": null,
            "padding": null,
            "right": null,
            "top": null,
            "visibility": null,
            "width": null
          }
        },
        "c8fa3278c680448194416607da8adb2b": {
          "model_module": "@jupyter-widgets/base",
          "model_name": "LayoutModel",
          "model_module_version": "1.2.0",
          "state": {
            "_model_module": "@jupyter-widgets/base",
            "_model_module_version": "1.2.0",
            "_model_name": "LayoutModel",
            "_view_count": null,
            "_view_module": "@jupyter-widgets/base",
            "_view_module_version": "1.2.0",
            "_view_name": "LayoutView",
            "align_content": null,
            "align_items": null,
            "align_self": null,
            "border": null,
            "bottom": null,
            "display": null,
            "flex": null,
            "flex_flow": null,
            "grid_area": null,
            "grid_auto_columns": null,
            "grid_auto_flow": null,
            "grid_auto_rows": null,
            "grid_column": null,
            "grid_gap": null,
            "grid_row": null,
            "grid_template_areas": null,
            "grid_template_columns": null,
            "grid_template_rows": null,
            "height": null,
            "justify_content": null,
            "justify_items": null,
            "left": null,
            "margin": null,
            "max_height": null,
            "max_width": null,
            "min_height": null,
            "min_width": null,
            "object_fit": null,
            "object_position": null,
            "order": null,
            "overflow": null,
            "overflow_x": null,
            "overflow_y": null,
            "padding": null,
            "right": null,
            "top": null,
            "visibility": null,
            "width": null
          }
        },
        "52815abeb18c46a0939ec94210505e88": {
          "model_module": "@jupyter-widgets/controls",
          "model_name": "DescriptionStyleModel",
          "model_module_version": "1.5.0",
          "state": {
            "_model_module": "@jupyter-widgets/controls",
            "_model_module_version": "1.5.0",
            "_model_name": "DescriptionStyleModel",
            "_view_count": null,
            "_view_module": "@jupyter-widgets/base",
            "_view_module_version": "1.2.0",
            "_view_name": "StyleView",
            "description_width": ""
          }
        },
        "6c2155ff2368431ea756433f77e00710": {
          "model_module": "@jupyter-widgets/base",
          "model_name": "LayoutModel",
          "model_module_version": "1.2.0",
          "state": {
            "_model_module": "@jupyter-widgets/base",
            "_model_module_version": "1.2.0",
            "_model_name": "LayoutModel",
            "_view_count": null,
            "_view_module": "@jupyter-widgets/base",
            "_view_module_version": "1.2.0",
            "_view_name": "LayoutView",
            "align_content": null,
            "align_items": null,
            "align_self": null,
            "border": null,
            "bottom": null,
            "display": null,
            "flex": null,
            "flex_flow": null,
            "grid_area": null,
            "grid_auto_columns": null,
            "grid_auto_flow": null,
            "grid_auto_rows": null,
            "grid_column": null,
            "grid_gap": null,
            "grid_row": null,
            "grid_template_areas": null,
            "grid_template_columns": null,
            "grid_template_rows": null,
            "height": null,
            "justify_content": null,
            "justify_items": null,
            "left": null,
            "margin": null,
            "max_height": null,
            "max_width": null,
            "min_height": null,
            "min_width": null,
            "object_fit": null,
            "object_position": null,
            "order": null,
            "overflow": null,
            "overflow_x": null,
            "overflow_y": null,
            "padding": null,
            "right": null,
            "top": null,
            "visibility": null,
            "width": null
          }
        },
        "a9a734af113a44898df6f65770d1301c": {
          "model_module": "@jupyter-widgets/controls",
          "model_name": "ProgressStyleModel",
          "model_module_version": "1.5.0",
          "state": {
            "_model_module": "@jupyter-widgets/controls",
            "_model_module_version": "1.5.0",
            "_model_name": "ProgressStyleModel",
            "_view_count": null,
            "_view_module": "@jupyter-widgets/base",
            "_view_module_version": "1.2.0",
            "_view_name": "StyleView",
            "bar_color": null,
            "description_width": ""
          }
        },
        "82ca86545c4242a9861517b6a3468706": {
          "model_module": "@jupyter-widgets/base",
          "model_name": "LayoutModel",
          "model_module_version": "1.2.0",
          "state": {
            "_model_module": "@jupyter-widgets/base",
            "_model_module_version": "1.2.0",
            "_model_name": "LayoutModel",
            "_view_count": null,
            "_view_module": "@jupyter-widgets/base",
            "_view_module_version": "1.2.0",
            "_view_name": "LayoutView",
            "align_content": null,
            "align_items": null,
            "align_self": null,
            "border": null,
            "bottom": null,
            "display": null,
            "flex": null,
            "flex_flow": null,
            "grid_area": null,
            "grid_auto_columns": null,
            "grid_auto_flow": null,
            "grid_auto_rows": null,
            "grid_column": null,
            "grid_gap": null,
            "grid_row": null,
            "grid_template_areas": null,
            "grid_template_columns": null,
            "grid_template_rows": null,
            "height": null,
            "justify_content": null,
            "justify_items": null,
            "left": null,
            "margin": null,
            "max_height": null,
            "max_width": null,
            "min_height": null,
            "min_width": null,
            "object_fit": null,
            "object_position": null,
            "order": null,
            "overflow": null,
            "overflow_x": null,
            "overflow_y": null,
            "padding": null,
            "right": null,
            "top": null,
            "visibility": null,
            "width": null
          }
        },
        "4019e29e671d41b981bc6b7b2464d02f": {
          "model_module": "@jupyter-widgets/controls",
          "model_name": "DescriptionStyleModel",
          "model_module_version": "1.5.0",
          "state": {
            "_model_module": "@jupyter-widgets/controls",
            "_model_module_version": "1.5.0",
            "_model_name": "DescriptionStyleModel",
            "_view_count": null,
            "_view_module": "@jupyter-widgets/base",
            "_view_module_version": "1.2.0",
            "_view_name": "StyleView",
            "description_width": ""
          }
        },
        "a4cbbe54cdde4d329b6a5892e37ccd1f": {
          "model_module": "@jupyter-widgets/controls",
          "model_name": "HBoxModel",
          "model_module_version": "1.5.0",
          "state": {
            "_dom_classes": [],
            "_model_module": "@jupyter-widgets/controls",
            "_model_module_version": "1.5.0",
            "_model_name": "HBoxModel",
            "_view_count": null,
            "_view_module": "@jupyter-widgets/controls",
            "_view_module_version": "1.5.0",
            "_view_name": "HBoxView",
            "box_style": "",
            "children": [
              "IPY_MODEL_3862ade9acc94ce6b26d5bf54b167bf8",
              "IPY_MODEL_1c7a7ae6189a4188a42b53cd354f5ec2",
              "IPY_MODEL_0132a1fd927c493a87532c7bfe5af352"
            ],
            "layout": "IPY_MODEL_04aeeff2599b4ab5b303818c0858f573"
          }
        },
        "3862ade9acc94ce6b26d5bf54b167bf8": {
          "model_module": "@jupyter-widgets/controls",
          "model_name": "HTMLModel",
          "model_module_version": "1.5.0",
          "state": {
            "_dom_classes": [],
            "_model_module": "@jupyter-widgets/controls",
            "_model_module_version": "1.5.0",
            "_model_name": "HTMLModel",
            "_view_count": null,
            "_view_module": "@jupyter-widgets/controls",
            "_view_module_version": "1.5.0",
            "_view_name": "HTMLView",
            "description": "",
            "description_tooltip": null,
            "layout": "IPY_MODEL_ac2f4736c5254c04b5bdcb43136af463",
            "placeholder": "​",
            "style": "IPY_MODEL_17178a58e3f640b38535c5fcb6a4269b",
            "value": "100%"
          }
        },
        "1c7a7ae6189a4188a42b53cd354f5ec2": {
          "model_module": "@jupyter-widgets/controls",
          "model_name": "FloatProgressModel",
          "model_module_version": "1.5.0",
          "state": {
            "_dom_classes": [],
            "_model_module": "@jupyter-widgets/controls",
            "_model_module_version": "1.5.0",
            "_model_name": "FloatProgressModel",
            "_view_count": null,
            "_view_module": "@jupyter-widgets/controls",
            "_view_module_version": "1.5.0",
            "_view_name": "ProgressView",
            "bar_style": "success",
            "description": "",
            "description_tooltip": null,
            "layout": "IPY_MODEL_f15f9a3a849b457d9efe073285737b4a",
            "max": 29515,
            "min": 0,
            "orientation": "horizontal",
            "style": "IPY_MODEL_ebf4a66cef744f6eaae208e55cc16167",
            "value": 29515
          }
        },
        "0132a1fd927c493a87532c7bfe5af352": {
          "model_module": "@jupyter-widgets/controls",
          "model_name": "HTMLModel",
          "model_module_version": "1.5.0",
          "state": {
            "_dom_classes": [],
            "_model_module": "@jupyter-widgets/controls",
            "_model_module_version": "1.5.0",
            "_model_name": "HTMLModel",
            "_view_count": null,
            "_view_module": "@jupyter-widgets/controls",
            "_view_module_version": "1.5.0",
            "_view_name": "HTMLView",
            "description": "",
            "description_tooltip": null,
            "layout": "IPY_MODEL_6c33fe6e7d964911b200dbfd6aa3b6ed",
            "placeholder": "​",
            "style": "IPY_MODEL_685f39eff5bb43a0b7018b138ea846a2",
            "value": " 29515/29515 [00:00&lt;00:00, 292862.15it/s]"
          }
        },
        "04aeeff2599b4ab5b303818c0858f573": {
          "model_module": "@jupyter-widgets/base",
          "model_name": "LayoutModel",
          "model_module_version": "1.2.0",
          "state": {
            "_model_module": "@jupyter-widgets/base",
            "_model_module_version": "1.2.0",
            "_model_name": "LayoutModel",
            "_view_count": null,
            "_view_module": "@jupyter-widgets/base",
            "_view_module_version": "1.2.0",
            "_view_name": "LayoutView",
            "align_content": null,
            "align_items": null,
            "align_self": null,
            "border": null,
            "bottom": null,
            "display": null,
            "flex": null,
            "flex_flow": null,
            "grid_area": null,
            "grid_auto_columns": null,
            "grid_auto_flow": null,
            "grid_auto_rows": null,
            "grid_column": null,
            "grid_gap": null,
            "grid_row": null,
            "grid_template_areas": null,
            "grid_template_columns": null,
            "grid_template_rows": null,
            "height": null,
            "justify_content": null,
            "justify_items": null,
            "left": null,
            "margin": null,
            "max_height": null,
            "max_width": null,
            "min_height": null,
            "min_width": null,
            "object_fit": null,
            "object_position": null,
            "order": null,
            "overflow": null,
            "overflow_x": null,
            "overflow_y": null,
            "padding": null,
            "right": null,
            "top": null,
            "visibility": null,
            "width": null
          }
        },
        "ac2f4736c5254c04b5bdcb43136af463": {
          "model_module": "@jupyter-widgets/base",
          "model_name": "LayoutModel",
          "model_module_version": "1.2.0",
          "state": {
            "_model_module": "@jupyter-widgets/base",
            "_model_module_version": "1.2.0",
            "_model_name": "LayoutModel",
            "_view_count": null,
            "_view_module": "@jupyter-widgets/base",
            "_view_module_version": "1.2.0",
            "_view_name": "LayoutView",
            "align_content": null,
            "align_items": null,
            "align_self": null,
            "border": null,
            "bottom": null,
            "display": null,
            "flex": null,
            "flex_flow": null,
            "grid_area": null,
            "grid_auto_columns": null,
            "grid_auto_flow": null,
            "grid_auto_rows": null,
            "grid_column": null,
            "grid_gap": null,
            "grid_row": null,
            "grid_template_areas": null,
            "grid_template_columns": null,
            "grid_template_rows": null,
            "height": null,
            "justify_content": null,
            "justify_items": null,
            "left": null,
            "margin": null,
            "max_height": null,
            "max_width": null,
            "min_height": null,
            "min_width": null,
            "object_fit": null,
            "object_position": null,
            "order": null,
            "overflow": null,
            "overflow_x": null,
            "overflow_y": null,
            "padding": null,
            "right": null,
            "top": null,
            "visibility": null,
            "width": null
          }
        },
        "17178a58e3f640b38535c5fcb6a4269b": {
          "model_module": "@jupyter-widgets/controls",
          "model_name": "DescriptionStyleModel",
          "model_module_version": "1.5.0",
          "state": {
            "_model_module": "@jupyter-widgets/controls",
            "_model_module_version": "1.5.0",
            "_model_name": "DescriptionStyleModel",
            "_view_count": null,
            "_view_module": "@jupyter-widgets/base",
            "_view_module_version": "1.2.0",
            "_view_name": "StyleView",
            "description_width": ""
          }
        },
        "f15f9a3a849b457d9efe073285737b4a": {
          "model_module": "@jupyter-widgets/base",
          "model_name": "LayoutModel",
          "model_module_version": "1.2.0",
          "state": {
            "_model_module": "@jupyter-widgets/base",
            "_model_module_version": "1.2.0",
            "_model_name": "LayoutModel",
            "_view_count": null,
            "_view_module": "@jupyter-widgets/base",
            "_view_module_version": "1.2.0",
            "_view_name": "LayoutView",
            "align_content": null,
            "align_items": null,
            "align_self": null,
            "border": null,
            "bottom": null,
            "display": null,
            "flex": null,
            "flex_flow": null,
            "grid_area": null,
            "grid_auto_columns": null,
            "grid_auto_flow": null,
            "grid_auto_rows": null,
            "grid_column": null,
            "grid_gap": null,
            "grid_row": null,
            "grid_template_areas": null,
            "grid_template_columns": null,
            "grid_template_rows": null,
            "height": null,
            "justify_content": null,
            "justify_items": null,
            "left": null,
            "margin": null,
            "max_height": null,
            "max_width": null,
            "min_height": null,
            "min_width": null,
            "object_fit": null,
            "object_position": null,
            "order": null,
            "overflow": null,
            "overflow_x": null,
            "overflow_y": null,
            "padding": null,
            "right": null,
            "top": null,
            "visibility": null,
            "width": null
          }
        },
        "ebf4a66cef744f6eaae208e55cc16167": {
          "model_module": "@jupyter-widgets/controls",
          "model_name": "ProgressStyleModel",
          "model_module_version": "1.5.0",
          "state": {
            "_model_module": "@jupyter-widgets/controls",
            "_model_module_version": "1.5.0",
            "_model_name": "ProgressStyleModel",
            "_view_count": null,
            "_view_module": "@jupyter-widgets/base",
            "_view_module_version": "1.2.0",
            "_view_name": "StyleView",
            "bar_color": null,
            "description_width": ""
          }
        },
        "6c33fe6e7d964911b200dbfd6aa3b6ed": {
          "model_module": "@jupyter-widgets/base",
          "model_name": "LayoutModel",
          "model_module_version": "1.2.0",
          "state": {
            "_model_module": "@jupyter-widgets/base",
            "_model_module_version": "1.2.0",
            "_model_name": "LayoutModel",
            "_view_count": null,
            "_view_module": "@jupyter-widgets/base",
            "_view_module_version": "1.2.0",
            "_view_name": "LayoutView",
            "align_content": null,
            "align_items": null,
            "align_self": null,
            "border": null,
            "bottom": null,
            "display": null,
            "flex": null,
            "flex_flow": null,
            "grid_area": null,
            "grid_auto_columns": null,
            "grid_auto_flow": null,
            "grid_auto_rows": null,
            "grid_column": null,
            "grid_gap": null,
            "grid_row": null,
            "grid_template_areas": null,
            "grid_template_columns": null,
            "grid_template_rows": null,
            "height": null,
            "justify_content": null,
            "justify_items": null,
            "left": null,
            "margin": null,
            "max_height": null,
            "max_width": null,
            "min_height": null,
            "min_width": null,
            "object_fit": null,
            "object_position": null,
            "order": null,
            "overflow": null,
            "overflow_x": null,
            "overflow_y": null,
            "padding": null,
            "right": null,
            "top": null,
            "visibility": null,
            "width": null
          }
        },
        "685f39eff5bb43a0b7018b138ea846a2": {
          "model_module": "@jupyter-widgets/controls",
          "model_name": "DescriptionStyleModel",
          "model_module_version": "1.5.0",
          "state": {
            "_model_module": "@jupyter-widgets/controls",
            "_model_module_version": "1.5.0",
            "_model_name": "DescriptionStyleModel",
            "_view_count": null,
            "_view_module": "@jupyter-widgets/base",
            "_view_module_version": "1.2.0",
            "_view_name": "StyleView",
            "description_width": ""
          }
        },
        "0614dbde0ccd4455b21299bae825c1c5": {
          "model_module": "@jupyter-widgets/controls",
          "model_name": "HBoxModel",
          "model_module_version": "1.5.0",
          "state": {
            "_dom_classes": [],
            "_model_module": "@jupyter-widgets/controls",
            "_model_module_version": "1.5.0",
            "_model_name": "HBoxModel",
            "_view_count": null,
            "_view_module": "@jupyter-widgets/controls",
            "_view_module_version": "1.5.0",
            "_view_name": "HBoxView",
            "box_style": "",
            "children": [
              "IPY_MODEL_a1357fd314b74c4f9308037ece0e3ee4",
              "IPY_MODEL_31dda3b36a2647498615ea384ecce614",
              "IPY_MODEL_2e5af108b60f459dab7f843e3f867a08"
            ],
            "layout": "IPY_MODEL_0ce2c36580ee4a779a78f33f14afb2f7"
          }
        },
        "a1357fd314b74c4f9308037ece0e3ee4": {
          "model_module": "@jupyter-widgets/controls",
          "model_name": "HTMLModel",
          "model_module_version": "1.5.0",
          "state": {
            "_dom_classes": [],
            "_model_module": "@jupyter-widgets/controls",
            "_model_module_version": "1.5.0",
            "_model_name": "HTMLModel",
            "_view_count": null,
            "_view_module": "@jupyter-widgets/controls",
            "_view_module_version": "1.5.0",
            "_view_name": "HTMLView",
            "description": "",
            "description_tooltip": null,
            "layout": "IPY_MODEL_e89b1a57e93947a8b5f602ee4fa83661",
            "placeholder": "​",
            "style": "IPY_MODEL_9322066e44fa4d8fa92510bed2ae170f",
            "value": "100%"
          }
        },
        "31dda3b36a2647498615ea384ecce614": {
          "model_module": "@jupyter-widgets/controls",
          "model_name": "FloatProgressModel",
          "model_module_version": "1.5.0",
          "state": {
            "_dom_classes": [],
            "_model_module": "@jupyter-widgets/controls",
            "_model_module_version": "1.5.0",
            "_model_name": "FloatProgressModel",
            "_view_count": null,
            "_view_module": "@jupyter-widgets/controls",
            "_view_module_version": "1.5.0",
            "_view_name": "ProgressView",
            "bar_style": "success",
            "description": "",
            "description_tooltip": null,
            "layout": "IPY_MODEL_ba5608daf7304e4099186adddac28e0b",
            "max": 4422102,
            "min": 0,
            "orientation": "horizontal",
            "style": "IPY_MODEL_af18ede1a7754fb8b7bfb4f61a476cc7",
            "value": 4422102
          }
        },
        "2e5af108b60f459dab7f843e3f867a08": {
          "model_module": "@jupyter-widgets/controls",
          "model_name": "HTMLModel",
          "model_module_version": "1.5.0",
          "state": {
            "_dom_classes": [],
            "_model_module": "@jupyter-widgets/controls",
            "_model_module_version": "1.5.0",
            "_model_name": "HTMLModel",
            "_view_count": null,
            "_view_module": "@jupyter-widgets/controls",
            "_view_module_version": "1.5.0",
            "_view_name": "HTMLView",
            "description": "",
            "description_tooltip": null,
            "layout": "IPY_MODEL_7df529e991224d05b61b98006badac71",
            "placeholder": "​",
            "style": "IPY_MODEL_9c5327e0c48343ffa27506637d04d1e1",
            "value": " 4422102/4422102 [00:00&lt;00:00, 7844666.02it/s]"
          }
        },
        "0ce2c36580ee4a779a78f33f14afb2f7": {
          "model_module": "@jupyter-widgets/base",
          "model_name": "LayoutModel",
          "model_module_version": "1.2.0",
          "state": {
            "_model_module": "@jupyter-widgets/base",
            "_model_module_version": "1.2.0",
            "_model_name": "LayoutModel",
            "_view_count": null,
            "_view_module": "@jupyter-widgets/base",
            "_view_module_version": "1.2.0",
            "_view_name": "LayoutView",
            "align_content": null,
            "align_items": null,
            "align_self": null,
            "border": null,
            "bottom": null,
            "display": null,
            "flex": null,
            "flex_flow": null,
            "grid_area": null,
            "grid_auto_columns": null,
            "grid_auto_flow": null,
            "grid_auto_rows": null,
            "grid_column": null,
            "grid_gap": null,
            "grid_row": null,
            "grid_template_areas": null,
            "grid_template_columns": null,
            "grid_template_rows": null,
            "height": null,
            "justify_content": null,
            "justify_items": null,
            "left": null,
            "margin": null,
            "max_height": null,
            "max_width": null,
            "min_height": null,
            "min_width": null,
            "object_fit": null,
            "object_position": null,
            "order": null,
            "overflow": null,
            "overflow_x": null,
            "overflow_y": null,
            "padding": null,
            "right": null,
            "top": null,
            "visibility": null,
            "width": null
          }
        },
        "e89b1a57e93947a8b5f602ee4fa83661": {
          "model_module": "@jupyter-widgets/base",
          "model_name": "LayoutModel",
          "model_module_version": "1.2.0",
          "state": {
            "_model_module": "@jupyter-widgets/base",
            "_model_module_version": "1.2.0",
            "_model_name": "LayoutModel",
            "_view_count": null,
            "_view_module": "@jupyter-widgets/base",
            "_view_module_version": "1.2.0",
            "_view_name": "LayoutView",
            "align_content": null,
            "align_items": null,
            "align_self": null,
            "border": null,
            "bottom": null,
            "display": null,
            "flex": null,
            "flex_flow": null,
            "grid_area": null,
            "grid_auto_columns": null,
            "grid_auto_flow": null,
            "grid_auto_rows": null,
            "grid_column": null,
            "grid_gap": null,
            "grid_row": null,
            "grid_template_areas": null,
            "grid_template_columns": null,
            "grid_template_rows": null,
            "height": null,
            "justify_content": null,
            "justify_items": null,
            "left": null,
            "margin": null,
            "max_height": null,
            "max_width": null,
            "min_height": null,
            "min_width": null,
            "object_fit": null,
            "object_position": null,
            "order": null,
            "overflow": null,
            "overflow_x": null,
            "overflow_y": null,
            "padding": null,
            "right": null,
            "top": null,
            "visibility": null,
            "width": null
          }
        },
        "9322066e44fa4d8fa92510bed2ae170f": {
          "model_module": "@jupyter-widgets/controls",
          "model_name": "DescriptionStyleModel",
          "model_module_version": "1.5.0",
          "state": {
            "_model_module": "@jupyter-widgets/controls",
            "_model_module_version": "1.5.0",
            "_model_name": "DescriptionStyleModel",
            "_view_count": null,
            "_view_module": "@jupyter-widgets/base",
            "_view_module_version": "1.2.0",
            "_view_name": "StyleView",
            "description_width": ""
          }
        },
        "ba5608daf7304e4099186adddac28e0b": {
          "model_module": "@jupyter-widgets/base",
          "model_name": "LayoutModel",
          "model_module_version": "1.2.0",
          "state": {
            "_model_module": "@jupyter-widgets/base",
            "_model_module_version": "1.2.0",
            "_model_name": "LayoutModel",
            "_view_count": null,
            "_view_module": "@jupyter-widgets/base",
            "_view_module_version": "1.2.0",
            "_view_name": "LayoutView",
            "align_content": null,
            "align_items": null,
            "align_self": null,
            "border": null,
            "bottom": null,
            "display": null,
            "flex": null,
            "flex_flow": null,
            "grid_area": null,
            "grid_auto_columns": null,
            "grid_auto_flow": null,
            "grid_auto_rows": null,
            "grid_column": null,
            "grid_gap": null,
            "grid_row": null,
            "grid_template_areas": null,
            "grid_template_columns": null,
            "grid_template_rows": null,
            "height": null,
            "justify_content": null,
            "justify_items": null,
            "left": null,
            "margin": null,
            "max_height": null,
            "max_width": null,
            "min_height": null,
            "min_width": null,
            "object_fit": null,
            "object_position": null,
            "order": null,
            "overflow": null,
            "overflow_x": null,
            "overflow_y": null,
            "padding": null,
            "right": null,
            "top": null,
            "visibility": null,
            "width": null
          }
        },
        "af18ede1a7754fb8b7bfb4f61a476cc7": {
          "model_module": "@jupyter-widgets/controls",
          "model_name": "ProgressStyleModel",
          "model_module_version": "1.5.0",
          "state": {
            "_model_module": "@jupyter-widgets/controls",
            "_model_module_version": "1.5.0",
            "_model_name": "ProgressStyleModel",
            "_view_count": null,
            "_view_module": "@jupyter-widgets/base",
            "_view_module_version": "1.2.0",
            "_view_name": "StyleView",
            "bar_color": null,
            "description_width": ""
          }
        },
        "7df529e991224d05b61b98006badac71": {
          "model_module": "@jupyter-widgets/base",
          "model_name": "LayoutModel",
          "model_module_version": "1.2.0",
          "state": {
            "_model_module": "@jupyter-widgets/base",
            "_model_module_version": "1.2.0",
            "_model_name": "LayoutModel",
            "_view_count": null,
            "_view_module": "@jupyter-widgets/base",
            "_view_module_version": "1.2.0",
            "_view_name": "LayoutView",
            "align_content": null,
            "align_items": null,
            "align_self": null,
            "border": null,
            "bottom": null,
            "display": null,
            "flex": null,
            "flex_flow": null,
            "grid_area": null,
            "grid_auto_columns": null,
            "grid_auto_flow": null,
            "grid_auto_rows": null,
            "grid_column": null,
            "grid_gap": null,
            "grid_row": null,
            "grid_template_areas": null,
            "grid_template_columns": null,
            "grid_template_rows": null,
            "height": null,
            "justify_content": null,
            "justify_items": null,
            "left": null,
            "margin": null,
            "max_height": null,
            "max_width": null,
            "min_height": null,
            "min_width": null,
            "object_fit": null,
            "object_position": null,
            "order": null,
            "overflow": null,
            "overflow_x": null,
            "overflow_y": null,
            "padding": null,
            "right": null,
            "top": null,
            "visibility": null,
            "width": null
          }
        },
        "9c5327e0c48343ffa27506637d04d1e1": {
          "model_module": "@jupyter-widgets/controls",
          "model_name": "DescriptionStyleModel",
          "model_module_version": "1.5.0",
          "state": {
            "_model_module": "@jupyter-widgets/controls",
            "_model_module_version": "1.5.0",
            "_model_name": "DescriptionStyleModel",
            "_view_count": null,
            "_view_module": "@jupyter-widgets/base",
            "_view_module_version": "1.2.0",
            "_view_name": "StyleView",
            "description_width": ""
          }
        },
        "0b9cc7fbe2cb4807a5114e7849ef89e5": {
          "model_module": "@jupyter-widgets/controls",
          "model_name": "HBoxModel",
          "model_module_version": "1.5.0",
          "state": {
            "_dom_classes": [],
            "_model_module": "@jupyter-widgets/controls",
            "_model_module_version": "1.5.0",
            "_model_name": "HBoxModel",
            "_view_count": null,
            "_view_module": "@jupyter-widgets/controls",
            "_view_module_version": "1.5.0",
            "_view_name": "HBoxView",
            "box_style": "",
            "children": [
              "IPY_MODEL_00751221844045d2a51a6b48f8105c5b",
              "IPY_MODEL_219d0c46d7214a6697b8b92218f16c23",
              "IPY_MODEL_5f5e2d38970247c4975bbf1ab32fb634"
            ],
            "layout": "IPY_MODEL_4b04f70f0c374eee9b76d9fdd6b77c7a"
          }
        },
        "00751221844045d2a51a6b48f8105c5b": {
          "model_module": "@jupyter-widgets/controls",
          "model_name": "HTMLModel",
          "model_module_version": "1.5.0",
          "state": {
            "_dom_classes": [],
            "_model_module": "@jupyter-widgets/controls",
            "_model_module_version": "1.5.0",
            "_model_name": "HTMLModel",
            "_view_count": null,
            "_view_module": "@jupyter-widgets/controls",
            "_view_module_version": "1.5.0",
            "_view_name": "HTMLView",
            "description": "",
            "description_tooltip": null,
            "layout": "IPY_MODEL_1a1e415b1a3246149f2b45fab2175387",
            "placeholder": "​",
            "style": "IPY_MODEL_ef147eaf59164d12945c9b45a2fbb8a3",
            "value": "100%"
          }
        },
        "219d0c46d7214a6697b8b92218f16c23": {
          "model_module": "@jupyter-widgets/controls",
          "model_name": "FloatProgressModel",
          "model_module_version": "1.5.0",
          "state": {
            "_dom_classes": [],
            "_model_module": "@jupyter-widgets/controls",
            "_model_module_version": "1.5.0",
            "_model_name": "FloatProgressModel",
            "_view_count": null,
            "_view_module": "@jupyter-widgets/controls",
            "_view_module_version": "1.5.0",
            "_view_name": "ProgressView",
            "bar_style": "success",
            "description": "",
            "description_tooltip": null,
            "layout": "IPY_MODEL_b20b447aeba7445e82061d8e72abf84a",
            "max": 5148,
            "min": 0,
            "orientation": "horizontal",
            "style": "IPY_MODEL_2a9fbd965c1b4109bb62dca73186995c",
            "value": 5148
          }
        },
        "5f5e2d38970247c4975bbf1ab32fb634": {
          "model_module": "@jupyter-widgets/controls",
          "model_name": "HTMLModel",
          "model_module_version": "1.5.0",
          "state": {
            "_dom_classes": [],
            "_model_module": "@jupyter-widgets/controls",
            "_model_module_version": "1.5.0",
            "_model_name": "HTMLModel",
            "_view_count": null,
            "_view_module": "@jupyter-widgets/controls",
            "_view_module_version": "1.5.0",
            "_view_name": "HTMLView",
            "description": "",
            "description_tooltip": null,
            "layout": "IPY_MODEL_3aca6d92a76849b7ba93324273fade00",
            "placeholder": "​",
            "style": "IPY_MODEL_75053f98aa3a415f98dc8be03d059096",
            "value": " 5148/5148 [00:00&lt;00:00, 205783.80it/s]"
          }
        },
        "4b04f70f0c374eee9b76d9fdd6b77c7a": {
          "model_module": "@jupyter-widgets/base",
          "model_name": "LayoutModel",
          "model_module_version": "1.2.0",
          "state": {
            "_model_module": "@jupyter-widgets/base",
            "_model_module_version": "1.2.0",
            "_model_name": "LayoutModel",
            "_view_count": null,
            "_view_module": "@jupyter-widgets/base",
            "_view_module_version": "1.2.0",
            "_view_name": "LayoutView",
            "align_content": null,
            "align_items": null,
            "align_self": null,
            "border": null,
            "bottom": null,
            "display": null,
            "flex": null,
            "flex_flow": null,
            "grid_area": null,
            "grid_auto_columns": null,
            "grid_auto_flow": null,
            "grid_auto_rows": null,
            "grid_column": null,
            "grid_gap": null,
            "grid_row": null,
            "grid_template_areas": null,
            "grid_template_columns": null,
            "grid_template_rows": null,
            "height": null,
            "justify_content": null,
            "justify_items": null,
            "left": null,
            "margin": null,
            "max_height": null,
            "max_width": null,
            "min_height": null,
            "min_width": null,
            "object_fit": null,
            "object_position": null,
            "order": null,
            "overflow": null,
            "overflow_x": null,
            "overflow_y": null,
            "padding": null,
            "right": null,
            "top": null,
            "visibility": null,
            "width": null
          }
        },
        "1a1e415b1a3246149f2b45fab2175387": {
          "model_module": "@jupyter-widgets/base",
          "model_name": "LayoutModel",
          "model_module_version": "1.2.0",
          "state": {
            "_model_module": "@jupyter-widgets/base",
            "_model_module_version": "1.2.0",
            "_model_name": "LayoutModel",
            "_view_count": null,
            "_view_module": "@jupyter-widgets/base",
            "_view_module_version": "1.2.0",
            "_view_name": "LayoutView",
            "align_content": null,
            "align_items": null,
            "align_self": null,
            "border": null,
            "bottom": null,
            "display": null,
            "flex": null,
            "flex_flow": null,
            "grid_area": null,
            "grid_auto_columns": null,
            "grid_auto_flow": null,
            "grid_auto_rows": null,
            "grid_column": null,
            "grid_gap": null,
            "grid_row": null,
            "grid_template_areas": null,
            "grid_template_columns": null,
            "grid_template_rows": null,
            "height": null,
            "justify_content": null,
            "justify_items": null,
            "left": null,
            "margin": null,
            "max_height": null,
            "max_width": null,
            "min_height": null,
            "min_width": null,
            "object_fit": null,
            "object_position": null,
            "order": null,
            "overflow": null,
            "overflow_x": null,
            "overflow_y": null,
            "padding": null,
            "right": null,
            "top": null,
            "visibility": null,
            "width": null
          }
        },
        "ef147eaf59164d12945c9b45a2fbb8a3": {
          "model_module": "@jupyter-widgets/controls",
          "model_name": "DescriptionStyleModel",
          "model_module_version": "1.5.0",
          "state": {
            "_model_module": "@jupyter-widgets/controls",
            "_model_module_version": "1.5.0",
            "_model_name": "DescriptionStyleModel",
            "_view_count": null,
            "_view_module": "@jupyter-widgets/base",
            "_view_module_version": "1.2.0",
            "_view_name": "StyleView",
            "description_width": ""
          }
        },
        "b20b447aeba7445e82061d8e72abf84a": {
          "model_module": "@jupyter-widgets/base",
          "model_name": "LayoutModel",
          "model_module_version": "1.2.0",
          "state": {
            "_model_module": "@jupyter-widgets/base",
            "_model_module_version": "1.2.0",
            "_model_name": "LayoutModel",
            "_view_count": null,
            "_view_module": "@jupyter-widgets/base",
            "_view_module_version": "1.2.0",
            "_view_name": "LayoutView",
            "align_content": null,
            "align_items": null,
            "align_self": null,
            "border": null,
            "bottom": null,
            "display": null,
            "flex": null,
            "flex_flow": null,
            "grid_area": null,
            "grid_auto_columns": null,
            "grid_auto_flow": null,
            "grid_auto_rows": null,
            "grid_column": null,
            "grid_gap": null,
            "grid_row": null,
            "grid_template_areas": null,
            "grid_template_columns": null,
            "grid_template_rows": null,
            "height": null,
            "justify_content": null,
            "justify_items": null,
            "left": null,
            "margin": null,
            "max_height": null,
            "max_width": null,
            "min_height": null,
            "min_width": null,
            "object_fit": null,
            "object_position": null,
            "order": null,
            "overflow": null,
            "overflow_x": null,
            "overflow_y": null,
            "padding": null,
            "right": null,
            "top": null,
            "visibility": null,
            "width": null
          }
        },
        "2a9fbd965c1b4109bb62dca73186995c": {
          "model_module": "@jupyter-widgets/controls",
          "model_name": "ProgressStyleModel",
          "model_module_version": "1.5.0",
          "state": {
            "_model_module": "@jupyter-widgets/controls",
            "_model_module_version": "1.5.0",
            "_model_name": "ProgressStyleModel",
            "_view_count": null,
            "_view_module": "@jupyter-widgets/base",
            "_view_module_version": "1.2.0",
            "_view_name": "StyleView",
            "bar_color": null,
            "description_width": ""
          }
        },
        "3aca6d92a76849b7ba93324273fade00": {
          "model_module": "@jupyter-widgets/base",
          "model_name": "LayoutModel",
          "model_module_version": "1.2.0",
          "state": {
            "_model_module": "@jupyter-widgets/base",
            "_model_module_version": "1.2.0",
            "_model_name": "LayoutModel",
            "_view_count": null,
            "_view_module": "@jupyter-widgets/base",
            "_view_module_version": "1.2.0",
            "_view_name": "LayoutView",
            "align_content": null,
            "align_items": null,
            "align_self": null,
            "border": null,
            "bottom": null,
            "display": null,
            "flex": null,
            "flex_flow": null,
            "grid_area": null,
            "grid_auto_columns": null,
            "grid_auto_flow": null,
            "grid_auto_rows": null,
            "grid_column": null,
            "grid_gap": null,
            "grid_row": null,
            "grid_template_areas": null,
            "grid_template_columns": null,
            "grid_template_rows": null,
            "height": null,
            "justify_content": null,
            "justify_items": null,
            "left": null,
            "margin": null,
            "max_height": null,
            "max_width": null,
            "min_height": null,
            "min_width": null,
            "object_fit": null,
            "object_position": null,
            "order": null,
            "overflow": null,
            "overflow_x": null,
            "overflow_y": null,
            "padding": null,
            "right": null,
            "top": null,
            "visibility": null,
            "width": null
          }
        },
        "75053f98aa3a415f98dc8be03d059096": {
          "model_module": "@jupyter-widgets/controls",
          "model_name": "DescriptionStyleModel",
          "model_module_version": "1.5.0",
          "state": {
            "_model_module": "@jupyter-widgets/controls",
            "_model_module_version": "1.5.0",
            "_model_name": "DescriptionStyleModel",
            "_view_count": null,
            "_view_module": "@jupyter-widgets/base",
            "_view_module_version": "1.2.0",
            "_view_name": "StyleView",
            "description_width": ""
          }
        },
        "486345ab3a1b4cca8b48648c40956a47": {
          "model_module": "@jupyter-widgets/controls",
          "model_name": "HBoxModel",
          "model_module_version": "1.5.0",
          "state": {
            "_dom_classes": [],
            "_model_module": "@jupyter-widgets/controls",
            "_model_module_version": "1.5.0",
            "_model_name": "HBoxModel",
            "_view_count": null,
            "_view_module": "@jupyter-widgets/controls",
            "_view_module_version": "1.5.0",
            "_view_name": "HBoxView",
            "box_style": "",
            "children": [
              "IPY_MODEL_d427284b32a140a4b0e9a20fea4c41b5",
              "IPY_MODEL_d22f0b9fe2694e4495c2ef0fb1e5e2fa",
              "IPY_MODEL_90aa911374e440c7b4fc33f619608ab4"
            ],
            "layout": "IPY_MODEL_14f3efa01f1c456683ad4f1568784780"
          }
        },
        "d427284b32a140a4b0e9a20fea4c41b5": {
          "model_module": "@jupyter-widgets/controls",
          "model_name": "HTMLModel",
          "model_module_version": "1.5.0",
          "state": {
            "_dom_classes": [],
            "_model_module": "@jupyter-widgets/controls",
            "_model_module_version": "1.5.0",
            "_model_name": "HTMLModel",
            "_view_count": null,
            "_view_module": "@jupyter-widgets/controls",
            "_view_module_version": "1.5.0",
            "_view_name": "HTMLView",
            "description": "",
            "description_tooltip": null,
            "layout": "IPY_MODEL_6a86966ee0c6463eaf18b61dd8d9514a",
            "placeholder": "​",
            "style": "IPY_MODEL_c1e9b341ca474905a029fb0de38acf55",
            "value": "100%"
          }
        },
        "d22f0b9fe2694e4495c2ef0fb1e5e2fa": {
          "model_module": "@jupyter-widgets/controls",
          "model_name": "FloatProgressModel",
          "model_module_version": "1.5.0",
          "state": {
            "_dom_classes": [],
            "_model_module": "@jupyter-widgets/controls",
            "_model_module_version": "1.5.0",
            "_model_name": "FloatProgressModel",
            "_view_count": null,
            "_view_module": "@jupyter-widgets/controls",
            "_view_module_version": "1.5.0",
            "_view_name": "ProgressView",
            "bar_style": "success",
            "description": "",
            "description_tooltip": null,
            "layout": "IPY_MODEL_e6ec85790c934774b701313d5d234b29",
            "max": 3,
            "min": 0,
            "orientation": "horizontal",
            "style": "IPY_MODEL_8667dd57d6d240ea9122186e5a49bc9e",
            "value": 3
          }
        },
        "90aa911374e440c7b4fc33f619608ab4": {
          "model_module": "@jupyter-widgets/controls",
          "model_name": "HTMLModel",
          "model_module_version": "1.5.0",
          "state": {
            "_dom_classes": [],
            "_model_module": "@jupyter-widgets/controls",
            "_model_module_version": "1.5.0",
            "_model_name": "HTMLModel",
            "_view_count": null,
            "_view_module": "@jupyter-widgets/controls",
            "_view_module_version": "1.5.0",
            "_view_name": "HTMLView",
            "description": "",
            "description_tooltip": null,
            "layout": "IPY_MODEL_8ca8b93052e3436293d90a5dc8459841",
            "placeholder": "​",
            "style": "IPY_MODEL_80d91a01817a4980ba982e3e0b87bb0d",
            "value": " 3/3 [00:51&lt;00:00, 17.46s/it]"
          }
        },
        "14f3efa01f1c456683ad4f1568784780": {
          "model_module": "@jupyter-widgets/base",
          "model_name": "LayoutModel",
          "model_module_version": "1.2.0",
          "state": {
            "_model_module": "@jupyter-widgets/base",
            "_model_module_version": "1.2.0",
            "_model_name": "LayoutModel",
            "_view_count": null,
            "_view_module": "@jupyter-widgets/base",
            "_view_module_version": "1.2.0",
            "_view_name": "LayoutView",
            "align_content": null,
            "align_items": null,
            "align_self": null,
            "border": null,
            "bottom": null,
            "display": null,
            "flex": null,
            "flex_flow": null,
            "grid_area": null,
            "grid_auto_columns": null,
            "grid_auto_flow": null,
            "grid_auto_rows": null,
            "grid_column": null,
            "grid_gap": null,
            "grid_row": null,
            "grid_template_areas": null,
            "grid_template_columns": null,
            "grid_template_rows": null,
            "height": null,
            "justify_content": null,
            "justify_items": null,
            "left": null,
            "margin": null,
            "max_height": null,
            "max_width": null,
            "min_height": null,
            "min_width": null,
            "object_fit": null,
            "object_position": null,
            "order": null,
            "overflow": null,
            "overflow_x": null,
            "overflow_y": null,
            "padding": null,
            "right": null,
            "top": null,
            "visibility": null,
            "width": null
          }
        },
        "6a86966ee0c6463eaf18b61dd8d9514a": {
          "model_module": "@jupyter-widgets/base",
          "model_name": "LayoutModel",
          "model_module_version": "1.2.0",
          "state": {
            "_model_module": "@jupyter-widgets/base",
            "_model_module_version": "1.2.0",
            "_model_name": "LayoutModel",
            "_view_count": null,
            "_view_module": "@jupyter-widgets/base",
            "_view_module_version": "1.2.0",
            "_view_name": "LayoutView",
            "align_content": null,
            "align_items": null,
            "align_self": null,
            "border": null,
            "bottom": null,
            "display": null,
            "flex": null,
            "flex_flow": null,
            "grid_area": null,
            "grid_auto_columns": null,
            "grid_auto_flow": null,
            "grid_auto_rows": null,
            "grid_column": null,
            "grid_gap": null,
            "grid_row": null,
            "grid_template_areas": null,
            "grid_template_columns": null,
            "grid_template_rows": null,
            "height": null,
            "justify_content": null,
            "justify_items": null,
            "left": null,
            "margin": null,
            "max_height": null,
            "max_width": null,
            "min_height": null,
            "min_width": null,
            "object_fit": null,
            "object_position": null,
            "order": null,
            "overflow": null,
            "overflow_x": null,
            "overflow_y": null,
            "padding": null,
            "right": null,
            "top": null,
            "visibility": null,
            "width": null
          }
        },
        "c1e9b341ca474905a029fb0de38acf55": {
          "model_module": "@jupyter-widgets/controls",
          "model_name": "DescriptionStyleModel",
          "model_module_version": "1.5.0",
          "state": {
            "_model_module": "@jupyter-widgets/controls",
            "_model_module_version": "1.5.0",
            "_model_name": "DescriptionStyleModel",
            "_view_count": null,
            "_view_module": "@jupyter-widgets/base",
            "_view_module_version": "1.2.0",
            "_view_name": "StyleView",
            "description_width": ""
          }
        },
        "e6ec85790c934774b701313d5d234b29": {
          "model_module": "@jupyter-widgets/base",
          "model_name": "LayoutModel",
          "model_module_version": "1.2.0",
          "state": {
            "_model_module": "@jupyter-widgets/base",
            "_model_module_version": "1.2.0",
            "_model_name": "LayoutModel",
            "_view_count": null,
            "_view_module": "@jupyter-widgets/base",
            "_view_module_version": "1.2.0",
            "_view_name": "LayoutView",
            "align_content": null,
            "align_items": null,
            "align_self": null,
            "border": null,
            "bottom": null,
            "display": null,
            "flex": null,
            "flex_flow": null,
            "grid_area": null,
            "grid_auto_columns": null,
            "grid_auto_flow": null,
            "grid_auto_rows": null,
            "grid_column": null,
            "grid_gap": null,
            "grid_row": null,
            "grid_template_areas": null,
            "grid_template_columns": null,
            "grid_template_rows": null,
            "height": null,
            "justify_content": null,
            "justify_items": null,
            "left": null,
            "margin": null,
            "max_height": null,
            "max_width": null,
            "min_height": null,
            "min_width": null,
            "object_fit": null,
            "object_position": null,
            "order": null,
            "overflow": null,
            "overflow_x": null,
            "overflow_y": null,
            "padding": null,
            "right": null,
            "top": null,
            "visibility": null,
            "width": null
          }
        },
        "8667dd57d6d240ea9122186e5a49bc9e": {
          "model_module": "@jupyter-widgets/controls",
          "model_name": "ProgressStyleModel",
          "model_module_version": "1.5.0",
          "state": {
            "_model_module": "@jupyter-widgets/controls",
            "_model_module_version": "1.5.0",
            "_model_name": "ProgressStyleModel",
            "_view_count": null,
            "_view_module": "@jupyter-widgets/base",
            "_view_module_version": "1.2.0",
            "_view_name": "StyleView",
            "bar_color": null,
            "description_width": ""
          }
        },
        "8ca8b93052e3436293d90a5dc8459841": {
          "model_module": "@jupyter-widgets/base",
          "model_name": "LayoutModel",
          "model_module_version": "1.2.0",
          "state": {
            "_model_module": "@jupyter-widgets/base",
            "_model_module_version": "1.2.0",
            "_model_name": "LayoutModel",
            "_view_count": null,
            "_view_module": "@jupyter-widgets/base",
            "_view_module_version": "1.2.0",
            "_view_name": "LayoutView",
            "align_content": null,
            "align_items": null,
            "align_self": null,
            "border": null,
            "bottom": null,
            "display": null,
            "flex": null,
            "flex_flow": null,
            "grid_area": null,
            "grid_auto_columns": null,
            "grid_auto_flow": null,
            "grid_auto_rows": null,
            "grid_column": null,
            "grid_gap": null,
            "grid_row": null,
            "grid_template_areas": null,
            "grid_template_columns": null,
            "grid_template_rows": null,
            "height": null,
            "justify_content": null,
            "justify_items": null,
            "left": null,
            "margin": null,
            "max_height": null,
            "max_width": null,
            "min_height": null,
            "min_width": null,
            "object_fit": null,
            "object_position": null,
            "order": null,
            "overflow": null,
            "overflow_x": null,
            "overflow_y": null,
            "padding": null,
            "right": null,
            "top": null,
            "visibility": null,
            "width": null
          }
        },
        "80d91a01817a4980ba982e3e0b87bb0d": {
          "model_module": "@jupyter-widgets/controls",
          "model_name": "DescriptionStyleModel",
          "model_module_version": "1.5.0",
          "state": {
            "_model_module": "@jupyter-widgets/controls",
            "_model_module_version": "1.5.0",
            "_model_name": "DescriptionStyleModel",
            "_view_count": null,
            "_view_module": "@jupyter-widgets/base",
            "_view_module_version": "1.2.0",
            "_view_name": "StyleView",
            "description_width": ""
          }
        },
        "ea649cdb53654b2f92d05d0e81ba618c": {
          "model_module": "@jupyter-widgets/controls",
          "model_name": "HBoxModel",
          "model_module_version": "1.5.0",
          "state": {
            "_dom_classes": [],
            "_model_module": "@jupyter-widgets/controls",
            "_model_module_version": "1.5.0",
            "_model_name": "HBoxModel",
            "_view_count": null,
            "_view_module": "@jupyter-widgets/controls",
            "_view_module_version": "1.5.0",
            "_view_name": "HBoxView",
            "box_style": "",
            "children": [
              "IPY_MODEL_85b4ffdfdab84cbdba08f7490f81254a",
              "IPY_MODEL_1dbda4898e98406695340aa3c513ea18",
              "IPY_MODEL_5900b69a3c304aff8236a229fe5b2542"
            ],
            "layout": "IPY_MODEL_0228578437ec42fc8ae91216e4f639c0"
          }
        },
        "85b4ffdfdab84cbdba08f7490f81254a": {
          "model_module": "@jupyter-widgets/controls",
          "model_name": "HTMLModel",
          "model_module_version": "1.5.0",
          "state": {
            "_dom_classes": [],
            "_model_module": "@jupyter-widgets/controls",
            "_model_module_version": "1.5.0",
            "_model_name": "HTMLModel",
            "_view_count": null,
            "_view_module": "@jupyter-widgets/controls",
            "_view_module_version": "1.5.0",
            "_view_name": "HTMLView",
            "description": "",
            "description_tooltip": null,
            "layout": "IPY_MODEL_abeadc1060394373bf83f4bea9d3aa10",
            "placeholder": "​",
            "style": "IPY_MODEL_bfe12475cfa34fb293bce54dd5c90324",
            "value": "100%"
          }
        },
        "1dbda4898e98406695340aa3c513ea18": {
          "model_module": "@jupyter-widgets/controls",
          "model_name": "FloatProgressModel",
          "model_module_version": "1.5.0",
          "state": {
            "_dom_classes": [],
            "_model_module": "@jupyter-widgets/controls",
            "_model_module_version": "1.5.0",
            "_model_name": "FloatProgressModel",
            "_view_count": null,
            "_view_module": "@jupyter-widgets/controls",
            "_view_module_version": "1.5.0",
            "_view_name": "ProgressView",
            "bar_style": "success",
            "description": "",
            "description_tooltip": null,
            "layout": "IPY_MODEL_a17f7171ff784df4b040f086821bc5b1",
            "max": 313,
            "min": 0,
            "orientation": "horizontal",
            "style": "IPY_MODEL_f9420cd81aee438cb736fefdb88d6f9d",
            "value": 313
          }
        },
        "5900b69a3c304aff8236a229fe5b2542": {
          "model_module": "@jupyter-widgets/controls",
          "model_name": "HTMLModel",
          "model_module_version": "1.5.0",
          "state": {
            "_dom_classes": [],
            "_model_module": "@jupyter-widgets/controls",
            "_model_module_version": "1.5.0",
            "_model_name": "HTMLModel",
            "_view_count": null,
            "_view_module": "@jupyter-widgets/controls",
            "_view_module_version": "1.5.0",
            "_view_name": "HTMLView",
            "description": "",
            "description_tooltip": null,
            "layout": "IPY_MODEL_b51b7b4163634d18997f586f15b7eaf3",
            "placeholder": "​",
            "style": "IPY_MODEL_58dfb22dcb29491d8b526b3438930128",
            "value": " 313/313 [00:01&lt;00:00, 205.57it/s]"
          }
        },
        "0228578437ec42fc8ae91216e4f639c0": {
          "model_module": "@jupyter-widgets/base",
          "model_name": "LayoutModel",
          "model_module_version": "1.2.0",
          "state": {
            "_model_module": "@jupyter-widgets/base",
            "_model_module_version": "1.2.0",
            "_model_name": "LayoutModel",
            "_view_count": null,
            "_view_module": "@jupyter-widgets/base",
            "_view_module_version": "1.2.0",
            "_view_name": "LayoutView",
            "align_content": null,
            "align_items": null,
            "align_self": null,
            "border": null,
            "bottom": null,
            "display": null,
            "flex": null,
            "flex_flow": null,
            "grid_area": null,
            "grid_auto_columns": null,
            "grid_auto_flow": null,
            "grid_auto_rows": null,
            "grid_column": null,
            "grid_gap": null,
            "grid_row": null,
            "grid_template_areas": null,
            "grid_template_columns": null,
            "grid_template_rows": null,
            "height": null,
            "justify_content": null,
            "justify_items": null,
            "left": null,
            "margin": null,
            "max_height": null,
            "max_width": null,
            "min_height": null,
            "min_width": null,
            "object_fit": null,
            "object_position": null,
            "order": null,
            "overflow": null,
            "overflow_x": null,
            "overflow_y": null,
            "padding": null,
            "right": null,
            "top": null,
            "visibility": null,
            "width": null
          }
        },
        "abeadc1060394373bf83f4bea9d3aa10": {
          "model_module": "@jupyter-widgets/base",
          "model_name": "LayoutModel",
          "model_module_version": "1.2.0",
          "state": {
            "_model_module": "@jupyter-widgets/base",
            "_model_module_version": "1.2.0",
            "_model_name": "LayoutModel",
            "_view_count": null,
            "_view_module": "@jupyter-widgets/base",
            "_view_module_version": "1.2.0",
            "_view_name": "LayoutView",
            "align_content": null,
            "align_items": null,
            "align_self": null,
            "border": null,
            "bottom": null,
            "display": null,
            "flex": null,
            "flex_flow": null,
            "grid_area": null,
            "grid_auto_columns": null,
            "grid_auto_flow": null,
            "grid_auto_rows": null,
            "grid_column": null,
            "grid_gap": null,
            "grid_row": null,
            "grid_template_areas": null,
            "grid_template_columns": null,
            "grid_template_rows": null,
            "height": null,
            "justify_content": null,
            "justify_items": null,
            "left": null,
            "margin": null,
            "max_height": null,
            "max_width": null,
            "min_height": null,
            "min_width": null,
            "object_fit": null,
            "object_position": null,
            "order": null,
            "overflow": null,
            "overflow_x": null,
            "overflow_y": null,
            "padding": null,
            "right": null,
            "top": null,
            "visibility": null,
            "width": null
          }
        },
        "bfe12475cfa34fb293bce54dd5c90324": {
          "model_module": "@jupyter-widgets/controls",
          "model_name": "DescriptionStyleModel",
          "model_module_version": "1.5.0",
          "state": {
            "_model_module": "@jupyter-widgets/controls",
            "_model_module_version": "1.5.0",
            "_model_name": "DescriptionStyleModel",
            "_view_count": null,
            "_view_module": "@jupyter-widgets/base",
            "_view_module_version": "1.2.0",
            "_view_name": "StyleView",
            "description_width": ""
          }
        },
        "a17f7171ff784df4b040f086821bc5b1": {
          "model_module": "@jupyter-widgets/base",
          "model_name": "LayoutModel",
          "model_module_version": "1.2.0",
          "state": {
            "_model_module": "@jupyter-widgets/base",
            "_model_module_version": "1.2.0",
            "_model_name": "LayoutModel",
            "_view_count": null,
            "_view_module": "@jupyter-widgets/base",
            "_view_module_version": "1.2.0",
            "_view_name": "LayoutView",
            "align_content": null,
            "align_items": null,
            "align_self": null,
            "border": null,
            "bottom": null,
            "display": null,
            "flex": null,
            "flex_flow": null,
            "grid_area": null,
            "grid_auto_columns": null,
            "grid_auto_flow": null,
            "grid_auto_rows": null,
            "grid_column": null,
            "grid_gap": null,
            "grid_row": null,
            "grid_template_areas": null,
            "grid_template_columns": null,
            "grid_template_rows": null,
            "height": null,
            "justify_content": null,
            "justify_items": null,
            "left": null,
            "margin": null,
            "max_height": null,
            "max_width": null,
            "min_height": null,
            "min_width": null,
            "object_fit": null,
            "object_position": null,
            "order": null,
            "overflow": null,
            "overflow_x": null,
            "overflow_y": null,
            "padding": null,
            "right": null,
            "top": null,
            "visibility": null,
            "width": null
          }
        },
        "f9420cd81aee438cb736fefdb88d6f9d": {
          "model_module": "@jupyter-widgets/controls",
          "model_name": "ProgressStyleModel",
          "model_module_version": "1.5.0",
          "state": {
            "_model_module": "@jupyter-widgets/controls",
            "_model_module_version": "1.5.0",
            "_model_name": "ProgressStyleModel",
            "_view_count": null,
            "_view_module": "@jupyter-widgets/base",
            "_view_module_version": "1.2.0",
            "_view_name": "StyleView",
            "bar_color": null,
            "description_width": ""
          }
        },
        "b51b7b4163634d18997f586f15b7eaf3": {
          "model_module": "@jupyter-widgets/base",
          "model_name": "LayoutModel",
          "model_module_version": "1.2.0",
          "state": {
            "_model_module": "@jupyter-widgets/base",
            "_model_module_version": "1.2.0",
            "_model_name": "LayoutModel",
            "_view_count": null,
            "_view_module": "@jupyter-widgets/base",
            "_view_module_version": "1.2.0",
            "_view_name": "LayoutView",
            "align_content": null,
            "align_items": null,
            "align_self": null,
            "border": null,
            "bottom": null,
            "display": null,
            "flex": null,
            "flex_flow": null,
            "grid_area": null,
            "grid_auto_columns": null,
            "grid_auto_flow": null,
            "grid_auto_rows": null,
            "grid_column": null,
            "grid_gap": null,
            "grid_row": null,
            "grid_template_areas": null,
            "grid_template_columns": null,
            "grid_template_rows": null,
            "height": null,
            "justify_content": null,
            "justify_items": null,
            "left": null,
            "margin": null,
            "max_height": null,
            "max_width": null,
            "min_height": null,
            "min_width": null,
            "object_fit": null,
            "object_position": null,
            "order": null,
            "overflow": null,
            "overflow_x": null,
            "overflow_y": null,
            "padding": null,
            "right": null,
            "top": null,
            "visibility": null,
            "width": null
          }
        },
        "58dfb22dcb29491d8b526b3438930128": {
          "model_module": "@jupyter-widgets/controls",
          "model_name": "DescriptionStyleModel",
          "model_module_version": "1.5.0",
          "state": {
            "_model_module": "@jupyter-widgets/controls",
            "_model_module_version": "1.5.0",
            "_model_name": "DescriptionStyleModel",
            "_view_count": null,
            "_view_module": "@jupyter-widgets/base",
            "_view_module_version": "1.2.0",
            "_view_name": "StyleView",
            "description_width": ""
          }
        },
        "d401fd015eda4f069b02cee5884e6ff7": {
          "model_module": "@jupyter-widgets/controls",
          "model_name": "HBoxModel",
          "model_module_version": "1.5.0",
          "state": {
            "_dom_classes": [],
            "_model_module": "@jupyter-widgets/controls",
            "_model_module_version": "1.5.0",
            "_model_name": "HBoxModel",
            "_view_count": null,
            "_view_module": "@jupyter-widgets/controls",
            "_view_module_version": "1.5.0",
            "_view_name": "HBoxView",
            "box_style": "",
            "children": [
              "IPY_MODEL_a722573376314a82b5f093bd4557644a",
              "IPY_MODEL_c0aa006aea75408a9360351fd0dc7d2c",
              "IPY_MODEL_04dec4978fd94a8b85fde18bd70398be"
            ],
            "layout": "IPY_MODEL_cc7805888ba743cd9d89fa55d471d388"
          }
        },
        "a722573376314a82b5f093bd4557644a": {
          "model_module": "@jupyter-widgets/controls",
          "model_name": "HTMLModel",
          "model_module_version": "1.5.0",
          "state": {
            "_dom_classes": [],
            "_model_module": "@jupyter-widgets/controls",
            "_model_module_version": "1.5.0",
            "_model_name": "HTMLModel",
            "_view_count": null,
            "_view_module": "@jupyter-widgets/controls",
            "_view_module_version": "1.5.0",
            "_view_name": "HTMLView",
            "description": "",
            "description_tooltip": null,
            "layout": "IPY_MODEL_4a8cdd4b50f04665a2581da8c896b04f",
            "placeholder": "​",
            "style": "IPY_MODEL_f3682589096743d68ff431e625f25d20",
            "value": "100%"
          }
        },
        "c0aa006aea75408a9360351fd0dc7d2c": {
          "model_module": "@jupyter-widgets/controls",
          "model_name": "FloatProgressModel",
          "model_module_version": "1.5.0",
          "state": {
            "_dom_classes": [],
            "_model_module": "@jupyter-widgets/controls",
            "_model_module_version": "1.5.0",
            "_model_name": "FloatProgressModel",
            "_view_count": null,
            "_view_module": "@jupyter-widgets/controls",
            "_view_module_version": "1.5.0",
            "_view_name": "ProgressView",
            "bar_style": "success",
            "description": "",
            "description_tooltip": null,
            "layout": "IPY_MODEL_fa02da59e2b94f429ff7f263c75b7b3f",
            "max": 5,
            "min": 0,
            "orientation": "horizontal",
            "style": "IPY_MODEL_cd717aca83874988b0a3c37f01d71746",
            "value": 5
          }
        },
        "04dec4978fd94a8b85fde18bd70398be": {
          "model_module": "@jupyter-widgets/controls",
          "model_name": "HTMLModel",
          "model_module_version": "1.5.0",
          "state": {
            "_dom_classes": [],
            "_model_module": "@jupyter-widgets/controls",
            "_model_module_version": "1.5.0",
            "_model_name": "HTMLModel",
            "_view_count": null,
            "_view_module": "@jupyter-widgets/controls",
            "_view_module_version": "1.5.0",
            "_view_name": "HTMLView",
            "description": "",
            "description_tooltip": null,
            "layout": "IPY_MODEL_d81fb299a6a24ff9b920aad0a6e0bde1",
            "placeholder": "​",
            "style": "IPY_MODEL_84c2be01d6a94dde851ee2a28abfe4f0",
            "value": " 5/5 [01:22&lt;00:00, 16.17s/it]"
          }
        },
        "cc7805888ba743cd9d89fa55d471d388": {
          "model_module": "@jupyter-widgets/base",
          "model_name": "LayoutModel",
          "model_module_version": "1.2.0",
          "state": {
            "_model_module": "@jupyter-widgets/base",
            "_model_module_version": "1.2.0",
            "_model_name": "LayoutModel",
            "_view_count": null,
            "_view_module": "@jupyter-widgets/base",
            "_view_module_version": "1.2.0",
            "_view_name": "LayoutView",
            "align_content": null,
            "align_items": null,
            "align_self": null,
            "border": null,
            "bottom": null,
            "display": null,
            "flex": null,
            "flex_flow": null,
            "grid_area": null,
            "grid_auto_columns": null,
            "grid_auto_flow": null,
            "grid_auto_rows": null,
            "grid_column": null,
            "grid_gap": null,
            "grid_row": null,
            "grid_template_areas": null,
            "grid_template_columns": null,
            "grid_template_rows": null,
            "height": null,
            "justify_content": null,
            "justify_items": null,
            "left": null,
            "margin": null,
            "max_height": null,
            "max_width": null,
            "min_height": null,
            "min_width": null,
            "object_fit": null,
            "object_position": null,
            "order": null,
            "overflow": null,
            "overflow_x": null,
            "overflow_y": null,
            "padding": null,
            "right": null,
            "top": null,
            "visibility": null,
            "width": null
          }
        },
        "4a8cdd4b50f04665a2581da8c896b04f": {
          "model_module": "@jupyter-widgets/base",
          "model_name": "LayoutModel",
          "model_module_version": "1.2.0",
          "state": {
            "_model_module": "@jupyter-widgets/base",
            "_model_module_version": "1.2.0",
            "_model_name": "LayoutModel",
            "_view_count": null,
            "_view_module": "@jupyter-widgets/base",
            "_view_module_version": "1.2.0",
            "_view_name": "LayoutView",
            "align_content": null,
            "align_items": null,
            "align_self": null,
            "border": null,
            "bottom": null,
            "display": null,
            "flex": null,
            "flex_flow": null,
            "grid_area": null,
            "grid_auto_columns": null,
            "grid_auto_flow": null,
            "grid_auto_rows": null,
            "grid_column": null,
            "grid_gap": null,
            "grid_row": null,
            "grid_template_areas": null,
            "grid_template_columns": null,
            "grid_template_rows": null,
            "height": null,
            "justify_content": null,
            "justify_items": null,
            "left": null,
            "margin": null,
            "max_height": null,
            "max_width": null,
            "min_height": null,
            "min_width": null,
            "object_fit": null,
            "object_position": null,
            "order": null,
            "overflow": null,
            "overflow_x": null,
            "overflow_y": null,
            "padding": null,
            "right": null,
            "top": null,
            "visibility": null,
            "width": null
          }
        },
        "f3682589096743d68ff431e625f25d20": {
          "model_module": "@jupyter-widgets/controls",
          "model_name": "DescriptionStyleModel",
          "model_module_version": "1.5.0",
          "state": {
            "_model_module": "@jupyter-widgets/controls",
            "_model_module_version": "1.5.0",
            "_model_name": "DescriptionStyleModel",
            "_view_count": null,
            "_view_module": "@jupyter-widgets/base",
            "_view_module_version": "1.2.0",
            "_view_name": "StyleView",
            "description_width": ""
          }
        },
        "fa02da59e2b94f429ff7f263c75b7b3f": {
          "model_module": "@jupyter-widgets/base",
          "model_name": "LayoutModel",
          "model_module_version": "1.2.0",
          "state": {
            "_model_module": "@jupyter-widgets/base",
            "_model_module_version": "1.2.0",
            "_model_name": "LayoutModel",
            "_view_count": null,
            "_view_module": "@jupyter-widgets/base",
            "_view_module_version": "1.2.0",
            "_view_name": "LayoutView",
            "align_content": null,
            "align_items": null,
            "align_self": null,
            "border": null,
            "bottom": null,
            "display": null,
            "flex": null,
            "flex_flow": null,
            "grid_area": null,
            "grid_auto_columns": null,
            "grid_auto_flow": null,
            "grid_auto_rows": null,
            "grid_column": null,
            "grid_gap": null,
            "grid_row": null,
            "grid_template_areas": null,
            "grid_template_columns": null,
            "grid_template_rows": null,
            "height": null,
            "justify_content": null,
            "justify_items": null,
            "left": null,
            "margin": null,
            "max_height": null,
            "max_width": null,
            "min_height": null,
            "min_width": null,
            "object_fit": null,
            "object_position": null,
            "order": null,
            "overflow": null,
            "overflow_x": null,
            "overflow_y": null,
            "padding": null,
            "right": null,
            "top": null,
            "visibility": null,
            "width": null
          }
        },
        "cd717aca83874988b0a3c37f01d71746": {
          "model_module": "@jupyter-widgets/controls",
          "model_name": "ProgressStyleModel",
          "model_module_version": "1.5.0",
          "state": {
            "_model_module": "@jupyter-widgets/controls",
            "_model_module_version": "1.5.0",
            "_model_name": "ProgressStyleModel",
            "_view_count": null,
            "_view_module": "@jupyter-widgets/base",
            "_view_module_version": "1.2.0",
            "_view_name": "StyleView",
            "bar_color": null,
            "description_width": ""
          }
        },
        "d81fb299a6a24ff9b920aad0a6e0bde1": {
          "model_module": "@jupyter-widgets/base",
          "model_name": "LayoutModel",
          "model_module_version": "1.2.0",
          "state": {
            "_model_module": "@jupyter-widgets/base",
            "_model_module_version": "1.2.0",
            "_model_name": "LayoutModel",
            "_view_count": null,
            "_view_module": "@jupyter-widgets/base",
            "_view_module_version": "1.2.0",
            "_view_name": "LayoutView",
            "align_content": null,
            "align_items": null,
            "align_self": null,
            "border": null,
            "bottom": null,
            "display": null,
            "flex": null,
            "flex_flow": null,
            "grid_area": null,
            "grid_auto_columns": null,
            "grid_auto_flow": null,
            "grid_auto_rows": null,
            "grid_column": null,
            "grid_gap": null,
            "grid_row": null,
            "grid_template_areas": null,
            "grid_template_columns": null,
            "grid_template_rows": null,
            "height": null,
            "justify_content": null,
            "justify_items": null,
            "left": null,
            "margin": null,
            "max_height": null,
            "max_width": null,
            "min_height": null,
            "min_width": null,
            "object_fit": null,
            "object_position": null,
            "order": null,
            "overflow": null,
            "overflow_x": null,
            "overflow_y": null,
            "padding": null,
            "right": null,
            "top": null,
            "visibility": null,
            "width": null
          }
        },
        "84c2be01d6a94dde851ee2a28abfe4f0": {
          "model_module": "@jupyter-widgets/controls",
          "model_name": "DescriptionStyleModel",
          "model_module_version": "1.5.0",
          "state": {
            "_model_module": "@jupyter-widgets/controls",
            "_model_module_version": "1.5.0",
            "_model_name": "DescriptionStyleModel",
            "_view_count": null,
            "_view_module": "@jupyter-widgets/base",
            "_view_module_version": "1.2.0",
            "_view_name": "StyleView",
            "description_width": ""
          }
        },
        "f345e954bc3c48e4ae8cc6a1f0ff0778": {
          "model_module": "@jupyter-widgets/controls",
          "model_name": "HBoxModel",
          "model_module_version": "1.5.0",
          "state": {
            "_dom_classes": [],
            "_model_module": "@jupyter-widgets/controls",
            "_model_module_version": "1.5.0",
            "_model_name": "HBoxModel",
            "_view_count": null,
            "_view_module": "@jupyter-widgets/controls",
            "_view_module_version": "1.5.0",
            "_view_name": "HBoxView",
            "box_style": "",
            "children": [
              "IPY_MODEL_02ae5fc5880141fe9c8aab7ae553bcea",
              "IPY_MODEL_5939bda9f92f48f89cf60222c48a8241",
              "IPY_MODEL_ad1bdca6430546309ddb74444893f2f8"
            ],
            "layout": "IPY_MODEL_da3fc13e718847e69cddc0f65da0351f"
          }
        },
        "02ae5fc5880141fe9c8aab7ae553bcea": {
          "model_module": "@jupyter-widgets/controls",
          "model_name": "HTMLModel",
          "model_module_version": "1.5.0",
          "state": {
            "_dom_classes": [],
            "_model_module": "@jupyter-widgets/controls",
            "_model_module_version": "1.5.0",
            "_model_name": "HTMLModel",
            "_view_count": null,
            "_view_module": "@jupyter-widgets/controls",
            "_view_module_version": "1.5.0",
            "_view_name": "HTMLView",
            "description": "",
            "description_tooltip": null,
            "layout": "IPY_MODEL_fddf84513a3b40798f3f3322f25cc9cc",
            "placeholder": "​",
            "style": "IPY_MODEL_584a7cb6f26843b5b47f647ed1db6492",
            "value": "100%"
          }
        },
        "5939bda9f92f48f89cf60222c48a8241": {
          "model_module": "@jupyter-widgets/controls",
          "model_name": "FloatProgressModel",
          "model_module_version": "1.5.0",
          "state": {
            "_dom_classes": [],
            "_model_module": "@jupyter-widgets/controls",
            "_model_module_version": "1.5.0",
            "_model_name": "FloatProgressModel",
            "_view_count": null,
            "_view_module": "@jupyter-widgets/controls",
            "_view_module_version": "1.5.0",
            "_view_name": "ProgressView",
            "bar_style": "success",
            "description": "",
            "description_tooltip": null,
            "layout": "IPY_MODEL_7d36537ec77f4da093c31c9b1265ac38",
            "max": 3,
            "min": 0,
            "orientation": "horizontal",
            "style": "IPY_MODEL_ad72c747cbdb4346b0b2423dfd6447d2",
            "value": 3
          }
        },
        "ad1bdca6430546309ddb74444893f2f8": {
          "model_module": "@jupyter-widgets/controls",
          "model_name": "HTMLModel",
          "model_module_version": "1.5.0",
          "state": {
            "_dom_classes": [],
            "_model_module": "@jupyter-widgets/controls",
            "_model_module_version": "1.5.0",
            "_model_name": "HTMLModel",
            "_view_count": null,
            "_view_module": "@jupyter-widgets/controls",
            "_view_module_version": "1.5.0",
            "_view_name": "HTMLView",
            "description": "",
            "description_tooltip": null,
            "layout": "IPY_MODEL_e3b9a226d4a54155b7301c4e3655edcb",
            "placeholder": "​",
            "style": "IPY_MODEL_818a97d55ec94e9eb0a88b8cd2e60c11",
            "value": " 3/3 [00:38&lt;00:00, 12.99s/it]"
          }
        },
        "da3fc13e718847e69cddc0f65da0351f": {
          "model_module": "@jupyter-widgets/base",
          "model_name": "LayoutModel",
          "model_module_version": "1.2.0",
          "state": {
            "_model_module": "@jupyter-widgets/base",
            "_model_module_version": "1.2.0",
            "_model_name": "LayoutModel",
            "_view_count": null,
            "_view_module": "@jupyter-widgets/base",
            "_view_module_version": "1.2.0",
            "_view_name": "LayoutView",
            "align_content": null,
            "align_items": null,
            "align_self": null,
            "border": null,
            "bottom": null,
            "display": null,
            "flex": null,
            "flex_flow": null,
            "grid_area": null,
            "grid_auto_columns": null,
            "grid_auto_flow": null,
            "grid_auto_rows": null,
            "grid_column": null,
            "grid_gap": null,
            "grid_row": null,
            "grid_template_areas": null,
            "grid_template_columns": null,
            "grid_template_rows": null,
            "height": null,
            "justify_content": null,
            "justify_items": null,
            "left": null,
            "margin": null,
            "max_height": null,
            "max_width": null,
            "min_height": null,
            "min_width": null,
            "object_fit": null,
            "object_position": null,
            "order": null,
            "overflow": null,
            "overflow_x": null,
            "overflow_y": null,
            "padding": null,
            "right": null,
            "top": null,
            "visibility": null,
            "width": null
          }
        },
        "fddf84513a3b40798f3f3322f25cc9cc": {
          "model_module": "@jupyter-widgets/base",
          "model_name": "LayoutModel",
          "model_module_version": "1.2.0",
          "state": {
            "_model_module": "@jupyter-widgets/base",
            "_model_module_version": "1.2.0",
            "_model_name": "LayoutModel",
            "_view_count": null,
            "_view_module": "@jupyter-widgets/base",
            "_view_module_version": "1.2.0",
            "_view_name": "LayoutView",
            "align_content": null,
            "align_items": null,
            "align_self": null,
            "border": null,
            "bottom": null,
            "display": null,
            "flex": null,
            "flex_flow": null,
            "grid_area": null,
            "grid_auto_columns": null,
            "grid_auto_flow": null,
            "grid_auto_rows": null,
            "grid_column": null,
            "grid_gap": null,
            "grid_row": null,
            "grid_template_areas": null,
            "grid_template_columns": null,
            "grid_template_rows": null,
            "height": null,
            "justify_content": null,
            "justify_items": null,
            "left": null,
            "margin": null,
            "max_height": null,
            "max_width": null,
            "min_height": null,
            "min_width": null,
            "object_fit": null,
            "object_position": null,
            "order": null,
            "overflow": null,
            "overflow_x": null,
            "overflow_y": null,
            "padding": null,
            "right": null,
            "top": null,
            "visibility": null,
            "width": null
          }
        },
        "584a7cb6f26843b5b47f647ed1db6492": {
          "model_module": "@jupyter-widgets/controls",
          "model_name": "DescriptionStyleModel",
          "model_module_version": "1.5.0",
          "state": {
            "_model_module": "@jupyter-widgets/controls",
            "_model_module_version": "1.5.0",
            "_model_name": "DescriptionStyleModel",
            "_view_count": null,
            "_view_module": "@jupyter-widgets/base",
            "_view_module_version": "1.2.0",
            "_view_name": "StyleView",
            "description_width": ""
          }
        },
        "7d36537ec77f4da093c31c9b1265ac38": {
          "model_module": "@jupyter-widgets/base",
          "model_name": "LayoutModel",
          "model_module_version": "1.2.0",
          "state": {
            "_model_module": "@jupyter-widgets/base",
            "_model_module_version": "1.2.0",
            "_model_name": "LayoutModel",
            "_view_count": null,
            "_view_module": "@jupyter-widgets/base",
            "_view_module_version": "1.2.0",
            "_view_name": "LayoutView",
            "align_content": null,
            "align_items": null,
            "align_self": null,
            "border": null,
            "bottom": null,
            "display": null,
            "flex": null,
            "flex_flow": null,
            "grid_area": null,
            "grid_auto_columns": null,
            "grid_auto_flow": null,
            "grid_auto_rows": null,
            "grid_column": null,
            "grid_gap": null,
            "grid_row": null,
            "grid_template_areas": null,
            "grid_template_columns": null,
            "grid_template_rows": null,
            "height": null,
            "justify_content": null,
            "justify_items": null,
            "left": null,
            "margin": null,
            "max_height": null,
            "max_width": null,
            "min_height": null,
            "min_width": null,
            "object_fit": null,
            "object_position": null,
            "order": null,
            "overflow": null,
            "overflow_x": null,
            "overflow_y": null,
            "padding": null,
            "right": null,
            "top": null,
            "visibility": null,
            "width": null
          }
        },
        "ad72c747cbdb4346b0b2423dfd6447d2": {
          "model_module": "@jupyter-widgets/controls",
          "model_name": "ProgressStyleModel",
          "model_module_version": "1.5.0",
          "state": {
            "_model_module": "@jupyter-widgets/controls",
            "_model_module_version": "1.5.0",
            "_model_name": "ProgressStyleModel",
            "_view_count": null,
            "_view_module": "@jupyter-widgets/base",
            "_view_module_version": "1.2.0",
            "_view_name": "StyleView",
            "bar_color": null,
            "description_width": ""
          }
        },
        "e3b9a226d4a54155b7301c4e3655edcb": {
          "model_module": "@jupyter-widgets/base",
          "model_name": "LayoutModel",
          "model_module_version": "1.2.0",
          "state": {
            "_model_module": "@jupyter-widgets/base",
            "_model_module_version": "1.2.0",
            "_model_name": "LayoutModel",
            "_view_count": null,
            "_view_module": "@jupyter-widgets/base",
            "_view_module_version": "1.2.0",
            "_view_name": "LayoutView",
            "align_content": null,
            "align_items": null,
            "align_self": null,
            "border": null,
            "bottom": null,
            "display": null,
            "flex": null,
            "flex_flow": null,
            "grid_area": null,
            "grid_auto_columns": null,
            "grid_auto_flow": null,
            "grid_auto_rows": null,
            "grid_column": null,
            "grid_gap": null,
            "grid_row": null,
            "grid_template_areas": null,
            "grid_template_columns": null,
            "grid_template_rows": null,
            "height": null,
            "justify_content": null,
            "justify_items": null,
            "left": null,
            "margin": null,
            "max_height": null,
            "max_width": null,
            "min_height": null,
            "min_width": null,
            "object_fit": null,
            "object_position": null,
            "order": null,
            "overflow": null,
            "overflow_x": null,
            "overflow_y": null,
            "padding": null,
            "right": null,
            "top": null,
            "visibility": null,
            "width": null
          }
        },
        "818a97d55ec94e9eb0a88b8cd2e60c11": {
          "model_module": "@jupyter-widgets/controls",
          "model_name": "DescriptionStyleModel",
          "model_module_version": "1.5.0",
          "state": {
            "_model_module": "@jupyter-widgets/controls",
            "_model_module_version": "1.5.0",
            "_model_name": "DescriptionStyleModel",
            "_view_count": null,
            "_view_module": "@jupyter-widgets/base",
            "_view_module_version": "1.2.0",
            "_view_name": "StyleView",
            "description_width": ""
          }
        },
        "bdcabac9ea4b4c7cb0ad935100b12359": {
          "model_module": "@jupyter-widgets/controls",
          "model_name": "HBoxModel",
          "model_module_version": "1.5.0",
          "state": {
            "_dom_classes": [],
            "_model_module": "@jupyter-widgets/controls",
            "_model_module_version": "1.5.0",
            "_model_name": "HBoxModel",
            "_view_count": null,
            "_view_module": "@jupyter-widgets/controls",
            "_view_module_version": "1.5.0",
            "_view_name": "HBoxView",
            "box_style": "",
            "children": [
              "IPY_MODEL_8fa1362d832a4721a7f083cd0f0237a0",
              "IPY_MODEL_74e1afa064e045028bdb734624a7cc67",
              "IPY_MODEL_534b1d3b0ff44b5997ce1089eef3368e"
            ],
            "layout": "IPY_MODEL_6a2e214112eb44fe936028e869deeb63"
          }
        },
        "8fa1362d832a4721a7f083cd0f0237a0": {
          "model_module": "@jupyter-widgets/controls",
          "model_name": "HTMLModel",
          "model_module_version": "1.5.0",
          "state": {
            "_dom_classes": [],
            "_model_module": "@jupyter-widgets/controls",
            "_model_module_version": "1.5.0",
            "_model_name": "HTMLModel",
            "_view_count": null,
            "_view_module": "@jupyter-widgets/controls",
            "_view_module_version": "1.5.0",
            "_view_name": "HTMLView",
            "description": "",
            "description_tooltip": null,
            "layout": "IPY_MODEL_d218771941984f99931e2199ae2ffcdf",
            "placeholder": "​",
            "style": "IPY_MODEL_e8baef8d91204af0b0619161c4c1a38e",
            "value": "100%"
          }
        },
        "74e1afa064e045028bdb734624a7cc67": {
          "model_module": "@jupyter-widgets/controls",
          "model_name": "FloatProgressModel",
          "model_module_version": "1.5.0",
          "state": {
            "_dom_classes": [],
            "_model_module": "@jupyter-widgets/controls",
            "_model_module_version": "1.5.0",
            "_model_name": "FloatProgressModel",
            "_view_count": null,
            "_view_module": "@jupyter-widgets/controls",
            "_view_module_version": "1.5.0",
            "_view_name": "ProgressView",
            "bar_style": "success",
            "description": "",
            "description_tooltip": null,
            "layout": "IPY_MODEL_1a25fb27ce9442b7a98d3b7c4225efac",
            "max": 313,
            "min": 0,
            "orientation": "horizontal",
            "style": "IPY_MODEL_808c67acd2bd457ea58f51088ffd651f",
            "value": 313
          }
        },
        "534b1d3b0ff44b5997ce1089eef3368e": {
          "model_module": "@jupyter-widgets/controls",
          "model_name": "HTMLModel",
          "model_module_version": "1.5.0",
          "state": {
            "_dom_classes": [],
            "_model_module": "@jupyter-widgets/controls",
            "_model_module_version": "1.5.0",
            "_model_name": "HTMLModel",
            "_view_count": null,
            "_view_module": "@jupyter-widgets/controls",
            "_view_module_version": "1.5.0",
            "_view_name": "HTMLView",
            "description": "",
            "description_tooltip": null,
            "layout": "IPY_MODEL_5b5c80a807b741af83dd2492b2220cdc",
            "placeholder": "​",
            "style": "IPY_MODEL_06e799e3ba6846ebb28e8b8de3e46237",
            "value": " 313/313 [00:01&lt;00:00, 208.42it/s]"
          }
        },
        "6a2e214112eb44fe936028e869deeb63": {
          "model_module": "@jupyter-widgets/base",
          "model_name": "LayoutModel",
          "model_module_version": "1.2.0",
          "state": {
            "_model_module": "@jupyter-widgets/base",
            "_model_module_version": "1.2.0",
            "_model_name": "LayoutModel",
            "_view_count": null,
            "_view_module": "@jupyter-widgets/base",
            "_view_module_version": "1.2.0",
            "_view_name": "LayoutView",
            "align_content": null,
            "align_items": null,
            "align_self": null,
            "border": null,
            "bottom": null,
            "display": null,
            "flex": null,
            "flex_flow": null,
            "grid_area": null,
            "grid_auto_columns": null,
            "grid_auto_flow": null,
            "grid_auto_rows": null,
            "grid_column": null,
            "grid_gap": null,
            "grid_row": null,
            "grid_template_areas": null,
            "grid_template_columns": null,
            "grid_template_rows": null,
            "height": null,
            "justify_content": null,
            "justify_items": null,
            "left": null,
            "margin": null,
            "max_height": null,
            "max_width": null,
            "min_height": null,
            "min_width": null,
            "object_fit": null,
            "object_position": null,
            "order": null,
            "overflow": null,
            "overflow_x": null,
            "overflow_y": null,
            "padding": null,
            "right": null,
            "top": null,
            "visibility": null,
            "width": null
          }
        },
        "d218771941984f99931e2199ae2ffcdf": {
          "model_module": "@jupyter-widgets/base",
          "model_name": "LayoutModel",
          "model_module_version": "1.2.0",
          "state": {
            "_model_module": "@jupyter-widgets/base",
            "_model_module_version": "1.2.0",
            "_model_name": "LayoutModel",
            "_view_count": null,
            "_view_module": "@jupyter-widgets/base",
            "_view_module_version": "1.2.0",
            "_view_name": "LayoutView",
            "align_content": null,
            "align_items": null,
            "align_self": null,
            "border": null,
            "bottom": null,
            "display": null,
            "flex": null,
            "flex_flow": null,
            "grid_area": null,
            "grid_auto_columns": null,
            "grid_auto_flow": null,
            "grid_auto_rows": null,
            "grid_column": null,
            "grid_gap": null,
            "grid_row": null,
            "grid_template_areas": null,
            "grid_template_columns": null,
            "grid_template_rows": null,
            "height": null,
            "justify_content": null,
            "justify_items": null,
            "left": null,
            "margin": null,
            "max_height": null,
            "max_width": null,
            "min_height": null,
            "min_width": null,
            "object_fit": null,
            "object_position": null,
            "order": null,
            "overflow": null,
            "overflow_x": null,
            "overflow_y": null,
            "padding": null,
            "right": null,
            "top": null,
            "visibility": null,
            "width": null
          }
        },
        "e8baef8d91204af0b0619161c4c1a38e": {
          "model_module": "@jupyter-widgets/controls",
          "model_name": "DescriptionStyleModel",
          "model_module_version": "1.5.0",
          "state": {
            "_model_module": "@jupyter-widgets/controls",
            "_model_module_version": "1.5.0",
            "_model_name": "DescriptionStyleModel",
            "_view_count": null,
            "_view_module": "@jupyter-widgets/base",
            "_view_module_version": "1.2.0",
            "_view_name": "StyleView",
            "description_width": ""
          }
        },
        "1a25fb27ce9442b7a98d3b7c4225efac": {
          "model_module": "@jupyter-widgets/base",
          "model_name": "LayoutModel",
          "model_module_version": "1.2.0",
          "state": {
            "_model_module": "@jupyter-widgets/base",
            "_model_module_version": "1.2.0",
            "_model_name": "LayoutModel",
            "_view_count": null,
            "_view_module": "@jupyter-widgets/base",
            "_view_module_version": "1.2.0",
            "_view_name": "LayoutView",
            "align_content": null,
            "align_items": null,
            "align_self": null,
            "border": null,
            "bottom": null,
            "display": null,
            "flex": null,
            "flex_flow": null,
            "grid_area": null,
            "grid_auto_columns": null,
            "grid_auto_flow": null,
            "grid_auto_rows": null,
            "grid_column": null,
            "grid_gap": null,
            "grid_row": null,
            "grid_template_areas": null,
            "grid_template_columns": null,
            "grid_template_rows": null,
            "height": null,
            "justify_content": null,
            "justify_items": null,
            "left": null,
            "margin": null,
            "max_height": null,
            "max_width": null,
            "min_height": null,
            "min_width": null,
            "object_fit": null,
            "object_position": null,
            "order": null,
            "overflow": null,
            "overflow_x": null,
            "overflow_y": null,
            "padding": null,
            "right": null,
            "top": null,
            "visibility": null,
            "width": null
          }
        },
        "808c67acd2bd457ea58f51088ffd651f": {
          "model_module": "@jupyter-widgets/controls",
          "model_name": "ProgressStyleModel",
          "model_module_version": "1.5.0",
          "state": {
            "_model_module": "@jupyter-widgets/controls",
            "_model_module_version": "1.5.0",
            "_model_name": "ProgressStyleModel",
            "_view_count": null,
            "_view_module": "@jupyter-widgets/base",
            "_view_module_version": "1.2.0",
            "_view_name": "StyleView",
            "bar_color": null,
            "description_width": ""
          }
        },
        "5b5c80a807b741af83dd2492b2220cdc": {
          "model_module": "@jupyter-widgets/base",
          "model_name": "LayoutModel",
          "model_module_version": "1.2.0",
          "state": {
            "_model_module": "@jupyter-widgets/base",
            "_model_module_version": "1.2.0",
            "_model_name": "LayoutModel",
            "_view_count": null,
            "_view_module": "@jupyter-widgets/base",
            "_view_module_version": "1.2.0",
            "_view_name": "LayoutView",
            "align_content": null,
            "align_items": null,
            "align_self": null,
            "border": null,
            "bottom": null,
            "display": null,
            "flex": null,
            "flex_flow": null,
            "grid_area": null,
            "grid_auto_columns": null,
            "grid_auto_flow": null,
            "grid_auto_rows": null,
            "grid_column": null,
            "grid_gap": null,
            "grid_row": null,
            "grid_template_areas": null,
            "grid_template_columns": null,
            "grid_template_rows": null,
            "height": null,
            "justify_content": null,
            "justify_items": null,
            "left": null,
            "margin": null,
            "max_height": null,
            "max_width": null,
            "min_height": null,
            "min_width": null,
            "object_fit": null,
            "object_position": null,
            "order": null,
            "overflow": null,
            "overflow_x": null,
            "overflow_y": null,
            "padding": null,
            "right": null,
            "top": null,
            "visibility": null,
            "width": null
          }
        },
        "06e799e3ba6846ebb28e8b8de3e46237": {
          "model_module": "@jupyter-widgets/controls",
          "model_name": "DescriptionStyleModel",
          "model_module_version": "1.5.0",
          "state": {
            "_model_module": "@jupyter-widgets/controls",
            "_model_module_version": "1.5.0",
            "_model_name": "DescriptionStyleModel",
            "_view_count": null,
            "_view_module": "@jupyter-widgets/base",
            "_view_module_version": "1.2.0",
            "_view_name": "StyleView",
            "description_width": ""
          }
        }
      }
    },
    "accelerator": "GPU"
  },
  "nbformat": 4,
  "nbformat_minor": 0
}