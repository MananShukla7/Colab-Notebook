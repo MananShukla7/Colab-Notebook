{
  "cells": [
    {
      "cell_type": "markdown",
      "metadata": {
        "id": "view-in-github",
        "colab_type": "text"
      },
      "source": [
        "<a href=\"https://colab.research.google.com/github/MananShukla7/Colab-Notebook/blob/main/03_Neural_Network_Classification_Pytorch.ipynb\" target=\"_parent\"><img src=\"https://colab.research.google.com/assets/colab-badge.svg\" alt=\"Open In Colab\"/></a>"
      ]
    },
    {
      "cell_type": "markdown",
      "source": [
        "# 03. NN Classification with pytorch\n",
        "\n",
        "Classification is a problem wgere something is one thing or another(there can be\n",
        "multiple things as options!)"
      ],
      "metadata": {
        "id": "VuzS7siwLg_X"
      }
    },
    {
      "cell_type": "markdown",
      "source": [
        "##1. Data (ml is nothing without data mate!!)\n",
        "\n",
        "Make classification data and get it ready"
      ],
      "metadata": {
        "id": "EbVlP73FMI4e"
      }
    },
    {
      "cell_type": "code",
      "source": [
        "import sklearn\n",
        "import pandas as pd\n",
        "import torch\n",
        "from torch import nn\n",
        "import numpy as np\n",
        "import matplotlib.pyplot as plt"
      ],
      "metadata": {
        "id": "j8X2w9xdMbsx"
      },
      "execution_count": 2,
      "outputs": []
    },
    {
      "cell_type": "code",
      "source": [
        "from sklearn.datasets import make_circles\n",
        "\n",
        "#Make 1000 samples\n",
        "n_samples=1000\n",
        "\n",
        "#Create circles\n",
        "X,y=make_circles(n_samples,\n",
        "                noise=0.03,random_state=42)"
      ],
      "metadata": {
        "id": "_L1nLHLraavI"
      },
      "execution_count": 3,
      "outputs": []
    },
    {
      "cell_type": "code",
      "source": [
        "len(X),len(y)"
      ],
      "metadata": {
        "id": "8fRqxy6maZQg",
        "outputId": "e339cb51-d008-44bc-c173-b5485afd06c9",
        "colab": {
          "base_uri": "https://localhost:8080/"
        }
      },
      "execution_count": 4,
      "outputs": [
        {
          "output_type": "execute_result",
          "data": {
            "text/plain": [
              "(1000, 1000)"
            ]
          },
          "metadata": {},
          "execution_count": 4
        }
      ]
    },
    {
      "cell_type": "code",
      "source": [
        "print(f\"First 5 samples of X:\\n {X[:5]}\")\n",
        "print(f\"First 5 samples of y:\\n {y[:5]}\")"
      ],
      "metadata": {
        "id": "g73ThJVta2C6",
        "outputId": "98a2ecc6-f3d0-4dca-9ae2-9023596e7cdf",
        "colab": {
          "base_uri": "https://localhost:8080/"
        }
      },
      "execution_count": 5,
      "outputs": [
        {
          "output_type": "stream",
          "name": "stdout",
          "text": [
            "First 5 samples of X:\n",
            " [[ 0.75424625  0.23148074]\n",
            " [-0.75615888  0.15325888]\n",
            " [-0.81539193  0.17328203]\n",
            " [-0.39373073  0.69288277]\n",
            " [ 0.44220765 -0.89672343]]\n",
            "First 5 samples of y:\n",
            " [1 1 1 1 0]\n"
          ]
        }
      ]
    },
    {
      "cell_type": "code",
      "source": [
        "#Make DataFrame of circle data \n",
        "circles =pd.DataFrame({\"X1\":X[:,0],\"X2\":X[:,1],\"label\":y})\n",
        "circles.head(10)"
      ],
      "metadata": {
        "id": "hHZYRS4PbMyo",
        "outputId": "ea63f4ab-f65c-4b74-9d23-551d8c1665d7",
        "colab": {
          "base_uri": "https://localhost:8080/",
          "height": 363
        }
      },
      "execution_count": 6,
      "outputs": [
        {
          "output_type": "execute_result",
          "data": {
            "text/plain": [
              "         X1        X2  label\n",
              "0  0.754246  0.231481      1\n",
              "1 -0.756159  0.153259      1\n",
              "2 -0.815392  0.173282      1\n",
              "3 -0.393731  0.692883      1\n",
              "4  0.442208 -0.896723      0\n",
              "5 -0.479646  0.676435      1\n",
              "6 -0.013648  0.803349      1\n",
              "7  0.771513  0.147760      1\n",
              "8 -0.169322 -0.793456      1\n",
              "9 -0.121486  1.021509      0"
            ],
            "text/html": [
              "\n",
              "  <div id=\"df-b1169862-e4d5-4a75-978b-d244eb77d800\">\n",
              "    <div class=\"colab-df-container\">\n",
              "      <div>\n",
              "<style scoped>\n",
              "    .dataframe tbody tr th:only-of-type {\n",
              "        vertical-align: middle;\n",
              "    }\n",
              "\n",
              "    .dataframe tbody tr th {\n",
              "        vertical-align: top;\n",
              "    }\n",
              "\n",
              "    .dataframe thead th {\n",
              "        text-align: right;\n",
              "    }\n",
              "</style>\n",
              "<table border=\"1\" class=\"dataframe\">\n",
              "  <thead>\n",
              "    <tr style=\"text-align: right;\">\n",
              "      <th></th>\n",
              "      <th>X1</th>\n",
              "      <th>X2</th>\n",
              "      <th>label</th>\n",
              "    </tr>\n",
              "  </thead>\n",
              "  <tbody>\n",
              "    <tr>\n",
              "      <th>0</th>\n",
              "      <td>0.754246</td>\n",
              "      <td>0.231481</td>\n",
              "      <td>1</td>\n",
              "    </tr>\n",
              "    <tr>\n",
              "      <th>1</th>\n",
              "      <td>-0.756159</td>\n",
              "      <td>0.153259</td>\n",
              "      <td>1</td>\n",
              "    </tr>\n",
              "    <tr>\n",
              "      <th>2</th>\n",
              "      <td>-0.815392</td>\n",
              "      <td>0.173282</td>\n",
              "      <td>1</td>\n",
              "    </tr>\n",
              "    <tr>\n",
              "      <th>3</th>\n",
              "      <td>-0.393731</td>\n",
              "      <td>0.692883</td>\n",
              "      <td>1</td>\n",
              "    </tr>\n",
              "    <tr>\n",
              "      <th>4</th>\n",
              "      <td>0.442208</td>\n",
              "      <td>-0.896723</td>\n",
              "      <td>0</td>\n",
              "    </tr>\n",
              "    <tr>\n",
              "      <th>5</th>\n",
              "      <td>-0.479646</td>\n",
              "      <td>0.676435</td>\n",
              "      <td>1</td>\n",
              "    </tr>\n",
              "    <tr>\n",
              "      <th>6</th>\n",
              "      <td>-0.013648</td>\n",
              "      <td>0.803349</td>\n",
              "      <td>1</td>\n",
              "    </tr>\n",
              "    <tr>\n",
              "      <th>7</th>\n",
              "      <td>0.771513</td>\n",
              "      <td>0.147760</td>\n",
              "      <td>1</td>\n",
              "    </tr>\n",
              "    <tr>\n",
              "      <th>8</th>\n",
              "      <td>-0.169322</td>\n",
              "      <td>-0.793456</td>\n",
              "      <td>1</td>\n",
              "    </tr>\n",
              "    <tr>\n",
              "      <th>9</th>\n",
              "      <td>-0.121486</td>\n",
              "      <td>1.021509</td>\n",
              "      <td>0</td>\n",
              "    </tr>\n",
              "  </tbody>\n",
              "</table>\n",
              "</div>\n",
              "      <button class=\"colab-df-convert\" onclick=\"convertToInteractive('df-b1169862-e4d5-4a75-978b-d244eb77d800')\"\n",
              "              title=\"Convert this dataframe to an interactive table.\"\n",
              "              style=\"display:none;\">\n",
              "        \n",
              "  <svg xmlns=\"http://www.w3.org/2000/svg\" height=\"24px\"viewBox=\"0 0 24 24\"\n",
              "       width=\"24px\">\n",
              "    <path d=\"M0 0h24v24H0V0z\" fill=\"none\"/>\n",
              "    <path d=\"M18.56 5.44l.94 2.06.94-2.06 2.06-.94-2.06-.94-.94-2.06-.94 2.06-2.06.94zm-11 1L8.5 8.5l.94-2.06 2.06-.94-2.06-.94L8.5 2.5l-.94 2.06-2.06.94zm10 10l.94 2.06.94-2.06 2.06-.94-2.06-.94-.94-2.06-.94 2.06-2.06.94z\"/><path d=\"M17.41 7.96l-1.37-1.37c-.4-.4-.92-.59-1.43-.59-.52 0-1.04.2-1.43.59L10.3 9.45l-7.72 7.72c-.78.78-.78 2.05 0 2.83L4 21.41c.39.39.9.59 1.41.59.51 0 1.02-.2 1.41-.59l7.78-7.78 2.81-2.81c.8-.78.8-2.07 0-2.86zM5.41 20L4 18.59l7.72-7.72 1.47 1.35L5.41 20z\"/>\n",
              "  </svg>\n",
              "      </button>\n",
              "      \n",
              "  <style>\n",
              "    .colab-df-container {\n",
              "      display:flex;\n",
              "      flex-wrap:wrap;\n",
              "      gap: 12px;\n",
              "    }\n",
              "\n",
              "    .colab-df-convert {\n",
              "      background-color: #E8F0FE;\n",
              "      border: none;\n",
              "      border-radius: 50%;\n",
              "      cursor: pointer;\n",
              "      display: none;\n",
              "      fill: #1967D2;\n",
              "      height: 32px;\n",
              "      padding: 0 0 0 0;\n",
              "      width: 32px;\n",
              "    }\n",
              "\n",
              "    .colab-df-convert:hover {\n",
              "      background-color: #E2EBFA;\n",
              "      box-shadow: 0px 1px 2px rgba(60, 64, 67, 0.3), 0px 1px 3px 1px rgba(60, 64, 67, 0.15);\n",
              "      fill: #174EA6;\n",
              "    }\n",
              "\n",
              "    [theme=dark] .colab-df-convert {\n",
              "      background-color: #3B4455;\n",
              "      fill: #D2E3FC;\n",
              "    }\n",
              "\n",
              "    [theme=dark] .colab-df-convert:hover {\n",
              "      background-color: #434B5C;\n",
              "      box-shadow: 0px 1px 3px 1px rgba(0, 0, 0, 0.15);\n",
              "      filter: drop-shadow(0px 1px 2px rgba(0, 0, 0, 0.3));\n",
              "      fill: #FFFFFF;\n",
              "    }\n",
              "  </style>\n",
              "\n",
              "      <script>\n",
              "        const buttonEl =\n",
              "          document.querySelector('#df-b1169862-e4d5-4a75-978b-d244eb77d800 button.colab-df-convert');\n",
              "        buttonEl.style.display =\n",
              "          google.colab.kernel.accessAllowed ? 'block' : 'none';\n",
              "\n",
              "        async function convertToInteractive(key) {\n",
              "          const element = document.querySelector('#df-b1169862-e4d5-4a75-978b-d244eb77d800');\n",
              "          const dataTable =\n",
              "            await google.colab.kernel.invokeFunction('convertToInteractive',\n",
              "                                                     [key], {});\n",
              "          if (!dataTable) return;\n",
              "\n",
              "          const docLinkHtml = 'Like what you see? Visit the ' +\n",
              "            '<a target=\"_blank\" href=https://colab.research.google.com/notebooks/data_table.ipynb>data table notebook</a>'\n",
              "            + ' to learn more about interactive tables.';\n",
              "          element.innerHTML = '';\n",
              "          dataTable['output_type'] = 'display_data';\n",
              "          await google.colab.output.renderOutput(dataTable, element);\n",
              "          const docLink = document.createElement('div');\n",
              "          docLink.innerHTML = docLinkHtml;\n",
              "          element.appendChild(docLink);\n",
              "        }\n",
              "      </script>\n",
              "    </div>\n",
              "  </div>\n",
              "  "
            ]
          },
          "metadata": {},
          "execution_count": 6
        }
      ]
    },
    {
      "cell_type": "code",
      "source": [
        "import matplotlib.pyplot as plt\n",
        "plt.scatter(x=X[:,0],\n",
        "             y=X[:,1],\n",
        "             c=y,\n",
        "             cmap=plt.cm.RdYlBu);"
      ],
      "metadata": {
        "id": "yPgjy1JCb6zX",
        "outputId": "697c3ca1-3bc3-4e86-956a-aae89f12a3ce",
        "colab": {
          "base_uri": "https://localhost:8080/",
          "height": 265
        }
      },
      "execution_count": 7,
      "outputs": [
        {
          "output_type": "display_data",
          "data": {
            "text/plain": [
              "<Figure size 432x288 with 1 Axes>"
            ],
            "image/png": "[encoded data removed]"
          },
          "metadata": {
            "needs_background": "light"
          }
        }
      ]
    },
    {
      "cell_type": "markdown",
      "source": [
        "Note: the data we are working with is also reffered sas toy dataset,a small data\n",
        "enough to experiment and scalable enough to practice the fundamentals"
      ],
      "metadata": {
        "id": "qoGWGUHFdsup"
      }
    },
    {
      "cell_type": "markdown",
      "source": [
        "### 1.1 Check input and output shapes\n"
      ],
      "metadata": {
        "id": "pnh30LNDeBbs"
      }
    },
    {
      "cell_type": "code",
      "source": [
        "X.shape,y.shape"
      ],
      "metadata": {
        "id": "_gjWhKAifXjL",
        "outputId": "e36f8fa6-dec8-4f4f-c87c-003f72e82176",
        "colab": {
          "base_uri": "https://localhost:8080/"
        }
      },
      "execution_count": 8,
      "outputs": [
        {
          "output_type": "execute_result",
          "data": {
            "text/plain": [
              "((1000, 2), (1000,))"
            ]
          },
          "metadata": {},
          "execution_count": 8
        }
      ]
    },
    {
      "cell_type": "code",
      "source": [
        "#View the features of labels\n",
        "X_sample=X[0]\n",
        "y_sample=y[0]\n",
        "print(f\"Values of one samples of X:{X_sample} and same for y:{y_sample}\")\n",
        "print(f\"Shape of one samples of X:{X_sample.shape} and same for y:{y_sample.shape}\")"
      ],
      "metadata": {
        "id": "LLqHKW5pfZjw",
        "outputId": "c42d677c-c150-4a5b-afff-d690e21ba641",
        "colab": {
          "base_uri": "https://localhost:8080/"
        }
      },
      "execution_count": 9,
      "outputs": [
        {
          "output_type": "stream",
          "name": "stdout",
          "text": [
            "Values of one samples of X:[0.75424625 0.23148074] and same for y:1\n",
            "Shape of one samples of X:(2,) and same for y:()\n"
          ]
        }
      ]
    },
    {
      "cell_type": "markdown",
      "source": [
        "### 1.2 get data into tensors and create train and test split"
      ],
      "metadata": {
        "id": "4ppwmEBMgCJm"
      }
    },
    {
      "cell_type": "code",
      "source": [
        "#turn data into tensors\n",
        "##Numpy has default dtype of float 64 but tensors have float32 and that may cause\n",
        "##probs in the future so we use type(torch.float) for conversion\n",
        "X=torch.from_numpy(X).type(torch.float)\n",
        "y=torch.from_numpy(y).type(torch.float)"
      ],
      "metadata": {
        "id": "x45uYEv7gHXB"
      },
      "execution_count": 10,
      "outputs": []
    },
    {
      "cell_type": "code",
      "source": [
        "X[:5],y[:5],X.dtype,y.dtype"
      ],
      "metadata": {
        "id": "VIbt2ez_g6C0",
        "outputId": "fc9c4de0-453d-4c6e-9568-8a1d024fa18f",
        "colab": {
          "base_uri": "https://localhost:8080/"
        }
      },
      "execution_count": 11,
      "outputs": [
        {
          "output_type": "execute_result",
          "data": {
            "text/plain": [
              "(tensor([[ 0.7542,  0.2315],\n",
              "         [-0.7562,  0.1533],\n",
              "         [-0.8154,  0.1733],\n",
              "         [-0.3937,  0.6929],\n",
              "         [ 0.4422, -0.8967]]),\n",
              " tensor([1., 1., 1., 1., 0.]),\n",
              " torch.float32,\n",
              " torch.float32)"
            ]
          },
          "metadata": {},
          "execution_count": 11
        }
      ]
    },
    {
      "cell_type": "code",
      "source": [
        "#Split data into training and test sets\n",
        "from sklearn.model_selection import train_test_split\n",
        "\n",
        "X_train,X_test,y_train,y_test=train_test_split(X,y,\n",
        "                                               train_size=0.8,\n",
        "                                               random_state=42)"
      ],
      "metadata": {
        "id": "LYDV52y1hA2M"
      },
      "execution_count": 12,
      "outputs": []
    },
    {
      "cell_type": "code",
      "source": [
        "len(X_train),len(X_test),len(y_train),len(y_test)"
      ],
      "metadata": {
        "id": "WvxUlEqHiCkp",
        "outputId": "9e8ea81e-c95a-4c3f-d692-1ee2fd2f1127",
        "colab": {
          "base_uri": "https://localhost:8080/"
        }
      },
      "execution_count": 13,
      "outputs": [
        {
          "output_type": "execute_result",
          "data": {
            "text/plain": [
              "(800, 200, 800, 200)"
            ]
          },
          "metadata": {},
          "execution_count": 13
        }
      ]
    },
    {
      "cell_type": "markdown",
      "source": [
        "##2. Building a model!\n",
        "\n",
        "Lets build a model to classify blue and red dots\n",
        "\n",
        "To do so we want to:\n",
        "1. Setup device agnostic so it can run on accelerator if theres one\n",
        "2. Construct a model(by subclassing nn.Module)\n",
        "3. Define a loss function anf optimizer\n",
        "4. Create train and test loop"
      ],
      "metadata": {
        "id": "yYouA1eniOwn"
      }
    },
    {
      "cell_type": "code",
      "source": [
        "#Device agnostic\n",
        "device='cuda' if torch.cuda.is_available() else 'cpu'\n",
        "device"
      ],
      "metadata": {
        "id": "swHozk38i65e",
        "outputId": "8db7e013-258e-4728-b182-55020ea7728d",
        "colab": {
          "base_uri": "https://localhost:8080/",
          "height": 36
        }
      },
      "execution_count": 14,
      "outputs": [
        {
          "output_type": "execute_result",
          "data": {
            "text/plain": [
              "'cpu'"
            ],
            "application/vnd.google.colaboratory.intrinsic+json": {
              "type": "string"
            }
          },
          "metadata": {},
          "execution_count": 14
        }
      ]
    },
    {
      "cell_type": "markdown",
      "source": [
        "Now we've setup device agnostic code ,lets creatw model:\n",
        "\n",
        "1. Subclass `nn.module`(almost all models are in this module)\n",
        "2. Create 2 `nn.linear()` layers that are capable of handling the shapes of\n",
        "our data\n",
        "3. define a `forward()` method that outlines the forward pass of the model\n",
        "4. Instantiate the model and send it to target `device`!!"
      ],
      "metadata": {
        "id": "RIni056djTDi"
      }
    },
    {
      "cell_type": "code",
      "source": [
        "#1. construct a model that subclasses nn.Module\n",
        "class CircleModelV0(nn.Module):\n",
        "  def __init__(self):\n",
        "    super().__init__()\n",
        "    #2. Create 2 nn.Linear layers capable of handling shapes of our data\n",
        "    self.layer_1=nn.Linear(in_features=2,out_features=5)#takes in 2 features and upscale it to 5!\n",
        "    self.layer_2=nn.Linear(in_features=5,out_features=1)#takes in 5 features and ops 1 features (same shape as y)\n",
        "    # self.two_layers=nn.Sequential(\n",
        "    # nn.Linear(in_features=2,out_features=5),\n",
        "    # nn.Linear(in_features=5,out_features=1))\n",
        "\n",
        "\n",
        "  #3. Define a forwaard method that outlines the f/w pass\n",
        "  def forward(self,x):\n",
        "    return self.layer_2(self.layer_1(x)) #x -> l1 -> l2 -> o/p\n",
        "    # return self.two_layers(x)\n",
        "#4. Instantiate an instance of our model class and send it to the target device\n",
        "model_0=CircleModelV0().to(device)\n",
        "model_0"
      ],
      "metadata": {
        "id": "tKiN9v2lkDt0",
        "outputId": "2b77b0db-d721-488a-d612-d7f50a83f5b7",
        "colab": {
          "base_uri": "https://localhost:8080/"
        }
      },
      "execution_count": 15,
      "outputs": [
        {
          "output_type": "execute_result",
          "data": {
            "text/plain": [
              "CircleModelV0(\n",
              "  (layer_1): Linear(in_features=2, out_features=5, bias=True)\n",
              "  (layer_2): Linear(in_features=5, out_features=1, bias=True)\n",
              ")"
            ]
          },
          "metadata": {},
          "execution_count": 15
        }
      ]
    },
    {
      "cell_type": "code",
      "source": [
        "next(model_0.parameters()).device"
      ],
      "metadata": {
        "id": "pmaGSAbdmg5t",
        "outputId": "d244f7e8-fcfe-450d-aa17-0d75175fe7ac",
        "colab": {
          "base_uri": "https://localhost:8080/"
        }
      },
      "execution_count": 16,
      "outputs": [
        {
          "output_type": "execute_result",
          "data": {
            "text/plain": [
              "device(type='cpu')"
            ]
          },
          "metadata": {},
          "execution_count": 16
        }
      ]
    },
    {
      "cell_type": "code",
      "source": [
        "#lets replicate the model above using nn.sequential\n",
        "model_0=nn.Sequential(\n",
        "    nn.Linear(in_features=2,out_features=5),\n",
        "    # nn.ReLU(),\n",
        "    nn.ReLU(),\n",
        "    nn.Linear(in_features=5,out_features=1)\n",
        ").to(device)\n",
        "\n",
        "model_0.to(device)"
      ],
      "metadata": {
        "id": "KUL86Z3kzmZv",
        "outputId": "9299b1bb-6e7e-4929-fdb1-8d19212a7144",
        "colab": {
          "base_uri": "https://localhost:8080/"
        }
      },
      "execution_count": 17,
      "outputs": [
        {
          "output_type": "execute_result",
          "data": {
            "text/plain": [
              "Sequential(\n",
              "  (0): Linear(in_features=2, out_features=5, bias=True)\n",
              "  (1): ReLU()\n",
              "  (2): Linear(in_features=5, out_features=1, bias=True)\n",
              ")"
            ]
          },
          "metadata": {},
          "execution_count": 17
        }
      ]
    },
    {
      "cell_type": "code",
      "source": [
        "with torch.inference_mode():\n",
        "  untrained_preds=model_0(X_test.to(device))\n",
        "  print(f\"Length of predictions: {len(untrained_preds)}, Shape: {untrained_preds.shape}\")\n",
        "  print(f\"First 10 preds:\\n {torch.round(untrained_preds[:10])}\")\n",
        "  print(f\"First 10 preds:\\n {y_test[:10]}\")"
      ],
      "metadata": {
        "id": "rRdnrJsy1MWz",
        "outputId": "c9fe16b3-1a5e-4d29-ff2e-545b9f3149b4",
        "colab": {
          "base_uri": "https://localhost:8080/"
        }
      },
      "execution_count": 18,
      "outputs": [
        {
          "output_type": "stream",
          "name": "stdout",
          "text": [
            "Length of predictions: 200, Shape: torch.Size([200, 1])\n",
            "First 10 preds:\n",
            " tensor([[-0.],\n",
            "        [-0.],\n",
            "        [-0.],\n",
            "        [-0.],\n",
            "        [-0.],\n",
            "        [-0.],\n",
            "        [-0.],\n",
            "        [-0.],\n",
            "        [-0.],\n",
            "        [-0.]])\n",
            "First 10 preds:\n",
            " tensor([1., 0., 1., 0., 1., 1., 0., 0., 1., 0.])\n"
          ]
        }
      ]
    },
    {
      "cell_type": "markdown",
      "source": [
        "###2.1 Setup loss fn and optimizer\n",
        "\n",
        "which loss fn and opti should we use??\n",
        "for ex\n",
        "- regression we want MAE or MSE\n",
        "- for classification we want BCE loss or CE loss\n",
        "\n",
        "As a reminder the lossfn measures how wrong our models preds are!!\n",
        "\n",
        "###what is a logits layer in deep learning:\n",
        "* Its basically a layer that feeds in to softmax.the o/p of softmax layer is probabilities and\n",
        "the input is logits\n",
        "\n",
        "*  Logits are the values produced b/w -inf to +inf and they are converted into probabilities of \n",
        "0 to 1 by softmax layer\n",
        "\n",
        "and for optimizers 2 common are sgd and adam!"
      ],
      "metadata": {
        "id": "2TE7wFbs3LvF"
      }
    },
    {
      "cell_type": "code",
      "source": [
        "#Setup the loss function\n",
        "#Now loss_fn=nn.BCELoss() exists but it needs the inp data to go through the sigmoid activtn fn \n",
        "#prior to the input to BCELoss!\n",
        "loss_fn=nn.BCEWithLogitsLoss()#withLogitsLoss-sigmoid fun built in(more stable than w/o logitloss)\n",
        "\n",
        "optimizer=torch.optim.SGD(params=model_0.parameters(),lr=0.1)"
      ],
      "metadata": {
        "id": "cPH6u4anqKzH"
      },
      "execution_count": 19,
      "outputs": []
    },
    {
      "cell_type": "code",
      "source": [
        "model_0.state_dict()"
      ],
      "metadata": {
        "id": "hfvrPVEU7ncs",
        "outputId": "e888e066-a9bd-4d0f-b96b-090bc64645a5",
        "colab": {
          "base_uri": "https://localhost:8080/"
        }
      },
      "execution_count": 20,
      "outputs": [
        {
          "output_type": "execute_result",
          "data": {
            "text/plain": [
              "OrderedDict([('0.weight', tensor([[-0.0665,  0.0418],\n",
              "                      [-0.1237,  0.4329],\n",
              "                      [ 0.6558, -0.2662],\n",
              "                      [ 0.6382, -0.0512],\n",
              "                      [ 0.2629,  0.6441]])),\n",
              "             ('0.bias', tensor([ 0.4830,  0.5680,  0.4167, -0.4669, -0.1010])),\n",
              "             ('2.weight',\n",
              "              tensor([[ 0.4121, -0.0528, -0.1672,  0.2061,  0.1729]])),\n",
              "             ('2.bias', tensor([-0.3028]))])"
            ]
          },
          "metadata": {},
          "execution_count": 20
        }
      ]
    },
    {
      "cell_type": "code",
      "source": [
        "#Calc the accuracy=out of 100 examples, what percent does our model gets right?\n",
        "\n",
        "def accuracy(y_true,y_pred):\n",
        "  correct=torch.eq(y_true,y_pred).sum().item()\n",
        "  acc=(correct/len(y_pred))*100\n",
        "  return acc"
      ],
      "metadata": {
        "id": "U2_71MRkrYI1"
      },
      "execution_count": 21,
      "outputs": []
    },
    {
      "cell_type": "markdown",
      "source": [
        "### 3. Training a model\n",
        "To train our model we are going to need the training loop with following steps:\n",
        "\n",
        "1. Forward pass\n",
        "2. Calc the loss\n",
        "3. Optimize Zero grad\n",
        "4. Loss Backward(BackProp)\n",
        "5. Optimizer step step step!!! "
      ],
      "metadata": {
        "id": "4hOIjVn9r1qr"
      }
    },
    {
      "cell_type": "markdown",
      "source": [
        "### 3.1 Going from raw logits-> pred probabilities-> prediction labels\n",
        "Our model o/ps are going to be raw **Logits** for us!\n",
        "We can covert this **logits** into pred probabilities by passing them to some kind of \n",
        "activation fun(eg sigmoid for bianry classificstion and softmax for multiclass classification).\n",
        "\n",
        "Then we can converet our model's prediction probabilities to prediction labels by either rounding them or taking the argmax()"
      ],
      "metadata": {
        "id": "a-BnUIXPsxGo"
      }
    },
    {
      "cell_type": "code",
      "source": [
        "#view the first 5 ops on test data\n",
        "model_0.eval()\n",
        "with torch.inference_mode():\n",
        "  y_logits=model_0(X_test.to(device))[:5]\n",
        "y_logits"
      ],
      "metadata": {
        "id": "Mfv5XHX-uEPX",
        "outputId": "a07cf99d-a5e6-48f5-d3a7-99a65cbd936e",
        "colab": {
          "base_uri": "https://localhost:8080/"
        }
      },
      "execution_count": 22,
      "outputs": [
        {
          "output_type": "execute_result",
          "data": {
            "text/plain": [
              "tensor([[-0.0882],\n",
              "        [-0.0779],\n",
              "        [-0.1239],\n",
              "        [-0.0560],\n",
              "        [-0.2849]])"
            ]
          },
          "metadata": {},
          "execution_count": 22
        }
      ]
    },
    {
      "cell_type": "code",
      "source": [
        "y_test[:5]"
      ],
      "metadata": {
        "id": "HMhBT3Amu3z3",
        "outputId": "89055f2e-a3c4-461d-d62b-c0fcb2816306",
        "colab": {
          "base_uri": "https://localhost:8080/"
        }
      },
      "execution_count": 23,
      "outputs": [
        {
          "output_type": "execute_result",
          "data": {
            "text/plain": [
              "tensor([1., 0., 1., 0., 1.])"
            ]
          },
          "metadata": {},
          "execution_count": 23
        }
      ]
    },
    {
      "cell_type": "code",
      "source": [
        "#Use sigmoid activation fun on our logits to turn them into pred probabilities\n",
        "y_pred_probs=torch.sigmoid(y_logits)\n",
        "y_pred_probs"
      ],
      "metadata": {
        "id": "i8sF6LXvu7it",
        "outputId": "2479dfb8-1bfc-4edb-b9a6-e264aa5fadfb",
        "colab": {
          "base_uri": "https://localhost:8080/"
        }
      },
      "execution_count": 24,
      "outputs": [
        {
          "output_type": "execute_result",
          "data": {
            "text/plain": [
              "tensor([[0.4780],\n",
              "        [0.4805],\n",
              "        [0.4691],\n",
              "        [0.4860],\n",
              "        [0.4293]])"
            ]
          },
          "metadata": {},
          "execution_count": 24
        }
      ]
    },
    {
      "cell_type": "markdown",
      "source": [
        "For out pred prob values we need to perform a range style rounding on them\n",
        "`y_pred_probs`>=0.5, `y=1` (class 1)\n",
        "\n",
        "else <0.5 then `y=0` (class 0)"
      ],
      "metadata": {
        "id": "MUhcdUDovTt-"
      }
    },
    {
      "cell_type": "code",
      "source": [
        "y_pred=torch.round(y_pred_probs).squeeze()\n",
        "y_pred\n",
        "\n",
        "#in full\n",
        "y_pred_labels = torch.round(torch.sigmoid(model_0(X_test.to(device))[:5])).squeeze()\n",
        "print(torch.eq(y_pred,y_pred_labels))"
      ],
      "metadata": {
        "id": "YifRGiKYvMZu",
        "outputId": "dcff1e69-1eea-49d5-824e-e6c07f94417c",
        "colab": {
          "base_uri": "https://localhost:8080/"
        }
      },
      "execution_count": 25,
      "outputs": [
        {
          "output_type": "stream",
          "name": "stdout",
          "text": [
            "tensor([True, True, True, True, True])\n"
          ]
        }
      ]
    },
    {
      "cell_type": "code",
      "source": [
        "y_test[:5]"
      ],
      "metadata": {
        "id": "zNrSLohjvwNO",
        "outputId": "d9eb1ffe-7468-4241-b800-ce8bea96fcbe",
        "colab": {
          "base_uri": "https://localhost:8080/"
        }
      },
      "execution_count": 26,
      "outputs": [
        {
          "output_type": "execute_result",
          "data": {
            "text/plain": [
              "tensor([1., 0., 1., 0., 1.])"
            ]
          },
          "metadata": {},
          "execution_count": 26
        }
      ]
    },
    {
      "cell_type": "code",
      "source": [
        "from torch.autograd import backward\n",
        "\n",
        "torch.cuda.manual_seed(42)\n",
        "torch.manual_seed(42)\n",
        "\n",
        "### 3.2 Building a training and testing loop\n",
        "epochs=10000\n",
        "train_l=[]\n",
        "test_l=[]\n",
        "#put data to target device\n",
        "X_train,y_train=X_train.to(device),y_train.to(device)\n",
        "X_test,y_test=X_test.to(device),y_test.to(device)\n",
        "###Training\n",
        "for epoch in range(epochs):\n",
        "  #Put in train mode\n",
        "  model_0.train()\n",
        "  \n",
        "  #Forward pass\n",
        "  # y_pred_new=model_0(X_train)\n",
        "\n",
        "  y_logits=model_0(X_train).squeeze()\n",
        "  y_pred_new=torch.round(torch.sigmoid(y_logits))\n",
        "\n",
        "  #calc loss/accuracy\n",
        "  # loss=loss_fn(torch.sigmoid(y_logits)) #nn>BCEloss w/o logits!\n",
        "  train_loss=loss_fn(y_logits,y_train)#nn.BCEwithLogitsLoss expects the raw logits loss\n",
        "  train_l.append(train_loss.cpu().detach().numpy())\n",
        "  acc=accuracy(y_true=y_train,y_pred=y_pred_new)\n",
        "\n",
        "  #zero grad\n",
        "  optimizer.zero_grad()\n",
        "\n",
        "  #back prop\n",
        "  train_loss.backward()\n",
        "\n",
        "  #step optimizer\n",
        "  optimizer.step()\n",
        "\n",
        "  #Test loop\n",
        "  model_0.eval()\n",
        "  with torch.inference_mode():\n",
        "    #1. forward pass\n",
        "    test_logits=model_0(X_test).squeeze()\n",
        "\n",
        "    y_pred_test=torch.round(torch.sigmoid(test_logits))\n",
        "\n",
        "    test_loss=loss_fn(y_pred_test,y_test)\n",
        "    test_l.append(test_loss.cpu().detach().numpy())\n",
        "    test_acc=accuracy(y_test,y_pred_test)\n",
        "    if epoch%10==0:\n",
        "      print(f\"Epoch:{epoch} | Train Loss:{train_loss:.5f} | Train acc:{acc:.2f}% | Test Loss:{test_loss:.5f} | Test acc:{test_acc:.2f}%\")\n",
        "  "
      ],
      "metadata": {
        "id": "5bLQs5loyLjz",
        "outputId": "3a6c420b-b25e-47dc-8cb7-d2faf4d0fdb4",
        "colab": {
          "base_uri": "https://localhost:8080/"
        }
      },
      "execution_count": 27,
      "outputs": [
        {
          "output_type": "stream",
          "name": "stdout",
          "text": [
            "Epoch:0 | Train Loss:0.69976 | Train acc:50.00% | Test Loss:0.69315 | Test acc:50.00%\n",
            "Epoch:10 | Train Loss:0.69709 | Train acc:46.75% | Test Loss:0.73035 | Test acc:44.00%\n",
            "Epoch:20 | Train Loss:0.69595 | Train acc:48.12% | Test Loss:0.75097 | Test acc:43.00%\n",
            "Epoch:30 | Train Loss:0.69537 | Train acc:48.00% | Test Loss:0.75670 | Test acc:47.50%\n",
            "Epoch:40 | Train Loss:0.69498 | Train acc:48.50% | Test Loss:0.75941 | Test acc:49.00%\n",
            "Epoch:50 | Train Loss:0.69465 | Train acc:48.00% | Test Loss:0.75421 | Test acc:51.00%\n",
            "Epoch:60 | Train Loss:0.69436 | Train acc:48.00% | Test Loss:0.75421 | Test acc:51.00%\n",
            "Epoch:70 | Train Loss:0.69408 | Train acc:48.88% | Test Loss:0.75351 | Test acc:51.50%\n",
            "Epoch:80 | Train Loss:0.69381 | Train acc:49.00% | Test Loss:0.75351 | Test acc:51.50%\n",
            "Epoch:90 | Train Loss:0.69357 | Train acc:48.62% | Test Loss:0.75161 | Test acc:52.00%\n",
            "Epoch:100 | Train Loss:0.69335 | Train acc:48.62% | Test Loss:0.74471 | Test acc:53.50%\n",
            "Epoch:110 | Train Loss:0.69314 | Train acc:48.88% | Test Loss:0.74661 | Test acc:53.00%\n",
            "Epoch:120 | Train Loss:0.69295 | Train acc:49.25% | Test Loss:0.74971 | Test acc:52.50%\n",
            "Epoch:130 | Train Loss:0.69276 | Train acc:49.25% | Test Loss:0.74661 | Test acc:53.00%\n",
            "Epoch:140 | Train Loss:0.69259 | Train acc:49.00% | Test Loss:0.73921 | Test acc:54.00%\n",
            "Epoch:150 | Train Loss:0.69242 | Train acc:49.12% | Test Loss:0.74111 | Test acc:53.50%\n",
            "Epoch:160 | Train Loss:0.69226 | Train acc:49.62% | Test Loss:0.74111 | Test acc:53.50%\n",
            "Epoch:170 | Train Loss:0.69210 | Train acc:49.62% | Test Loss:0.74491 | Test acc:52.50%\n",
            "Epoch:180 | Train Loss:0.69194 | Train acc:49.88% | Test Loss:0.74681 | Test acc:52.00%\n",
            "Epoch:190 | Train Loss:0.69179 | Train acc:49.88% | Test Loss:0.74681 | Test acc:52.00%\n",
            "Epoch:200 | Train Loss:0.69164 | Train acc:50.25% | Test Loss:0.74681 | Test acc:52.00%\n",
            "Epoch:210 | Train Loss:0.69148 | Train acc:50.00% | Test Loss:0.74561 | Test acc:52.00%\n",
            "Epoch:220 | Train Loss:0.69133 | Train acc:50.38% | Test Loss:0.74751 | Test acc:51.50%\n",
            "Epoch:230 | Train Loss:0.69117 | Train acc:50.25% | Test Loss:0.74941 | Test acc:51.00%\n",
            "Epoch:240 | Train Loss:0.69102 | Train acc:50.75% | Test Loss:0.74630 | Test acc:51.50%\n",
            "Epoch:250 | Train Loss:0.69087 | Train acc:50.75% | Test Loss:0.74630 | Test acc:51.50%\n",
            "Epoch:260 | Train Loss:0.69071 | Train acc:50.75% | Test Loss:0.74820 | Test acc:51.00%\n",
            "Epoch:270 | Train Loss:0.69056 | Train acc:51.00% | Test Loss:0.75390 | Test acc:49.50%\n",
            "Epoch:280 | Train Loss:0.69040 | Train acc:51.00% | Test Loss:0.75080 | Test acc:50.00%\n",
            "Epoch:290 | Train Loss:0.69024 | Train acc:51.50% | Test Loss:0.75080 | Test acc:50.00%\n",
            "Epoch:300 | Train Loss:0.69008 | Train acc:51.50% | Test Loss:0.74890 | Test acc:50.50%\n",
            "Epoch:310 | Train Loss:0.68993 | Train acc:51.50% | Test Loss:0.75080 | Test acc:50.00%\n",
            "Epoch:320 | Train Loss:0.68977 | Train acc:51.50% | Test Loss:0.74770 | Test acc:50.50%\n",
            "Epoch:330 | Train Loss:0.68960 | Train acc:51.62% | Test Loss:0.74770 | Test acc:50.50%\n",
            "Epoch:340 | Train Loss:0.68944 | Train acc:51.62% | Test Loss:0.74770 | Test acc:50.50%\n",
            "Epoch:350 | Train Loss:0.68927 | Train acc:51.88% | Test Loss:0.74770 | Test acc:50.50%\n",
            "Epoch:360 | Train Loss:0.68910 | Train acc:52.00% | Test Loss:0.74460 | Test acc:51.00%\n",
            "Epoch:370 | Train Loss:0.68893 | Train acc:52.00% | Test Loss:0.74460 | Test acc:51.00%\n",
            "Epoch:380 | Train Loss:0.68875 | Train acc:52.00% | Test Loss:0.74460 | Test acc:51.00%\n",
            "Epoch:390 | Train Loss:0.68858 | Train acc:52.00% | Test Loss:0.74460 | Test acc:51.00%\n",
            "Epoch:400 | Train Loss:0.68840 | Train acc:52.00% | Test Loss:0.74460 | Test acc:51.00%\n",
            "Epoch:410 | Train Loss:0.68821 | Train acc:52.00% | Test Loss:0.74460 | Test acc:51.00%\n",
            "Epoch:420 | Train Loss:0.68803 | Train acc:52.00% | Test Loss:0.74460 | Test acc:51.00%\n",
            "Epoch:430 | Train Loss:0.68784 | Train acc:52.12% | Test Loss:0.74460 | Test acc:51.00%\n",
            "Epoch:440 | Train Loss:0.68765 | Train acc:52.12% | Test Loss:0.74460 | Test acc:51.00%\n",
            "Epoch:450 | Train Loss:0.68745 | Train acc:52.38% | Test Loss:0.74460 | Test acc:51.00%\n",
            "Epoch:460 | Train Loss:0.68725 | Train acc:52.50% | Test Loss:0.74460 | Test acc:51.00%\n",
            "Epoch:470 | Train Loss:0.68705 | Train acc:52.50% | Test Loss:0.74460 | Test acc:51.00%\n",
            "Epoch:480 | Train Loss:0.68684 | Train acc:52.75% | Test Loss:0.74460 | Test acc:51.00%\n",
            "Epoch:490 | Train Loss:0.68663 | Train acc:52.75% | Test Loss:0.74460 | Test acc:51.00%\n",
            "Epoch:500 | Train Loss:0.68641 | Train acc:52.75% | Test Loss:0.74460 | Test acc:51.00%\n",
            "Epoch:510 | Train Loss:0.68620 | Train acc:53.00% | Test Loss:0.74150 | Test acc:51.50%\n",
            "Epoch:520 | Train Loss:0.68598 | Train acc:53.25% | Test Loss:0.73530 | Test acc:52.50%\n",
            "Epoch:530 | Train Loss:0.68575 | Train acc:53.87% | Test Loss:0.73530 | Test acc:52.50%\n",
            "Epoch:540 | Train Loss:0.68553 | Train acc:54.62% | Test Loss:0.73530 | Test acc:52.50%\n",
            "Epoch:550 | Train Loss:0.68529 | Train acc:54.87% | Test Loss:0.73220 | Test acc:53.00%\n",
            "Epoch:560 | Train Loss:0.68506 | Train acc:55.38% | Test Loss:0.72910 | Test acc:53.50%\n",
            "Epoch:570 | Train Loss:0.68481 | Train acc:55.62% | Test Loss:0.72100 | Test acc:55.00%\n",
            "Epoch:580 | Train Loss:0.68457 | Train acc:55.88% | Test Loss:0.71480 | Test acc:56.00%\n",
            "Epoch:590 | Train Loss:0.68431 | Train acc:56.25% | Test Loss:0.71480 | Test acc:56.00%\n",
            "Epoch:600 | Train Loss:0.68405 | Train acc:56.50% | Test Loss:0.70860 | Test acc:57.00%\n",
            "Epoch:610 | Train Loss:0.68379 | Train acc:56.88% | Test Loss:0.70049 | Test acc:58.50%\n",
            "Epoch:620 | Train Loss:0.68352 | Train acc:57.12% | Test Loss:0.69860 | Test acc:59.00%\n",
            "Epoch:630 | Train Loss:0.68325 | Train acc:57.38% | Test Loss:0.69670 | Test acc:59.50%\n",
            "Epoch:640 | Train Loss:0.68297 | Train acc:57.88% | Test Loss:0.69100 | Test acc:61.00%\n",
            "Epoch:650 | Train Loss:0.68268 | Train acc:58.88% | Test Loss:0.69100 | Test acc:61.00%\n",
            "Epoch:660 | Train Loss:0.68239 | Train acc:59.88% | Test Loss:0.69100 | Test acc:61.00%\n",
            "Epoch:670 | Train Loss:0.68210 | Train acc:60.25% | Test Loss:0.69100 | Test acc:61.00%\n",
            "Epoch:680 | Train Loss:0.68180 | Train acc:60.62% | Test Loss:0.69100 | Test acc:61.00%\n",
            "Epoch:690 | Train Loss:0.68150 | Train acc:60.75% | Test Loss:0.68790 | Test acc:61.50%\n",
            "Epoch:700 | Train Loss:0.68119 | Train acc:61.00% | Test Loss:0.68790 | Test acc:61.50%\n",
            "Epoch:710 | Train Loss:0.68086 | Train acc:61.25% | Test Loss:0.68480 | Test acc:62.00%\n",
            "Epoch:720 | Train Loss:0.68054 | Train acc:61.62% | Test Loss:0.68480 | Test acc:62.00%\n",
            "Epoch:730 | Train Loss:0.68020 | Train acc:61.75% | Test Loss:0.68480 | Test acc:62.00%\n",
            "Epoch:740 | Train Loss:0.67986 | Train acc:61.88% | Test Loss:0.68480 | Test acc:62.00%\n",
            "Epoch:750 | Train Loss:0.67951 | Train acc:62.62% | Test Loss:0.68790 | Test acc:61.50%\n",
            "Epoch:760 | Train Loss:0.67916 | Train acc:62.75% | Test Loss:0.68790 | Test acc:61.50%\n",
            "Epoch:770 | Train Loss:0.67879 | Train acc:62.62% | Test Loss:0.68600 | Test acc:62.00%\n",
            "Epoch:780 | Train Loss:0.67842 | Train acc:63.00% | Test Loss:0.68290 | Test acc:62.50%\n",
            "Epoch:790 | Train Loss:0.67804 | Train acc:63.00% | Test Loss:0.68100 | Test acc:63.00%\n",
            "Epoch:800 | Train Loss:0.67766 | Train acc:63.38% | Test Loss:0.68100 | Test acc:63.00%\n",
            "Epoch:810 | Train Loss:0.67728 | Train acc:63.75% | Test Loss:0.68220 | Test acc:63.00%\n",
            "Epoch:820 | Train Loss:0.67688 | Train acc:63.88% | Test Loss:0.68340 | Test acc:63.00%\n",
            "Epoch:830 | Train Loss:0.67648 | Train acc:64.12% | Test Loss:0.68150 | Test acc:63.50%\n",
            "Epoch:840 | Train Loss:0.67606 | Train acc:64.38% | Test Loss:0.67770 | Test acc:64.50%\n",
            "Epoch:850 | Train Loss:0.67564 | Train acc:64.62% | Test Loss:0.67770 | Test acc:64.50%\n",
            "Epoch:860 | Train Loss:0.67520 | Train acc:65.00% | Test Loss:0.67770 | Test acc:64.50%\n",
            "Epoch:870 | Train Loss:0.67476 | Train acc:65.38% | Test Loss:0.67770 | Test acc:64.50%\n",
            "Epoch:880 | Train Loss:0.67430 | Train acc:65.88% | Test Loss:0.67080 | Test acc:66.00%\n",
            "Epoch:890 | Train Loss:0.67384 | Train acc:66.50% | Test Loss:0.66770 | Test acc:66.50%\n",
            "Epoch:900 | Train Loss:0.67337 | Train acc:66.50% | Test Loss:0.66770 | Test acc:66.50%\n",
            "Epoch:910 | Train Loss:0.67290 | Train acc:66.62% | Test Loss:0.65770 | Test acc:68.50%\n",
            "Epoch:920 | Train Loss:0.67242 | Train acc:66.75% | Test Loss:0.65200 | Test acc:70.00%\n",
            "Epoch:930 | Train Loss:0.67193 | Train acc:67.00% | Test Loss:0.65320 | Test acc:70.00%\n",
            "Epoch:940 | Train Loss:0.67144 | Train acc:67.62% | Test Loss:0.65320 | Test acc:70.00%\n",
            "Epoch:950 | Train Loss:0.67093 | Train acc:68.00% | Test Loss:0.65010 | Test acc:70.50%\n",
            "Epoch:960 | Train Loss:0.67042 | Train acc:68.62% | Test Loss:0.65010 | Test acc:70.50%\n",
            "Epoch:970 | Train Loss:0.66990 | Train acc:68.88% | Test Loss:0.64820 | Test acc:71.00%\n",
            "Epoch:980 | Train Loss:0.66937 | Train acc:69.38% | Test Loss:0.64320 | Test acc:72.00%\n",
            "Epoch:990 | Train Loss:0.66883 | Train acc:69.75% | Test Loss:0.63631 | Test acc:73.50%\n",
            "Epoch:1000 | Train Loss:0.66828 | Train acc:69.88% | Test Loss:0.63631 | Test acc:73.50%\n",
            "Epoch:1010 | Train Loss:0.66772 | Train acc:69.88% | Test Loss:0.63320 | Test acc:74.00%\n",
            "Epoch:1020 | Train Loss:0.66715 | Train acc:70.62% | Test Loss:0.63320 | Test acc:74.00%\n",
            "Epoch:1030 | Train Loss:0.66658 | Train acc:70.75% | Test Loss:0.63320 | Test acc:74.00%\n",
            "Epoch:1040 | Train Loss:0.66600 | Train acc:70.75% | Test Loss:0.62941 | Test acc:75.00%\n",
            "Epoch:1050 | Train Loss:0.66543 | Train acc:70.75% | Test Loss:0.62941 | Test acc:75.00%\n",
            "Epoch:1060 | Train Loss:0.66484 | Train acc:70.62% | Test Loss:0.62941 | Test acc:75.00%\n",
            "Epoch:1070 | Train Loss:0.66425 | Train acc:70.88% | Test Loss:0.62941 | Test acc:75.00%\n",
            "Epoch:1080 | Train Loss:0.66364 | Train acc:70.62% | Test Loss:0.63251 | Test acc:74.50%\n",
            "Epoch:1090 | Train Loss:0.66302 | Train acc:70.62% | Test Loss:0.63561 | Test acc:74.00%\n",
            "Epoch:1100 | Train Loss:0.66239 | Train acc:70.62% | Test Loss:0.63561 | Test acc:74.00%\n",
            "Epoch:1110 | Train Loss:0.66175 | Train acc:70.38% | Test Loss:0.63371 | Test acc:74.50%\n",
            "Epoch:1120 | Train Loss:0.66110 | Train acc:70.25% | Test Loss:0.62801 | Test acc:76.00%\n",
            "Epoch:1130 | Train Loss:0.66044 | Train acc:70.38% | Test Loss:0.62611 | Test acc:76.50%\n",
            "Epoch:1140 | Train Loss:0.65976 | Train acc:70.38% | Test Loss:0.62611 | Test acc:76.50%\n",
            "Epoch:1150 | Train Loss:0.65907 | Train acc:70.88% | Test Loss:0.62921 | Test acc:76.00%\n",
            "Epoch:1160 | Train Loss:0.65837 | Train acc:70.62% | Test Loss:0.62731 | Test acc:76.50%\n",
            "Epoch:1170 | Train Loss:0.65767 | Train acc:70.88% | Test Loss:0.62731 | Test acc:76.50%\n",
            "Epoch:1180 | Train Loss:0.65696 | Train acc:71.12% | Test Loss:0.62731 | Test acc:76.50%\n",
            "Epoch:1190 | Train Loss:0.65624 | Train acc:71.50% | Test Loss:0.62731 | Test acc:76.50%\n",
            "Epoch:1200 | Train Loss:0.65551 | Train acc:71.25% | Test Loss:0.62541 | Test acc:77.00%\n",
            "Epoch:1210 | Train Loss:0.65477 | Train acc:71.00% | Test Loss:0.62161 | Test acc:78.00%\n",
            "Epoch:1220 | Train Loss:0.65401 | Train acc:71.00% | Test Loss:0.62351 | Test acc:77.50%\n",
            "Epoch:1230 | Train Loss:0.65322 | Train acc:71.38% | Test Loss:0.62851 | Test acc:76.50%\n",
            "Epoch:1240 | Train Loss:0.65244 | Train acc:71.62% | Test Loss:0.62851 | Test acc:76.50%\n",
            "Epoch:1250 | Train Loss:0.65164 | Train acc:71.62% | Test Loss:0.62851 | Test acc:76.50%\n",
            "Epoch:1260 | Train Loss:0.65084 | Train acc:71.62% | Test Loss:0.62851 | Test acc:76.50%\n",
            "Epoch:1270 | Train Loss:0.65004 | Train acc:71.75% | Test Loss:0.62851 | Test acc:76.50%\n",
            "Epoch:1280 | Train Loss:0.64923 | Train acc:72.00% | Test Loss:0.62851 | Test acc:76.50%\n",
            "Epoch:1290 | Train Loss:0.64842 | Train acc:71.88% | Test Loss:0.62851 | Test acc:76.50%\n",
            "Epoch:1300 | Train Loss:0.64758 | Train acc:71.88% | Test Loss:0.62851 | Test acc:76.50%\n",
            "Epoch:1310 | Train Loss:0.64672 | Train acc:71.88% | Test Loss:0.62661 | Test acc:77.00%\n",
            "Epoch:1320 | Train Loss:0.64585 | Train acc:71.75% | Test Loss:0.62661 | Test acc:77.00%\n",
            "Epoch:1330 | Train Loss:0.64497 | Train acc:72.00% | Test Loss:0.62851 | Test acc:76.50%\n",
            "Epoch:1340 | Train Loss:0.64407 | Train acc:72.25% | Test Loss:0.62851 | Test acc:76.50%\n",
            "Epoch:1350 | Train Loss:0.64315 | Train acc:72.38% | Test Loss:0.62851 | Test acc:76.50%\n",
            "Epoch:1360 | Train Loss:0.64222 | Train acc:72.38% | Test Loss:0.62731 | Test acc:76.50%\n",
            "Epoch:1370 | Train Loss:0.64126 | Train acc:72.38% | Test Loss:0.62921 | Test acc:76.00%\n",
            "Epoch:1380 | Train Loss:0.64029 | Train acc:72.50% | Test Loss:0.62921 | Test acc:76.00%\n",
            "Epoch:1390 | Train Loss:0.63930 | Train acc:72.25% | Test Loss:0.63111 | Test acc:75.50%\n",
            "Epoch:1400 | Train Loss:0.63831 | Train acc:72.38% | Test Loss:0.63111 | Test acc:75.50%\n",
            "Epoch:1410 | Train Loss:0.63732 | Train acc:72.25% | Test Loss:0.62731 | Test acc:76.50%\n",
            "Epoch:1420 | Train Loss:0.63629 | Train acc:72.12% | Test Loss:0.62731 | Test acc:76.50%\n",
            "Epoch:1430 | Train Loss:0.63522 | Train acc:72.25% | Test Loss:0.62731 | Test acc:76.50%\n",
            "Epoch:1440 | Train Loss:0.63414 | Train acc:72.25% | Test Loss:0.63041 | Test acc:76.00%\n",
            "Epoch:1450 | Train Loss:0.63305 | Train acc:72.12% | Test Loss:0.63231 | Test acc:75.50%\n",
            "Epoch:1460 | Train Loss:0.63196 | Train acc:72.12% | Test Loss:0.63231 | Test acc:75.50%\n",
            "Epoch:1470 | Train Loss:0.63086 | Train acc:72.25% | Test Loss:0.63541 | Test acc:75.00%\n",
            "Epoch:1480 | Train Loss:0.62977 | Train acc:72.50% | Test Loss:0.63231 | Test acc:75.50%\n",
            "Epoch:1490 | Train Loss:0.62867 | Train acc:72.62% | Test Loss:0.63421 | Test acc:75.00%\n",
            "Epoch:1500 | Train Loss:0.62758 | Train acc:72.88% | Test Loss:0.63421 | Test acc:75.00%\n",
            "Epoch:1510 | Train Loss:0.62647 | Train acc:72.88% | Test Loss:0.63231 | Test acc:75.50%\n",
            "Epoch:1520 | Train Loss:0.62535 | Train acc:73.00% | Test Loss:0.63541 | Test acc:75.00%\n",
            "Epoch:1530 | Train Loss:0.62423 | Train acc:73.25% | Test Loss:0.63731 | Test acc:74.50%\n",
            "Epoch:1540 | Train Loss:0.62308 | Train acc:73.38% | Test Loss:0.63731 | Test acc:74.50%\n",
            "Epoch:1550 | Train Loss:0.62193 | Train acc:73.50% | Test Loss:0.63731 | Test acc:74.50%\n",
            "Epoch:1560 | Train Loss:0.62076 | Train acc:73.50% | Test Loss:0.63231 | Test acc:75.50%\n",
            "Epoch:1570 | Train Loss:0.61957 | Train acc:73.75% | Test Loss:0.62921 | Test acc:76.00%\n",
            "Epoch:1580 | Train Loss:0.61836 | Train acc:73.88% | Test Loss:0.63111 | Test acc:75.50%\n",
            "Epoch:1590 | Train Loss:0.61714 | Train acc:74.25% | Test Loss:0.62611 | Test acc:76.50%\n",
            "Epoch:1600 | Train Loss:0.61592 | Train acc:74.50% | Test Loss:0.62611 | Test acc:76.50%\n",
            "Epoch:1610 | Train Loss:0.61467 | Train acc:74.88% | Test Loss:0.62611 | Test acc:76.50%\n",
            "Epoch:1620 | Train Loss:0.61340 | Train acc:74.88% | Test Loss:0.62611 | Test acc:76.50%\n",
            "Epoch:1630 | Train Loss:0.61211 | Train acc:75.00% | Test Loss:0.62801 | Test acc:76.00%\n",
            "Epoch:1640 | Train Loss:0.61078 | Train acc:75.38% | Test Loss:0.62801 | Test acc:76.00%\n",
            "Epoch:1650 | Train Loss:0.60943 | Train acc:76.25% | Test Loss:0.62111 | Test acc:77.50%\n",
            "Epoch:1660 | Train Loss:0.60807 | Train acc:76.38% | Test Loss:0.62111 | Test acc:77.50%\n",
            "Epoch:1670 | Train Loss:0.60672 | Train acc:76.38% | Test Loss:0.62421 | Test acc:77.00%\n",
            "Epoch:1680 | Train Loss:0.60535 | Train acc:76.50% | Test Loss:0.62421 | Test acc:77.00%\n",
            "Epoch:1690 | Train Loss:0.60396 | Train acc:77.00% | Test Loss:0.62421 | Test acc:77.00%\n",
            "Epoch:1700 | Train Loss:0.60257 | Train acc:77.12% | Test Loss:0.62231 | Test acc:77.50%\n",
            "Epoch:1710 | Train Loss:0.60117 | Train acc:77.12% | Test Loss:0.61921 | Test acc:78.00%\n",
            "Epoch:1720 | Train Loss:0.59975 | Train acc:77.12% | Test Loss:0.61921 | Test acc:78.00%\n",
            "Epoch:1730 | Train Loss:0.59831 | Train acc:77.38% | Test Loss:0.61801 | Test acc:78.00%\n",
            "Epoch:1740 | Train Loss:0.59685 | Train acc:77.62% | Test Loss:0.61801 | Test acc:78.00%\n",
            "Epoch:1750 | Train Loss:0.59538 | Train acc:77.88% | Test Loss:0.61491 | Test acc:78.50%\n",
            "Epoch:1760 | Train Loss:0.59390 | Train acc:78.00% | Test Loss:0.61491 | Test acc:78.50%\n",
            "Epoch:1770 | Train Loss:0.59241 | Train acc:78.25% | Test Loss:0.61301 | Test acc:79.00%\n",
            "Epoch:1780 | Train Loss:0.59092 | Train acc:78.25% | Test Loss:0.61301 | Test acc:79.00%\n",
            "Epoch:1790 | Train Loss:0.58942 | Train acc:78.62% | Test Loss:0.61301 | Test acc:79.00%\n",
            "Epoch:1800 | Train Loss:0.58792 | Train acc:78.88% | Test Loss:0.61611 | Test acc:78.50%\n",
            "Epoch:1810 | Train Loss:0.58642 | Train acc:79.00% | Test Loss:0.61611 | Test acc:78.50%\n",
            "Epoch:1820 | Train Loss:0.58490 | Train acc:79.00% | Test Loss:0.61611 | Test acc:78.50%\n",
            "Epoch:1830 | Train Loss:0.58337 | Train acc:79.00% | Test Loss:0.61611 | Test acc:78.50%\n",
            "Epoch:1840 | Train Loss:0.58182 | Train acc:79.38% | Test Loss:0.61611 | Test acc:78.50%\n",
            "Epoch:1850 | Train Loss:0.58025 | Train acc:79.75% | Test Loss:0.61611 | Test acc:78.50%\n",
            "Epoch:1860 | Train Loss:0.57865 | Train acc:79.88% | Test Loss:0.61181 | Test acc:79.00%\n",
            "Epoch:1870 | Train Loss:0.57707 | Train acc:80.00% | Test Loss:0.61181 | Test acc:79.00%\n",
            "Epoch:1880 | Train Loss:0.57548 | Train acc:80.12% | Test Loss:0.61181 | Test acc:79.00%\n",
            "Epoch:1890 | Train Loss:0.57389 | Train acc:80.38% | Test Loss:0.61181 | Test acc:79.00%\n",
            "Epoch:1900 | Train Loss:0.57231 | Train acc:80.50% | Test Loss:0.61491 | Test acc:78.50%\n",
            "Epoch:1910 | Train Loss:0.57073 | Train acc:80.50% | Test Loss:0.61491 | Test acc:78.50%\n",
            "Epoch:1920 | Train Loss:0.56915 | Train acc:80.75% | Test Loss:0.61491 | Test acc:78.50%\n",
            "Epoch:1930 | Train Loss:0.56757 | Train acc:80.75% | Test Loss:0.61181 | Test acc:79.00%\n",
            "Epoch:1940 | Train Loss:0.56599 | Train acc:80.88% | Test Loss:0.61181 | Test acc:79.00%\n",
            "Epoch:1950 | Train Loss:0.56441 | Train acc:80.88% | Test Loss:0.60871 | Test acc:79.50%\n",
            "Epoch:1960 | Train Loss:0.56284 | Train acc:80.88% | Test Loss:0.60871 | Test acc:79.50%\n",
            "Epoch:1970 | Train Loss:0.56126 | Train acc:80.88% | Test Loss:0.60871 | Test acc:79.50%\n",
            "Epoch:1980 | Train Loss:0.55968 | Train acc:80.88% | Test Loss:0.60681 | Test acc:80.00%\n",
            "Epoch:1990 | Train Loss:0.55809 | Train acc:81.12% | Test Loss:0.60681 | Test acc:80.00%\n",
            "Epoch:2000 | Train Loss:0.55651 | Train acc:80.88% | Test Loss:0.60491 | Test acc:80.50%\n",
            "Epoch:2010 | Train Loss:0.55493 | Train acc:80.75% | Test Loss:0.60491 | Test acc:80.50%\n",
            "Epoch:2020 | Train Loss:0.55334 | Train acc:80.50% | Test Loss:0.60491 | Test acc:80.50%\n",
            "Epoch:2030 | Train Loss:0.55176 | Train acc:80.38% | Test Loss:0.60181 | Test acc:81.00%\n",
            "Epoch:2040 | Train Loss:0.55017 | Train acc:80.50% | Test Loss:0.60491 | Test acc:80.50%\n",
            "Epoch:2050 | Train Loss:0.54859 | Train acc:80.62% | Test Loss:0.60301 | Test acc:81.00%\n",
            "Epoch:2060 | Train Loss:0.54700 | Train acc:80.62% | Test Loss:0.60301 | Test acc:81.00%\n",
            "Epoch:2070 | Train Loss:0.54542 | Train acc:80.88% | Test Loss:0.60301 | Test acc:81.00%\n",
            "Epoch:2080 | Train Loss:0.54384 | Train acc:81.25% | Test Loss:0.60301 | Test acc:81.00%\n",
            "Epoch:2090 | Train Loss:0.54225 | Train acc:81.38% | Test Loss:0.60301 | Test acc:81.00%\n",
            "Epoch:2100 | Train Loss:0.54066 | Train acc:81.50% | Test Loss:0.60301 | Test acc:81.00%\n",
            "Epoch:2110 | Train Loss:0.53908 | Train acc:81.38% | Test Loss:0.60301 | Test acc:81.00%\n",
            "Epoch:2120 | Train Loss:0.53750 | Train acc:81.50% | Test Loss:0.60301 | Test acc:81.00%\n",
            "Epoch:2130 | Train Loss:0.53593 | Train acc:81.75% | Test Loss:0.60301 | Test acc:81.00%\n",
            "Epoch:2140 | Train Loss:0.53435 | Train acc:81.88% | Test Loss:0.60301 | Test acc:81.00%\n",
            "Epoch:2150 | Train Loss:0.53278 | Train acc:81.88% | Test Loss:0.60301 | Test acc:81.00%\n",
            "Epoch:2160 | Train Loss:0.53121 | Train acc:82.00% | Test Loss:0.60301 | Test acc:81.00%\n",
            "Epoch:2170 | Train Loss:0.52964 | Train acc:82.12% | Test Loss:0.60301 | Test acc:81.00%\n",
            "Epoch:2180 | Train Loss:0.52808 | Train acc:82.00% | Test Loss:0.60301 | Test acc:81.00%\n",
            "Epoch:2190 | Train Loss:0.52652 | Train acc:82.00% | Test Loss:0.60301 | Test acc:81.00%\n",
            "Epoch:2200 | Train Loss:0.52497 | Train acc:82.38% | Test Loss:0.60301 | Test acc:81.00%\n",
            "Epoch:2210 | Train Loss:0.52342 | Train acc:82.62% | Test Loss:0.60301 | Test acc:81.00%\n",
            "Epoch:2220 | Train Loss:0.52188 | Train acc:82.62% | Test Loss:0.60491 | Test acc:80.50%\n",
            "Epoch:2230 | Train Loss:0.52033 | Train acc:82.75% | Test Loss:0.60491 | Test acc:80.50%\n",
            "Epoch:2240 | Train Loss:0.51878 | Train acc:82.88% | Test Loss:0.60491 | Test acc:80.50%\n",
            "Epoch:2250 | Train Loss:0.51724 | Train acc:82.62% | Test Loss:0.60491 | Test acc:80.50%\n",
            "Epoch:2260 | Train Loss:0.51570 | Train acc:82.62% | Test Loss:0.60491 | Test acc:80.50%\n",
            "Epoch:2270 | Train Loss:0.51417 | Train acc:82.62% | Test Loss:0.60491 | Test acc:80.50%\n",
            "Epoch:2280 | Train Loss:0.51264 | Train acc:82.88% | Test Loss:0.60491 | Test acc:80.50%\n",
            "Epoch:2290 | Train Loss:0.51113 | Train acc:83.00% | Test Loss:0.60801 | Test acc:80.00%\n",
            "Epoch:2300 | Train Loss:0.50961 | Train acc:83.12% | Test Loss:0.60801 | Test acc:80.00%\n",
            "Epoch:2310 | Train Loss:0.50809 | Train acc:83.12% | Test Loss:0.60801 | Test acc:80.00%\n",
            "Epoch:2320 | Train Loss:0.50658 | Train acc:83.25% | Test Loss:0.60801 | Test acc:80.00%\n",
            "Epoch:2330 | Train Loss:0.50508 | Train acc:83.12% | Test Loss:0.61181 | Test acc:79.00%\n",
            "Epoch:2340 | Train Loss:0.50357 | Train acc:83.25% | Test Loss:0.61181 | Test acc:79.00%\n",
            "Epoch:2350 | Train Loss:0.50200 | Train acc:83.62% | Test Loss:0.61181 | Test acc:79.00%\n",
            "Epoch:2360 | Train Loss:0.50037 | Train acc:83.62% | Test Loss:0.60991 | Test acc:79.50%\n",
            "Epoch:2370 | Train Loss:0.49880 | Train acc:83.62% | Test Loss:0.60991 | Test acc:79.50%\n",
            "Epoch:2380 | Train Loss:0.49726 | Train acc:83.62% | Test Loss:0.60991 | Test acc:79.50%\n",
            "Epoch:2390 | Train Loss:0.49575 | Train acc:83.75% | Test Loss:0.61111 | Test acc:79.50%\n",
            "Epoch:2400 | Train Loss:0.49425 | Train acc:84.00% | Test Loss:0.60801 | Test acc:80.00%\n",
            "Epoch:2410 | Train Loss:0.49273 | Train acc:84.25% | Test Loss:0.60801 | Test acc:80.00%\n",
            "Epoch:2420 | Train Loss:0.49120 | Train acc:84.38% | Test Loss:0.60491 | Test acc:80.50%\n",
            "Epoch:2430 | Train Loss:0.48968 | Train acc:84.25% | Test Loss:0.60681 | Test acc:80.00%\n",
            "Epoch:2440 | Train Loss:0.48817 | Train acc:84.62% | Test Loss:0.60681 | Test acc:80.00%\n",
            "Epoch:2450 | Train Loss:0.48668 | Train acc:84.75% | Test Loss:0.60491 | Test acc:80.50%\n",
            "Epoch:2460 | Train Loss:0.48521 | Train acc:84.75% | Test Loss:0.60491 | Test acc:80.50%\n",
            "Epoch:2470 | Train Loss:0.48376 | Train acc:84.75% | Test Loss:0.60301 | Test acc:81.00%\n",
            "Epoch:2480 | Train Loss:0.48233 | Train acc:84.62% | Test Loss:0.60301 | Test acc:81.00%\n",
            "Epoch:2490 | Train Loss:0.48091 | Train acc:84.50% | Test Loss:0.60301 | Test acc:81.00%\n",
            "Epoch:2500 | Train Loss:0.47950 | Train acc:84.62% | Test Loss:0.60111 | Test acc:81.50%\n",
            "Epoch:2510 | Train Loss:0.47810 | Train acc:84.62% | Test Loss:0.60421 | Test acc:81.00%\n",
            "Epoch:2520 | Train Loss:0.47671 | Train acc:84.62% | Test Loss:0.60421 | Test acc:81.00%\n",
            "Epoch:2530 | Train Loss:0.47531 | Train acc:84.62% | Test Loss:0.60421 | Test acc:81.00%\n",
            "Epoch:2540 | Train Loss:0.47393 | Train acc:84.62% | Test Loss:0.60231 | Test acc:81.50%\n",
            "Epoch:2550 | Train Loss:0.47257 | Train acc:84.75% | Test Loss:0.60231 | Test acc:81.50%\n",
            "Epoch:2560 | Train Loss:0.47122 | Train acc:84.88% | Test Loss:0.60231 | Test acc:81.50%\n",
            "Epoch:2570 | Train Loss:0.46986 | Train acc:84.88% | Test Loss:0.60231 | Test acc:81.50%\n",
            "Epoch:2580 | Train Loss:0.46851 | Train acc:85.12% | Test Loss:0.60041 | Test acc:82.00%\n",
            "Epoch:2590 | Train Loss:0.46718 | Train acc:84.88% | Test Loss:0.60041 | Test acc:82.00%\n",
            "Epoch:2600 | Train Loss:0.46586 | Train acc:84.88% | Test Loss:0.60041 | Test acc:82.00%\n",
            "Epoch:2610 | Train Loss:0.46452 | Train acc:84.88% | Test Loss:0.60041 | Test acc:82.00%\n",
            "Epoch:2620 | Train Loss:0.46319 | Train acc:84.88% | Test Loss:0.60041 | Test acc:82.00%\n",
            "Epoch:2630 | Train Loss:0.46186 | Train acc:84.88% | Test Loss:0.60041 | Test acc:82.00%\n",
            "Epoch:2640 | Train Loss:0.46055 | Train acc:84.88% | Test Loss:0.60041 | Test acc:82.00%\n",
            "Epoch:2650 | Train Loss:0.45926 | Train acc:84.62% | Test Loss:0.59731 | Test acc:82.50%\n",
            "Epoch:2660 | Train Loss:0.45798 | Train acc:84.62% | Test Loss:0.59731 | Test acc:82.50%\n",
            "Epoch:2670 | Train Loss:0.45672 | Train acc:84.38% | Test Loss:0.60041 | Test acc:82.00%\n",
            "Epoch:2680 | Train Loss:0.45548 | Train acc:84.25% | Test Loss:0.60041 | Test acc:82.00%\n",
            "Epoch:2690 | Train Loss:0.45425 | Train acc:84.25% | Test Loss:0.59731 | Test acc:82.50%\n",
            "Epoch:2700 | Train Loss:0.45303 | Train acc:84.25% | Test Loss:0.59921 | Test acc:82.00%\n",
            "Epoch:2710 | Train Loss:0.45183 | Train acc:84.25% | Test Loss:0.59921 | Test acc:82.00%\n",
            "Epoch:2720 | Train Loss:0.45065 | Train acc:84.38% | Test Loss:0.59921 | Test acc:82.00%\n",
            "Epoch:2730 | Train Loss:0.44947 | Train acc:84.38% | Test Loss:0.59921 | Test acc:82.00%\n",
            "Epoch:2740 | Train Loss:0.44831 | Train acc:84.25% | Test Loss:0.59731 | Test acc:82.50%\n",
            "Epoch:2750 | Train Loss:0.44716 | Train acc:84.50% | Test Loss:0.59731 | Test acc:82.50%\n",
            "Epoch:2760 | Train Loss:0.44604 | Train acc:84.38% | Test Loss:0.59731 | Test acc:82.50%\n",
            "Epoch:2770 | Train Loss:0.44492 | Train acc:84.50% | Test Loss:0.59731 | Test acc:82.50%\n",
            "Epoch:2780 | Train Loss:0.44382 | Train acc:84.50% | Test Loss:0.59921 | Test acc:82.00%\n",
            "Epoch:2790 | Train Loss:0.44272 | Train acc:84.50% | Test Loss:0.59921 | Test acc:82.00%\n",
            "Epoch:2800 | Train Loss:0.44163 | Train acc:84.38% | Test Loss:0.59921 | Test acc:82.00%\n",
            "Epoch:2810 | Train Loss:0.44055 | Train acc:84.38% | Test Loss:0.59921 | Test acc:82.00%\n",
            "Epoch:2820 | Train Loss:0.43948 | Train acc:84.50% | Test Loss:0.59921 | Test acc:82.00%\n",
            "Epoch:2830 | Train Loss:0.43842 | Train acc:84.50% | Test Loss:0.59921 | Test acc:82.00%\n",
            "Epoch:2840 | Train Loss:0.43738 | Train acc:84.38% | Test Loss:0.59921 | Test acc:82.00%\n",
            "Epoch:2850 | Train Loss:0.43635 | Train acc:84.38% | Test Loss:0.59731 | Test acc:82.50%\n",
            "Epoch:2860 | Train Loss:0.43533 | Train acc:84.25% | Test Loss:0.59731 | Test acc:82.50%\n",
            "Epoch:2870 | Train Loss:0.43431 | Train acc:84.25% | Test Loss:0.59541 | Test acc:83.00%\n",
            "Epoch:2880 | Train Loss:0.43326 | Train acc:84.38% | Test Loss:0.60111 | Test acc:81.50%\n",
            "Epoch:2890 | Train Loss:0.43218 | Train acc:84.50% | Test Loss:0.59921 | Test acc:82.00%\n",
            "Epoch:2900 | Train Loss:0.43112 | Train acc:84.62% | Test Loss:0.59921 | Test acc:82.00%\n",
            "Epoch:2910 | Train Loss:0.43008 | Train acc:84.62% | Test Loss:0.59921 | Test acc:82.00%\n",
            "Epoch:2920 | Train Loss:0.42907 | Train acc:84.62% | Test Loss:0.59921 | Test acc:82.00%\n",
            "Epoch:2930 | Train Loss:0.42807 | Train acc:84.75% | Test Loss:0.59611 | Test acc:82.50%\n",
            "Epoch:2940 | Train Loss:0.42709 | Train acc:84.88% | Test Loss:0.59611 | Test acc:82.50%\n",
            "Epoch:2950 | Train Loss:0.42612 | Train acc:84.88% | Test Loss:0.59611 | Test acc:82.50%\n",
            "Epoch:2960 | Train Loss:0.42517 | Train acc:84.88% | Test Loss:0.59611 | Test acc:82.50%\n",
            "Epoch:2970 | Train Loss:0.42423 | Train acc:84.88% | Test Loss:0.59611 | Test acc:82.50%\n",
            "Epoch:2980 | Train Loss:0.42326 | Train acc:85.00% | Test Loss:0.59611 | Test acc:82.50%\n",
            "Epoch:2990 | Train Loss:0.42232 | Train acc:84.88% | Test Loss:0.59611 | Test acc:82.50%\n",
            "Epoch:3000 | Train Loss:0.42139 | Train acc:84.88% | Test Loss:0.59611 | Test acc:82.50%\n",
            "Epoch:3010 | Train Loss:0.42045 | Train acc:84.88% | Test Loss:0.59611 | Test acc:82.50%\n",
            "Epoch:3020 | Train Loss:0.41950 | Train acc:84.88% | Test Loss:0.59611 | Test acc:82.50%\n",
            "Epoch:3030 | Train Loss:0.41858 | Train acc:84.75% | Test Loss:0.59611 | Test acc:82.50%\n",
            "Epoch:3040 | Train Loss:0.41768 | Train acc:84.75% | Test Loss:0.59301 | Test acc:83.00%\n",
            "Epoch:3050 | Train Loss:0.41680 | Train acc:84.75% | Test Loss:0.59301 | Test acc:83.00%\n",
            "Epoch:3060 | Train Loss:0.41593 | Train acc:84.75% | Test Loss:0.59301 | Test acc:83.00%\n",
            "Epoch:3070 | Train Loss:0.41508 | Train acc:84.75% | Test Loss:0.59301 | Test acc:83.00%\n",
            "Epoch:3080 | Train Loss:0.41424 | Train acc:84.75% | Test Loss:0.59301 | Test acc:83.00%\n",
            "Epoch:3090 | Train Loss:0.41342 | Train acc:84.88% | Test Loss:0.59301 | Test acc:83.00%\n",
            "Epoch:3100 | Train Loss:0.41260 | Train acc:84.88% | Test Loss:0.59301 | Test acc:83.00%\n",
            "Epoch:3110 | Train Loss:0.41180 | Train acc:84.88% | Test Loss:0.59301 | Test acc:83.00%\n",
            "Epoch:3120 | Train Loss:0.41101 | Train acc:85.00% | Test Loss:0.59301 | Test acc:83.00%\n",
            "Epoch:3130 | Train Loss:0.41024 | Train acc:85.00% | Test Loss:0.59301 | Test acc:83.00%\n",
            "Epoch:3140 | Train Loss:0.40947 | Train acc:85.00% | Test Loss:0.59301 | Test acc:83.00%\n",
            "Epoch:3150 | Train Loss:0.40871 | Train acc:85.12% | Test Loss:0.59301 | Test acc:83.00%\n",
            "Epoch:3160 | Train Loss:0.40797 | Train acc:85.12% | Test Loss:0.59301 | Test acc:83.00%\n",
            "Epoch:3170 | Train Loss:0.40723 | Train acc:85.12% | Test Loss:0.59301 | Test acc:83.00%\n",
            "Epoch:3180 | Train Loss:0.40650 | Train acc:85.12% | Test Loss:0.59301 | Test acc:83.00%\n",
            "Epoch:3190 | Train Loss:0.40578 | Train acc:85.12% | Test Loss:0.59301 | Test acc:83.00%\n",
            "Epoch:3200 | Train Loss:0.40508 | Train acc:85.00% | Test Loss:0.59301 | Test acc:83.00%\n",
            "Epoch:3210 | Train Loss:0.40438 | Train acc:85.00% | Test Loss:0.59301 | Test acc:83.00%\n",
            "Epoch:3220 | Train Loss:0.40369 | Train acc:84.88% | Test Loss:0.59301 | Test acc:83.00%\n",
            "Epoch:3230 | Train Loss:0.40300 | Train acc:84.88% | Test Loss:0.59301 | Test acc:83.00%\n",
            "Epoch:3240 | Train Loss:0.40233 | Train acc:84.88% | Test Loss:0.59301 | Test acc:83.00%\n",
            "Epoch:3250 | Train Loss:0.40167 | Train acc:84.88% | Test Loss:0.59301 | Test acc:83.00%\n",
            "Epoch:3260 | Train Loss:0.40102 | Train acc:84.88% | Test Loss:0.59301 | Test acc:83.00%\n",
            "Epoch:3270 | Train Loss:0.40037 | Train acc:84.88% | Test Loss:0.59301 | Test acc:83.00%\n",
            "Epoch:3280 | Train Loss:0.39973 | Train acc:84.88% | Test Loss:0.59301 | Test acc:83.00%\n",
            "Epoch:3290 | Train Loss:0.39910 | Train acc:85.00% | Test Loss:0.59301 | Test acc:83.00%\n",
            "Epoch:3300 | Train Loss:0.39848 | Train acc:85.00% | Test Loss:0.59301 | Test acc:83.00%\n",
            "Epoch:3310 | Train Loss:0.39787 | Train acc:85.00% | Test Loss:0.59301 | Test acc:83.00%\n",
            "Epoch:3320 | Train Loss:0.39727 | Train acc:85.00% | Test Loss:0.59301 | Test acc:83.00%\n",
            "Epoch:3330 | Train Loss:0.39667 | Train acc:85.00% | Test Loss:0.59301 | Test acc:83.00%\n",
            "Epoch:3340 | Train Loss:0.39608 | Train acc:85.00% | Test Loss:0.59301 | Test acc:83.00%\n",
            "Epoch:3350 | Train Loss:0.39550 | Train acc:85.00% | Test Loss:0.59301 | Test acc:83.00%\n",
            "Epoch:3360 | Train Loss:0.39492 | Train acc:85.12% | Test Loss:0.59301 | Test acc:83.00%\n",
            "Epoch:3370 | Train Loss:0.39436 | Train acc:85.25% | Test Loss:0.59301 | Test acc:83.00%\n",
            "Epoch:3380 | Train Loss:0.39380 | Train acc:85.38% | Test Loss:0.59301 | Test acc:83.00%\n",
            "Epoch:3390 | Train Loss:0.39325 | Train acc:85.38% | Test Loss:0.59301 | Test acc:83.00%\n",
            "Epoch:3400 | Train Loss:0.39269 | Train acc:85.25% | Test Loss:0.59301 | Test acc:83.00%\n",
            "Epoch:3410 | Train Loss:0.39212 | Train acc:85.12% | Test Loss:0.59301 | Test acc:83.00%\n",
            "Epoch:3420 | Train Loss:0.39152 | Train acc:84.88% | Test Loss:0.59301 | Test acc:83.00%\n",
            "Epoch:3430 | Train Loss:0.39091 | Train acc:84.88% | Test Loss:0.59301 | Test acc:83.00%\n",
            "Epoch:3440 | Train Loss:0.39033 | Train acc:84.88% | Test Loss:0.59301 | Test acc:83.00%\n",
            "Epoch:3450 | Train Loss:0.38976 | Train acc:84.88% | Test Loss:0.59301 | Test acc:83.00%\n",
            "Epoch:3460 | Train Loss:0.38921 | Train acc:84.88% | Test Loss:0.59301 | Test acc:83.00%\n",
            "Epoch:3470 | Train Loss:0.38858 | Train acc:84.88% | Test Loss:0.59301 | Test acc:83.00%\n",
            "Epoch:3480 | Train Loss:0.38793 | Train acc:84.75% | Test Loss:0.59301 | Test acc:83.00%\n",
            "Epoch:3490 | Train Loss:0.38732 | Train acc:84.88% | Test Loss:0.58991 | Test acc:83.50%\n",
            "Epoch:3500 | Train Loss:0.38673 | Train acc:84.88% | Test Loss:0.58991 | Test acc:83.50%\n",
            "Epoch:3510 | Train Loss:0.38615 | Train acc:84.88% | Test Loss:0.59301 | Test acc:83.00%\n",
            "Epoch:3520 | Train Loss:0.38560 | Train acc:84.75% | Test Loss:0.59301 | Test acc:83.00%\n",
            "Epoch:3530 | Train Loss:0.38506 | Train acc:84.75% | Test Loss:0.59301 | Test acc:83.00%\n",
            "Epoch:3540 | Train Loss:0.38454 | Train acc:84.88% | Test Loss:0.59301 | Test acc:83.00%\n",
            "Epoch:3550 | Train Loss:0.38402 | Train acc:84.88% | Test Loss:0.59301 | Test acc:83.00%\n",
            "Epoch:3560 | Train Loss:0.38352 | Train acc:85.00% | Test Loss:0.59301 | Test acc:83.00%\n",
            "Epoch:3570 | Train Loss:0.38303 | Train acc:84.88% | Test Loss:0.59301 | Test acc:83.00%\n",
            "Epoch:3580 | Train Loss:0.38255 | Train acc:84.88% | Test Loss:0.59301 | Test acc:83.00%\n",
            "Epoch:3590 | Train Loss:0.38208 | Train acc:84.88% | Test Loss:0.59301 | Test acc:83.00%\n",
            "Epoch:3600 | Train Loss:0.38161 | Train acc:84.88% | Test Loss:0.59611 | Test acc:82.50%\n",
            "Epoch:3610 | Train Loss:0.38116 | Train acc:84.88% | Test Loss:0.59611 | Test acc:82.50%\n",
            "Epoch:3620 | Train Loss:0.38071 | Train acc:84.88% | Test Loss:0.59421 | Test acc:83.00%\n",
            "Epoch:3630 | Train Loss:0.38027 | Train acc:85.00% | Test Loss:0.59421 | Test acc:83.00%\n",
            "Epoch:3640 | Train Loss:0.37983 | Train acc:85.00% | Test Loss:0.59421 | Test acc:83.00%\n",
            "Epoch:3650 | Train Loss:0.37940 | Train acc:85.12% | Test Loss:0.59421 | Test acc:83.00%\n",
            "Epoch:3660 | Train Loss:0.37898 | Train acc:85.12% | Test Loss:0.59421 | Test acc:83.00%\n",
            "Epoch:3670 | Train Loss:0.37857 | Train acc:85.12% | Test Loss:0.59111 | Test acc:83.50%\n",
            "Epoch:3680 | Train Loss:0.37816 | Train acc:85.25% | Test Loss:0.58801 | Test acc:84.00%\n",
            "Epoch:3690 | Train Loss:0.37775 | Train acc:85.25% | Test Loss:0.58801 | Test acc:84.00%\n",
            "Epoch:3700 | Train Loss:0.37735 | Train acc:85.25% | Test Loss:0.58801 | Test acc:84.00%\n",
            "Epoch:3710 | Train Loss:0.37696 | Train acc:85.25% | Test Loss:0.58801 | Test acc:84.00%\n",
            "Epoch:3720 | Train Loss:0.37657 | Train acc:85.25% | Test Loss:0.58801 | Test acc:84.00%\n",
            "Epoch:3730 | Train Loss:0.37619 | Train acc:85.25% | Test Loss:0.59111 | Test acc:83.50%\n",
            "Epoch:3740 | Train Loss:0.37582 | Train acc:85.25% | Test Loss:0.59111 | Test acc:83.50%\n",
            "Epoch:3750 | Train Loss:0.37544 | Train acc:85.25% | Test Loss:0.59111 | Test acc:83.50%\n",
            "Epoch:3760 | Train Loss:0.37508 | Train acc:85.25% | Test Loss:0.59111 | Test acc:83.50%\n",
            "Epoch:3770 | Train Loss:0.37472 | Train acc:85.25% | Test Loss:0.59111 | Test acc:83.50%\n",
            "Epoch:3780 | Train Loss:0.37436 | Train acc:85.25% | Test Loss:0.59111 | Test acc:83.50%\n",
            "Epoch:3790 | Train Loss:0.37401 | Train acc:85.25% | Test Loss:0.59111 | Test acc:83.50%\n",
            "Epoch:3800 | Train Loss:0.37366 | Train acc:85.25% | Test Loss:0.59111 | Test acc:83.50%\n",
            "Epoch:3810 | Train Loss:0.37332 | Train acc:85.25% | Test Loss:0.59111 | Test acc:83.50%\n",
            "Epoch:3820 | Train Loss:0.37298 | Train acc:85.25% | Test Loss:0.59111 | Test acc:83.50%\n",
            "Epoch:3830 | Train Loss:0.37265 | Train acc:85.25% | Test Loss:0.59111 | Test acc:83.50%\n",
            "Epoch:3840 | Train Loss:0.37232 | Train acc:85.38% | Test Loss:0.59111 | Test acc:83.50%\n",
            "Epoch:3850 | Train Loss:0.37199 | Train acc:85.50% | Test Loss:0.59111 | Test acc:83.50%\n",
            "Epoch:3860 | Train Loss:0.37167 | Train acc:85.50% | Test Loss:0.59111 | Test acc:83.50%\n",
            "Epoch:3870 | Train Loss:0.37136 | Train acc:85.50% | Test Loss:0.59111 | Test acc:83.50%\n",
            "Epoch:3880 | Train Loss:0.37104 | Train acc:85.50% | Test Loss:0.59111 | Test acc:83.50%\n",
            "Epoch:3890 | Train Loss:0.37074 | Train acc:85.50% | Test Loss:0.59111 | Test acc:83.50%\n",
            "Epoch:3900 | Train Loss:0.37043 | Train acc:85.50% | Test Loss:0.59301 | Test acc:83.00%\n",
            "Epoch:3910 | Train Loss:0.37013 | Train acc:85.50% | Test Loss:0.59301 | Test acc:83.00%\n",
            "Epoch:3920 | Train Loss:0.36984 | Train acc:85.50% | Test Loss:0.59301 | Test acc:83.00%\n",
            "Epoch:3930 | Train Loss:0.36955 | Train acc:85.50% | Test Loss:0.59301 | Test acc:83.00%\n",
            "Epoch:3940 | Train Loss:0.36926 | Train acc:85.50% | Test Loss:0.59301 | Test acc:83.00%\n",
            "Epoch:3950 | Train Loss:0.36897 | Train acc:85.50% | Test Loss:0.59301 | Test acc:83.00%\n",
            "Epoch:3960 | Train Loss:0.36869 | Train acc:85.50% | Test Loss:0.59301 | Test acc:83.00%\n",
            "Epoch:3970 | Train Loss:0.36842 | Train acc:85.50% | Test Loss:0.59301 | Test acc:83.00%\n",
            "Epoch:3980 | Train Loss:0.36815 | Train acc:85.25% | Test Loss:0.59301 | Test acc:83.00%\n",
            "Epoch:3990 | Train Loss:0.36788 | Train acc:85.25% | Test Loss:0.59301 | Test acc:83.00%\n",
            "Epoch:4000 | Train Loss:0.36761 | Train acc:85.25% | Test Loss:0.59301 | Test acc:83.00%\n",
            "Epoch:4010 | Train Loss:0.36735 | Train acc:85.25% | Test Loss:0.59301 | Test acc:83.00%\n",
            "Epoch:4020 | Train Loss:0.36709 | Train acc:85.25% | Test Loss:0.59301 | Test acc:83.00%\n",
            "Epoch:4030 | Train Loss:0.36683 | Train acc:85.25% | Test Loss:0.59301 | Test acc:83.00%\n",
            "Epoch:4040 | Train Loss:0.36658 | Train acc:85.25% | Test Loss:0.59301 | Test acc:83.00%\n",
            "Epoch:4050 | Train Loss:0.36633 | Train acc:85.25% | Test Loss:0.59301 | Test acc:83.00%\n",
            "Epoch:4060 | Train Loss:0.36609 | Train acc:85.25% | Test Loss:0.59301 | Test acc:83.00%\n",
            "Epoch:4070 | Train Loss:0.36585 | Train acc:85.12% | Test Loss:0.58991 | Test acc:83.50%\n",
            "Epoch:4080 | Train Loss:0.36561 | Train acc:85.12% | Test Loss:0.58991 | Test acc:83.50%\n",
            "Epoch:4090 | Train Loss:0.36537 | Train acc:85.00% | Test Loss:0.58991 | Test acc:83.50%\n",
            "Epoch:4100 | Train Loss:0.36509 | Train acc:85.25% | Test Loss:0.58801 | Test acc:84.00%\n",
            "Epoch:4110 | Train Loss:0.36483 | Train acc:85.25% | Test Loss:0.59111 | Test acc:83.50%\n",
            "Epoch:4120 | Train Loss:0.36458 | Train acc:85.25% | Test Loss:0.59111 | Test acc:83.50%\n",
            "Epoch:4130 | Train Loss:0.36434 | Train acc:85.25% | Test Loss:0.59111 | Test acc:83.50%\n",
            "Epoch:4140 | Train Loss:0.36411 | Train acc:85.38% | Test Loss:0.59111 | Test acc:83.50%\n",
            "Epoch:4150 | Train Loss:0.36387 | Train acc:85.38% | Test Loss:0.59111 | Test acc:83.50%\n",
            "Epoch:4160 | Train Loss:0.36365 | Train acc:85.38% | Test Loss:0.59421 | Test acc:83.00%\n",
            "Epoch:4170 | Train Loss:0.36342 | Train acc:85.12% | Test Loss:0.59421 | Test acc:83.00%\n",
            "Epoch:4180 | Train Loss:0.36321 | Train acc:85.00% | Test Loss:0.59611 | Test acc:82.50%\n",
            "Epoch:4190 | Train Loss:0.36299 | Train acc:85.00% | Test Loss:0.59611 | Test acc:82.50%\n",
            "Epoch:4200 | Train Loss:0.36277 | Train acc:85.00% | Test Loss:0.59611 | Test acc:82.50%\n",
            "Epoch:4210 | Train Loss:0.36252 | Train acc:85.00% | Test Loss:0.59611 | Test acc:82.50%\n",
            "Epoch:4220 | Train Loss:0.36229 | Train acc:84.88% | Test Loss:0.59611 | Test acc:82.50%\n",
            "Epoch:4230 | Train Loss:0.36199 | Train acc:84.88% | Test Loss:0.59611 | Test acc:82.50%\n",
            "Epoch:4240 | Train Loss:0.36173 | Train acc:85.00% | Test Loss:0.59731 | Test acc:82.50%\n",
            "Epoch:4250 | Train Loss:0.36147 | Train acc:84.88% | Test Loss:0.59731 | Test acc:82.50%\n",
            "Epoch:4260 | Train Loss:0.36123 | Train acc:84.75% | Test Loss:0.59731 | Test acc:82.50%\n",
            "Epoch:4270 | Train Loss:0.36100 | Train acc:84.75% | Test Loss:0.59731 | Test acc:82.50%\n",
            "Epoch:4280 | Train Loss:0.36078 | Train acc:84.62% | Test Loss:0.59731 | Test acc:82.50%\n",
            "Epoch:4290 | Train Loss:0.36056 | Train acc:84.62% | Test Loss:0.59731 | Test acc:82.50%\n",
            "Epoch:4300 | Train Loss:0.36035 | Train acc:84.38% | Test Loss:0.59731 | Test acc:82.50%\n",
            "Epoch:4310 | Train Loss:0.36015 | Train acc:84.38% | Test Loss:0.59731 | Test acc:82.50%\n",
            "Epoch:4320 | Train Loss:0.35995 | Train acc:84.38% | Test Loss:0.59731 | Test acc:82.50%\n",
            "Epoch:4330 | Train Loss:0.35975 | Train acc:84.25% | Test Loss:0.59731 | Test acc:82.50%\n",
            "Epoch:4340 | Train Loss:0.35956 | Train acc:84.38% | Test Loss:0.59731 | Test acc:82.50%\n",
            "Epoch:4350 | Train Loss:0.35937 | Train acc:84.25% | Test Loss:0.59731 | Test acc:82.50%\n",
            "Epoch:4360 | Train Loss:0.35919 | Train acc:84.25% | Test Loss:0.59731 | Test acc:82.50%\n",
            "Epoch:4370 | Train Loss:0.35899 | Train acc:84.12% | Test Loss:0.59731 | Test acc:82.50%\n",
            "Epoch:4380 | Train Loss:0.35876 | Train acc:84.12% | Test Loss:0.59731 | Test acc:82.50%\n",
            "Epoch:4390 | Train Loss:0.35855 | Train acc:84.00% | Test Loss:0.59731 | Test acc:82.50%\n",
            "Epoch:4400 | Train Loss:0.35835 | Train acc:84.00% | Test Loss:0.59731 | Test acc:82.50%\n",
            "Epoch:4410 | Train Loss:0.35815 | Train acc:83.88% | Test Loss:0.59731 | Test acc:82.50%\n",
            "Epoch:4420 | Train Loss:0.35796 | Train acc:83.88% | Test Loss:0.59731 | Test acc:82.50%\n",
            "Epoch:4430 | Train Loss:0.35778 | Train acc:83.88% | Test Loss:0.59731 | Test acc:82.50%\n",
            "Epoch:4440 | Train Loss:0.35755 | Train acc:84.00% | Test Loss:0.59731 | Test acc:82.50%\n",
            "Epoch:4450 | Train Loss:0.35731 | Train acc:84.00% | Test Loss:0.59731 | Test acc:82.50%\n",
            "Epoch:4460 | Train Loss:0.35709 | Train acc:84.00% | Test Loss:0.59731 | Test acc:82.50%\n",
            "Epoch:4470 | Train Loss:0.35689 | Train acc:84.00% | Test Loss:0.59731 | Test acc:82.50%\n",
            "Epoch:4480 | Train Loss:0.35669 | Train acc:84.00% | Test Loss:0.59731 | Test acc:82.50%\n",
            "Epoch:4490 | Train Loss:0.35650 | Train acc:84.12% | Test Loss:0.59731 | Test acc:82.50%\n",
            "Epoch:4500 | Train Loss:0.35631 | Train acc:84.12% | Test Loss:0.59731 | Test acc:82.50%\n",
            "Epoch:4510 | Train Loss:0.35607 | Train acc:84.00% | Test Loss:0.59731 | Test acc:82.50%\n",
            "Epoch:4520 | Train Loss:0.35586 | Train acc:84.25% | Test Loss:0.59731 | Test acc:82.50%\n",
            "Epoch:4530 | Train Loss:0.35566 | Train acc:84.25% | Test Loss:0.59541 | Test acc:83.00%\n",
            "Epoch:4540 | Train Loss:0.35539 | Train acc:84.25% | Test Loss:0.59541 | Test acc:83.00%\n",
            "Epoch:4550 | Train Loss:0.35515 | Train acc:84.00% | Test Loss:0.59541 | Test acc:83.00%\n",
            "Epoch:4560 | Train Loss:0.35489 | Train acc:83.88% | Test Loss:0.59541 | Test acc:83.00%\n",
            "Epoch:4570 | Train Loss:0.35459 | Train acc:83.75% | Test Loss:0.59541 | Test acc:83.00%\n",
            "Epoch:4580 | Train Loss:0.35433 | Train acc:83.88% | Test Loss:0.59541 | Test acc:83.00%\n",
            "Epoch:4590 | Train Loss:0.35408 | Train acc:84.00% | Test Loss:0.59541 | Test acc:83.00%\n",
            "Epoch:4600 | Train Loss:0.35386 | Train acc:84.00% | Test Loss:0.59231 | Test acc:83.50%\n",
            "Epoch:4610 | Train Loss:0.35358 | Train acc:84.12% | Test Loss:0.59231 | Test acc:83.50%\n",
            "Epoch:4620 | Train Loss:0.35331 | Train acc:84.12% | Test Loss:0.59231 | Test acc:83.50%\n",
            "Epoch:4630 | Train Loss:0.35308 | Train acc:84.25% | Test Loss:0.59231 | Test acc:83.50%\n",
            "Epoch:4640 | Train Loss:0.35281 | Train acc:84.50% | Test Loss:0.59231 | Test acc:83.50%\n",
            "Epoch:4650 | Train Loss:0.35254 | Train acc:84.50% | Test Loss:0.59231 | Test acc:83.50%\n",
            "Epoch:4660 | Train Loss:0.35229 | Train acc:84.50% | Test Loss:0.59231 | Test acc:83.50%\n",
            "Epoch:4670 | Train Loss:0.35207 | Train acc:84.88% | Test Loss:0.59231 | Test acc:83.50%\n",
            "Epoch:4680 | Train Loss:0.35186 | Train acc:84.88% | Test Loss:0.59231 | Test acc:83.50%\n",
            "Epoch:4690 | Train Loss:0.35166 | Train acc:84.75% | Test Loss:0.59231 | Test acc:83.50%\n",
            "Epoch:4700 | Train Loss:0.35148 | Train acc:84.88% | Test Loss:0.59541 | Test acc:83.00%\n",
            "Epoch:4710 | Train Loss:0.35130 | Train acc:84.88% | Test Loss:0.59541 | Test acc:83.00%\n",
            "Epoch:4720 | Train Loss:0.35113 | Train acc:84.88% | Test Loss:0.59541 | Test acc:83.00%\n",
            "Epoch:4730 | Train Loss:0.35097 | Train acc:84.88% | Test Loss:0.59541 | Test acc:83.00%\n",
            "Epoch:4740 | Train Loss:0.35081 | Train acc:84.88% | Test Loss:0.59541 | Test acc:83.00%\n",
            "Epoch:4750 | Train Loss:0.35066 | Train acc:84.88% | Test Loss:0.59541 | Test acc:83.00%\n",
            "Epoch:4760 | Train Loss:0.35048 | Train acc:84.88% | Test Loss:0.59541 | Test acc:83.00%\n",
            "Epoch:4770 | Train Loss:0.35028 | Train acc:84.88% | Test Loss:0.59541 | Test acc:83.00%\n",
            "Epoch:4780 | Train Loss:0.35010 | Train acc:84.88% | Test Loss:0.59541 | Test acc:83.00%\n",
            "Epoch:4790 | Train Loss:0.34992 | Train acc:84.88% | Test Loss:0.59541 | Test acc:83.00%\n",
            "Epoch:4800 | Train Loss:0.34976 | Train acc:84.88% | Test Loss:0.59351 | Test acc:83.50%\n",
            "Epoch:4810 | Train Loss:0.34961 | Train acc:84.88% | Test Loss:0.59351 | Test acc:83.50%\n",
            "Epoch:4820 | Train Loss:0.34946 | Train acc:84.88% | Test Loss:0.59351 | Test acc:83.50%\n",
            "Epoch:4830 | Train Loss:0.34932 | Train acc:84.88% | Test Loss:0.59351 | Test acc:83.50%\n",
            "Epoch:4840 | Train Loss:0.34918 | Train acc:84.88% | Test Loss:0.59351 | Test acc:83.50%\n",
            "Epoch:4850 | Train Loss:0.34904 | Train acc:84.75% | Test Loss:0.59041 | Test acc:84.00%\n",
            "Epoch:4860 | Train Loss:0.34891 | Train acc:84.75% | Test Loss:0.59041 | Test acc:84.00%\n",
            "Epoch:4870 | Train Loss:0.34878 | Train acc:84.75% | Test Loss:0.59041 | Test acc:84.00%\n",
            "Epoch:4880 | Train Loss:0.34865 | Train acc:84.75% | Test Loss:0.59041 | Test acc:84.00%\n",
            "Epoch:4890 | Train Loss:0.34853 | Train acc:84.75% | Test Loss:0.59041 | Test acc:84.00%\n",
            "Epoch:4900 | Train Loss:0.34840 | Train acc:84.75% | Test Loss:0.59041 | Test acc:84.00%\n",
            "Epoch:4910 | Train Loss:0.34828 | Train acc:84.75% | Test Loss:0.59041 | Test acc:84.00%\n",
            "Epoch:4920 | Train Loss:0.34816 | Train acc:84.75% | Test Loss:0.59041 | Test acc:84.00%\n",
            "Epoch:4930 | Train Loss:0.34804 | Train acc:84.75% | Test Loss:0.59041 | Test acc:84.00%\n",
            "Epoch:4940 | Train Loss:0.34776 | Train acc:84.88% | Test Loss:0.59231 | Test acc:83.50%\n",
            "Epoch:4950 | Train Loss:0.34751 | Train acc:84.62% | Test Loss:0.59231 | Test acc:83.50%\n",
            "Epoch:4960 | Train Loss:0.34729 | Train acc:84.62% | Test Loss:0.59231 | Test acc:83.50%\n",
            "Epoch:4970 | Train Loss:0.34710 | Train acc:84.62% | Test Loss:0.59231 | Test acc:83.50%\n",
            "Epoch:4980 | Train Loss:0.34692 | Train acc:84.62% | Test Loss:0.59231 | Test acc:83.50%\n",
            "Epoch:4990 | Train Loss:0.34676 | Train acc:84.75% | Test Loss:0.59231 | Test acc:83.50%\n",
            "Epoch:5000 | Train Loss:0.34660 | Train acc:84.75% | Test Loss:0.59231 | Test acc:83.50%\n",
            "Epoch:5010 | Train Loss:0.34646 | Train acc:84.88% | Test Loss:0.59231 | Test acc:83.50%\n",
            "Epoch:5020 | Train Loss:0.34632 | Train acc:84.88% | Test Loss:0.59231 | Test acc:83.50%\n",
            "Epoch:5030 | Train Loss:0.34619 | Train acc:84.88% | Test Loss:0.59041 | Test acc:84.00%\n",
            "Epoch:5040 | Train Loss:0.34606 | Train acc:84.88% | Test Loss:0.59041 | Test acc:84.00%\n",
            "Epoch:5050 | Train Loss:0.34594 | Train acc:84.75% | Test Loss:0.59041 | Test acc:84.00%\n",
            "Epoch:5060 | Train Loss:0.34582 | Train acc:84.75% | Test Loss:0.59041 | Test acc:84.00%\n",
            "Epoch:5070 | Train Loss:0.34571 | Train acc:84.75% | Test Loss:0.59041 | Test acc:84.00%\n",
            "Epoch:5080 | Train Loss:0.34559 | Train acc:84.75% | Test Loss:0.59041 | Test acc:84.00%\n",
            "Epoch:5090 | Train Loss:0.34548 | Train acc:84.75% | Test Loss:0.59041 | Test acc:84.00%\n",
            "Epoch:5100 | Train Loss:0.34538 | Train acc:84.75% | Test Loss:0.59041 | Test acc:84.00%\n",
            "Epoch:5110 | Train Loss:0.34527 | Train acc:84.75% | Test Loss:0.59041 | Test acc:84.00%\n",
            "Epoch:5120 | Train Loss:0.34517 | Train acc:84.75% | Test Loss:0.59041 | Test acc:84.00%\n",
            "Epoch:5130 | Train Loss:0.34506 | Train acc:84.75% | Test Loss:0.59041 | Test acc:84.00%\n",
            "Epoch:5140 | Train Loss:0.34496 | Train acc:84.75% | Test Loss:0.59041 | Test acc:84.00%\n",
            "Epoch:5150 | Train Loss:0.34486 | Train acc:84.75% | Test Loss:0.59041 | Test acc:84.00%\n",
            "Epoch:5160 | Train Loss:0.34477 | Train acc:84.75% | Test Loss:0.59041 | Test acc:84.00%\n",
            "Epoch:5170 | Train Loss:0.34467 | Train acc:84.75% | Test Loss:0.59041 | Test acc:84.00%\n",
            "Epoch:5180 | Train Loss:0.34458 | Train acc:84.75% | Test Loss:0.59041 | Test acc:84.00%\n",
            "Epoch:5190 | Train Loss:0.34448 | Train acc:84.75% | Test Loss:0.59041 | Test acc:84.00%\n",
            "Epoch:5200 | Train Loss:0.34439 | Train acc:84.75% | Test Loss:0.59041 | Test acc:84.00%\n",
            "Epoch:5210 | Train Loss:0.34430 | Train acc:84.75% | Test Loss:0.59041 | Test acc:84.00%\n",
            "Epoch:5220 | Train Loss:0.34421 | Train acc:84.75% | Test Loss:0.59041 | Test acc:84.00%\n",
            "Epoch:5230 | Train Loss:0.34412 | Train acc:84.75% | Test Loss:0.59041 | Test acc:84.00%\n",
            "Epoch:5240 | Train Loss:0.34403 | Train acc:84.75% | Test Loss:0.59041 | Test acc:84.00%\n",
            "Epoch:5250 | Train Loss:0.34394 | Train acc:84.75% | Test Loss:0.59041 | Test acc:84.00%\n",
            "Epoch:5260 | Train Loss:0.34386 | Train acc:84.75% | Test Loss:0.59041 | Test acc:84.00%\n",
            "Epoch:5270 | Train Loss:0.34377 | Train acc:84.75% | Test Loss:0.59041 | Test acc:84.00%\n",
            "Epoch:5280 | Train Loss:0.34369 | Train acc:84.75% | Test Loss:0.59041 | Test acc:84.00%\n",
            "Epoch:5290 | Train Loss:0.34361 | Train acc:84.75% | Test Loss:0.59041 | Test acc:84.00%\n",
            "Epoch:5300 | Train Loss:0.34352 | Train acc:84.75% | Test Loss:0.59041 | Test acc:84.00%\n",
            "Epoch:5310 | Train Loss:0.34344 | Train acc:84.75% | Test Loss:0.59041 | Test acc:84.00%\n",
            "Epoch:5320 | Train Loss:0.34336 | Train acc:84.75% | Test Loss:0.59041 | Test acc:84.00%\n",
            "Epoch:5330 | Train Loss:0.34328 | Train acc:84.75% | Test Loss:0.59041 | Test acc:84.00%\n",
            "Epoch:5340 | Train Loss:0.34320 | Train acc:84.75% | Test Loss:0.59041 | Test acc:84.00%\n",
            "Epoch:5350 | Train Loss:0.34313 | Train acc:84.75% | Test Loss:0.59041 | Test acc:84.00%\n",
            "Epoch:5360 | Train Loss:0.34305 | Train acc:84.75% | Test Loss:0.59041 | Test acc:84.00%\n",
            "Epoch:5370 | Train Loss:0.34297 | Train acc:84.75% | Test Loss:0.59041 | Test acc:84.00%\n",
            "Epoch:5380 | Train Loss:0.34290 | Train acc:84.75% | Test Loss:0.59041 | Test acc:84.00%\n",
            "Epoch:5390 | Train Loss:0.34283 | Train acc:84.75% | Test Loss:0.59041 | Test acc:84.00%\n",
            "Epoch:5400 | Train Loss:0.34275 | Train acc:84.75% | Test Loss:0.59041 | Test acc:84.00%\n",
            "Epoch:5410 | Train Loss:0.34268 | Train acc:84.75% | Test Loss:0.59041 | Test acc:84.00%\n",
            "Epoch:5420 | Train Loss:0.34261 | Train acc:84.75% | Test Loss:0.59041 | Test acc:84.00%\n",
            "Epoch:5430 | Train Loss:0.34254 | Train acc:84.75% | Test Loss:0.59041 | Test acc:84.00%\n",
            "Epoch:5440 | Train Loss:0.34247 | Train acc:84.75% | Test Loss:0.59041 | Test acc:84.00%\n",
            "Epoch:5450 | Train Loss:0.34240 | Train acc:84.75% | Test Loss:0.59041 | Test acc:84.00%\n",
            "Epoch:5460 | Train Loss:0.34233 | Train acc:84.75% | Test Loss:0.59041 | Test acc:84.00%\n",
            "Epoch:5470 | Train Loss:0.34226 | Train acc:84.75% | Test Loss:0.59041 | Test acc:84.00%\n",
            "Epoch:5480 | Train Loss:0.34219 | Train acc:84.75% | Test Loss:0.59041 | Test acc:84.00%\n",
            "Epoch:5490 | Train Loss:0.34213 | Train acc:84.75% | Test Loss:0.59041 | Test acc:84.00%\n",
            "Epoch:5500 | Train Loss:0.34206 | Train acc:84.75% | Test Loss:0.59041 | Test acc:84.00%\n",
            "Epoch:5510 | Train Loss:0.34200 | Train acc:84.75% | Test Loss:0.59041 | Test acc:84.00%\n",
            "Epoch:5520 | Train Loss:0.34193 | Train acc:84.75% | Test Loss:0.59041 | Test acc:84.00%\n",
            "Epoch:5530 | Train Loss:0.34187 | Train acc:84.75% | Test Loss:0.59041 | Test acc:84.00%\n",
            "Epoch:5540 | Train Loss:0.34181 | Train acc:84.75% | Test Loss:0.59041 | Test acc:84.00%\n",
            "Epoch:5550 | Train Loss:0.34175 | Train acc:84.75% | Test Loss:0.59041 | Test acc:84.00%\n",
            "Epoch:5560 | Train Loss:0.34168 | Train acc:84.75% | Test Loss:0.59041 | Test acc:84.00%\n",
            "Epoch:5570 | Train Loss:0.34162 | Train acc:84.75% | Test Loss:0.59041 | Test acc:84.00%\n",
            "Epoch:5580 | Train Loss:0.34156 | Train acc:84.75% | Test Loss:0.59041 | Test acc:84.00%\n",
            "Epoch:5590 | Train Loss:0.34150 | Train acc:84.75% | Test Loss:0.59041 | Test acc:84.00%\n",
            "Epoch:5600 | Train Loss:0.34145 | Train acc:84.75% | Test Loss:0.59041 | Test acc:84.00%\n",
            "Epoch:5610 | Train Loss:0.34139 | Train acc:84.75% | Test Loss:0.59041 | Test acc:84.00%\n",
            "Epoch:5620 | Train Loss:0.34133 | Train acc:84.75% | Test Loss:0.59041 | Test acc:84.00%\n",
            "Epoch:5630 | Train Loss:0.34127 | Train acc:84.75% | Test Loss:0.59041 | Test acc:84.00%\n",
            "Epoch:5640 | Train Loss:0.34122 | Train acc:84.75% | Test Loss:0.59041 | Test acc:84.00%\n",
            "Epoch:5650 | Train Loss:0.34116 | Train acc:84.75% | Test Loss:0.59041 | Test acc:84.00%\n",
            "Epoch:5660 | Train Loss:0.34111 | Train acc:84.75% | Test Loss:0.59041 | Test acc:84.00%\n",
            "Epoch:5670 | Train Loss:0.34105 | Train acc:84.75% | Test Loss:0.59041 | Test acc:84.00%\n",
            "Epoch:5680 | Train Loss:0.34100 | Train acc:84.75% | Test Loss:0.59041 | Test acc:84.00%\n",
            "Epoch:5690 | Train Loss:0.34094 | Train acc:84.75% | Test Loss:0.59041 | Test acc:84.00%\n",
            "Epoch:5700 | Train Loss:0.34089 | Train acc:84.75% | Test Loss:0.59041 | Test acc:84.00%\n",
            "Epoch:5710 | Train Loss:0.34084 | Train acc:84.75% | Test Loss:0.59041 | Test acc:84.00%\n",
            "Epoch:5720 | Train Loss:0.34079 | Train acc:84.75% | Test Loss:0.59041 | Test acc:84.00%\n",
            "Epoch:5730 | Train Loss:0.34074 | Train acc:84.62% | Test Loss:0.59041 | Test acc:84.00%\n",
            "Epoch:5740 | Train Loss:0.34069 | Train acc:84.62% | Test Loss:0.59041 | Test acc:84.00%\n",
            "Epoch:5750 | Train Loss:0.34064 | Train acc:84.62% | Test Loss:0.59041 | Test acc:84.00%\n",
            "Epoch:5760 | Train Loss:0.34059 | Train acc:84.62% | Test Loss:0.59041 | Test acc:84.00%\n",
            "Epoch:5770 | Train Loss:0.34054 | Train acc:84.62% | Test Loss:0.59041 | Test acc:84.00%\n",
            "Epoch:5780 | Train Loss:0.34049 | Train acc:84.75% | Test Loss:0.59041 | Test acc:84.00%\n",
            "Epoch:5790 | Train Loss:0.34044 | Train acc:84.75% | Test Loss:0.59041 | Test acc:84.00%\n",
            "Epoch:5800 | Train Loss:0.34039 | Train acc:84.75% | Test Loss:0.59041 | Test acc:84.00%\n",
            "Epoch:5810 | Train Loss:0.34035 | Train acc:84.75% | Test Loss:0.59041 | Test acc:84.00%\n",
            "Epoch:5820 | Train Loss:0.34030 | Train acc:84.75% | Test Loss:0.59041 | Test acc:84.00%\n",
            "Epoch:5830 | Train Loss:0.34026 | Train acc:84.75% | Test Loss:0.59041 | Test acc:84.00%\n",
            "Epoch:5840 | Train Loss:0.34021 | Train acc:84.75% | Test Loss:0.59041 | Test acc:84.00%\n",
            "Epoch:5850 | Train Loss:0.34016 | Train acc:84.75% | Test Loss:0.59041 | Test acc:84.00%\n",
            "Epoch:5860 | Train Loss:0.34012 | Train acc:84.75% | Test Loss:0.59041 | Test acc:84.00%\n",
            "Epoch:5870 | Train Loss:0.34008 | Train acc:84.75% | Test Loss:0.59041 | Test acc:84.00%\n",
            "Epoch:5880 | Train Loss:0.34003 | Train acc:84.75% | Test Loss:0.59041 | Test acc:84.00%\n",
            "Epoch:5890 | Train Loss:0.33999 | Train acc:84.75% | Test Loss:0.59041 | Test acc:84.00%\n",
            "Epoch:5900 | Train Loss:0.33995 | Train acc:84.75% | Test Loss:0.59041 | Test acc:84.00%\n",
            "Epoch:5910 | Train Loss:0.33990 | Train acc:84.75% | Test Loss:0.59041 | Test acc:84.00%\n",
            "Epoch:5920 | Train Loss:0.33986 | Train acc:84.75% | Test Loss:0.59041 | Test acc:84.00%\n",
            "Epoch:5930 | Train Loss:0.33982 | Train acc:84.75% | Test Loss:0.59041 | Test acc:84.00%\n",
            "Epoch:5940 | Train Loss:0.33978 | Train acc:84.75% | Test Loss:0.59041 | Test acc:84.00%\n",
            "Epoch:5950 | Train Loss:0.33974 | Train acc:84.75% | Test Loss:0.59041 | Test acc:84.00%\n",
            "Epoch:5960 | Train Loss:0.33970 | Train acc:84.75% | Test Loss:0.59041 | Test acc:84.00%\n",
            "Epoch:5970 | Train Loss:0.33966 | Train acc:84.75% | Test Loss:0.59041 | Test acc:84.00%\n",
            "Epoch:5980 | Train Loss:0.33962 | Train acc:84.75% | Test Loss:0.59041 | Test acc:84.00%\n",
            "Epoch:5990 | Train Loss:0.33958 | Train acc:84.75% | Test Loss:0.59041 | Test acc:84.00%\n",
            "Epoch:6000 | Train Loss:0.33954 | Train acc:84.75% | Test Loss:0.59041 | Test acc:84.00%\n",
            "Epoch:6010 | Train Loss:0.33950 | Train acc:84.75% | Test Loss:0.59041 | Test acc:84.00%\n",
            "Epoch:6020 | Train Loss:0.33946 | Train acc:84.75% | Test Loss:0.59041 | Test acc:84.00%\n",
            "Epoch:6030 | Train Loss:0.33943 | Train acc:84.75% | Test Loss:0.59041 | Test acc:84.00%\n",
            "Epoch:6040 | Train Loss:0.33939 | Train acc:84.75% | Test Loss:0.59041 | Test acc:84.00%\n",
            "Epoch:6050 | Train Loss:0.33935 | Train acc:84.75% | Test Loss:0.59041 | Test acc:84.00%\n",
            "Epoch:6060 | Train Loss:0.33931 | Train acc:84.75% | Test Loss:0.59041 | Test acc:84.00%\n",
            "Epoch:6070 | Train Loss:0.33927 | Train acc:84.75% | Test Loss:0.59041 | Test acc:84.00%\n",
            "Epoch:6080 | Train Loss:0.33923 | Train acc:84.75% | Test Loss:0.59041 | Test acc:84.00%\n",
            "Epoch:6090 | Train Loss:0.33919 | Train acc:84.75% | Test Loss:0.59041 | Test acc:84.00%\n",
            "Epoch:6100 | Train Loss:0.33914 | Train acc:84.75% | Test Loss:0.59041 | Test acc:84.00%\n",
            "Epoch:6110 | Train Loss:0.33907 | Train acc:84.75% | Test Loss:0.59041 | Test acc:84.00%\n",
            "Epoch:6120 | Train Loss:0.33898 | Train acc:84.75% | Test Loss:0.59041 | Test acc:84.00%\n",
            "Epoch:6130 | Train Loss:0.33888 | Train acc:84.75% | Test Loss:0.59041 | Test acc:84.00%\n",
            "Epoch:6140 | Train Loss:0.33871 | Train acc:84.75% | Test Loss:0.59041 | Test acc:84.00%\n",
            "Epoch:6150 | Train Loss:0.33843 | Train acc:84.75% | Test Loss:0.59041 | Test acc:84.00%\n",
            "Epoch:6160 | Train Loss:0.33802 | Train acc:84.75% | Test Loss:0.59041 | Test acc:84.00%\n",
            "Epoch:6170 | Train Loss:0.33741 | Train acc:84.75% | Test Loss:0.59041 | Test acc:84.00%\n",
            "Epoch:6180 | Train Loss:0.33671 | Train acc:85.00% | Test Loss:0.59041 | Test acc:84.00%\n",
            "Epoch:6190 | Train Loss:0.33615 | Train acc:85.00% | Test Loss:0.59041 | Test acc:84.00%\n",
            "Epoch:6200 | Train Loss:0.33565 | Train acc:85.00% | Test Loss:0.59041 | Test acc:84.00%\n",
            "Epoch:6210 | Train Loss:0.33527 | Train acc:85.00% | Test Loss:0.59041 | Test acc:84.00%\n",
            "Epoch:6220 | Train Loss:0.33491 | Train acc:85.00% | Test Loss:0.59041 | Test acc:84.00%\n",
            "Epoch:6230 | Train Loss:0.33457 | Train acc:85.00% | Test Loss:0.59041 | Test acc:84.00%\n",
            "Epoch:6240 | Train Loss:0.33426 | Train acc:85.00% | Test Loss:0.59041 | Test acc:84.00%\n",
            "Epoch:6250 | Train Loss:0.33397 | Train acc:85.12% | Test Loss:0.59041 | Test acc:84.00%\n",
            "Epoch:6260 | Train Loss:0.33369 | Train acc:85.12% | Test Loss:0.59041 | Test acc:84.00%\n",
            "Epoch:6270 | Train Loss:0.33343 | Train acc:85.25% | Test Loss:0.59041 | Test acc:84.00%\n",
            "Epoch:6280 | Train Loss:0.33317 | Train acc:85.38% | Test Loss:0.59041 | Test acc:84.00%\n",
            "Epoch:6290 | Train Loss:0.33294 | Train acc:85.38% | Test Loss:0.59041 | Test acc:84.00%\n",
            "Epoch:6300 | Train Loss:0.33271 | Train acc:85.38% | Test Loss:0.59041 | Test acc:84.00%\n",
            "Epoch:6310 | Train Loss:0.33250 | Train acc:85.38% | Test Loss:0.59041 | Test acc:84.00%\n",
            "Epoch:6320 | Train Loss:0.33229 | Train acc:85.25% | Test Loss:0.59041 | Test acc:84.00%\n",
            "Epoch:6330 | Train Loss:0.33210 | Train acc:85.25% | Test Loss:0.59041 | Test acc:84.00%\n",
            "Epoch:6340 | Train Loss:0.33192 | Train acc:85.38% | Test Loss:0.59041 | Test acc:84.00%\n",
            "Epoch:6350 | Train Loss:0.33174 | Train acc:85.38% | Test Loss:0.59041 | Test acc:84.00%\n",
            "Epoch:6360 | Train Loss:0.33156 | Train acc:85.38% | Test Loss:0.59041 | Test acc:84.00%\n",
            "Epoch:6370 | Train Loss:0.33140 | Train acc:85.38% | Test Loss:0.59041 | Test acc:84.00%\n",
            "Epoch:6380 | Train Loss:0.33123 | Train acc:85.38% | Test Loss:0.59041 | Test acc:84.00%\n",
            "Epoch:6390 | Train Loss:0.33108 | Train acc:85.50% | Test Loss:0.59041 | Test acc:84.00%\n",
            "Epoch:6400 | Train Loss:0.33093 | Train acc:85.50% | Test Loss:0.59041 | Test acc:84.00%\n",
            "Epoch:6410 | Train Loss:0.33079 | Train acc:85.50% | Test Loss:0.59041 | Test acc:84.00%\n",
            "Epoch:6420 | Train Loss:0.33064 | Train acc:85.38% | Test Loss:0.59041 | Test acc:84.00%\n",
            "Epoch:6430 | Train Loss:0.33045 | Train acc:85.50% | Test Loss:0.59041 | Test acc:84.00%\n",
            "Epoch:6440 | Train Loss:0.33026 | Train acc:85.50% | Test Loss:0.59231 | Test acc:83.50%\n",
            "Epoch:6450 | Train Loss:0.33007 | Train acc:85.50% | Test Loss:0.59231 | Test acc:83.50%\n",
            "Epoch:6460 | Train Loss:0.32979 | Train acc:85.25% | Test Loss:0.59231 | Test acc:83.50%\n",
            "Epoch:6470 | Train Loss:0.32955 | Train acc:85.38% | Test Loss:0.59231 | Test acc:83.50%\n",
            "Epoch:6480 | Train Loss:0.32934 | Train acc:85.38% | Test Loss:0.59231 | Test acc:83.50%\n",
            "Epoch:6490 | Train Loss:0.32914 | Train acc:85.38% | Test Loss:0.59231 | Test acc:83.50%\n",
            "Epoch:6500 | Train Loss:0.32896 | Train acc:85.38% | Test Loss:0.59231 | Test acc:83.50%\n",
            "Epoch:6510 | Train Loss:0.32877 | Train acc:85.25% | Test Loss:0.59231 | Test acc:83.50%\n",
            "Epoch:6520 | Train Loss:0.32860 | Train acc:85.25% | Test Loss:0.59231 | Test acc:83.50%\n",
            "Epoch:6530 | Train Loss:0.32841 | Train acc:85.25% | Test Loss:0.59231 | Test acc:83.50%\n",
            "Epoch:6540 | Train Loss:0.32815 | Train acc:85.38% | Test Loss:0.59231 | Test acc:83.50%\n",
            "Epoch:6550 | Train Loss:0.32791 | Train acc:85.38% | Test Loss:0.59231 | Test acc:83.50%\n",
            "Epoch:6560 | Train Loss:0.32770 | Train acc:85.38% | Test Loss:0.58921 | Test acc:84.00%\n",
            "Epoch:6570 | Train Loss:0.32750 | Train acc:85.38% | Test Loss:0.58731 | Test acc:84.50%\n",
            "Epoch:6580 | Train Loss:0.32731 | Train acc:85.38% | Test Loss:0.58731 | Test acc:84.50%\n",
            "Epoch:6590 | Train Loss:0.32712 | Train acc:85.38% | Test Loss:0.58731 | Test acc:84.50%\n",
            "Epoch:6600 | Train Loss:0.32695 | Train acc:85.38% | Test Loss:0.58731 | Test acc:84.50%\n",
            "Epoch:6610 | Train Loss:0.32679 | Train acc:85.38% | Test Loss:0.58541 | Test acc:85.00%\n",
            "Epoch:6620 | Train Loss:0.32664 | Train acc:85.38% | Test Loss:0.58541 | Test acc:85.00%\n",
            "Epoch:6630 | Train Loss:0.32649 | Train acc:85.25% | Test Loss:0.58541 | Test acc:85.00%\n",
            "Epoch:6640 | Train Loss:0.32634 | Train acc:85.38% | Test Loss:0.58541 | Test acc:85.00%\n",
            "Epoch:6650 | Train Loss:0.32620 | Train acc:85.38% | Test Loss:0.58541 | Test acc:85.00%\n",
            "Epoch:6660 | Train Loss:0.32606 | Train acc:85.38% | Test Loss:0.58541 | Test acc:85.00%\n",
            "Epoch:6670 | Train Loss:0.32592 | Train acc:85.38% | Test Loss:0.58541 | Test acc:85.00%\n",
            "Epoch:6680 | Train Loss:0.32579 | Train acc:85.38% | Test Loss:0.58541 | Test acc:85.00%\n",
            "Epoch:6690 | Train Loss:0.32566 | Train acc:85.38% | Test Loss:0.58541 | Test acc:85.00%\n",
            "Epoch:6700 | Train Loss:0.32546 | Train acc:85.38% | Test Loss:0.58541 | Test acc:85.00%\n",
            "Epoch:6710 | Train Loss:0.32514 | Train acc:85.38% | Test Loss:0.58541 | Test acc:85.00%\n",
            "Epoch:6720 | Train Loss:0.32487 | Train acc:85.38% | Test Loss:0.58541 | Test acc:85.00%\n",
            "Epoch:6730 | Train Loss:0.32464 | Train acc:85.38% | Test Loss:0.58541 | Test acc:85.00%\n",
            "Epoch:6740 | Train Loss:0.32443 | Train acc:85.50% | Test Loss:0.58541 | Test acc:85.00%\n",
            "Epoch:6750 | Train Loss:0.32423 | Train acc:85.50% | Test Loss:0.58541 | Test acc:85.00%\n",
            "Epoch:6760 | Train Loss:0.32401 | Train acc:85.75% | Test Loss:0.58541 | Test acc:85.00%\n",
            "Epoch:6770 | Train Loss:0.32377 | Train acc:85.75% | Test Loss:0.58541 | Test acc:85.00%\n",
            "Epoch:6780 | Train Loss:0.32356 | Train acc:85.75% | Test Loss:0.58541 | Test acc:85.00%\n",
            "Epoch:6790 | Train Loss:0.32336 | Train acc:85.75% | Test Loss:0.58541 | Test acc:85.00%\n",
            "Epoch:6800 | Train Loss:0.32316 | Train acc:85.75% | Test Loss:0.58541 | Test acc:85.00%\n",
            "Epoch:6810 | Train Loss:0.32286 | Train acc:85.88% | Test Loss:0.58541 | Test acc:85.00%\n",
            "Epoch:6820 | Train Loss:0.32261 | Train acc:85.88% | Test Loss:0.58541 | Test acc:85.00%\n",
            "Epoch:6830 | Train Loss:0.32237 | Train acc:85.88% | Test Loss:0.58541 | Test acc:85.00%\n",
            "Epoch:6840 | Train Loss:0.32215 | Train acc:86.00% | Test Loss:0.58541 | Test acc:85.00%\n",
            "Epoch:6850 | Train Loss:0.32194 | Train acc:86.12% | Test Loss:0.58541 | Test acc:85.00%\n",
            "Epoch:6860 | Train Loss:0.32174 | Train acc:86.12% | Test Loss:0.58541 | Test acc:85.00%\n",
            "Epoch:6870 | Train Loss:0.32155 | Train acc:86.00% | Test Loss:0.58541 | Test acc:85.00%\n",
            "Epoch:6880 | Train Loss:0.32136 | Train acc:86.00% | Test Loss:0.58851 | Test acc:84.50%\n",
            "Epoch:6890 | Train Loss:0.32117 | Train acc:86.00% | Test Loss:0.58851 | Test acc:84.50%\n",
            "Epoch:6900 | Train Loss:0.32099 | Train acc:86.00% | Test Loss:0.58851 | Test acc:84.50%\n",
            "Epoch:6910 | Train Loss:0.32077 | Train acc:86.00% | Test Loss:0.58851 | Test acc:84.50%\n",
            "Epoch:6920 | Train Loss:0.32053 | Train acc:86.00% | Test Loss:0.58851 | Test acc:84.50%\n",
            "Epoch:6930 | Train Loss:0.32030 | Train acc:86.12% | Test Loss:0.58851 | Test acc:84.50%\n",
            "Epoch:6940 | Train Loss:0.32009 | Train acc:86.12% | Test Loss:0.58851 | Test acc:84.50%\n",
            "Epoch:6950 | Train Loss:0.31989 | Train acc:86.12% | Test Loss:0.58851 | Test acc:84.50%\n",
            "Epoch:6960 | Train Loss:0.31951 | Train acc:86.38% | Test Loss:0.58851 | Test acc:84.50%\n",
            "Epoch:6970 | Train Loss:0.31906 | Train acc:86.38% | Test Loss:0.58541 | Test acc:85.00%\n",
            "Epoch:6980 | Train Loss:0.31867 | Train acc:86.38% | Test Loss:0.58541 | Test acc:85.00%\n",
            "Epoch:6990 | Train Loss:0.31834 | Train acc:86.12% | Test Loss:0.58541 | Test acc:85.00%\n",
            "Epoch:7000 | Train Loss:0.31801 | Train acc:86.25% | Test Loss:0.58541 | Test acc:85.00%\n",
            "Epoch:7010 | Train Loss:0.31738 | Train acc:86.12% | Test Loss:0.58541 | Test acc:85.00%\n",
            "Epoch:7020 | Train Loss:0.31666 | Train acc:86.00% | Test Loss:0.58541 | Test acc:85.00%\n",
            "Epoch:7030 | Train Loss:0.31594 | Train acc:86.00% | Test Loss:0.58541 | Test acc:85.00%\n",
            "Epoch:7040 | Train Loss:0.31534 | Train acc:86.00% | Test Loss:0.58541 | Test acc:85.00%\n",
            "Epoch:7050 | Train Loss:0.31481 | Train acc:86.25% | Test Loss:0.58541 | Test acc:85.00%\n",
            "Epoch:7060 | Train Loss:0.31435 | Train acc:86.38% | Test Loss:0.58541 | Test acc:85.00%\n",
            "Epoch:7070 | Train Loss:0.31394 | Train acc:86.38% | Test Loss:0.58231 | Test acc:85.50%\n",
            "Epoch:7080 | Train Loss:0.31356 | Train acc:86.38% | Test Loss:0.57921 | Test acc:86.00%\n",
            "Epoch:7090 | Train Loss:0.31320 | Train acc:86.50% | Test Loss:0.58231 | Test acc:85.50%\n",
            "Epoch:7100 | Train Loss:0.31288 | Train acc:86.38% | Test Loss:0.58231 | Test acc:85.50%\n",
            "Epoch:7110 | Train Loss:0.31257 | Train acc:86.38% | Test Loss:0.58231 | Test acc:85.50%\n",
            "Epoch:7120 | Train Loss:0.31195 | Train acc:86.50% | Test Loss:0.58231 | Test acc:85.50%\n",
            "Epoch:7130 | Train Loss:0.31125 | Train acc:86.25% | Test Loss:0.57921 | Test acc:86.00%\n",
            "Epoch:7140 | Train Loss:0.31057 | Train acc:86.25% | Test Loss:0.57921 | Test acc:86.00%\n",
            "Epoch:7150 | Train Loss:0.30999 | Train acc:86.25% | Test Loss:0.56991 | Test acc:87.50%\n",
            "Epoch:7160 | Train Loss:0.30949 | Train acc:86.38% | Test Loss:0.57301 | Test acc:87.00%\n",
            "Epoch:7170 | Train Loss:0.30903 | Train acc:86.25% | Test Loss:0.57301 | Test acc:87.00%\n",
            "Epoch:7180 | Train Loss:0.30862 | Train acc:86.25% | Test Loss:0.57301 | Test acc:87.00%\n",
            "Epoch:7190 | Train Loss:0.30824 | Train acc:86.25% | Test Loss:0.57301 | Test acc:87.00%\n",
            "Epoch:7200 | Train Loss:0.30788 | Train acc:86.25% | Test Loss:0.57301 | Test acc:87.00%\n",
            "Epoch:7210 | Train Loss:0.30752 | Train acc:86.12% | Test Loss:0.57301 | Test acc:87.00%\n",
            "Epoch:7220 | Train Loss:0.30709 | Train acc:86.25% | Test Loss:0.57301 | Test acc:87.00%\n",
            "Epoch:7230 | Train Loss:0.30669 | Train acc:86.25% | Test Loss:0.57301 | Test acc:87.00%\n",
            "Epoch:7240 | Train Loss:0.30631 | Train acc:86.38% | Test Loss:0.57301 | Test acc:87.00%\n",
            "Epoch:7250 | Train Loss:0.30570 | Train acc:86.12% | Test Loss:0.57301 | Test acc:87.00%\n",
            "Epoch:7260 | Train Loss:0.30505 | Train acc:86.25% | Test Loss:0.57611 | Test acc:86.50%\n",
            "Epoch:7270 | Train Loss:0.30448 | Train acc:86.38% | Test Loss:0.57611 | Test acc:86.50%\n",
            "Epoch:7280 | Train Loss:0.30396 | Train acc:86.25% | Test Loss:0.57611 | Test acc:86.50%\n",
            "Epoch:7290 | Train Loss:0.30344 | Train acc:86.25% | Test Loss:0.57611 | Test acc:86.50%\n",
            "Epoch:7300 | Train Loss:0.30253 | Train acc:86.12% | Test Loss:0.57421 | Test acc:87.00%\n",
            "Epoch:7310 | Train Loss:0.30176 | Train acc:86.00% | Test Loss:0.57421 | Test acc:87.00%\n",
            "Epoch:7320 | Train Loss:0.30107 | Train acc:86.00% | Test Loss:0.57421 | Test acc:87.00%\n",
            "Epoch:7330 | Train Loss:0.30045 | Train acc:85.88% | Test Loss:0.57421 | Test acc:87.00%\n",
            "Epoch:7340 | Train Loss:0.29987 | Train acc:85.88% | Test Loss:0.57231 | Test acc:87.50%\n",
            "Epoch:7350 | Train Loss:0.29933 | Train acc:85.75% | Test Loss:0.57231 | Test acc:87.50%\n",
            "Epoch:7360 | Train Loss:0.29881 | Train acc:85.62% | Test Loss:0.56921 | Test acc:88.00%\n",
            "Epoch:7370 | Train Loss:0.29832 | Train acc:85.50% | Test Loss:0.56921 | Test acc:88.00%\n",
            "Epoch:7380 | Train Loss:0.29784 | Train acc:85.50% | Test Loss:0.56921 | Test acc:88.00%\n",
            "Epoch:7390 | Train Loss:0.29738 | Train acc:85.38% | Test Loss:0.56921 | Test acc:88.00%\n",
            "Epoch:7400 | Train Loss:0.29693 | Train acc:85.50% | Test Loss:0.56921 | Test acc:88.00%\n",
            "Epoch:7410 | Train Loss:0.29649 | Train acc:85.50% | Test Loss:0.56921 | Test acc:88.00%\n",
            "Epoch:7420 | Train Loss:0.29593 | Train acc:85.50% | Test Loss:0.56921 | Test acc:88.00%\n",
            "Epoch:7430 | Train Loss:0.29523 | Train acc:85.62% | Test Loss:0.56611 | Test acc:88.50%\n",
            "Epoch:7440 | Train Loss:0.29449 | Train acc:85.62% | Test Loss:0.56611 | Test acc:88.50%\n",
            "Epoch:7450 | Train Loss:0.29382 | Train acc:85.62% | Test Loss:0.56611 | Test acc:88.50%\n",
            "Epoch:7460 | Train Loss:0.29306 | Train acc:86.00% | Test Loss:0.56611 | Test acc:88.50%\n",
            "Epoch:7470 | Train Loss:0.29234 | Train acc:86.00% | Test Loss:0.56611 | Test acc:88.50%\n",
            "Epoch:7480 | Train Loss:0.29168 | Train acc:86.12% | Test Loss:0.56611 | Test acc:88.50%\n",
            "Epoch:7490 | Train Loss:0.29106 | Train acc:86.12% | Test Loss:0.56611 | Test acc:88.50%\n",
            "Epoch:7500 | Train Loss:0.29038 | Train acc:86.12% | Test Loss:0.56301 | Test acc:89.00%\n",
            "Epoch:7510 | Train Loss:0.28951 | Train acc:86.00% | Test Loss:0.56301 | Test acc:89.00%\n",
            "Epoch:7520 | Train Loss:0.28871 | Train acc:86.12% | Test Loss:0.56611 | Test acc:88.50%\n",
            "Epoch:7530 | Train Loss:0.28787 | Train acc:86.25% | Test Loss:0.56611 | Test acc:88.50%\n",
            "Epoch:7540 | Train Loss:0.28700 | Train acc:86.38% | Test Loss:0.56611 | Test acc:88.50%\n",
            "Epoch:7550 | Train Loss:0.28621 | Train acc:86.38% | Test Loss:0.56611 | Test acc:88.50%\n",
            "Epoch:7560 | Train Loss:0.28546 | Train acc:86.38% | Test Loss:0.56611 | Test acc:88.50%\n",
            "Epoch:7570 | Train Loss:0.28476 | Train acc:86.38% | Test Loss:0.56611 | Test acc:88.50%\n",
            "Epoch:7580 | Train Loss:0.28408 | Train acc:86.50% | Test Loss:0.56611 | Test acc:88.50%\n",
            "Epoch:7590 | Train Loss:0.28342 | Train acc:86.88% | Test Loss:0.56611 | Test acc:88.50%\n",
            "Epoch:7600 | Train Loss:0.28279 | Train acc:87.00% | Test Loss:0.56611 | Test acc:88.50%\n",
            "Epoch:7610 | Train Loss:0.28217 | Train acc:87.12% | Test Loss:0.56611 | Test acc:88.50%\n",
            "Epoch:7620 | Train Loss:0.28157 | Train acc:86.88% | Test Loss:0.56611 | Test acc:88.50%\n",
            "Epoch:7630 | Train Loss:0.28097 | Train acc:86.88% | Test Loss:0.56611 | Test acc:88.50%\n",
            "Epoch:7640 | Train Loss:0.28039 | Train acc:87.00% | Test Loss:0.56611 | Test acc:88.50%\n",
            "Epoch:7650 | Train Loss:0.27981 | Train acc:87.00% | Test Loss:0.56611 | Test acc:88.50%\n",
            "Epoch:7660 | Train Loss:0.27924 | Train acc:87.00% | Test Loss:0.56611 | Test acc:88.50%\n",
            "Epoch:7670 | Train Loss:0.27867 | Train acc:87.38% | Test Loss:0.56611 | Test acc:88.50%\n",
            "Epoch:7680 | Train Loss:0.27811 | Train acc:87.38% | Test Loss:0.56611 | Test acc:88.50%\n",
            "Epoch:7690 | Train Loss:0.27755 | Train acc:87.38% | Test Loss:0.56611 | Test acc:88.50%\n",
            "Epoch:7700 | Train Loss:0.27699 | Train acc:87.38% | Test Loss:0.56611 | Test acc:88.50%\n",
            "Epoch:7710 | Train Loss:0.27643 | Train acc:87.38% | Test Loss:0.56611 | Test acc:88.50%\n",
            "Epoch:7720 | Train Loss:0.27588 | Train acc:87.38% | Test Loss:0.56611 | Test acc:88.50%\n",
            "Epoch:7730 | Train Loss:0.27533 | Train acc:87.50% | Test Loss:0.56611 | Test acc:88.50%\n",
            "Epoch:7740 | Train Loss:0.27478 | Train acc:87.75% | Test Loss:0.56611 | Test acc:88.50%\n",
            "Epoch:7750 | Train Loss:0.27423 | Train acc:87.75% | Test Loss:0.56611 | Test acc:88.50%\n",
            "Epoch:7760 | Train Loss:0.27369 | Train acc:87.88% | Test Loss:0.56611 | Test acc:88.50%\n",
            "Epoch:7770 | Train Loss:0.27314 | Train acc:87.88% | Test Loss:0.56611 | Test acc:88.50%\n",
            "Epoch:7780 | Train Loss:0.27259 | Train acc:87.88% | Test Loss:0.56611 | Test acc:88.50%\n",
            "Epoch:7790 | Train Loss:0.27200 | Train acc:88.00% | Test Loss:0.56611 | Test acc:88.50%\n",
            "Epoch:7800 | Train Loss:0.27139 | Train acc:88.00% | Test Loss:0.56611 | Test acc:88.50%\n",
            "Epoch:7810 | Train Loss:0.27080 | Train acc:88.00% | Test Loss:0.56801 | Test acc:88.00%\n",
            "Epoch:7820 | Train Loss:0.27016 | Train acc:88.00% | Test Loss:0.56801 | Test acc:88.00%\n",
            "Epoch:7830 | Train Loss:0.26948 | Train acc:88.12% | Test Loss:0.56801 | Test acc:88.00%\n",
            "Epoch:7840 | Train Loss:0.26882 | Train acc:88.25% | Test Loss:0.56801 | Test acc:88.00%\n",
            "Epoch:7850 | Train Loss:0.26819 | Train acc:88.38% | Test Loss:0.56801 | Test acc:88.00%\n",
            "Epoch:7860 | Train Loss:0.26747 | Train acc:88.38% | Test Loss:0.56801 | Test acc:88.00%\n",
            "Epoch:7870 | Train Loss:0.26675 | Train acc:88.38% | Test Loss:0.56801 | Test acc:88.00%\n",
            "Epoch:7880 | Train Loss:0.26606 | Train acc:88.25% | Test Loss:0.56801 | Test acc:88.00%\n",
            "Epoch:7890 | Train Loss:0.26540 | Train acc:88.38% | Test Loss:0.56801 | Test acc:88.00%\n",
            "Epoch:7900 | Train Loss:0.26474 | Train acc:88.50% | Test Loss:0.56801 | Test acc:88.00%\n",
            "Epoch:7910 | Train Loss:0.26411 | Train acc:88.50% | Test Loss:0.56801 | Test acc:88.00%\n",
            "Epoch:7920 | Train Loss:0.26346 | Train acc:88.62% | Test Loss:0.56801 | Test acc:88.00%\n",
            "Epoch:7930 | Train Loss:0.26270 | Train acc:88.88% | Test Loss:0.56801 | Test acc:88.00%\n",
            "Epoch:7940 | Train Loss:0.26198 | Train acc:89.00% | Test Loss:0.56801 | Test acc:88.00%\n",
            "Epoch:7950 | Train Loss:0.26128 | Train acc:89.00% | Test Loss:0.56801 | Test acc:88.00%\n",
            "Epoch:7960 | Train Loss:0.26047 | Train acc:89.12% | Test Loss:0.57111 | Test acc:87.50%\n",
            "Epoch:7970 | Train Loss:0.25968 | Train acc:89.25% | Test Loss:0.57111 | Test acc:87.50%\n",
            "Epoch:7980 | Train Loss:0.25893 | Train acc:89.25% | Test Loss:0.57111 | Test acc:87.50%\n",
            "Epoch:7990 | Train Loss:0.25820 | Train acc:89.50% | Test Loss:0.57111 | Test acc:87.50%\n",
            "Epoch:8000 | Train Loss:0.25743 | Train acc:89.50% | Test Loss:0.57111 | Test acc:87.50%\n",
            "Epoch:8010 | Train Loss:0.25660 | Train acc:89.38% | Test Loss:0.57111 | Test acc:87.50%\n",
            "Epoch:8020 | Train Loss:0.25581 | Train acc:89.50% | Test Loss:0.56801 | Test acc:88.00%\n",
            "Epoch:8030 | Train Loss:0.25505 | Train acc:89.75% | Test Loss:0.56801 | Test acc:88.00%\n",
            "Epoch:8040 | Train Loss:0.25432 | Train acc:89.75% | Test Loss:0.56801 | Test acc:88.00%\n",
            "Epoch:8050 | Train Loss:0.25361 | Train acc:89.75% | Test Loss:0.57111 | Test acc:87.50%\n",
            "Epoch:8060 | Train Loss:0.25291 | Train acc:89.75% | Test Loss:0.57111 | Test acc:87.50%\n",
            "Epoch:8070 | Train Loss:0.25215 | Train acc:89.75% | Test Loss:0.57111 | Test acc:87.50%\n",
            "Epoch:8080 | Train Loss:0.25141 | Train acc:89.75% | Test Loss:0.57111 | Test acc:87.50%\n",
            "Epoch:8090 | Train Loss:0.25069 | Train acc:89.75% | Test Loss:0.57111 | Test acc:87.50%\n",
            "Epoch:8100 | Train Loss:0.24998 | Train acc:89.75% | Test Loss:0.57111 | Test acc:87.50%\n",
            "Epoch:8110 | Train Loss:0.24928 | Train acc:89.75% | Test Loss:0.57111 | Test acc:87.50%\n",
            "Epoch:8120 | Train Loss:0.24859 | Train acc:90.00% | Test Loss:0.57111 | Test acc:87.50%\n",
            "Epoch:8130 | Train Loss:0.24790 | Train acc:90.00% | Test Loss:0.57111 | Test acc:87.50%\n",
            "Epoch:8140 | Train Loss:0.24712 | Train acc:90.00% | Test Loss:0.57111 | Test acc:87.50%\n",
            "Epoch:8150 | Train Loss:0.24636 | Train acc:90.12% | Test Loss:0.56921 | Test acc:88.00%\n",
            "Epoch:8160 | Train Loss:0.24563 | Train acc:90.12% | Test Loss:0.56921 | Test acc:88.00%\n",
            "Epoch:8170 | Train Loss:0.24490 | Train acc:90.12% | Test Loss:0.56921 | Test acc:88.00%\n",
            "Epoch:8180 | Train Loss:0.24390 | Train acc:90.25% | Test Loss:0.56921 | Test acc:88.00%\n",
            "Epoch:8190 | Train Loss:0.24293 | Train acc:90.38% | Test Loss:0.56921 | Test acc:88.00%\n",
            "Epoch:8200 | Train Loss:0.24196 | Train acc:90.38% | Test Loss:0.56731 | Test acc:88.50%\n",
            "Epoch:8210 | Train Loss:0.24088 | Train acc:90.25% | Test Loss:0.56421 | Test acc:89.00%\n",
            "Epoch:8220 | Train Loss:0.23962 | Train acc:90.38% | Test Loss:0.56421 | Test acc:89.00%\n",
            "Epoch:8230 | Train Loss:0.23846 | Train acc:90.50% | Test Loss:0.56421 | Test acc:89.00%\n",
            "Epoch:8240 | Train Loss:0.23718 | Train acc:91.12% | Test Loss:0.56421 | Test acc:89.00%\n",
            "Epoch:8250 | Train Loss:0.23596 | Train acc:91.12% | Test Loss:0.56421 | Test acc:89.00%\n",
            "Epoch:8260 | Train Loss:0.23430 | Train acc:91.12% | Test Loss:0.56421 | Test acc:89.00%\n",
            "Epoch:8270 | Train Loss:0.23273 | Train acc:91.25% | Test Loss:0.56421 | Test acc:89.00%\n",
            "Epoch:8280 | Train Loss:0.23128 | Train acc:91.38% | Test Loss:0.56421 | Test acc:89.00%\n",
            "Epoch:8290 | Train Loss:0.22960 | Train acc:91.25% | Test Loss:0.56421 | Test acc:89.00%\n",
            "Epoch:8300 | Train Loss:0.22800 | Train acc:91.75% | Test Loss:0.56421 | Test acc:89.00%\n",
            "Epoch:8310 | Train Loss:0.22652 | Train acc:92.00% | Test Loss:0.56421 | Test acc:89.00%\n",
            "Epoch:8320 | Train Loss:0.22514 | Train acc:92.12% | Test Loss:0.56541 | Test acc:89.00%\n",
            "Epoch:8330 | Train Loss:0.22385 | Train acc:92.12% | Test Loss:0.56541 | Test acc:89.00%\n",
            "Epoch:8340 | Train Loss:0.22252 | Train acc:92.00% | Test Loss:0.56731 | Test acc:88.50%\n",
            "Epoch:8350 | Train Loss:0.22123 | Train acc:92.12% | Test Loss:0.56421 | Test acc:89.00%\n",
            "Epoch:8360 | Train Loss:0.22002 | Train acc:92.12% | Test Loss:0.56421 | Test acc:89.00%\n",
            "Epoch:8370 | Train Loss:0.21868 | Train acc:92.50% | Test Loss:0.56421 | Test acc:89.00%\n",
            "Epoch:8380 | Train Loss:0.21739 | Train acc:92.88% | Test Loss:0.56421 | Test acc:89.00%\n",
            "Epoch:8390 | Train Loss:0.21618 | Train acc:92.88% | Test Loss:0.56421 | Test acc:89.00%\n",
            "Epoch:8400 | Train Loss:0.21503 | Train acc:92.88% | Test Loss:0.56421 | Test acc:89.00%\n",
            "Epoch:8410 | Train Loss:0.21372 | Train acc:93.00% | Test Loss:0.56421 | Test acc:89.00%\n",
            "Epoch:8420 | Train Loss:0.21249 | Train acc:92.75% | Test Loss:0.56421 | Test acc:89.00%\n",
            "Epoch:8430 | Train Loss:0.21132 | Train acc:92.75% | Test Loss:0.56111 | Test acc:89.50%\n",
            "Epoch:8440 | Train Loss:0.21020 | Train acc:92.75% | Test Loss:0.56111 | Test acc:89.50%\n",
            "Epoch:8450 | Train Loss:0.20913 | Train acc:92.88% | Test Loss:0.56111 | Test acc:89.50%\n",
            "Epoch:8460 | Train Loss:0.20806 | Train acc:93.12% | Test Loss:0.56421 | Test acc:89.00%\n",
            "Epoch:8470 | Train Loss:0.20695 | Train acc:93.12% | Test Loss:0.56421 | Test acc:89.00%\n",
            "Epoch:8480 | Train Loss:0.20578 | Train acc:93.12% | Test Loss:0.56421 | Test acc:89.00%\n",
            "Epoch:8490 | Train Loss:0.20467 | Train acc:93.12% | Test Loss:0.56421 | Test acc:89.00%\n",
            "Epoch:8500 | Train Loss:0.20360 | Train acc:93.25% | Test Loss:0.56111 | Test acc:89.50%\n",
            "Epoch:8510 | Train Loss:0.20232 | Train acc:93.12% | Test Loss:0.56111 | Test acc:89.50%\n",
            "Epoch:8520 | Train Loss:0.20102 | Train acc:93.38% | Test Loss:0.55801 | Test acc:90.00%\n",
            "Epoch:8530 | Train Loss:0.19981 | Train acc:93.25% | Test Loss:0.55801 | Test acc:90.00%\n",
            "Epoch:8540 | Train Loss:0.19865 | Train acc:93.38% | Test Loss:0.55801 | Test acc:90.00%\n",
            "Epoch:8550 | Train Loss:0.19752 | Train acc:93.50% | Test Loss:0.55801 | Test acc:90.00%\n",
            "Epoch:8560 | Train Loss:0.19629 | Train acc:93.62% | Test Loss:0.55491 | Test acc:90.50%\n",
            "Epoch:8570 | Train Loss:0.19512 | Train acc:93.88% | Test Loss:0.55491 | Test acc:90.50%\n",
            "Epoch:8580 | Train Loss:0.19400 | Train acc:94.00% | Test Loss:0.55491 | Test acc:90.50%\n",
            "Epoch:8590 | Train Loss:0.19286 | Train acc:93.88% | Test Loss:0.55491 | Test acc:90.50%\n",
            "Epoch:8600 | Train Loss:0.19177 | Train acc:93.88% | Test Loss:0.55491 | Test acc:90.50%\n",
            "Epoch:8610 | Train Loss:0.19072 | Train acc:93.88% | Test Loss:0.55491 | Test acc:90.50%\n",
            "Epoch:8620 | Train Loss:0.18971 | Train acc:94.00% | Test Loss:0.55491 | Test acc:90.50%\n",
            "Epoch:8630 | Train Loss:0.18873 | Train acc:94.00% | Test Loss:0.55491 | Test acc:90.50%\n",
            "Epoch:8640 | Train Loss:0.18778 | Train acc:94.38% | Test Loss:0.55491 | Test acc:90.50%\n",
            "Epoch:8650 | Train Loss:0.18687 | Train acc:94.38% | Test Loss:0.55491 | Test acc:90.50%\n",
            "Epoch:8660 | Train Loss:0.18595 | Train acc:94.50% | Test Loss:0.55491 | Test acc:90.50%\n",
            "Epoch:8670 | Train Loss:0.18499 | Train acc:94.62% | Test Loss:0.55491 | Test acc:90.50%\n",
            "Epoch:8680 | Train Loss:0.18406 | Train acc:94.62% | Test Loss:0.55491 | Test acc:90.50%\n",
            "Epoch:8690 | Train Loss:0.18312 | Train acc:94.88% | Test Loss:0.55181 | Test acc:91.00%\n",
            "Epoch:8700 | Train Loss:0.18215 | Train acc:95.00% | Test Loss:0.55491 | Test acc:90.50%\n",
            "Epoch:8710 | Train Loss:0.18121 | Train acc:95.12% | Test Loss:0.55491 | Test acc:90.50%\n",
            "Epoch:8720 | Train Loss:0.18031 | Train acc:95.38% | Test Loss:0.55491 | Test acc:90.50%\n",
            "Epoch:8730 | Train Loss:0.17943 | Train acc:95.38% | Test Loss:0.55491 | Test acc:90.50%\n",
            "Epoch:8740 | Train Loss:0.17857 | Train acc:95.50% | Test Loss:0.55491 | Test acc:90.50%\n",
            "Epoch:8750 | Train Loss:0.17768 | Train acc:95.50% | Test Loss:0.55491 | Test acc:90.50%\n",
            "Epoch:8760 | Train Loss:0.17672 | Train acc:95.50% | Test Loss:0.55491 | Test acc:90.50%\n",
            "Epoch:8770 | Train Loss:0.17570 | Train acc:95.50% | Test Loss:0.55491 | Test acc:90.50%\n",
            "Epoch:8780 | Train Loss:0.17474 | Train acc:95.62% | Test Loss:0.55491 | Test acc:90.50%\n",
            "Epoch:8790 | Train Loss:0.17382 | Train acc:95.62% | Test Loss:0.55491 | Test acc:90.50%\n",
            "Epoch:8800 | Train Loss:0.17293 | Train acc:95.75% | Test Loss:0.55491 | Test acc:90.50%\n",
            "Epoch:8810 | Train Loss:0.17207 | Train acc:95.88% | Test Loss:0.55491 | Test acc:90.50%\n",
            "Epoch:8820 | Train Loss:0.17124 | Train acc:95.88% | Test Loss:0.55491 | Test acc:90.50%\n",
            "Epoch:8830 | Train Loss:0.17038 | Train acc:95.88% | Test Loss:0.55491 | Test acc:90.50%\n",
            "Epoch:8840 | Train Loss:0.16953 | Train acc:95.88% | Test Loss:0.55181 | Test acc:91.00%\n",
            "Epoch:8850 | Train Loss:0.16870 | Train acc:95.88% | Test Loss:0.55181 | Test acc:91.00%\n",
            "Epoch:8860 | Train Loss:0.16782 | Train acc:96.00% | Test Loss:0.55181 | Test acc:91.00%\n",
            "Epoch:8870 | Train Loss:0.16688 | Train acc:96.12% | Test Loss:0.55181 | Test acc:91.00%\n",
            "Epoch:8880 | Train Loss:0.16598 | Train acc:96.12% | Test Loss:0.55181 | Test acc:91.00%\n",
            "Epoch:8890 | Train Loss:0.16513 | Train acc:96.25% | Test Loss:0.55181 | Test acc:91.00%\n",
            "Epoch:8900 | Train Loss:0.16431 | Train acc:96.38% | Test Loss:0.55181 | Test acc:91.00%\n",
            "Epoch:8910 | Train Loss:0.16346 | Train acc:96.38% | Test Loss:0.54871 | Test acc:91.50%\n",
            "Epoch:8920 | Train Loss:0.16257 | Train acc:96.38% | Test Loss:0.54871 | Test acc:91.50%\n",
            "Epoch:8930 | Train Loss:0.16164 | Train acc:96.62% | Test Loss:0.54871 | Test acc:91.50%\n",
            "Epoch:8940 | Train Loss:0.16076 | Train acc:96.62% | Test Loss:0.54871 | Test acc:91.50%\n",
            "Epoch:8950 | Train Loss:0.15987 | Train acc:96.75% | Test Loss:0.54871 | Test acc:91.50%\n",
            "Epoch:8960 | Train Loss:0.15903 | Train acc:96.88% | Test Loss:0.54561 | Test acc:92.00%\n",
            "Epoch:8970 | Train Loss:0.15822 | Train acc:96.88% | Test Loss:0.54561 | Test acc:92.00%\n",
            "Epoch:8980 | Train Loss:0.15744 | Train acc:97.00% | Test Loss:0.54561 | Test acc:92.00%\n",
            "Epoch:8990 | Train Loss:0.15659 | Train acc:97.12% | Test Loss:0.54561 | Test acc:92.00%\n",
            "Epoch:9000 | Train Loss:0.15577 | Train acc:97.00% | Test Loss:0.54871 | Test acc:91.50%\n",
            "Epoch:9010 | Train Loss:0.15497 | Train acc:97.25% | Test Loss:0.54871 | Test acc:91.50%\n",
            "Epoch:9020 | Train Loss:0.15422 | Train acc:97.25% | Test Loss:0.54871 | Test acc:91.50%\n",
            "Epoch:9030 | Train Loss:0.15348 | Train acc:97.38% | Test Loss:0.54561 | Test acc:92.00%\n",
            "Epoch:9040 | Train Loss:0.15277 | Train acc:97.12% | Test Loss:0.54561 | Test acc:92.00%\n",
            "Epoch:9050 | Train Loss:0.15202 | Train acc:97.25% | Test Loss:0.54371 | Test acc:92.50%\n",
            "Epoch:9060 | Train Loss:0.15130 | Train acc:97.25% | Test Loss:0.54371 | Test acc:92.50%\n",
            "Epoch:9070 | Train Loss:0.15059 | Train acc:97.25% | Test Loss:0.54371 | Test acc:92.50%\n",
            "Epoch:9080 | Train Loss:0.14992 | Train acc:97.25% | Test Loss:0.54371 | Test acc:92.50%\n",
            "Epoch:9090 | Train Loss:0.14926 | Train acc:97.25% | Test Loss:0.54371 | Test acc:92.50%\n",
            "Epoch:9100 | Train Loss:0.14862 | Train acc:97.25% | Test Loss:0.54371 | Test acc:92.50%\n",
            "Epoch:9110 | Train Loss:0.14799 | Train acc:97.25% | Test Loss:0.54371 | Test acc:92.50%\n",
            "Epoch:9120 | Train Loss:0.14737 | Train acc:97.38% | Test Loss:0.54371 | Test acc:92.50%\n",
            "Epoch:9130 | Train Loss:0.14675 | Train acc:97.50% | Test Loss:0.54061 | Test acc:93.00%\n",
            "Epoch:9140 | Train Loss:0.14611 | Train acc:97.50% | Test Loss:0.54061 | Test acc:93.00%\n",
            "Epoch:9150 | Train Loss:0.14549 | Train acc:97.50% | Test Loss:0.54061 | Test acc:93.00%\n",
            "Epoch:9160 | Train Loss:0.14488 | Train acc:97.50% | Test Loss:0.54061 | Test acc:93.00%\n",
            "Epoch:9170 | Train Loss:0.14429 | Train acc:97.62% | Test Loss:0.54061 | Test acc:93.00%\n",
            "Epoch:9180 | Train Loss:0.14371 | Train acc:97.62% | Test Loss:0.54061 | Test acc:93.00%\n",
            "Epoch:9190 | Train Loss:0.14315 | Train acc:97.75% | Test Loss:0.54061 | Test acc:93.00%\n",
            "Epoch:9200 | Train Loss:0.14253 | Train acc:97.75% | Test Loss:0.54061 | Test acc:93.00%\n",
            "Epoch:9210 | Train Loss:0.14192 | Train acc:97.75% | Test Loss:0.54061 | Test acc:93.00%\n",
            "Epoch:9220 | Train Loss:0.14132 | Train acc:97.88% | Test Loss:0.53871 | Test acc:93.50%\n",
            "Epoch:9230 | Train Loss:0.14069 | Train acc:97.88% | Test Loss:0.53871 | Test acc:93.50%\n",
            "Epoch:9240 | Train Loss:0.14009 | Train acc:97.88% | Test Loss:0.53871 | Test acc:93.50%\n",
            "Epoch:9250 | Train Loss:0.13948 | Train acc:97.88% | Test Loss:0.53871 | Test acc:93.50%\n",
            "Epoch:9260 | Train Loss:0.13881 | Train acc:97.88% | Test Loss:0.53871 | Test acc:93.50%\n",
            "Epoch:9270 | Train Loss:0.13817 | Train acc:97.88% | Test Loss:0.53871 | Test acc:93.50%\n",
            "Epoch:9280 | Train Loss:0.13756 | Train acc:97.88% | Test Loss:0.53871 | Test acc:93.50%\n",
            "Epoch:9290 | Train Loss:0.13698 | Train acc:97.88% | Test Loss:0.53871 | Test acc:93.50%\n",
            "Epoch:9300 | Train Loss:0.13641 | Train acc:97.88% | Test Loss:0.53561 | Test acc:94.00%\n",
            "Epoch:9310 | Train Loss:0.13587 | Train acc:97.88% | Test Loss:0.53561 | Test acc:94.00%\n",
            "Epoch:9320 | Train Loss:0.13534 | Train acc:97.88% | Test Loss:0.53561 | Test acc:94.00%\n",
            "Epoch:9330 | Train Loss:0.13479 | Train acc:97.75% | Test Loss:0.53561 | Test acc:94.00%\n",
            "Epoch:9340 | Train Loss:0.13424 | Train acc:97.75% | Test Loss:0.53561 | Test acc:94.00%\n",
            "Epoch:9350 | Train Loss:0.13371 | Train acc:97.75% | Test Loss:0.53251 | Test acc:94.50%\n",
            "Epoch:9360 | Train Loss:0.13320 | Train acc:97.75% | Test Loss:0.53251 | Test acc:94.50%\n",
            "Epoch:9370 | Train Loss:0.13270 | Train acc:97.75% | Test Loss:0.53251 | Test acc:94.50%\n",
            "Epoch:9380 | Train Loss:0.13218 | Train acc:97.75% | Test Loss:0.53251 | Test acc:94.50%\n",
            "Epoch:9390 | Train Loss:0.13168 | Train acc:97.75% | Test Loss:0.53251 | Test acc:94.50%\n",
            "Epoch:9400 | Train Loss:0.13119 | Train acc:97.75% | Test Loss:0.53561 | Test acc:94.00%\n",
            "Epoch:9410 | Train Loss:0.13072 | Train acc:97.75% | Test Loss:0.53561 | Test acc:94.00%\n",
            "Epoch:9420 | Train Loss:0.13025 | Train acc:97.75% | Test Loss:0.53561 | Test acc:94.00%\n",
            "Epoch:9430 | Train Loss:0.12980 | Train acc:97.75% | Test Loss:0.53561 | Test acc:94.00%\n",
            "Epoch:9440 | Train Loss:0.12935 | Train acc:97.75% | Test Loss:0.53561 | Test acc:94.00%\n",
            "Epoch:9450 | Train Loss:0.12891 | Train acc:97.75% | Test Loss:0.53371 | Test acc:94.50%\n",
            "Epoch:9460 | Train Loss:0.12847 | Train acc:97.75% | Test Loss:0.53371 | Test acc:94.50%\n",
            "Epoch:9470 | Train Loss:0.12803 | Train acc:97.75% | Test Loss:0.53371 | Test acc:94.50%\n",
            "Epoch:9480 | Train Loss:0.12758 | Train acc:97.75% | Test Loss:0.53681 | Test acc:94.00%\n",
            "Epoch:9490 | Train Loss:0.12714 | Train acc:97.75% | Test Loss:0.53681 | Test acc:94.00%\n",
            "Epoch:9500 | Train Loss:0.12671 | Train acc:97.75% | Test Loss:0.53681 | Test acc:94.00%\n",
            "Epoch:9510 | Train Loss:0.12629 | Train acc:97.88% | Test Loss:0.53681 | Test acc:94.00%\n",
            "Epoch:9520 | Train Loss:0.12587 | Train acc:97.88% | Test Loss:0.53681 | Test acc:94.00%\n",
            "Epoch:9530 | Train Loss:0.12545 | Train acc:98.00% | Test Loss:0.53681 | Test acc:94.00%\n",
            "Epoch:9540 | Train Loss:0.12502 | Train acc:98.00% | Test Loss:0.53681 | Test acc:94.00%\n",
            "Epoch:9550 | Train Loss:0.12457 | Train acc:98.00% | Test Loss:0.53681 | Test acc:94.00%\n",
            "Epoch:9560 | Train Loss:0.12413 | Train acc:98.00% | Test Loss:0.53681 | Test acc:94.00%\n",
            "Epoch:9570 | Train Loss:0.12371 | Train acc:98.00% | Test Loss:0.53681 | Test acc:94.00%\n",
            "Epoch:9580 | Train Loss:0.12329 | Train acc:98.00% | Test Loss:0.53681 | Test acc:94.00%\n",
            "Epoch:9590 | Train Loss:0.12289 | Train acc:98.25% | Test Loss:0.53681 | Test acc:94.00%\n",
            "Epoch:9600 | Train Loss:0.12250 | Train acc:98.25% | Test Loss:0.53681 | Test acc:94.00%\n",
            "Epoch:9610 | Train Loss:0.12211 | Train acc:98.25% | Test Loss:0.53681 | Test acc:94.00%\n",
            "Epoch:9620 | Train Loss:0.12173 | Train acc:98.25% | Test Loss:0.53681 | Test acc:94.00%\n",
            "Epoch:9630 | Train Loss:0.12135 | Train acc:98.25% | Test Loss:0.53681 | Test acc:94.00%\n",
            "Epoch:9640 | Train Loss:0.12098 | Train acc:98.25% | Test Loss:0.53681 | Test acc:94.00%\n",
            "Epoch:9650 | Train Loss:0.12062 | Train acc:98.25% | Test Loss:0.53681 | Test acc:94.00%\n",
            "Epoch:9660 | Train Loss:0.12026 | Train acc:98.25% | Test Loss:0.53681 | Test acc:94.00%\n",
            "Epoch:9670 | Train Loss:0.11990 | Train acc:98.38% | Test Loss:0.53681 | Test acc:94.00%\n",
            "Epoch:9680 | Train Loss:0.11955 | Train acc:98.38% | Test Loss:0.53681 | Test acc:94.00%\n",
            "Epoch:9690 | Train Loss:0.11920 | Train acc:98.38% | Test Loss:0.53681 | Test acc:94.00%\n",
            "Epoch:9700 | Train Loss:0.11886 | Train acc:98.38% | Test Loss:0.53681 | Test acc:94.00%\n",
            "Epoch:9710 | Train Loss:0.11852 | Train acc:98.38% | Test Loss:0.53681 | Test acc:94.00%\n",
            "Epoch:9720 | Train Loss:0.11819 | Train acc:98.38% | Test Loss:0.53681 | Test acc:94.00%\n",
            "Epoch:9730 | Train Loss:0.11785 | Train acc:98.38% | Test Loss:0.53681 | Test acc:94.00%\n",
            "Epoch:9740 | Train Loss:0.11752 | Train acc:98.38% | Test Loss:0.53681 | Test acc:94.00%\n",
            "Epoch:9750 | Train Loss:0.11720 | Train acc:98.62% | Test Loss:0.53371 | Test acc:94.50%\n",
            "Epoch:9760 | Train Loss:0.11687 | Train acc:98.62% | Test Loss:0.53371 | Test acc:94.50%\n",
            "Epoch:9770 | Train Loss:0.11655 | Train acc:98.62% | Test Loss:0.53371 | Test acc:94.50%\n",
            "Epoch:9780 | Train Loss:0.11623 | Train acc:98.62% | Test Loss:0.53371 | Test acc:94.50%\n",
            "Epoch:9790 | Train Loss:0.11592 | Train acc:98.62% | Test Loss:0.53371 | Test acc:94.50%\n",
            "Epoch:9800 | Train Loss:0.11561 | Train acc:98.62% | Test Loss:0.53371 | Test acc:94.50%\n",
            "Epoch:9810 | Train Loss:0.11530 | Train acc:98.62% | Test Loss:0.53371 | Test acc:94.50%\n",
            "Epoch:9820 | Train Loss:0.11499 | Train acc:98.62% | Test Loss:0.53371 | Test acc:94.50%\n",
            "Epoch:9830 | Train Loss:0.11468 | Train acc:98.62% | Test Loss:0.53371 | Test acc:94.50%\n",
            "Epoch:9840 | Train Loss:0.11438 | Train acc:98.62% | Test Loss:0.53371 | Test acc:94.50%\n",
            "Epoch:9850 | Train Loss:0.11408 | Train acc:98.62% | Test Loss:0.53371 | Test acc:94.50%\n",
            "Epoch:9860 | Train Loss:0.11378 | Train acc:98.75% | Test Loss:0.53371 | Test acc:94.50%\n",
            "Epoch:9870 | Train Loss:0.11349 | Train acc:98.75% | Test Loss:0.53371 | Test acc:94.50%\n",
            "Epoch:9880 | Train Loss:0.11319 | Train acc:98.75% | Test Loss:0.53371 | Test acc:94.50%\n",
            "Epoch:9890 | Train Loss:0.11290 | Train acc:98.75% | Test Loss:0.53371 | Test acc:94.50%\n",
            "Epoch:9900 | Train Loss:0.11261 | Train acc:98.75% | Test Loss:0.53371 | Test acc:94.50%\n",
            "Epoch:9910 | Train Loss:0.11233 | Train acc:98.75% | Test Loss:0.53371 | Test acc:94.50%\n",
            "Epoch:9920 | Train Loss:0.11204 | Train acc:98.75% | Test Loss:0.53371 | Test acc:94.50%\n",
            "Epoch:9930 | Train Loss:0.11176 | Train acc:98.75% | Test Loss:0.53371 | Test acc:94.50%\n",
            "Epoch:9940 | Train Loss:0.11148 | Train acc:98.75% | Test Loss:0.53061 | Test acc:95.00%\n",
            "Epoch:9950 | Train Loss:0.11120 | Train acc:98.75% | Test Loss:0.53061 | Test acc:95.00%\n",
            "Epoch:9960 | Train Loss:0.11092 | Train acc:98.75% | Test Loss:0.53061 | Test acc:95.00%\n",
            "Epoch:9970 | Train Loss:0.11065 | Train acc:98.75% | Test Loss:0.53061 | Test acc:95.00%\n",
            "Epoch:9980 | Train Loss:0.11037 | Train acc:98.75% | Test Loss:0.53061 | Test acc:95.00%\n",
            "Epoch:9990 | Train Loss:0.11010 | Train acc:98.75% | Test Loss:0.53061 | Test acc:95.00%\n"
          ]
        }
      ]
    },
    {
      "cell_type": "code",
      "source": [
        "#analysis\n",
        "circles.label.value_counts()"
      ],
      "metadata": {
        "id": "WngYthnx6Kak",
        "outputId": "457c04d7-f7cc-468c-a7e3-bea2f9b49fe8",
        "colab": {
          "base_uri": "https://localhost:8080/"
        }
      },
      "execution_count": 28,
      "outputs": [
        {
          "output_type": "execute_result",
          "data": {
            "text/plain": [
              "1    500\n",
              "0    500\n",
              "Name: label, dtype: int64"
            ]
          },
          "metadata": {},
          "execution_count": 28
        }
      ]
    },
    {
      "cell_type": "markdown",
      "source": [
        "## 4. Make predictions and evaluate the model\n",
        "\n",
        "From looking at the metrics it looks like the model isnt learning anything\n",
        "So to inspect we make preds and **visualize visualize visualize**\n",
        "\n",
        "To do so,we are going to import fun `plot_decision_boundary()`"
      ],
      "metadata": {
        "id": "jYLGZubq610t"
      }
    },
    {
      "cell_type": "code",
      "source": [
        "import requests\n",
        "from pathlib import Path\n",
        "#Download helper funs from learn_pytorch repo(if its not already dwnlded)\n",
        "\n",
        "if Path(\"helper_fn.py\").is_file():\n",
        "  print(\"Already imported\")\n",
        "else:\n",
        "  print(\"Downloading helper_funs\")\n",
        "  request=requests.get(\"https://github.com/MananShukla7/Colab-Notebook/raw/main/helper_functions.py\")\n",
        "  with open(\"helper_fn.py\",\"wb\") as f:\n",
        "    f.write(request.content)\n",
        "from helper_fn import plot_decision_boundary, lossfn_curve, plot_predictions"
      ],
      "metadata": {
        "id": "4ViTYZq_7Jrl",
        "outputId": "23f85b41-5a8b-45b9-97cb-0f851fa40acc",
        "colab": {
          "base_uri": "https://localhost:8080/"
        }
      },
      "execution_count": 32,
      "outputs": [
        {
          "output_type": "stream",
          "name": "stdout",
          "text": [
            "Already imported\n"
          ]
        }
      ]
    },
    {
      "cell_type": "code",
      "source": [
        "#PLOT THE DECISION BOUNDARY\n",
        "plt.figure(figsize=(12,6))\n",
        "plt.subplot(1,2,1)\n",
        "plt.title(\"Train\")\n",
        "plot_decision_boundary(model_0,X_train,y_train)\n",
        "plt.subplot(1,2,2)\n",
        "plt.title(\"Test\")\n",
        "plot_decision_boundary(model_0,X_test,y_test)"
      ],
      "metadata": {
        "id": "n9T1n80V9_MX",
        "outputId": "0d1d096b-3e4d-4c47-8d05-cd2b4f118c88",
        "colab": {
          "base_uri": "https://localhost:8080/",
          "height": 390
        }
      },
      "execution_count": 33,
      "outputs": [
        {
          "output_type": "display_data",
          "data": {
            "text/plain": [
              "<Figure size 864x432 with 2 Axes>"
            ],
            "image/png": "[encoded data removed]"
          },
          "metadata": {
            "needs_background": "light"
          }
        }
      ]
    },
    {
      "cell_type": "code",
      "source": [
        "lossfn_curve(train_l,epochs)\n",
        "lossfn_curve(test_l,epochs)\n",
        "plt.legend([\"Train\",\"Test\"])\n",
        "plt.show()"
      ],
      "metadata": {
        "id": "3oYEfbw431BO",
        "outputId": "bb56584e-851a-4f4e-8286-2960b149f5e8",
        "colab": {
          "base_uri": "https://localhost:8080/",
          "height": 295
        }
      },
      "execution_count": 34,
      "outputs": [
        {
          "output_type": "display_data",
          "data": {
            "text/plain": [
              "<Figure size 432x288 with 1 Axes>"
            ],
            "image/png": "[encoded data removed]"
          },
          "metadata": {
            "needs_background": "light"
          }
        }
      ]
    },
    {
      "cell_type": "code",
      "source": [
        "td=\"\"\"\n",
        "Make my own decision boundary fun(if poss)\n",
        "make helper fun(must)\n",
        "add it on my github(must)\n",
        "understant the funs inside(some of them)\n",
        "\"\"\""
      ],
      "metadata": {
        "id": "xg9tQ_v9ACHP"
      },
      "execution_count": 35,
      "outputs": []
    },
    {
      "cell_type": "code",
      "source": [
        "print(td)"
      ],
      "metadata": {
        "id": "7FlwGhckAxxT",
        "outputId": "4fc20ac0-00a9-4e7d-b562-430ee554558d",
        "colab": {
          "base_uri": "https://localhost:8080/"
        }
      },
      "execution_count": 36,
      "outputs": [
        {
          "output_type": "stream",
          "name": "stdout",
          "text": [
            "\n",
            "Make my own decision boundary fun(if poss)\n",
            "make helper fun(must)\n",
            "add it on my github(must)\n",
            "understant the funs inside(some of them)\n",
            "\n"
          ]
        }
      ]
    },
    {
      "cell_type": "markdown",
      "source": [
        "### 5. Improving the model(From a model's perspective)\n",
        "\n",
        "- Add more layers- give model more chances to learn about the patterns in data\n",
        "- Add more hidden units-add more neurons to get more features as they increase the Parameters. \n",
        "* **This 2 changes could result in overfitting**\n",
        "\n",
        "- Fit for longer\n",
        "-Changing activation funs\n",
        "-change the learning rate\n",
        "-change the loss funs\n",
        "\n",
        "These options are all from a models perspective because they dealt directly with the model, rather than the data\n",
        "\n",
        "And because these opts are all values we\n",
        " can change,there are called **HyperParameters**."
      ],
      "metadata": {
        "id": "s3nTIxV5j_Nz"
      }
    },
    {
      "cell_type": "markdown",
      "source": [
        "####4.1. ReCreating the model (V1)\n"
      ],
      "metadata": {
        "id": "5nL58c9tAnq-"
      }
    },
    {
      "cell_type": "markdown",
      "source": [
        "4.1.1. Change the hidden units"
      ],
      "metadata": {
        "id": "5s1NXC6o8l9a"
      }
    },
    {
      "cell_type": "code",
      "source": [
        "class CircleModelV1(nn.Module):\n",
        "  def __init__(self):\n",
        "    super().__init__()\n",
        "    self.layer_1=nn.Linear(in_features=2,out_features=10)\n",
        "    self.layer_2=nn.Linear(in_features=10,out_features=10)\n",
        "    self.layer_3=nn.Linear(in_features=10,out_features=1)\n",
        "  def forward(self,x):\n",
        "    # z=self.layer_1(x)\n",
        "    # z=self.layer_2(z)\n",
        "    # z=self.layer_3(z)\n",
        "    return self.layer_3(self.layer_2(self.layer_1(x)))#This way of writitng operartions results in speedups!\n",
        "\n",
        "model_1=CircleModelV1().to(device)\n",
        "model_1"
      ],
      "metadata": {
        "id": "QRbpRVG3A94i",
        "outputId": "ff504f3b-35bb-47e7-c658-ed4ce465e9c7",
        "colab": {
          "base_uri": "https://localhost:8080/"
        }
      },
      "execution_count": 37,
      "outputs": [
        {
          "output_type": "execute_result",
          "data": {
            "text/plain": [
              "CircleModelV1(\n",
              "  (layer_1): Linear(in_features=2, out_features=10, bias=True)\n",
              "  (layer_2): Linear(in_features=10, out_features=10, bias=True)\n",
              "  (layer_3): Linear(in_features=10, out_features=1, bias=True)\n",
              ")"
            ]
          },
          "metadata": {},
          "execution_count": 37
        }
      ]
    },
    {
      "cell_type": "code",
      "source": [
        "#Loss_fn\n",
        "loss_fn=nn.BCEWithLogitsLoss()#withLogitsLoss-sigmoid fun built in(more stable than w/o logitloss)\n",
        "#optimizer\n",
        "optimizer=torch.optim.SGD(params=model_0.parameters(),lr=0.1)"
      ],
      "metadata": {
        "id": "3oyrGFtA9vLf"
      },
      "execution_count": 38,
      "outputs": []
    },
    {
      "cell_type": "code",
      "source": [
        "torch.cuda.manual_seed(42)\n",
        "torch.manual_seed(42)\n",
        "\n",
        "### 3.2 Building a training and testing loop\n",
        "epochs=1000\n",
        "train_l=[]\n",
        "test_l=[]\n",
        "#put data to target device\n",
        "X_train,y_train=X_train.to(device),y_train.to(device)\n",
        "X_test,y_test=X_test.to(device),y_test.to(device)\n",
        "###Training\n",
        "for epoch in range(epochs):\n",
        "  #Put in train mode\n",
        "  model_1.train()\n",
        "  \n",
        "  #Forward pass\n",
        "  # y_pred_new=model_0(X_train)\n",
        "\n",
        "  y_logits=model_1(X_train).squeeze()\n",
        "  y_pred_new=torch.round(torch.sigmoid(y_logits))\n",
        "\n",
        "  #calc loss/accuracy\n",
        "  # loss=loss_fn(torch.sigmoid(y_logits)) #nn>BCEloss w/o logits!\n",
        "  train_loss=loss_fn(y_logits,y_train)#nn.BCEwithLogitsLoss expects the raw logits loss\n",
        "  train_l.append(train_loss.cpu().detach().numpy())\n",
        "  acc=accuracy(y_true=y_train,y_pred=y_pred_new)\n",
        "\n",
        "  #zero grad\n",
        "  optimizer.zero_grad()\n",
        "\n",
        "  #back prop\n",
        "  train_loss.backward()\n",
        "\n",
        "  #step optimizer\n",
        "  optimizer.step()\n",
        "\n",
        "  #Test loop\n",
        "  model_0.eval()\n",
        "  with torch.inference_mode():\n",
        "    #1. forward pass\n",
        "    test_logits=model_1(X_test).squeeze()\n",
        "\n",
        "    y_pred_test=torch.round(torch.sigmoid(test_logits))\n",
        "\n",
        "    test_loss=loss_fn(y_pred_test,y_test)\n",
        "    test_l.append(test_loss.cpu().detach().numpy())\n",
        "    test_acc=accuracy(y_test,y_pred_test)\n",
        "    if epoch%100==0:\n",
        "      print(f\"Epoch:{epoch} | Train Loss:{train_loss:.5f} | Train acc:{acc:.2f}% | Test Loss:{test_loss:.5f} | Test acc:{test_acc:.2f}%\")\n",
        "  "
      ],
      "metadata": {
        "id": "NgrPTh0K-E_T",
        "outputId": "318cdec0-8660-45d8-ddf4-ae664de613b4",
        "colab": {
          "base_uri": "https://localhost:8080/"
        }
      },
      "execution_count": 39,
      "outputs": [
        {
          "output_type": "stream",
          "name": "stdout",
          "text": [
            "Epoch:0 | Train Loss:0.69396 | Train acc:50.88% | Test Loss:0.75541 | Test acc:51.00%\n",
            "Epoch:100 | Train Loss:0.69396 | Train acc:50.88% | Test Loss:0.75541 | Test acc:51.00%\n",
            "Epoch:200 | Train Loss:0.69396 | Train acc:50.88% | Test Loss:0.75541 | Test acc:51.00%\n",
            "Epoch:300 | Train Loss:0.69396 | Train acc:50.88% | Test Loss:0.75541 | Test acc:51.00%\n",
            "Epoch:400 | Train Loss:0.69396 | Train acc:50.88% | Test Loss:0.75541 | Test acc:51.00%\n",
            "Epoch:500 | Train Loss:0.69396 | Train acc:50.88% | Test Loss:0.75541 | Test acc:51.00%\n",
            "Epoch:600 | Train Loss:0.69396 | Train acc:50.88% | Test Loss:0.75541 | Test acc:51.00%\n",
            "Epoch:700 | Train Loss:0.69396 | Train acc:50.88% | Test Loss:0.75541 | Test acc:51.00%\n",
            "Epoch:800 | Train Loss:0.69396 | Train acc:50.88% | Test Loss:0.75541 | Test acc:51.00%\n",
            "Epoch:900 | Train Loss:0.69396 | Train acc:50.88% | Test Loss:0.75541 | Test acc:51.00%\n"
          ]
        }
      ]
    },
    {
      "cell_type": "code",
      "source": [
        "plt.figure(figsize=(12,6))\n",
        "plt.subplot(1,2,1)\n",
        "plt.title(\"Train\")\n",
        "plot_decision_boundary(model_1,X_train,y_train)\n",
        "plt.subplot(1,2,2)\n",
        "plt.title(\"Test\")\n",
        "plot_decision_boundary(model_1,X_test,y_test)"
      ],
      "metadata": {
        "id": "0bkIRqy--QEa",
        "outputId": "9a550867-c2e7-4a7f-ff69-f916726d5e35",
        "colab": {
          "base_uri": "https://localhost:8080/",
          "height": 390
        }
      },
      "execution_count": 40,
      "outputs": [
        {
          "output_type": "display_data",
          "data": {
            "text/plain": [
              "<Figure size 864x432 with 2 Axes>"
            ],
            "image/png": "[encoded data removed]"
          },
          "metadata": {
            "needs_background": "light"
          }
        }
      ]
    },
    {
      "cell_type": "code",
      "source": [
        "lossfn_curve(train_l,epochs)\n",
        "lossfn_curve(test_l,epochs)\n",
        "plt.legend([\"Train\",\"Test\"])\n",
        "plt.show()"
      ],
      "metadata": {
        "id": "CbKYbeZ5-5LJ",
        "outputId": "d0956de0-7f0c-464c-b977-1ff05270374b",
        "colab": {
          "base_uri": "https://localhost:8080/",
          "height": 295
        }
      },
      "execution_count": 41,
      "outputs": [
        {
          "output_type": "display_data",
          "data": {
            "text/plain": [
              "<Figure size 432x288 with 1 Axes>"
            ],
            "image/png": "[encoded data removed]"
          },
          "metadata": {
            "needs_background": "light"
          }
        }
      ]
    },
    {
      "cell_type": "markdown",
      "source": [
        "Change in the **hidden units** and **increase in the no of epochs** brought no change model is still predicting randomly!"
      ],
      "metadata": {
        "id": "w-veMYmf-XGq"
      }
    },
    {
      "cell_type": "markdown",
      "source": [
        "4.1.1.1.  prepare a model to see if our model can fit a straight line\n",
        "### one way to troubleshoot is to see a larger problem is to test out a smaller problem"
      ],
      "metadata": {
        "id": "G7JHTteg_3f1"
      }
    },
    {
      "cell_type": "code",
      "source": [
        "#Create a straight line\n",
        "weight=0.7\n",
        "bias=0.3\n",
        "\n",
        "#Create range values\n",
        "start=0\n",
        "end=1\n",
        "step=0.01\n",
        "X_regression=torch.arange(start,end,step).reshape(-1,1)\n",
        "\n",
        "y_regression=weight*X_regression+bias\n",
        "\n",
        "X_regression[:5],y_regression[:5]\n"
      ],
      "metadata": {
        "id": "nxWi55HLBo2a",
        "outputId": "6f82b1ac-6bbd-4ecb-d194-849ed50dfda7",
        "colab": {
          "base_uri": "https://localhost:8080/"
        }
      },
      "execution_count": 42,
      "outputs": [
        {
          "output_type": "execute_result",
          "data": {
            "text/plain": [
              "(tensor([[0.0000],\n",
              "         [0.0100],\n",
              "         [0.0200],\n",
              "         [0.0300],\n",
              "         [0.0400]]), tensor([[0.3000],\n",
              "         [0.3070],\n",
              "         [0.3140],\n",
              "         [0.3210],\n",
              "         [0.3280]]))"
            ]
          },
          "metadata": {},
          "execution_count": 42
        }
      ]
    },
    {
      "cell_type": "code",
      "source": [
        "#train test split\n",
        "\n",
        "train_len=int(0.8*len(X_regression))\n",
        "X_train_regression,y_train_regression=X_regression[:train_len],y_regression[:train_len]\n",
        "X_test_regression,y_test_regression=X_regression[train_len:],y_regression[train_len:]\n",
        "X_train_regression.shape,y_train_regression.shape,X_test_regression.shape,y_test_regression.shape\n",
        "X_train_regression.to(device),y_train_regression.to(device),X_test_regression.to(device),y_test_regression.to(device)\n"
      ],
      "metadata": {
        "id": "cpdBDT9eCCPj",
        "outputId": "c129ec13-60a8-45fa-9cf4-29d30fd04758",
        "colab": {
          "base_uri": "https://localhost:8080/"
        }
      },
      "execution_count": 43,
      "outputs": [
        {
          "output_type": "execute_result",
          "data": {
            "text/plain": [
              "(tensor([[0.0000],\n",
              "         [0.0100],\n",
              "         [0.0200],\n",
              "         [0.0300],\n",
              "         [0.0400],\n",
              "         [0.0500],\n",
              "         [0.0600],\n",
              "         [0.0700],\n",
              "         [0.0800],\n",
              "         [0.0900],\n",
              "         [0.1000],\n",
              "         [0.1100],\n",
              "         [0.1200],\n",
              "         [0.1300],\n",
              "         [0.1400],\n",
              "         [0.1500],\n",
              "         [0.1600],\n",
              "         [0.1700],\n",
              "         [0.1800],\n",
              "         [0.1900],\n",
              "         [0.2000],\n",
              "         [0.2100],\n",
              "         [0.2200],\n",
              "         [0.2300],\n",
              "         [0.2400],\n",
              "         [0.2500],\n",
              "         [0.2600],\n",
              "         [0.2700],\n",
              "         [0.2800],\n",
              "         [0.2900],\n",
              "         [0.3000],\n",
              "         [0.3100],\n",
              "         [0.3200],\n",
              "         [0.3300],\n",
              "         [0.3400],\n",
              "         [0.3500],\n",
              "         [0.3600],\n",
              "         [0.3700],\n",
              "         [0.3800],\n",
              "         [0.3900],\n",
              "         [0.4000],\n",
              "         [0.4100],\n",
              "         [0.4200],\n",
              "         [0.4300],\n",
              "         [0.4400],\n",
              "         [0.4500],\n",
              "         [0.4600],\n",
              "         [0.4700],\n",
              "         [0.4800],\n",
              "         [0.4900],\n",
              "         [0.5000],\n",
              "         [0.5100],\n",
              "         [0.5200],\n",
              "         [0.5300],\n",
              "         [0.5400],\n",
              "         [0.5500],\n",
              "         [0.5600],\n",
              "         [0.5700],\n",
              "         [0.5800],\n",
              "         [0.5900],\n",
              "         [0.6000],\n",
              "         [0.6100],\n",
              "         [0.6200],\n",
              "         [0.6300],\n",
              "         [0.6400],\n",
              "         [0.6500],\n",
              "         [0.6600],\n",
              "         [0.6700],\n",
              "         [0.6800],\n",
              "         [0.6900],\n",
              "         [0.7000],\n",
              "         [0.7100],\n",
              "         [0.7200],\n",
              "         [0.7300],\n",
              "         [0.7400],\n",
              "         [0.7500],\n",
              "         [0.7600],\n",
              "         [0.7700],\n",
              "         [0.7800],\n",
              "         [0.7900]]), tensor([[0.3000],\n",
              "         [0.3070],\n",
              "         [0.3140],\n",
              "         [0.3210],\n",
              "         [0.3280],\n",
              "         [0.3350],\n",
              "         [0.3420],\n",
              "         [0.3490],\n",
              "         [0.3560],\n",
              "         [0.3630],\n",
              "         [0.3700],\n",
              "         [0.3770],\n",
              "         [0.3840],\n",
              "         [0.3910],\n",
              "         [0.3980],\n",
              "         [0.4050],\n",
              "         [0.4120],\n",
              "         [0.4190],\n",
              "         [0.4260],\n",
              "         [0.4330],\n",
              "         [0.4400],\n",
              "         [0.4470],\n",
              "         [0.4540],\n",
              "         [0.4610],\n",
              "         [0.4680],\n",
              "         [0.4750],\n",
              "         [0.4820],\n",
              "         [0.4890],\n",
              "         [0.4960],\n",
              "         [0.5030],\n",
              "         [0.5100],\n",
              "         [0.5170],\n",
              "         [0.5240],\n",
              "         [0.5310],\n",
              "         [0.5380],\n",
              "         [0.5450],\n",
              "         [0.5520],\n",
              "         [0.5590],\n",
              "         [0.5660],\n",
              "         [0.5730],\n",
              "         [0.5800],\n",
              "         [0.5870],\n",
              "         [0.5940],\n",
              "         [0.6010],\n",
              "         [0.6080],\n",
              "         [0.6150],\n",
              "         [0.6220],\n",
              "         [0.6290],\n",
              "         [0.6360],\n",
              "         [0.6430],\n",
              "         [0.6500],\n",
              "         [0.6570],\n",
              "         [0.6640],\n",
              "         [0.6710],\n",
              "         [0.6780],\n",
              "         [0.6850],\n",
              "         [0.6920],\n",
              "         [0.6990],\n",
              "         [0.7060],\n",
              "         [0.7130],\n",
              "         [0.7200],\n",
              "         [0.7270],\n",
              "         [0.7340],\n",
              "         [0.7410],\n",
              "         [0.7480],\n",
              "         [0.7550],\n",
              "         [0.7620],\n",
              "         [0.7690],\n",
              "         [0.7760],\n",
              "         [0.7830],\n",
              "         [0.7900],\n",
              "         [0.7970],\n",
              "         [0.8040],\n",
              "         [0.8110],\n",
              "         [0.8180],\n",
              "         [0.8250],\n",
              "         [0.8320],\n",
              "         [0.8390],\n",
              "         [0.8460],\n",
              "         [0.8530]]), tensor([[0.8000],\n",
              "         [0.8100],\n",
              "         [0.8200],\n",
              "         [0.8300],\n",
              "         [0.8400],\n",
              "         [0.8500],\n",
              "         [0.8600],\n",
              "         [0.8700],\n",
              "         [0.8800],\n",
              "         [0.8900],\n",
              "         [0.9000],\n",
              "         [0.9100],\n",
              "         [0.9200],\n",
              "         [0.9300],\n",
              "         [0.9400],\n",
              "         [0.9500],\n",
              "         [0.9600],\n",
              "         [0.9700],\n",
              "         [0.9800],\n",
              "         [0.9900]]), tensor([[0.8600],\n",
              "         [0.8670],\n",
              "         [0.8740],\n",
              "         [0.8810],\n",
              "         [0.8880],\n",
              "         [0.8950],\n",
              "         [0.9020],\n",
              "         [0.9090],\n",
              "         [0.9160],\n",
              "         [0.9230],\n",
              "         [0.9300],\n",
              "         [0.9370],\n",
              "         [0.9440],\n",
              "         [0.9510],\n",
              "         [0.9580],\n",
              "         [0.9650],\n",
              "         [0.9720],\n",
              "         [0.9790],\n",
              "         [0.9860],\n",
              "         [0.9930]]))"
            ]
          },
          "metadata": {},
          "execution_count": 43
        }
      ]
    },
    {
      "cell_type": "code",
      "source": [
        "plot_predictions(X_train_regression,\n",
        "                 y_train_regression,\n",
        "                 X_test_regression,\n",
        "                 y_test_regression)"
      ],
      "metadata": {
        "id": "0m9YUwmxJtrs",
        "outputId": "87c8d995-4c16-4adb-9593-9b8456cf31b7",
        "colab": {
          "base_uri": "https://localhost:8080/",
          "height": 428
        }
      },
      "execution_count": 44,
      "outputs": [
        {
          "output_type": "display_data",
          "data": {
            "text/plain": [
              "<Figure size 720x504 with 1 Axes>"
            ],
            "image/png": "[encoded data removed]"
          },
          "metadata": {
            "needs_background": "light"
          }
        }
      ]
    },
    {
      "cell_type": "markdown",
      "source": [
        "4.1.2. Adjusting `model_1` to fit a regression model\n",
        "Use same archi as model1\n"
      ],
      "metadata": {
        "id": "rQahzD8-KDAy"
      }
    },
    {
      "cell_type": "code",
      "source": [
        "model_2=nn.Sequential(\n",
        "    nn.Linear(in_features=1,out_features=10),\n",
        "    nn.Linear(in_features=10,out_features=10),\n",
        "    nn.Linear(in_features=10,out_features=1)\n",
        ").to(device)\n",
        "\n",
        "model_2.to(device)"
      ],
      "metadata": {
        "id": "QLHO3YCQLZZs",
        "outputId": "fac4979f-386a-4bad-c731-832e5d29747e",
        "colab": {
          "base_uri": "https://localhost:8080/"
        }
      },
      "execution_count": 65,
      "outputs": [
        {
          "output_type": "execute_result",
          "data": {
            "text/plain": [
              "Sequential(\n",
              "  (0): Linear(in_features=1, out_features=10, bias=True)\n",
              "  (1): Linear(in_features=10, out_features=10, bias=True)\n",
              "  (2): Linear(in_features=10, out_features=1, bias=True)\n",
              ")"
            ]
          },
          "metadata": {},
          "execution_count": 65
        }
      ]
    },
    {
      "cell_type": "code",
      "source": [
        "##loss_fn and opti\n",
        "\n",
        "lfn=nn.L1Loss()\n",
        "opti=torch.optim.SGD(params=model_2.parameters(),lr=0.01)"
      ],
      "metadata": {
        "id": "Mjd-OMSqLu30"
      },
      "execution_count": 46,
      "outputs": []
    },
    {
      "cell_type": "code",
      "source": [
        "torch.manual_seed(42)\n",
        "torch.cuda.manual_seed(42)\n",
        "\n",
        "epochs=500\n",
        "\n",
        "X_train_regression,y_train_regression,X_test_regression,y_test_regression=X_train_regression.to(device),y_train_regression.to(device),X_test_regression.to(device),y_test_regression.to(device)\n",
        "\n",
        "for epoch in range(epochs):\n",
        "  y_pred=model_2(X_train_regression)\n",
        "  loss=lfn(y_pred,y_train_regression)\n",
        "  opti.zero_grad()\n",
        "  loss.backward()\n",
        "  opti.step()\n",
        "\n",
        "  model_2.eval()\n",
        "  with torch.inference_mode():\n",
        "    test_pred=model_2(X_test_regression)\n",
        "    test_loss=lfn(test_pred,y_test_regression)\n",
        "\n",
        "    if epoch%10==0:\n",
        "      print(f\"Epoch:{epoch} | Train Loss:{loss:.5f} | Test Loss:{test_loss:.5f}\")\n",
        "  \n"
      ],
      "metadata": {
        "id": "cYh0nto9MEAa",
        "outputId": "d57e77a3-0774-4a04-903e-f647756f5754",
        "colab": {
          "base_uri": "https://localhost:8080/"
        }
      },
      "execution_count": 47,
      "outputs": [
        {
          "output_type": "stream",
          "name": "stdout",
          "text": [
            "Epoch:0 | Train Loss:0.75986 | Test Loss:0.91103\n",
            "Epoch:10 | Train Loss:0.40240 | Test Loss:0.50474\n",
            "Epoch:20 | Train Loss:0.06007 | Test Loss:0.10151\n",
            "Epoch:30 | Train Loss:0.01559 | Test Loss:0.03231\n",
            "Epoch:40 | Train Loss:0.03092 | Test Loss:0.00111\n",
            "Epoch:50 | Train Loss:0.03196 | Test Loss:0.00108\n",
            "Epoch:60 | Train Loss:0.03192 | Test Loss:0.00170\n",
            "Epoch:70 | Train Loss:0.03081 | Test Loss:0.00097\n",
            "Epoch:80 | Train Loss:0.03077 | Test Loss:0.00150\n",
            "Epoch:90 | Train Loss:0.02967 | Test Loss:0.00092\n",
            "Epoch:100 | Train Loss:0.02858 | Test Loss:0.00081\n",
            "Epoch:110 | Train Loss:0.02962 | Test Loss:0.00197\n",
            "Epoch:120 | Train Loss:0.02748 | Test Loss:0.00091\n",
            "Epoch:130 | Train Loss:0.02852 | Test Loss:0.00181\n",
            "Epoch:140 | Train Loss:0.02850 | Test Loss:0.00246\n",
            "Epoch:150 | Train Loss:0.02744 | Test Loss:0.00169\n",
            "Epoch:160 | Train Loss:0.02638 | Test Loss:0.00123\n",
            "Epoch:170 | Train Loss:0.02637 | Test Loss:0.00162\n",
            "Epoch:180 | Train Loss:0.02532 | Test Loss:0.00125\n",
            "Epoch:190 | Train Loss:0.02636 | Test Loss:0.00284\n",
            "Epoch:200 | Train Loss:0.02533 | Test Loss:0.00209\n",
            "Epoch:210 | Train Loss:0.02533 | Test Loss:0.00272\n",
            "Epoch:220 | Train Loss:0.02430 | Test Loss:0.00203\n",
            "Epoch:230 | Train Loss:0.02328 | Test Loss:0.00159\n",
            "Epoch:240 | Train Loss:0.02432 | Test Loss:0.00329\n",
            "Epoch:250 | Train Loss:0.02331 | Test Loss:0.00254\n",
            "Epoch:260 | Train Loss:0.02332 | Test Loss:0.00319\n",
            "Epoch:270 | Train Loss:0.02232 | Test Loss:0.00249\n",
            "Epoch:280 | Train Loss:0.02132 | Test Loss:0.00199\n",
            "Epoch:290 | Train Loss:0.02236 | Test Loss:0.00378\n",
            "Epoch:300 | Train Loss:0.02137 | Test Loss:0.00305\n",
            "Epoch:310 | Train Loss:0.02040 | Test Loss:0.00246\n",
            "Epoch:320 | Train Loss:0.02043 | Test Loss:0.00302\n",
            "Epoch:330 | Train Loss:0.02046 | Test Loss:0.00367\n",
            "Epoch:340 | Train Loss:0.01949 | Test Loss:0.00363\n",
            "Epoch:350 | Train Loss:0.01926 | Test Loss:0.00359\n",
            "Epoch:360 | Train Loss:0.01944 | Test Loss:0.00292\n",
            "Epoch:370 | Train Loss:0.01921 | Test Loss:0.00351\n",
            "Epoch:380 | Train Loss:0.01968 | Test Loss:0.00348\n",
            "Epoch:390 | Train Loss:0.02016 | Test Loss:0.00414\n",
            "Epoch:400 | Train Loss:0.01964 | Test Loss:0.00341\n",
            "Epoch:410 | Train Loss:0.02012 | Test Loss:0.00407\n",
            "Epoch:420 | Train Loss:0.01989 | Test Loss:0.00405\n",
            "Epoch:430 | Train Loss:0.02009 | Test Loss:0.00400\n",
            "Epoch:440 | Train Loss:0.01986 | Test Loss:0.00398\n",
            "Epoch:450 | Train Loss:0.01937 | Test Loss:0.00327\n",
            "Epoch:460 | Train Loss:0.01984 | Test Loss:0.00392\n",
            "Epoch:470 | Train Loss:0.02006 | Test Loss:0.00390\n",
            "Epoch:480 | Train Loss:0.01984 | Test Loss:0.00389\n",
            "Epoch:490 | Train Loss:0.01962 | Test Loss:0.00388\n"
          ]
        }
      ]
    },
    {
      "cell_type": "code",
      "source": [
        "with torch.inference_mode():\n",
        "    pred=model_2(X_test_regression)\n",
        "    "
      ],
      "metadata": {
        "id": "3KEPYsxSR7PV"
      },
      "execution_count": 48,
      "outputs": []
    },
    {
      "cell_type": "code",
      "source": [
        "plot_predictions(X_train_regression.cpu(),\n",
        "                 y_train_regression.cpu(),\n",
        "                 X_test_regression.cpu(),\n",
        "                 y_test_regression.cpu(),\n",
        "                 p_test=pred.cpu().detach().numpy())"
      ],
      "metadata": {
        "id": "5aMoJXpUQfra",
        "outputId": "fc785ac6-4844-4a8d-c576-3ddc8cc03206",
        "colab": {
          "base_uri": "https://localhost:8080/",
          "height": 444
        }
      },
      "execution_count": 49,
      "outputs": [
        {
          "output_type": "display_data",
          "data": {
            "text/plain": [
              "<Figure size 720x504 with 1 Axes>"
            ],
            "image/png": "[encoded data removed]"
          },
          "metadata": {
            "needs_background": "light"
          }
        }
      ]
    },
    {
      "cell_type": "markdown",
      "source": [
        "## 5. The missing piece:non-linearity\n",
        "\n",
        "\"What patterns could you draw if you were given infinite no of straight and non-straight lines\"\n",
        "\n",
        "or in ml terms,an infinite of linear and non linear functions"
      ],
      "metadata": {
        "id": "TCLxMPYlUNN4"
      }
    },
    {
      "cell_type": "markdown",
      "source": [
        "### 6.1 Recreating non-linear data(red blue circles)\n"
      ],
      "metadata": {
        "id": "Vh8Q4o_KVeH7"
      }
    },
    {
      "cell_type": "code",
      "source": [
        "import matplotlib.pyplot as plt\n",
        "from sklearn.datasets import make_circles\n",
        "import pandas as pd\n",
        "n_samples=1000\n",
        "\n",
        "X,y=make_circles(n_samples,noise=0.03,random_state=42)\n",
        "X[:5],y[:5]"
      ],
      "metadata": {
        "id": "SFgkbHOAUo85",
        "outputId": "8e144eac-ef3f-42dc-e97e-3e5b528fc374",
        "colab": {
          "base_uri": "https://localhost:8080/"
        }
      },
      "execution_count": 56,
      "outputs": [
        {
          "output_type": "execute_result",
          "data": {
            "text/plain": [
              "(array([[ 0.75424625,  0.23148074],\n",
              "        [-0.75615888,  0.15325888],\n",
              "        [-0.81539193,  0.17328203],\n",
              "        [-0.39373073,  0.69288277],\n",
              "        [ 0.44220765, -0.89672343]]), array([1, 1, 1, 1, 0]))"
            ]
          },
          "metadata": {},
          "execution_count": 56
        }
      ]
    },
    {
      "cell_type": "code",
      "source": [
        "def plot_classfication_data_V0(X):\n",
        "  plt.scatter(x=X[:,0],y=X[:,1],c=y,cmap=plt.cm.RdYlBu);"
      ],
      "metadata": {
        "id": "LmLIGweJVq8D"
      },
      "execution_count": 51,
      "outputs": []
    },
    {
      "cell_type": "code",
      "source": [
        "plot_classfication_data_V0(X)"
      ],
      "metadata": {
        "id": "AVsYOu_CW0jp",
        "outputId": "8d1fc0a3-0374-42ae-993c-c622a92bae0d",
        "colab": {
          "base_uri": "https://localhost:8080/",
          "height": 265
        }
      },
      "execution_count": 52,
      "outputs": [
        {
          "output_type": "display_data",
          "data": {
            "text/plain": [
              "<Figure size 432x288 with 1 Axes>"
            ],
            "image/png": "[encoded data removed]"
          },
          "metadata": {
            "needs_background": "light"
          }
        }
      ]
    },
    {
      "cell_type": "code",
      "source": [
        "from pathlib import Path\n",
        "import requests\n",
        "if Path(\"helper_fn.py\").is_file():\n",
        "  print(\"Already imported\")\n",
        "else:\n",
        "  request=requests.get(\"https://github.com/MananShukla7/Colab-Notebook/raw/main/helper_functions.py\")\n",
        "  with open(\"helper_fn.py\",\"wb\") as f:\n",
        "    f.write(request.content)\n",
        "from helper_fn import plot_decision_boundary, lossfn_curve, plot_predictions, plot_classfication_data_V0\n"
      ],
      "metadata": {
        "id": "zeY0rVKXW-5w",
        "outputId": "02856885-4777-483e-ff9d-6fa18bdb320e",
        "colab": {
          "base_uri": "https://localhost:8080/"
        }
      },
      "execution_count": 53,
      "outputs": [
        {
          "output_type": "stream",
          "name": "stdout",
          "text": [
            "Already imported\n"
          ]
        }
      ]
    },
    {
      "cell_type": "code",
      "source": [
        "from sklearn.model_selection import train_test_split\n",
        "\n",
        "# X=torch.from_numpy(X).type(torch.float)\n",
        "\n",
        "# y=torch.from_numpy(y).type(torch.float)\n",
        "\n",
        "X_train,X_test,y_train,y_test=train_test_split(X,y,test_size=0.2,random_state=42)\n",
        "\n",
        "X_test.shape,X_train.shape,y_test.shape,y_train.shape"
      ],
      "metadata": {
        "id": "YOkHayct8qRQ",
        "outputId": "c663c8e3-1238-4a0e-aedf-f77af05d76f0",
        "colab": {
          "base_uri": "https://localhost:8080/"
        }
      },
      "execution_count": 90,
      "outputs": [
        {
          "output_type": "execute_result",
          "data": {
            "text/plain": [
              "(torch.Size([200, 2]),\n",
              " torch.Size([800, 2]),\n",
              " torch.Size([200]),\n",
              " torch.Size([800]))"
            ]
          },
          "metadata": {},
          "execution_count": 90
        }
      ]
    },
    {
      "cell_type": "markdown",
      "source": [
        "### 5.2 Building a model from non-linearity"
      ],
      "metadata": {
        "id": "pV6IDZMQ-Rv7"
      }
    },
    {
      "cell_type": "code",
      "source": [
        "class CircleModelV2(nn.Module):\n",
        "  def __init__(self):\n",
        "    super().__init__()\n",
        "    self.layer_1=nn.Linear(in_features=2,out_features=10)\n",
        "    self.layer_2=nn.Linear(in_features=10,out_features=10)\n",
        "    self.layer_3=nn.Linear(in_features=10,out_features=1)\n",
        "    self.relu=nn.ReLU()\n",
        "    \n",
        "  def forward(self,x):\n",
        "    return self.layer_3(self.relu(self.layer_2(self.relu(self.layer_1(x)))))\n",
        "\n",
        "model_3 = CircleModelV2()\n",
        "model_3.to(device)"
      ],
      "metadata": {
        "id": "NZLOumE1-YGp",
        "outputId": "e7350e8a-b749-4abd-fdf1-39174820a575",
        "colab": {
          "base_uri": "https://localhost:8080/"
        }
      },
      "execution_count": 91,
      "outputs": [
        {
          "output_type": "execute_result",
          "data": {
            "text/plain": [
              "CircleModelV2(\n",
              "  (layer_1): Linear(in_features=2, out_features=10, bias=True)\n",
              "  (layer_2): Linear(in_features=10, out_features=10, bias=True)\n",
              "  (layer_3): Linear(in_features=10, out_features=1, bias=True)\n",
              "  (relu): ReLU()\n",
              ")"
            ]
          },
          "metadata": {},
          "execution_count": 91
        }
      ]
    },
    {
      "cell_type": "code",
      "source": [
        "##loss_fn and opti\n",
        "loss_fn=nn.BCEWithLogitsLoss()\n",
        "\n",
        "opti=torch.optim.Adam(params=model_3.parameters(),lr=0.01)"
      ],
      "metadata": {
        "id": "aI3-j2V1Bl1O"
      },
      "execution_count": 92,
      "outputs": []
    },
    {
      "cell_type": "code",
      "source": [
        "y_train.shape\n",
        "train_logits.shape"
      ],
      "metadata": {
        "id": "fB-JCC-aEvbi",
        "outputId": "e7b75019-476e-46c0-83eb-6f3827d0f514",
        "colab": {
          "base_uri": "https://localhost:8080/"
        }
      },
      "execution_count": 93,
      "outputs": [
        {
          "output_type": "execute_result",
          "data": {
            "text/plain": [
              "torch.Size([200])"
            ]
          },
          "metadata": {},
          "execution_count": 93
        }
      ]
    },
    {
      "cell_type": "code",
      "source": [
        "##train and test loop\n",
        "torch.manual_seed(42)\n",
        "torch.cuda.manual_seed(42)\n",
        "epochs=1000\n",
        "##to device\n",
        "train_l=[]\n",
        "test_l=[]\n",
        "X_train,y_train=X_train.to(device),y_train.to(device)\n",
        "X_test,y_test=X_test.to(device),y_test.to(device)\n",
        "\n",
        "for epoch in range(epochs):\n",
        "  model_3.train()\n",
        "\n",
        "  train_logits=model_3(X_train).squeeze()\n",
        "  y_pred_train=torch.round(torch.sigmoid(train_logits))\n",
        "\n",
        "  train_loss=loss_fn(train_logits,y_train)\n",
        "  train_l.append(train_loss.cpu().detach().numpy())\n",
        "\n",
        "  opti.zero_grad()\n",
        "\n",
        "  train_loss.backward()\n",
        "\n",
        "  opti.step()\n",
        "\n",
        "  model_3.eval()\n",
        "  with torch.inference_mode():\n",
        "    test_logits=model_3(X_test).squeeze()\n",
        "    y_pred_test=torch.round(torch.sigmoid(test_logits))\n",
        "    test_loss=loss_fn(test_logits,y_test)\n",
        "    test_l.append(test_loss.cpu().detach().numpy())\n",
        "\n",
        "    if epoch%100==0:\n",
        "      print(f\"Epoch:{epoch} | Train Loss:{train_loss:.5f} | Test Loss:{test_loss:.5f}\")\n",
        "  \n",
        "    "
      ],
      "metadata": {
        "id": "dBKIIEIl_cum",
        "outputId": "43987d11-c977-4641-fd0f-411dfa58f6f5",
        "colab": {
          "base_uri": "https://localhost:8080/"
        }
      },
      "execution_count": 94,
      "outputs": [
        {
          "output_type": "stream",
          "name": "stdout",
          "text": [
            "Epoch:0 | Train Loss:0.69295 | Test Loss:0.69203\n",
            "Epoch:100 | Train Loss:0.17334 | Test Loss:0.20684\n",
            "Epoch:200 | Train Loss:0.01503 | Test Loss:0.02743\n",
            "Epoch:300 | Train Loss:0.00581 | Test Loss:0.01481\n",
            "Epoch:400 | Train Loss:0.00317 | Test Loss:0.01065\n",
            "Epoch:500 | Train Loss:0.00200 | Test Loss:0.00874\n",
            "Epoch:600 | Train Loss:0.00138 | Test Loss:0.00754\n",
            "Epoch:700 | Train Loss:0.00101 | Test Loss:0.00677\n",
            "Epoch:800 | Train Loss:0.00076 | Test Loss:0.00622\n",
            "Epoch:900 | Train Loss:0.00060 | Test Loss:0.00579\n"
          ]
        }
      ]
    },
    {
      "cell_type": "code",
      "source": [
        "plt.figure(figsize=(12,6))\n",
        "plt.subplot(1,2,1)\n",
        "plot_decision_boundary(model_3,X_train,y_train);\n",
        "plt.title(\"Train\");\n",
        "plt.subplot(1,2,2)\n",
        "plot_decision_boundary(model_3,X_test,y_test);\n",
        "plt.title(\"Test\");"
      ],
      "metadata": {
        "id": "Dz5UITrVD3Nh",
        "outputId": "a4e7e990-45f8-482c-88f7-e8726b55cccf",
        "colab": {
          "base_uri": "https://localhost:8080/",
          "height": 390
        }
      },
      "execution_count": 105,
      "outputs": [
        {
          "output_type": "display_data",
          "data": {
            "text/plain": [
              "<Figure size 864x432 with 2 Axes>"
            ],
            "image/png": "[encoded data removed]"
          },
          "metadata": {
            "needs_background": "light"
          }
        }
      ]
    }
  ],
  "metadata": {
    "language_info": {
      "name": "python"
    },
    "orig_nbformat": 4,
    "colab": {
      "provenance": [],
      "include_colab_link": true
    },
    "kernelspec": {
      "name": "python3",
      "display_name": "Python 3"
    },
    "gpuClass": "standard",
    "accelerator": "GPU"
  },
  "nbformat": 4,
  "nbformat_minor": 0
}