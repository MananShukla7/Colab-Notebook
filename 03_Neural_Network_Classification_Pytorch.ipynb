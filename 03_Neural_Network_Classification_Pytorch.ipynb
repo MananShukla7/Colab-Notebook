{
  "cells": [
    {
      "cell_type": "markdown",
      "metadata": {
        "id": "view-in-github",
        "colab_type": "text"
      },
      "source": [
        "<a href=\"https://colab.research.google.com/github/MananShukla7/Colab-Notebook/blob/main/03_Neural_Network_Classification_Pytorch.ipynb\" target=\"_parent\"><img src=\"https://colab.research.google.com/assets/colab-badge.svg\" alt=\"Open In Colab\"/></a>"
      ]
    },
    {
      "cell_type": "markdown",
      "source": [
        "# 03. NN Classification with pytorch\n",
        "\n",
        "Classification is a problem wgere something is one thing or another(there can be\n",
        "multiple things as options!)"
      ],
      "metadata": {
        "id": "VuzS7siwLg_X"
      }
    },
    {
      "cell_type": "markdown",
      "source": [
        "##1. Data (ml is nothing without data mate!!)\n",
        "\n",
        "Make classification data and get it ready"
      ],
      "metadata": {
        "id": "EbVlP73FMI4e"
      }
    },
    {
      "cell_type": "code",
      "source": [
        "import sklearn\n",
        "import pandas as pd\n",
        "import torch\n",
        "from torch import nn\n",
        "import numpy as np\n",
        "import matplotlib.pyplot as plt"
      ],
      "metadata": {
        "id": "j8X2w9xdMbsx"
      },
      "execution_count": 3,
      "outputs": []
    },
    {
      "cell_type": "code",
      "source": [
        "from sklearn.datasets import make_circles\n",
        "\n",
        "#Make 1000 samples\n",
        "n_samples=1000\n",
        "\n",
        "#Create circles\n",
        "X,y=make_circles(n_samples,\n",
        "                noise=0.03,random_state=42)"
      ],
      "metadata": {
        "id": "_L1nLHLraavI"
      },
      "execution_count": 4,
      "outputs": []
    },
    {
      "cell_type": "code",
      "source": [
        "len(X),len(y)"
      ],
      "metadata": {
        "id": "8fRqxy6maZQg",
        "outputId": "ac602697-0a2a-4245-c683-19cb28ada374",
        "colab": {
          "base_uri": "https://localhost:8080/"
        }
      },
      "execution_count": 5,
      "outputs": [
        {
          "output_type": "execute_result",
          "data": {
            "text/plain": [
              "(1000, 1000)"
            ]
          },
          "metadata": {},
          "execution_count": 5
        }
      ]
    },
    {
      "cell_type": "code",
      "source": [
        "print(f\"First 5 samples of X:\\n {X[:5]}\")\n",
        "print(f\"First 5 samples of y:\\n {y[:5]}\")"
      ],
      "metadata": {
        "id": "g73ThJVta2C6",
        "outputId": "dc98259b-e332-4f27-de99-b770c178ba21",
        "colab": {
          "base_uri": "https://localhost:8080/"
        }
      },
      "execution_count": 6,
      "outputs": [
        {
          "output_type": "stream",
          "name": "stdout",
          "text": [
            "First 5 samples of X:\n",
            " [[ 0.75424625  0.23148074]\n",
            " [-0.75615888  0.15325888]\n",
            " [-0.81539193  0.17328203]\n",
            " [-0.39373073  0.69288277]\n",
            " [ 0.44220765 -0.89672343]]\n",
            "First 5 samples of y:\n",
            " [1 1 1 1 0]\n"
          ]
        }
      ]
    },
    {
      "cell_type": "code",
      "source": [
        "#Make DataFrame of circle data \n",
        "circles =pd.DataFrame({\"X1\":X[:,0],\"X2\":X[:,1],\"label\":y})\n",
        "circles.head(10)"
      ],
      "metadata": {
        "id": "hHZYRS4PbMyo",
        "outputId": "c3482816-f197-4ade-9113-98f269202eb4",
        "colab": {
          "base_uri": "https://localhost:8080/",
          "height": 363
        }
      },
      "execution_count": 7,
      "outputs": [
        {
          "output_type": "execute_result",
          "data": {
            "text/plain": [
              "         X1        X2  label\n",
              "0  0.754246  0.231481      1\n",
              "1 -0.756159  0.153259      1\n",
              "2 -0.815392  0.173282      1\n",
              "3 -0.393731  0.692883      1\n",
              "4  0.442208 -0.896723      0\n",
              "5 -0.479646  0.676435      1\n",
              "6 -0.013648  0.803349      1\n",
              "7  0.771513  0.147760      1\n",
              "8 -0.169322 -0.793456      1\n",
              "9 -0.121486  1.021509      0"
            ],
            "text/html": [
              "\n",
              "  <div id=\"df-5563a3f7-994e-4d84-a193-a647430702d3\">\n",
              "    <div class=\"colab-df-container\">\n",
              "      <div>\n",
              "<style scoped>\n",
              "    .dataframe tbody tr th:only-of-type {\n",
              "        vertical-align: middle;\n",
              "    }\n",
              "\n",
              "    .dataframe tbody tr th {\n",
              "        vertical-align: top;\n",
              "    }\n",
              "\n",
              "    .dataframe thead th {\n",
              "        text-align: right;\n",
              "    }\n",
              "</style>\n",
              "<table border=\"1\" class=\"dataframe\">\n",
              "  <thead>\n",
              "    <tr style=\"text-align: right;\">\n",
              "      <th></th>\n",
              "      <th>X1</th>\n",
              "      <th>X2</th>\n",
              "      <th>label</th>\n",
              "    </tr>\n",
              "  </thead>\n",
              "  <tbody>\n",
              "    <tr>\n",
              "      <th>0</th>\n",
              "      <td>0.754246</td>\n",
              "      <td>0.231481</td>\n",
              "      <td>1</td>\n",
              "    </tr>\n",
              "    <tr>\n",
              "      <th>1</th>\n",
              "      <td>-0.756159</td>\n",
              "      <td>0.153259</td>\n",
              "      <td>1</td>\n",
              "    </tr>\n",
              "    <tr>\n",
              "      <th>2</th>\n",
              "      <td>-0.815392</td>\n",
              "      <td>0.173282</td>\n",
              "      <td>1</td>\n",
              "    </tr>\n",
              "    <tr>\n",
              "      <th>3</th>\n",
              "      <td>-0.393731</td>\n",
              "      <td>0.692883</td>\n",
              "      <td>1</td>\n",
              "    </tr>\n",
              "    <tr>\n",
              "      <th>4</th>\n",
              "      <td>0.442208</td>\n",
              "      <td>-0.896723</td>\n",
              "      <td>0</td>\n",
              "    </tr>\n",
              "    <tr>\n",
              "      <th>5</th>\n",
              "      <td>-0.479646</td>\n",
              "      <td>0.676435</td>\n",
              "      <td>1</td>\n",
              "    </tr>\n",
              "    <tr>\n",
              "      <th>6</th>\n",
              "      <td>-0.013648</td>\n",
              "      <td>0.803349</td>\n",
              "      <td>1</td>\n",
              "    </tr>\n",
              "    <tr>\n",
              "      <th>7</th>\n",
              "      <td>0.771513</td>\n",
              "      <td>0.147760</td>\n",
              "      <td>1</td>\n",
              "    </tr>\n",
              "    <tr>\n",
              "      <th>8</th>\n",
              "      <td>-0.169322</td>\n",
              "      <td>-0.793456</td>\n",
              "      <td>1</td>\n",
              "    </tr>\n",
              "    <tr>\n",
              "      <th>9</th>\n",
              "      <td>-0.121486</td>\n",
              "      <td>1.021509</td>\n",
              "      <td>0</td>\n",
              "    </tr>\n",
              "  </tbody>\n",
              "</table>\n",
              "</div>\n",
              "      <button class=\"colab-df-convert\" onclick=\"convertToInteractive('df-5563a3f7-994e-4d84-a193-a647430702d3')\"\n",
              "              title=\"Convert this dataframe to an interactive table.\"\n",
              "              style=\"display:none;\">\n",
              "        \n",
              "  <svg xmlns=\"http://www.w3.org/2000/svg\" height=\"24px\"viewBox=\"0 0 24 24\"\n",
              "       width=\"24px\">\n",
              "    <path d=\"M0 0h24v24H0V0z\" fill=\"none\"/>\n",
              "    <path d=\"M18.56 5.44l.94 2.06.94-2.06 2.06-.94-2.06-.94-.94-2.06-.94 2.06-2.06.94zm-11 1L8.5 8.5l.94-2.06 2.06-.94-2.06-.94L8.5 2.5l-.94 2.06-2.06.94zm10 10l.94 2.06.94-2.06 2.06-.94-2.06-.94-.94-2.06-.94 2.06-2.06.94z\"/><path d=\"M17.41 7.96l-1.37-1.37c-.4-.4-.92-.59-1.43-.59-.52 0-1.04.2-1.43.59L10.3 9.45l-7.72 7.72c-.78.78-.78 2.05 0 2.83L4 21.41c.39.39.9.59 1.41.59.51 0 1.02-.2 1.41-.59l7.78-7.78 2.81-2.81c.8-.78.8-2.07 0-2.86zM5.41 20L4 18.59l7.72-7.72 1.47 1.35L5.41 20z\"/>\n",
              "  </svg>\n",
              "      </button>\n",
              "      \n",
              "  <style>\n",
              "    .colab-df-container {\n",
              "      display:flex;\n",
              "      flex-wrap:wrap;\n",
              "      gap: 12px;\n",
              "    }\n",
              "\n",
              "    .colab-df-convert {\n",
              "      background-color: #E8F0FE;\n",
              "      border: none;\n",
              "      border-radius: 50%;\n",
              "      cursor: pointer;\n",
              "      display: none;\n",
              "      fill: #1967D2;\n",
              "      height: 32px;\n",
              "      padding: 0 0 0 0;\n",
              "      width: 32px;\n",
              "    }\n",
              "\n",
              "    .colab-df-convert:hover {\n",
              "      background-color: #E2EBFA;\n",
              "      box-shadow: 0px 1px 2px rgba(60, 64, 67, 0.3), 0px 1px 3px 1px rgba(60, 64, 67, 0.15);\n",
              "      fill: #174EA6;\n",
              "    }\n",
              "\n",
              "    [theme=dark] .colab-df-convert {\n",
              "      background-color: #3B4455;\n",
              "      fill: #D2E3FC;\n",
              "    }\n",
              "\n",
              "    [theme=dark] .colab-df-convert:hover {\n",
              "      background-color: #434B5C;\n",
              "      box-shadow: 0px 1px 3px 1px rgba(0, 0, 0, 0.15);\n",
              "      filter: drop-shadow(0px 1px 2px rgba(0, 0, 0, 0.3));\n",
              "      fill: #FFFFFF;\n",
              "    }\n",
              "  </style>\n",
              "\n",
              "      <script>\n",
              "        const buttonEl =\n",
              "          document.querySelector('#df-5563a3f7-994e-4d84-a193-a647430702d3 button.colab-df-convert');\n",
              "        buttonEl.style.display =\n",
              "          google.colab.kernel.accessAllowed ? 'block' : 'none';\n",
              "\n",
              "        async function convertToInteractive(key) {\n",
              "          const element = document.querySelector('#df-5563a3f7-994e-4d84-a193-a647430702d3');\n",
              "          const dataTable =\n",
              "            await google.colab.kernel.invokeFunction('convertToInteractive',\n",
              "                                                     [key], {});\n",
              "          if (!dataTable) return;\n",
              "\n",
              "          const docLinkHtml = 'Like what you see? Visit the ' +\n",
              "            '<a target=\"_blank\" href=https://colab.research.google.com/notebooks/data_table.ipynb>data table notebook</a>'\n",
              "            + ' to learn more about interactive tables.';\n",
              "          element.innerHTML = '';\n",
              "          dataTable['output_type'] = 'display_data';\n",
              "          await google.colab.output.renderOutput(dataTable, element);\n",
              "          const docLink = document.createElement('div');\n",
              "          docLink.innerHTML = docLinkHtml;\n",
              "          element.appendChild(docLink);\n",
              "        }\n",
              "      </script>\n",
              "    </div>\n",
              "  </div>\n",
              "  "
            ]
          },
          "metadata": {},
          "execution_count": 7
        }
      ]
    },
    {
      "cell_type": "code",
      "source": [
        "import matplotlib.pyplot as plt\n",
        "plt.scatter(x=X[:,0],\n",
        "             y=X[:,1],\n",
        "             c=y,\n",
        "             cmap=plt.cm.RdYlBu);"
      ],
      "metadata": {
        "id": "yPgjy1JCb6zX",
        "outputId": "fbf49322-3fdb-4995-81df-b48fce676c13",
        "colab": {
          "base_uri": "https://localhost:8080/",
          "height": 265
        }
      },
      "execution_count": 8,
      "outputs": [
        {
          "output_type": "display_data",
          "data": {
            "text/plain": [
              "<Figure size 432x288 with 1 Axes>"
            ],
            "image/png": "[encoded data removed]"
          },
          "metadata": {
            "needs_background": "light"
          }
        }
      ]
    },
    {
      "cell_type": "markdown",
      "source": [
        "Note: the data we are working with is also reffered sas toy dataset,a small data\n",
        "enough to experiment and scalable enough to practice the fundamentals"
      ],
      "metadata": {
        "id": "qoGWGUHFdsup"
      }
    },
    {
      "cell_type": "markdown",
      "source": [
        "### 1.1 Check input and output shapes\n"
      ],
      "metadata": {
        "id": "pnh30LNDeBbs"
      }
    },
    {
      "cell_type": "code",
      "source": [
        "X.shape,y.shape"
      ],
      "metadata": {
        "id": "_gjWhKAifXjL",
        "outputId": "fd01731f-0cec-43cf-f692-77593d067296",
        "colab": {
          "base_uri": "https://localhost:8080/"
        }
      },
      "execution_count": 9,
      "outputs": [
        {
          "output_type": "execute_result",
          "data": {
            "text/plain": [
              "((1000, 2), (1000,))"
            ]
          },
          "metadata": {},
          "execution_count": 9
        }
      ]
    },
    {
      "cell_type": "code",
      "source": [
        "#View the features of labels\n",
        "X_sample=X[0]\n",
        "y_sample=y[0]\n",
        "print(f\"Values of one samples of X:{X_sample} and same for y:{y_sample}\")\n",
        "print(f\"Shape of one samples of X:{X_sample.shape} and same for y:{y_sample.shape}\")"
      ],
      "metadata": {
        "id": "LLqHKW5pfZjw",
        "outputId": "fb499ed5-c68f-43a5-a60b-51d4b72c679c",
        "colab": {
          "base_uri": "https://localhost:8080/"
        }
      },
      "execution_count": 10,
      "outputs": [
        {
          "output_type": "stream",
          "name": "stdout",
          "text": [
            "Values of one samples of X:[0.75424625 0.23148074] and same for y:1\n",
            "Shape of one samples of X:(2,) and same for y:()\n"
          ]
        }
      ]
    },
    {
      "cell_type": "markdown",
      "source": [
        "### 1.2 get data into tensors and create train and test split"
      ],
      "metadata": {
        "id": "4ppwmEBMgCJm"
      }
    },
    {
      "cell_type": "code",
      "source": [
        "#turn data into tensors\n",
        "##Numpy has default dtype of float 64 but tensors have float32 and that may cause\n",
        "##probs in the future so we use type(torch.float) for conversion\n",
        "X=torch.from_numpy(X).type(torch.float)\n",
        "y=torch.from_numpy(y).type(torch.float)"
      ],
      "metadata": {
        "id": "x45uYEv7gHXB"
      },
      "execution_count": 11,
      "outputs": []
    },
    {
      "cell_type": "code",
      "source": [
        "X[:5],y[:5],X.dtype,y.dtype"
      ],
      "metadata": {
        "id": "VIbt2ez_g6C0",
        "outputId": "ef833913-d983-4e6f-8ab7-b7e1a51b2fce",
        "colab": {
          "base_uri": "https://localhost:8080/"
        }
      },
      "execution_count": 12,
      "outputs": [
        {
          "output_type": "execute_result",
          "data": {
            "text/plain": [
              "(tensor([[ 0.7542,  0.2315],\n",
              "         [-0.7562,  0.1533],\n",
              "         [-0.8154,  0.1733],\n",
              "         [-0.3937,  0.6929],\n",
              "         [ 0.4422, -0.8967]]),\n",
              " tensor([1., 1., 1., 1., 0.]),\n",
              " torch.float32,\n",
              " torch.float32)"
            ]
          },
          "metadata": {},
          "execution_count": 12
        }
      ]
    },
    {
      "cell_type": "code",
      "source": [
        "#Split data into training and test sets\n",
        "from sklearn.model_selection import train_test_split\n",
        "\n",
        "X_train,X_test,y_train,y_test=train_test_split(X,y,\n",
        "                                               train_size=0.8,\n",
        "                                               random_state=42)"
      ],
      "metadata": {
        "id": "LYDV52y1hA2M"
      },
      "execution_count": 13,
      "outputs": []
    },
    {
      "cell_type": "code",
      "source": [
        "len(X_train),len(X_test),len(y_train),len(y_test)"
      ],
      "metadata": {
        "id": "WvxUlEqHiCkp",
        "outputId": "b0c39ba0-9400-47a3-b209-b42cfce4d5ad",
        "colab": {
          "base_uri": "https://localhost:8080/"
        }
      },
      "execution_count": 14,
      "outputs": [
        {
          "output_type": "execute_result",
          "data": {
            "text/plain": [
              "(800, 200, 800, 200)"
            ]
          },
          "metadata": {},
          "execution_count": 14
        }
      ]
    },
    {
      "cell_type": "markdown",
      "source": [
        "##2. Building a model!\n",
        "\n",
        "Lets build a model to classify blue and red dots\n",
        "\n",
        "To do so we want to:\n",
        "1. Setup device agnostic so it can run on accelerator if theres one\n",
        "2. Construct a model(by subclassing nn.Module)\n",
        "3. Define a loss function anf optimizer\n",
        "4. Create train and test loop"
      ],
      "metadata": {
        "id": "yYouA1eniOwn"
      }
    },
    {
      "cell_type": "code",
      "source": [
        "#Device agnostic\n",
        "device=\"cuda\" if torch.cuda.is_available() else \"cpu\"\n",
        "device"
      ],
      "metadata": {
        "id": "swHozk38i65e",
        "outputId": "c300c683-3ef4-44a8-af1b-78429f3dc9af",
        "colab": {
          "base_uri": "https://localhost:8080/",
          "height": 36
        }
      },
      "execution_count": 15,
      "outputs": [
        {
          "output_type": "execute_result",
          "data": {
            "text/plain": [
              "'cuda'"
            ],
            "application/vnd.google.colaboratory.intrinsic+json": {
              "type": "string"
            }
          },
          "metadata": {},
          "execution_count": 15
        }
      ]
    },
    {
      "cell_type": "markdown",
      "source": [
        "Now we've setup device agnostic code ,lets creatw model:\n",
        "\n",
        "1. Subclass `nn.module`(almost all models are in this module)\n",
        "2. Create 2 `nn.linear()` layers that are capable of handling the shapes of\n",
        "our data\n",
        "3. define a `forward()` method that outlines the forward pass of the model\n",
        "4. Instantiate the model and send it to target `device`!!"
      ],
      "metadata": {
        "id": "RIni056djTDi"
      }
    },
    {
      "cell_type": "code",
      "source": [
        "#1. construct a model that subclasses nn.Module\n",
        "class CircleModelV0(nn.Module):\n",
        "  def __init__(self):\n",
        "    super().__init__()\n",
        "    #2. Create 2 nn.Linear layers capable of handling shapes of our data\n",
        "    self.layer_1=nn.Linear(in_features=2,out_features=5)#takes in 2 features and upscale it to 5!\n",
        "    self.layer_2=nn.Linear(in_features=5,out_features=1)#takes in 5 features and ops 1 features (same shape as y)\n",
        "    # self.two_layers=nn.Sequential(\n",
        "    # nn.Linear(in_features=2,out_features=5),\n",
        "    # nn.Linear(in_features=5,out_features=1))\n",
        "\n",
        "\n",
        "  #3. Define a forwaard method that outlines the f/w pass\n",
        "  def forward(self,x):\n",
        "    return self.layer_2(self.layer_1(x)) #x -> l1 -> l2 -> o/p\n",
        "    # return self.two_layers(x)\n",
        "#4. Instantiate an instance of our model class and send it to the target device\n",
        "model_0=CircleModelV0().to(device)\n",
        "model_0"
      ],
      "metadata": {
        "id": "tKiN9v2lkDt0",
        "outputId": "b1c014e2-4af5-41ae-e498-b3698088baab",
        "colab": {
          "base_uri": "https://localhost:8080/"
        }
      },
      "execution_count": 16,
      "outputs": [
        {
          "output_type": "execute_result",
          "data": {
            "text/plain": [
              "CircleModelV0(\n",
              "  (layer_1): Linear(in_features=2, out_features=5, bias=True)\n",
              "  (layer_2): Linear(in_features=5, out_features=1, bias=True)\n",
              ")"
            ]
          },
          "metadata": {},
          "execution_count": 16
        }
      ]
    },
    {
      "cell_type": "code",
      "source": [
        "next(model_0.parameters()).device"
      ],
      "metadata": {
        "id": "pmaGSAbdmg5t",
        "outputId": "539bb39c-5542-4577-e060-7c5825d9e014",
        "colab": {
          "base_uri": "https://localhost:8080/"
        }
      },
      "execution_count": 17,
      "outputs": [
        {
          "output_type": "execute_result",
          "data": {
            "text/plain": [
              "device(type='cuda', index=0)"
            ]
          },
          "metadata": {},
          "execution_count": 17
        }
      ]
    },
    {
      "cell_type": "code",
      "source": [
        "#lets replicate the model above using nn.sequential\n",
        "model_0=nn.Sequential(\n",
        "    nn.Linear(in_features=2,out_features=5),\n",
        "    nn.Linear(in_features=5,out_features=1)\n",
        ").to(device)\n",
        "\n",
        "model_0.to(device)"
      ],
      "metadata": {
        "id": "KUL86Z3kzmZv",
        "outputId": "3a98d7dc-c260-4709-9486-87909b056e01",
        "colab": {
          "base_uri": "https://localhost:8080/"
        }
      },
      "execution_count": 73,
      "outputs": [
        {
          "output_type": "execute_result",
          "data": {
            "text/plain": [
              "Sequential(\n",
              "  (0): Linear(in_features=2, out_features=5, bias=True)\n",
              "  (1): Linear(in_features=5, out_features=1, bias=True)\n",
              ")"
            ]
          },
          "metadata": {},
          "execution_count": 73
        }
      ]
    },
    {
      "cell_type": "code",
      "source": [
        "with torch.inference_mode():\n",
        "  untrained_preds=model_0(X_test.to(device))\n",
        "  print(f\"Length of predictions: {len(untrained_preds)}, Shape: {untrained_preds.shape}\")\n",
        "  print(f\"First 10 preds:\\n {torch.round(untrained_preds[:10])}\")\n",
        "  print(f\"First 10 preds:\\n {y_test[:10]}\")"
      ],
      "metadata": {
        "id": "rRdnrJsy1MWz",
        "outputId": "1410f88b-6aff-439f-a528-1b3f6d8c7629",
        "colab": {
          "base_uri": "https://localhost:8080/"
        }
      },
      "execution_count": 19,
      "outputs": [
        {
          "output_type": "stream",
          "name": "stdout",
          "text": [
            "Length of predictions: 200, Shape: torch.Size([200, 1])\n",
            "First 10 preds:\n",
            " tensor([[ 1.],\n",
            "        [ 1.],\n",
            "        [ 0.],\n",
            "        [ 1.],\n",
            "        [-1.],\n",
            "        [-1.],\n",
            "        [-0.],\n",
            "        [-0.],\n",
            "        [ 0.],\n",
            "        [ 1.]], device='cuda:0')\n",
            "First 10 preds:\n",
            " tensor([1., 0., 1., 0., 1., 1., 0., 0., 1., 0.])\n"
          ]
        }
      ]
    },
    {
      "cell_type": "markdown",
      "source": [
        "###2.1 Setup loss fn and optimizer\n",
        "\n",
        "which loss fn and opti should we use??\n",
        "for ex\n",
        "- regression we want MAE or MSE\n",
        "- for classification we want BCE loss or CE loss\n",
        "\n",
        "As a reminder the lossfn measures how wrong our models preds are!!\n",
        "\n",
        "###what is a logits layer in deep learning:\n",
        "* Its basically a layer that feeds in to softmax.the o/p of softmax layer is probabilities and\n",
        "the input is logits\n",
        "\n",
        "*  Logits are the values produced b/w -inf to +inf and they are converted into probabilities of \n",
        "0 to 1 by softmax layer\n",
        "\n",
        "and for optimizers 2 common are sgd and adam!"
      ],
      "metadata": {
        "id": "2TE7wFbs3LvF"
      }
    },
    {
      "cell_type": "code",
      "source": [
        "#Setup the loss function\n",
        "#Now loss_fn=nn.BCELoss() exists but it needs the inp data to go through the sigmoid activtn fn \n",
        "#prior to the input to BCELoss!\n",
        "loss_fn=nn.BCEWithLogitsLoss()#withLogitsLoss-sigmoid fun built in(more stable than w/o logitloss)\n",
        "\n",
        "optimizer=torch.optim.SGD(params=model_0.parameters(),lr=0.1)"
      ],
      "metadata": {
        "id": "cPH6u4anqKzH"
      },
      "execution_count": 52,
      "outputs": []
    },
    {
      "cell_type": "code",
      "source": [
        "model_0.state_dict()"
      ],
      "metadata": {
        "id": "hfvrPVEU7ncs",
        "outputId": "f835d3e8-d322-4e11-e596-0df2a1b78153",
        "colab": {
          "base_uri": "https://localhost:8080/"
        }
      },
      "execution_count": 21,
      "outputs": [
        {
          "output_type": "execute_result",
          "data": {
            "text/plain": [
              "OrderedDict([('0.weight', tensor([[ 0.6227, -0.6573],\n",
              "                      [ 0.3523, -0.5948],\n",
              "                      [ 0.4470, -0.5820],\n",
              "                      [ 0.6933, -0.2646],\n",
              "                      [-0.3536,  0.6042]], device='cuda:0')),\n",
              "             ('0.bias',\n",
              "              tensor([ 0.1721,  0.5894,  0.4161, -0.0552, -0.0965], device='cuda:0')),\n",
              "             ('1.weight',\n",
              "              tensor([[-0.4224, -0.1747, -0.1064,  0.0361,  0.3905]], device='cuda:0')),\n",
              "             ('1.bias', tensor([0.2087], device='cuda:0'))])"
            ]
          },
          "metadata": {},
          "execution_count": 21
        }
      ]
    },
    {
      "cell_type": "code",
      "source": [
        "#Calc the accuracy=out of 100 examples, what percent does our model gets right?\n",
        "\n",
        "def accuracy(y_true,y_pred):\n",
        "  correct=torch.eq(y_true,y_pred).sum().item()\n",
        "  acc=(correct/len(y_pred))*100\n",
        "  return acc"
      ],
      "metadata": {
        "id": "U2_71MRkrYI1"
      },
      "execution_count": 22,
      "outputs": []
    },
    {
      "cell_type": "markdown",
      "source": [
        "### 3. Training a model\n",
        "To train our model we are going to need the training loop with following steps:\n",
        "\n",
        "1. Forward pass\n",
        "2. Calc the loss\n",
        "3. Optimize Zero grad\n",
        "4. Loss Backward(BackProp)\n",
        "5. Optimizer step step step!!! "
      ],
      "metadata": {
        "id": "4hOIjVn9r1qr"
      }
    },
    {
      "cell_type": "markdown",
      "source": [
        "### 3.1 Going from raw logits-> pred probabilities-> prediction labels\n",
        "Our model o/ps are going to be raw **Logits** for us!\n",
        "We can covert this **logits** into pred probabilities by passing them to some kind of \n",
        "activation fun(eg sigmoid for bianry classificstion and softmax for multiclass classification).\n",
        "\n",
        "Then we can converet our model's prediction probabilities to prediction labels by either rounding them or taking the argmax()"
      ],
      "metadata": {
        "id": "a-BnUIXPsxGo"
      }
    },
    {
      "cell_type": "code",
      "source": [
        "#view the first 5 ops on test data\n",
        "model_0.eval()\n",
        "with torch.inference_mode():\n",
        "  y_logits=model_0(X_test.to(device))[:5]\n",
        "y_logits"
      ],
      "metadata": {
        "id": "Mfv5XHX-uEPX",
        "outputId": "4c2d70d1-af52-4a6d-e09e-82dc6cdd9881",
        "colab": {
          "base_uri": "https://localhost:8080/"
        }
      },
      "execution_count": 26,
      "outputs": [
        {
          "output_type": "execute_result",
          "data": {
            "text/plain": [
              "tensor([[ 0.5885],\n",
              "        [ 0.5847],\n",
              "        [ 0.0793],\n",
              "        [ 0.7349],\n",
              "        [-0.7443]], device='cuda:0')"
            ]
          },
          "metadata": {},
          "execution_count": 26
        }
      ]
    },
    {
      "cell_type": "code",
      "source": [
        "y_test[:5]"
      ],
      "metadata": {
        "id": "HMhBT3Amu3z3",
        "outputId": "af92fad9-ee82-4f30-8d4e-7ed10098b558",
        "colab": {
          "base_uri": "https://localhost:8080/"
        }
      },
      "execution_count": 27,
      "outputs": [
        {
          "output_type": "execute_result",
          "data": {
            "text/plain": [
              "tensor([1., 0., 1., 0., 1.])"
            ]
          },
          "metadata": {},
          "execution_count": 27
        }
      ]
    },
    {
      "cell_type": "code",
      "source": [
        "#Use sigmoid activation fun on our logits to turn them into pred probabilities\n",
        "y_pred_probs=torch.sigmoid(y_logits)\n",
        "y_pred_probs"
      ],
      "metadata": {
        "id": "i8sF6LXvu7it",
        "outputId": "ed00f199-dcf5-4fcc-a879-4472dfdba5b1",
        "colab": {
          "base_uri": "https://localhost:8080/"
        }
      },
      "execution_count": 28,
      "outputs": [
        {
          "output_type": "execute_result",
          "data": {
            "text/plain": [
              "tensor([[0.6430],\n",
              "        [0.6422],\n",
              "        [0.5198],\n",
              "        [0.6759],\n",
              "        [0.3221]], device='cuda:0')"
            ]
          },
          "metadata": {},
          "execution_count": 28
        }
      ]
    },
    {
      "cell_type": "markdown",
      "source": [
        "For out pred prob values we need to perform a range style rounding on them\n",
        "`y_pred_probs`>=0.5, `y=1` (class 1)\n",
        "\n",
        "else <0.5 then `y=0` (class 0)"
      ],
      "metadata": {
        "id": "MUhcdUDovTt-"
      }
    },
    {
      "cell_type": "code",
      "source": [
        "y_pred=torch.round(y_pred_probs).squeeze()\n",
        "y_pred\n",
        "\n",
        "#in full\n",
        "y_pred_labels = torch.round(torch.sigmoid(model_0(X_test.to(device))[:5])).squeeze()\n",
        "print(torch.eq(y_pred,y_pred_labels))"
      ],
      "metadata": {
        "id": "YifRGiKYvMZu",
        "outputId": "2d7f003b-16c1-4b73-f8bf-6f1a284a7f8a",
        "colab": {
          "base_uri": "https://localhost:8080/"
        }
      },
      "execution_count": 38,
      "outputs": [
        {
          "output_type": "stream",
          "name": "stdout",
          "text": [
            "tensor([True, True, True, True, True], device='cuda:0')\n"
          ]
        }
      ]
    },
    {
      "cell_type": "code",
      "source": [
        "y_test[:5]"
      ],
      "metadata": {
        "id": "zNrSLohjvwNO",
        "outputId": "23f1358b-b590-4de3-bc98-0c456a7bd48f",
        "colab": {
          "base_uri": "https://localhost:8080/"
        }
      },
      "execution_count": 39,
      "outputs": [
        {
          "output_type": "execute_result",
          "data": {
            "text/plain": [
              "tensor([1., 0., 1., 0., 1.])"
            ]
          },
          "metadata": {},
          "execution_count": 39
        }
      ]
    },
    {
      "cell_type": "code",
      "source": [
        "from torch.autograd import backward\n",
        "\n",
        "torch.cuda.manual_seed(42)\n",
        "torch.manual_seed(42)\n",
        "\n",
        "### 3.2 Building a training and testing loop\n",
        "epochs=100\n",
        "train_l=[]\n",
        "test_l=[]\n",
        "#put data to target device\n",
        "X_train,y_train=X_train.to(device),y_train.to(device)\n",
        "X_test,y_test=X_test.to(device),y_test.to(device)\n",
        "###Training\n",
        "for epoch in range(epochs):\n",
        "  #Put in train mode\n",
        "  model_0.train()\n",
        "  \n",
        "  #Forward pass\n",
        "  # y_pred_new=model_0(X_train)\n",
        "\n",
        "  y_logits=model_0(X_train).squeeze()\n",
        "  y_pred_new=torch.round(torch.sigmoid(y_logits))\n",
        "\n",
        "  #calc loss/accuracy\n",
        "  # loss=loss_fn(torch.sigmoid(y_logits)) #nn>BCEloss w/o logits!\n",
        "  train_loss=loss_fn(y_logits,y_train)#nn.BCEwithLogitsLoss expects the raw logits loss\n",
        "  train_l.append(train_loss.cpu().detach().numpy())\n",
        "  acc=accuracy(y_true=y_train,y_pred=y_pred_new)\n",
        "\n",
        "  #zero grad\n",
        "  optimizer.zero_grad()\n",
        "\n",
        "  #back prop\n",
        "  train_loss.backward()\n",
        "\n",
        "  #step optimizer\n",
        "  optimizer.step()\n",
        "\n",
        "  #Test loop\n",
        "  model_0.eval()\n",
        "  with torch.inference_mode():\n",
        "    #1. forward pass\n",
        "    test_logits=model_0(X_test).squeeze()\n",
        "\n",
        "    y_pred_test=torch.round(torch.sigmoid(test_logits))\n",
        "\n",
        "    test_loss=loss_fn(y_pred_test,y_test)\n",
        "    test_l.append(test_loss.cpu().detach().numpy())\n",
        "    test_acc=accuracy(y_test,y_pred_test)\n",
        "    if epoch%10==0:\n",
        "      print(f\"Epoch:{epoch} | Train Loss:{train_loss:.5f} | Train acc:{acc:.2f}% | Test Loss:{test_loss:.5f} | Test acc:{test_acc:.2f}%\")\n",
        "  "
      ],
      "metadata": {
        "id": "5bLQs5loyLjz",
        "outputId": "ca195551-b917-4db7-bd35-e3c333d97ef0",
        "colab": {
          "base_uri": "https://localhost:8080/"
        }
      },
      "execution_count": 74,
      "outputs": [
        {
          "output_type": "stream",
          "name": "stdout",
          "text": [
            "Epoch:0 | Train Loss:0.69569 | Train acc:50.00% | Test Loss:0.69315 | Test acc:50.00%\n",
            "Epoch:10 | Train Loss:0.69569 | Train acc:50.00% | Test Loss:0.69315 | Test acc:50.00%\n",
            "Epoch:20 | Train Loss:0.69569 | Train acc:50.00% | Test Loss:0.69315 | Test acc:50.00%\n",
            "Epoch:30 | Train Loss:0.69569 | Train acc:50.00% | Test Loss:0.69315 | Test acc:50.00%\n",
            "Epoch:40 | Train Loss:0.69569 | Train acc:50.00% | Test Loss:0.69315 | Test acc:50.00%\n",
            "Epoch:50 | Train Loss:0.69569 | Train acc:50.00% | Test Loss:0.69315 | Test acc:50.00%\n",
            "Epoch:60 | Train Loss:0.69569 | Train acc:50.00% | Test Loss:0.69315 | Test acc:50.00%\n",
            "Epoch:70 | Train Loss:0.69569 | Train acc:50.00% | Test Loss:0.69315 | Test acc:50.00%\n",
            "Epoch:80 | Train Loss:0.69569 | Train acc:50.00% | Test Loss:0.69315 | Test acc:50.00%\n",
            "Epoch:90 | Train Loss:0.69569 | Train acc:50.00% | Test Loss:0.69315 | Test acc:50.00%\n"
          ]
        }
      ]
    },
    {
      "cell_type": "code",
      "source": [
        "#analysis\n",
        "circles.label.value_counts()"
      ],
      "metadata": {
        "id": "WngYthnx6Kak",
        "outputId": "a90e840a-02be-4ff3-d314-8be5718ad7ae",
        "colab": {
          "base_uri": "https://localhost:8080/"
        }
      },
      "execution_count": 75,
      "outputs": [
        {
          "output_type": "execute_result",
          "data": {
            "text/plain": [
              "1    500\n",
              "0    500\n",
              "Name: label, dtype: int64"
            ]
          },
          "metadata": {},
          "execution_count": 75
        }
      ]
    },
    {
      "cell_type": "markdown",
      "source": [
        "## 4. Make predictions and evaluate the model\n",
        "\n",
        "From looking at the metrics it looks like the model isnt learning anything\n",
        "So to inspect we make preds and **visualize visualize visualize**\n",
        "\n",
        "To do so,we are going to import fun `plot_decision_boundary()`"
      ],
      "metadata": {
        "id": "jYLGZubq610t"
      }
    },
    {
      "cell_type": "code",
      "source": [
        "import requests\n",
        "from pathlib import Path\n",
        "#Download helper funs from learn_pytorch repo(if its not already dwnlded)\n",
        "\n",
        "if Path(\"helper_functions.py\").is_file():\n",
        "  print(\"Already imported\")\n",
        "else:\n",
        "  print(\"Downloading helper_funs\")\n",
        "  request=requests.get(\"https://github.com/mrdbourke/pytorch-deep-learning/raw/main/helper_functions.py\")\n",
        "  with open(\"helper_functions.py\",\"wb\") as f:\n",
        "    f.write(request.content)\n",
        "from helper_functions import plot_decision_boundary"
      ],
      "metadata": {
        "id": "4ViTYZq_7Jrl",
        "outputId": "acc99535-b887-4d91-8f7d-0528b15688d1",
        "colab": {
          "base_uri": "https://localhost:8080/"
        }
      },
      "execution_count": 76,
      "outputs": [
        {
          "output_type": "stream",
          "name": "stdout",
          "text": [
            "Already imported\n"
          ]
        }
      ]
    },
    {
      "cell_type": "code",
      "source": [
        "#PLOT THE DECISION BOUNDARY\n",
        "plt.figure(figsize=(12,6))\n",
        "plt.subplot(1,2,1)\n",
        "plt.title(\"Train\")\n",
        "plot_decision_boundary(model_0,X_train,y_train)\n",
        "plt.subplot(1,2,2)\n",
        "plt.title(\"Test\")\n",
        "plot_decision_boundary(model_0,X_test,y_test)"
      ],
      "metadata": {
        "id": "n9T1n80V9_MX",
        "outputId": "5cc7d7d2-d921-4e75-a69d-2b055ba1bf2f",
        "colab": {
          "base_uri": "https://localhost:8080/",
          "height": 354
        }
      },
      "execution_count": 78,
      "outputs": [
        {
          "output_type": "display_data",
          "data": {
            "text/plain": [
              "<Figure size 864x432 with 2 Axes>"
            ],
            "image/png": "[encoded data removed]"
          },
          "metadata": {
            "needs_background": "light"
          }
        }
      ]
    },
    {
      "cell_type": "code",
      "source": [
        "td=\"\"\"\n",
        "Make my own decision boundary fun(if poss)\n",
        "make helper fun(must)\n",
        "add it on my github(must)\n",
        "understant the funs inside(some of them)\n",
        "\"\"\""
      ],
      "metadata": {
        "id": "xg9tQ_v9ACHP"
      },
      "execution_count": 79,
      "outputs": []
    },
    {
      "cell_type": "code",
      "source": [
        "print(td)"
      ],
      "metadata": {
        "id": "7FlwGhckAxxT",
        "outputId": "0d165b83-df97-496b-9a08-7de5bff658b7",
        "colab": {
          "base_uri": "https://localhost:8080/"
        }
      },
      "execution_count": 81,
      "outputs": [
        {
          "output_type": "stream",
          "name": "stdout",
          "text": [
            "\n",
            "Make my own decision boundary fun(if poss)\n",
            "make helper fun(must)\n",
            "add it on my github(must)\n",
            "understant the funs inside(some of them)\n",
            "\n"
          ]
        }
      ]
    }
  ],
  "metadata": {
    "language_info": {
      "name": "python"
    },
    "orig_nbformat": 4,
    "colab": {
      "provenance": [],
      "include_colab_link": true
    },
    "kernelspec": {
      "name": "python3",
      "display_name": "Python 3"
    },
    "gpuClass": "standard",
    "accelerator": "GPU"
  },
  "nbformat": 4,
  "nbformat_minor": 0
}