{
  "cells": [
    {
      "cell_type": "markdown",
      "metadata": {
        "id": "view-in-github",
        "colab_type": "text"
      },
      "source": [
        "<a href=\"https://colab.research.google.com/github/MananShukla7/Colab-Notebook/blob/main/03_Neural_Network_Classification_Pytorch.ipynb\" target=\"_parent\"><img src=\"https://colab.research.google.com/assets/colab-badge.svg\" alt=\"Open In Colab\"/></a>"
      ]
    },
    {
      "cell_type": "markdown",
      "source": [
        "# 03. NN Classification with pytorch\n",
        "\n",
        "Classification is a problem wgere something is one thing or another(there can be\n",
        "multiple things as options!)"
      ],
      "metadata": {
        "id": "VuzS7siwLg_X"
      }
    },
    {
      "cell_type": "markdown",
      "source": [
        "##1. Data (ml is nothing without data mate!!)\n",
        "\n",
        "Make classification data and get it ready"
      ],
      "metadata": {
        "id": "EbVlP73FMI4e"
      }
    },
    {
      "cell_type": "code",
      "source": [
        "import sklearn\n",
        "import pandas as pd\n",
        "import torch\n",
        "from torch import nn\n",
        "import numpy as np\n",
        "import matplotlib.pyplot as plt"
      ],
      "metadata": {
        "id": "j8X2w9xdMbsx"
      },
      "execution_count": 82,
      "outputs": []
    },
    {
      "cell_type": "code",
      "source": [
        "from sklearn.datasets import make_circles\n",
        "\n",
        "#Make 1000 samples\n",
        "n_samples=1000\n",
        "\n",
        "#Create circles\n",
        "X,y=make_circles(n_samples,\n",
        "                noise=0.03,random_state=42)"
      ],
      "metadata": {
        "id": "_L1nLHLraavI"
      },
      "execution_count": 83,
      "outputs": []
    },
    {
      "cell_type": "code",
      "source": [
        "len(X),len(y)"
      ],
      "metadata": {
        "id": "8fRqxy6maZQg",
        "outputId": "c019635c-602d-4a4e-e6dd-e91408564e02",
        "colab": {
          "base_uri": "https://localhost:8080/"
        }
      },
      "execution_count": 84,
      "outputs": [
        {
          "output_type": "execute_result",
          "data": {
            "text/plain": [
              "(1000, 1000)"
            ]
          },
          "metadata": {},
          "execution_count": 84
        }
      ]
    },
    {
      "cell_type": "code",
      "source": [
        "print(f\"First 5 samples of X:\\n {X[:5]}\")\n",
        "print(f\"First 5 samples of y:\\n {y[:5]}\")"
      ],
      "metadata": {
        "id": "g73ThJVta2C6",
        "outputId": "c608c147-d6b6-4863-8265-29c8eda835da",
        "colab": {
          "base_uri": "https://localhost:8080/"
        }
      },
      "execution_count": 85,
      "outputs": [
        {
          "output_type": "stream",
          "name": "stdout",
          "text": [
            "First 5 samples of X:\n",
            " [[ 0.75424625  0.23148074]\n",
            " [-0.75615888  0.15325888]\n",
            " [-0.81539193  0.17328203]\n",
            " [-0.39373073  0.69288277]\n",
            " [ 0.44220765 -0.89672343]]\n",
            "First 5 samples of y:\n",
            " [1 1 1 1 0]\n"
          ]
        }
      ]
    },
    {
      "cell_type": "code",
      "source": [
        "#Make DataFrame of circle data \n",
        "circles =pd.DataFrame({\"X1\":X[:,0],\"X2\":X[:,1],\"label\":y})\n",
        "circles.head(10)"
      ],
      "metadata": {
        "id": "hHZYRS4PbMyo",
        "outputId": "a0abf457-b047-4713-b550-281cbe4545f4",
        "colab": {
          "base_uri": "https://localhost:8080/",
          "height": 363
        }
      },
      "execution_count": 86,
      "outputs": [
        {
          "output_type": "execute_result",
          "data": {
            "text/plain": [
              "         X1        X2  label\n",
              "0  0.754246  0.231481      1\n",
              "1 -0.756159  0.153259      1\n",
              "2 -0.815392  0.173282      1\n",
              "3 -0.393731  0.692883      1\n",
              "4  0.442208 -0.896723      0\n",
              "5 -0.479646  0.676435      1\n",
              "6 -0.013648  0.803349      1\n",
              "7  0.771513  0.147760      1\n",
              "8 -0.169322 -0.793456      1\n",
              "9 -0.121486  1.021509      0"
            ],
            "text/html": [
              "\n",
              "  <div id=\"df-4268d7d9-99fb-4f02-b883-64432fb3da8b\">\n",
              "    <div class=\"colab-df-container\">\n",
              "      <div>\n",
              "<style scoped>\n",
              "    .dataframe tbody tr th:only-of-type {\n",
              "        vertical-align: middle;\n",
              "    }\n",
              "\n",
              "    .dataframe tbody tr th {\n",
              "        vertical-align: top;\n",
              "    }\n",
              "\n",
              "    .dataframe thead th {\n",
              "        text-align: right;\n",
              "    }\n",
              "</style>\n",
              "<table border=\"1\" class=\"dataframe\">\n",
              "  <thead>\n",
              "    <tr style=\"text-align: right;\">\n",
              "      <th></th>\n",
              "      <th>X1</th>\n",
              "      <th>X2</th>\n",
              "      <th>label</th>\n",
              "    </tr>\n",
              "  </thead>\n",
              "  <tbody>\n",
              "    <tr>\n",
              "      <th>0</th>\n",
              "      <td>0.754246</td>\n",
              "      <td>0.231481</td>\n",
              "      <td>1</td>\n",
              "    </tr>\n",
              "    <tr>\n",
              "      <th>1</th>\n",
              "      <td>-0.756159</td>\n",
              "      <td>0.153259</td>\n",
              "      <td>1</td>\n",
              "    </tr>\n",
              "    <tr>\n",
              "      <th>2</th>\n",
              "      <td>-0.815392</td>\n",
              "      <td>0.173282</td>\n",
              "      <td>1</td>\n",
              "    </tr>\n",
              "    <tr>\n",
              "      <th>3</th>\n",
              "      <td>-0.393731</td>\n",
              "      <td>0.692883</td>\n",
              "      <td>1</td>\n",
              "    </tr>\n",
              "    <tr>\n",
              "      <th>4</th>\n",
              "      <td>0.442208</td>\n",
              "      <td>-0.896723</td>\n",
              "      <td>0</td>\n",
              "    </tr>\n",
              "    <tr>\n",
              "      <th>5</th>\n",
              "      <td>-0.479646</td>\n",
              "      <td>0.676435</td>\n",
              "      <td>1</td>\n",
              "    </tr>\n",
              "    <tr>\n",
              "      <th>6</th>\n",
              "      <td>-0.013648</td>\n",
              "      <td>0.803349</td>\n",
              "      <td>1</td>\n",
              "    </tr>\n",
              "    <tr>\n",
              "      <th>7</th>\n",
              "      <td>0.771513</td>\n",
              "      <td>0.147760</td>\n",
              "      <td>1</td>\n",
              "    </tr>\n",
              "    <tr>\n",
              "      <th>8</th>\n",
              "      <td>-0.169322</td>\n",
              "      <td>-0.793456</td>\n",
              "      <td>1</td>\n",
              "    </tr>\n",
              "    <tr>\n",
              "      <th>9</th>\n",
              "      <td>-0.121486</td>\n",
              "      <td>1.021509</td>\n",
              "      <td>0</td>\n",
              "    </tr>\n",
              "  </tbody>\n",
              "</table>\n",
              "</div>\n",
              "      <button class=\"colab-df-convert\" onclick=\"convertToInteractive('df-4268d7d9-99fb-4f02-b883-64432fb3da8b')\"\n",
              "              title=\"Convert this dataframe to an interactive table.\"\n",
              "              style=\"display:none;\">\n",
              "        \n",
              "  <svg xmlns=\"http://www.w3.org/2000/svg\" height=\"24px\"viewBox=\"0 0 24 24\"\n",
              "       width=\"24px\">\n",
              "    <path d=\"M0 0h24v24H0V0z\" fill=\"none\"/>\n",
              "    <path d=\"M18.56 5.44l.94 2.06.94-2.06 2.06-.94-2.06-.94-.94-2.06-.94 2.06-2.06.94zm-11 1L8.5 8.5l.94-2.06 2.06-.94-2.06-.94L8.5 2.5l-.94 2.06-2.06.94zm10 10l.94 2.06.94-2.06 2.06-.94-2.06-.94-.94-2.06-.94 2.06-2.06.94z\"/><path d=\"M17.41 7.96l-1.37-1.37c-.4-.4-.92-.59-1.43-.59-.52 0-1.04.2-1.43.59L10.3 9.45l-7.72 7.72c-.78.78-.78 2.05 0 2.83L4 21.41c.39.39.9.59 1.41.59.51 0 1.02-.2 1.41-.59l7.78-7.78 2.81-2.81c.8-.78.8-2.07 0-2.86zM5.41 20L4 18.59l7.72-7.72 1.47 1.35L5.41 20z\"/>\n",
              "  </svg>\n",
              "      </button>\n",
              "      \n",
              "  <style>\n",
              "    .colab-df-container {\n",
              "      display:flex;\n",
              "      flex-wrap:wrap;\n",
              "      gap: 12px;\n",
              "    }\n",
              "\n",
              "    .colab-df-convert {\n",
              "      background-color: #E8F0FE;\n",
              "      border: none;\n",
              "      border-radius: 50%;\n",
              "      cursor: pointer;\n",
              "      display: none;\n",
              "      fill: #1967D2;\n",
              "      height: 32px;\n",
              "      padding: 0 0 0 0;\n",
              "      width: 32px;\n",
              "    }\n",
              "\n",
              "    .colab-df-convert:hover {\n",
              "      background-color: #E2EBFA;\n",
              "      box-shadow: 0px 1px 2px rgba(60, 64, 67, 0.3), 0px 1px 3px 1px rgba(60, 64, 67, 0.15);\n",
              "      fill: #174EA6;\n",
              "    }\n",
              "\n",
              "    [theme=dark] .colab-df-convert {\n",
              "      background-color: #3B4455;\n",
              "      fill: #D2E3FC;\n",
              "    }\n",
              "\n",
              "    [theme=dark] .colab-df-convert:hover {\n",
              "      background-color: #434B5C;\n",
              "      box-shadow: 0px 1px 3px 1px rgba(0, 0, 0, 0.15);\n",
              "      filter: drop-shadow(0px 1px 2px rgba(0, 0, 0, 0.3));\n",
              "      fill: #FFFFFF;\n",
              "    }\n",
              "  </style>\n",
              "\n",
              "      <script>\n",
              "        const buttonEl =\n",
              "          document.querySelector('#df-4268d7d9-99fb-4f02-b883-64432fb3da8b button.colab-df-convert');\n",
              "        buttonEl.style.display =\n",
              "          google.colab.kernel.accessAllowed ? 'block' : 'none';\n",
              "\n",
              "        async function convertToInteractive(key) {\n",
              "          const element = document.querySelector('#df-4268d7d9-99fb-4f02-b883-64432fb3da8b');\n",
              "          const dataTable =\n",
              "            await google.colab.kernel.invokeFunction('convertToInteractive',\n",
              "                                                     [key], {});\n",
              "          if (!dataTable) return;\n",
              "\n",
              "          const docLinkHtml = 'Like what you see? Visit the ' +\n",
              "            '<a target=\"_blank\" href=https://colab.research.google.com/notebooks/data_table.ipynb>data table notebook</a>'\n",
              "            + ' to learn more about interactive tables.';\n",
              "          element.innerHTML = '';\n",
              "          dataTable['output_type'] = 'display_data';\n",
              "          await google.colab.output.renderOutput(dataTable, element);\n",
              "          const docLink = document.createElement('div');\n",
              "          docLink.innerHTML = docLinkHtml;\n",
              "          element.appendChild(docLink);\n",
              "        }\n",
              "      </script>\n",
              "    </div>\n",
              "  </div>\n",
              "  "
            ]
          },
          "metadata": {},
          "execution_count": 86
        }
      ]
    },
    {
      "cell_type": "code",
      "source": [
        "import matplotlib.pyplot as plt\n",
        "plt.scatter(x=X[:,0],\n",
        "             y=X[:,1],\n",
        "             c=y,\n",
        "             cmap=plt.cm.RdYlBu);"
      ],
      "metadata": {
        "id": "yPgjy1JCb6zX",
        "outputId": "1c8d4324-89dc-48dc-9e31-4994a25c07d7",
        "colab": {
          "base_uri": "https://localhost:8080/",
          "height": 265
        }
      },
      "execution_count": 87,
      "outputs": [
        {
          "output_type": "display_data",
          "data": {
            "text/plain": [
              "<Figure size 432x288 with 1 Axes>"
            ],
            "image/png": "[encoded data removed]"
          },
          "metadata": {
            "needs_background": "light"
          }
        }
      ]
    },
    {
      "cell_type": "markdown",
      "source": [
        "Note: the data we are working with is also reffered sas toy dataset,a small data\n",
        "enough to experiment and scalable enough to practice the fundamentals"
      ],
      "metadata": {
        "id": "qoGWGUHFdsup"
      }
    },
    {
      "cell_type": "markdown",
      "source": [
        "### 1.1 Check input and output shapes\n"
      ],
      "metadata": {
        "id": "pnh30LNDeBbs"
      }
    },
    {
      "cell_type": "code",
      "source": [
        "X.shape,y.shape"
      ],
      "metadata": {
        "id": "_gjWhKAifXjL",
        "outputId": "52376629-063d-4dff-9e9b-9879d0358a02",
        "colab": {
          "base_uri": "https://localhost:8080/"
        }
      },
      "execution_count": 88,
      "outputs": [
        {
          "output_type": "execute_result",
          "data": {
            "text/plain": [
              "((1000, 2), (1000,))"
            ]
          },
          "metadata": {},
          "execution_count": 88
        }
      ]
    },
    {
      "cell_type": "code",
      "source": [
        "#View the features of labels\n",
        "X_sample=X[0]\n",
        "y_sample=y[0]\n",
        "print(f\"Values of one samples of X:{X_sample} and same for y:{y_sample}\")\n",
        "print(f\"Shape of one samples of X:{X_sample.shape} and same for y:{y_sample.shape}\")"
      ],
      "metadata": {
        "id": "LLqHKW5pfZjw",
        "outputId": "f0df17aa-0e8e-45db-a0aa-9aae226d7dcb",
        "colab": {
          "base_uri": "https://localhost:8080/"
        }
      },
      "execution_count": 89,
      "outputs": [
        {
          "output_type": "stream",
          "name": "stdout",
          "text": [
            "Values of one samples of X:[0.75424625 0.23148074] and same for y:1\n",
            "Shape of one samples of X:(2,) and same for y:()\n"
          ]
        }
      ]
    },
    {
      "cell_type": "markdown",
      "source": [
        "### 1.2 get data into tensors and create train and test split"
      ],
      "metadata": {
        "id": "4ppwmEBMgCJm"
      }
    },
    {
      "cell_type": "code",
      "source": [
        "#turn data into tensors\n",
        "##Numpy has default dtype of float 64 but tensors have float32 and that may cause\n",
        "##probs in the future so we use type(torch.float) for conversion\n",
        "X=torch.from_numpy(X).type(torch.float)\n",
        "y=torch.from_numpy(y).type(torch.float)"
      ],
      "metadata": {
        "id": "x45uYEv7gHXB"
      },
      "execution_count": 90,
      "outputs": []
    },
    {
      "cell_type": "code",
      "source": [
        "X[:5],y[:5],X.dtype,y.dtype"
      ],
      "metadata": {
        "id": "VIbt2ez_g6C0",
        "outputId": "5be55c08-8977-4a09-c96e-3eab8c252d1f",
        "colab": {
          "base_uri": "https://localhost:8080/"
        }
      },
      "execution_count": 91,
      "outputs": [
        {
          "output_type": "execute_result",
          "data": {
            "text/plain": [
              "(tensor([[ 0.7542,  0.2315],\n",
              "         [-0.7562,  0.1533],\n",
              "         [-0.8154,  0.1733],\n",
              "         [-0.3937,  0.6929],\n",
              "         [ 0.4422, -0.8967]]),\n",
              " tensor([1., 1., 1., 1., 0.]),\n",
              " torch.float32,\n",
              " torch.float32)"
            ]
          },
          "metadata": {},
          "execution_count": 91
        }
      ]
    },
    {
      "cell_type": "code",
      "source": [
        "#Split data into training and test sets\n",
        "from sklearn.model_selection import train_test_split\n",
        "\n",
        "X_train,X_test,y_train,y_test=train_test_split(X,y,\n",
        "                                               train_size=0.8,\n",
        "                                               random_state=42)"
      ],
      "metadata": {
        "id": "LYDV52y1hA2M"
      },
      "execution_count": 92,
      "outputs": []
    },
    {
      "cell_type": "code",
      "source": [
        "len(X_train),len(X_test),len(y_train),len(y_test)"
      ],
      "metadata": {
        "id": "WvxUlEqHiCkp",
        "outputId": "599d8b9f-2ae9-4906-9057-a2c1c3f7e659",
        "colab": {
          "base_uri": "https://localhost:8080/"
        }
      },
      "execution_count": 93,
      "outputs": [
        {
          "output_type": "execute_result",
          "data": {
            "text/plain": [
              "(800, 200, 800, 200)"
            ]
          },
          "metadata": {},
          "execution_count": 93
        }
      ]
    },
    {
      "cell_type": "markdown",
      "source": [
        "##2. Building a model!\n",
        "\n",
        "Lets build a model to classify blue and red dots\n",
        "\n",
        "To do so we want to:\n",
        "1. Setup device agnostic so it can run on accelerator if theres one\n",
        "2. Construct a model(by subclassing nn.Module)\n",
        "3. Define a loss function anf optimizer\n",
        "4. Create train and test loop"
      ],
      "metadata": {
        "id": "yYouA1eniOwn"
      }
    },
    {
      "cell_type": "code",
      "source": [
        "#Device agnostic\n",
        "device=\"cuda\" if torch.cuda.is_available() else \"cpu\"\n",
        "device"
      ],
      "metadata": {
        "id": "swHozk38i65e",
        "outputId": "4cc12260-1bed-48f1-ce05-e49548af24ad",
        "colab": {
          "base_uri": "https://localhost:8080/",
          "height": 36
        }
      },
      "execution_count": 94,
      "outputs": [
        {
          "output_type": "execute_result",
          "data": {
            "text/plain": [
              "'cuda'"
            ],
            "application/vnd.google.colaboratory.intrinsic+json": {
              "type": "string"
            }
          },
          "metadata": {},
          "execution_count": 94
        }
      ]
    },
    {
      "cell_type": "markdown",
      "source": [
        "Now we've setup device agnostic code ,lets creatw model:\n",
        "\n",
        "1. Subclass `nn.module`(almost all models are in this module)\n",
        "2. Create 2 `nn.linear()` layers that are capable of handling the shapes of\n",
        "our data\n",
        "3. define a `forward()` method that outlines the forward pass of the model\n",
        "4. Instantiate the model and send it to target `device`!!"
      ],
      "metadata": {
        "id": "RIni056djTDi"
      }
    },
    {
      "cell_type": "code",
      "source": [
        "#1. construct a model that subclasses nn.Module\n",
        "class CircleModelV0(nn.Module):\n",
        "  def __init__(self):\n",
        "    super().__init__()\n",
        "    #2. Create 2 nn.Linear layers capable of handling shapes of our data\n",
        "    self.layer_1=nn.Linear(in_features=2,out_features=5)#takes in 2 features and upscale it to 5!\n",
        "    self.layer_2=nn.Linear(in_features=5,out_features=1)#takes in 5 features and ops 1 features (same shape as y)\n",
        "    # self.two_layers=nn.Sequential(\n",
        "    # nn.Linear(in_features=2,out_features=5),\n",
        "    # nn.Linear(in_features=5,out_features=1))\n",
        "\n",
        "\n",
        "  #3. Define a forwaard method that outlines the f/w pass\n",
        "  def forward(self,x):\n",
        "    return self.layer_2(self.layer_1(x)) #x -> l1 -> l2 -> o/p\n",
        "    # return self.two_layers(x)\n",
        "#4. Instantiate an instance of our model class and send it to the target device\n",
        "model_0=CircleModelV0().to(device)\n",
        "model_0"
      ],
      "metadata": {
        "id": "tKiN9v2lkDt0",
        "outputId": "e2d3513f-339d-48d0-a72b-42a2d3d5da53",
        "colab": {
          "base_uri": "https://localhost:8080/"
        }
      },
      "execution_count": 95,
      "outputs": [
        {
          "output_type": "execute_result",
          "data": {
            "text/plain": [
              "CircleModelV0(\n",
              "  (layer_1): Linear(in_features=2, out_features=5, bias=True)\n",
              "  (layer_2): Linear(in_features=5, out_features=1, bias=True)\n",
              ")"
            ]
          },
          "metadata": {},
          "execution_count": 95
        }
      ]
    },
    {
      "cell_type": "code",
      "source": [
        "next(model_0.parameters()).device"
      ],
      "metadata": {
        "id": "pmaGSAbdmg5t",
        "outputId": "21fc4070-5e10-4584-a141-43b386fe4602",
        "colab": {
          "base_uri": "https://localhost:8080/"
        }
      },
      "execution_count": 96,
      "outputs": [
        {
          "output_type": "execute_result",
          "data": {
            "text/plain": [
              "device(type='cuda', index=0)"
            ]
          },
          "metadata": {},
          "execution_count": 96
        }
      ]
    },
    {
      "cell_type": "code",
      "source": [
        "#lets replicate the model above using nn.sequential\n",
        "model_0=nn.Sequential(\n",
        "    nn.Linear(in_features=2,out_features=5),\n",
        "    nn.Linear(in_features=5,out_features=1)\n",
        ").to(device)\n",
        "\n",
        "model_0.to(device)"
      ],
      "metadata": {
        "id": "KUL86Z3kzmZv",
        "outputId": "f85cd518-b938-4736-8123-2c40b45b03c8",
        "colab": {
          "base_uri": "https://localhost:8080/"
        }
      },
      "execution_count": 97,
      "outputs": [
        {
          "output_type": "execute_result",
          "data": {
            "text/plain": [
              "Sequential(\n",
              "  (0): Linear(in_features=2, out_features=5, bias=True)\n",
              "  (1): Linear(in_features=5, out_features=1, bias=True)\n",
              ")"
            ]
          },
          "metadata": {},
          "execution_count": 97
        }
      ]
    },
    {
      "cell_type": "code",
      "source": [
        "with torch.inference_mode():\n",
        "  untrained_preds=model_0(X_test.to(device))\n",
        "  print(f\"Length of predictions: {len(untrained_preds)}, Shape: {untrained_preds.shape}\")\n",
        "  print(f\"First 10 preds:\\n {torch.round(untrained_preds[:10])}\")\n",
        "  print(f\"First 10 preds:\\n {y_test[:10]}\")"
      ],
      "metadata": {
        "id": "rRdnrJsy1MWz",
        "outputId": "63b66760-0e3c-40bd-92ff-f89d7db026e6",
        "colab": {
          "base_uri": "https://localhost:8080/"
        }
      },
      "execution_count": 98,
      "outputs": [
        {
          "output_type": "stream",
          "name": "stdout",
          "text": [
            "Length of predictions: 200, Shape: torch.Size([200, 1])\n",
            "First 10 preds:\n",
            " tensor([[-0.],\n",
            "        [-0.],\n",
            "        [0.],\n",
            "        [-0.],\n",
            "        [0.],\n",
            "        [0.],\n",
            "        [0.],\n",
            "        [0.],\n",
            "        [0.],\n",
            "        [-0.]], device='cuda:0')\n",
            "First 10 preds:\n",
            " tensor([1., 0., 1., 0., 1., 1., 0., 0., 1., 0.])\n"
          ]
        }
      ]
    },
    {
      "cell_type": "markdown",
      "source": [
        "###2.1 Setup loss fn and optimizer\n",
        "\n",
        "which loss fn and opti should we use??\n",
        "for ex\n",
        "- regression we want MAE or MSE\n",
        "- for classification we want BCE loss or CE loss\n",
        "\n",
        "As a reminder the lossfn measures how wrong our models preds are!!\n",
        "\n",
        "###what is a logits layer in deep learning:\n",
        "* Its basically a layer that feeds in to softmax.the o/p of softmax layer is probabilities and\n",
        "the input is logits\n",
        "\n",
        "*  Logits are the values produced b/w -inf to +inf and they are converted into probabilities of \n",
        "0 to 1 by softmax layer\n",
        "\n",
        "and for optimizers 2 common are sgd and adam!"
      ],
      "metadata": {
        "id": "2TE7wFbs3LvF"
      }
    },
    {
      "cell_type": "code",
      "source": [
        "#Setup the loss function\n",
        "#Now loss_fn=nn.BCELoss() exists but it needs the inp data to go through the sigmoid activtn fn \n",
        "#prior to the input to BCELoss!\n",
        "loss_fn=nn.BCEWithLogitsLoss()#withLogitsLoss-sigmoid fun built in(more stable than w/o logitloss)\n",
        "\n",
        "optimizer=torch.optim.SGD(params=model_0.parameters(),lr=0.1)"
      ],
      "metadata": {
        "id": "cPH6u4anqKzH"
      },
      "execution_count": 99,
      "outputs": []
    },
    {
      "cell_type": "code",
      "source": [
        "model_0.state_dict()"
      ],
      "metadata": {
        "id": "hfvrPVEU7ncs",
        "outputId": "1037e53b-225a-4cfd-d3b6-305044a5fa4e",
        "colab": {
          "base_uri": "https://localhost:8080/"
        }
      },
      "execution_count": 100,
      "outputs": [
        {
          "output_type": "execute_result",
          "data": {
            "text/plain": [
              "OrderedDict([('0.weight', tensor([[-0.0829, -0.2872],\n",
              "                      [ 0.4691, -0.5582],\n",
              "                      [-0.3260, -0.1997],\n",
              "                      [-0.4252,  0.0667],\n",
              "                      [-0.6984,  0.6386]], device='cuda:0')),\n",
              "             ('0.bias',\n",
              "              tensor([-0.6007,  0.5459,  0.1177, -0.2296,  0.4370], device='cuda:0')),\n",
              "             ('1.weight',\n",
              "              tensor([[ 0.0697,  0.3613,  0.0489, -0.1410,  0.1202]], device='cuda:0')),\n",
              "             ('1.bias', tensor([-0.1213], device='cuda:0'))])"
            ]
          },
          "metadata": {},
          "execution_count": 100
        }
      ]
    },
    {
      "cell_type": "code",
      "source": [
        "#Calc the accuracy=out of 100 examples, what percent does our model gets right?\n",
        "\n",
        "def accuracy(y_true,y_pred):\n",
        "  correct=torch.eq(y_true,y_pred).sum().item()\n",
        "  acc=(correct/len(y_pred))*100\n",
        "  return acc"
      ],
      "metadata": {
        "id": "U2_71MRkrYI1"
      },
      "execution_count": 101,
      "outputs": []
    },
    {
      "cell_type": "markdown",
      "source": [
        "### 3. Training a model\n",
        "To train our model we are going to need the training loop with following steps:\n",
        "\n",
        "1. Forward pass\n",
        "2. Calc the loss\n",
        "3. Optimize Zero grad\n",
        "4. Loss Backward(BackProp)\n",
        "5. Optimizer step step step!!! "
      ],
      "metadata": {
        "id": "4hOIjVn9r1qr"
      }
    },
    {
      "cell_type": "markdown",
      "source": [
        "### 3.1 Going from raw logits-> pred probabilities-> prediction labels\n",
        "Our model o/ps are going to be raw **Logits** for us!\n",
        "We can covert this **logits** into pred probabilities by passing them to some kind of \n",
        "activation fun(eg sigmoid for bianry classificstion and softmax for multiclass classification).\n",
        "\n",
        "Then we can converet our model's prediction probabilities to prediction labels by either rounding them or taking the argmax()"
      ],
      "metadata": {
        "id": "a-BnUIXPsxGo"
      }
    },
    {
      "cell_type": "code",
      "source": [
        "#view the first 5 ops on test data\n",
        "model_0.eval()\n",
        "with torch.inference_mode():\n",
        "  y_logits=model_0(X_test.to(device))[:5]\n",
        "y_logits"
      ],
      "metadata": {
        "id": "Mfv5XHX-uEPX",
        "outputId": "64c60c95-398b-4713-c816-06d24589a07b",
        "colab": {
          "base_uri": "https://localhost:8080/"
        }
      },
      "execution_count": 102,
      "outputs": [
        {
          "output_type": "execute_result",
          "data": {
            "text/plain": [
              "tensor([[-0.0338],\n",
              "        [-0.0309],\n",
              "        [ 0.0894],\n",
              "        [-0.0692],\n",
              "        [ 0.2967]], device='cuda:0')"
            ]
          },
          "metadata": {},
          "execution_count": 102
        }
      ]
    },
    {
      "cell_type": "code",
      "source": [
        "y_test[:5]"
      ],
      "metadata": {
        "id": "HMhBT3Amu3z3",
        "outputId": "e3549d6d-e8d7-4302-cdd6-f0c818f514df",
        "colab": {
          "base_uri": "https://localhost:8080/"
        }
      },
      "execution_count": 103,
      "outputs": [
        {
          "output_type": "execute_result",
          "data": {
            "text/plain": [
              "tensor([1., 0., 1., 0., 1.])"
            ]
          },
          "metadata": {},
          "execution_count": 103
        }
      ]
    },
    {
      "cell_type": "code",
      "source": [
        "#Use sigmoid activation fun on our logits to turn them into pred probabilities\n",
        "y_pred_probs=torch.sigmoid(y_logits)\n",
        "y_pred_probs"
      ],
      "metadata": {
        "id": "i8sF6LXvu7it",
        "outputId": "8a394a74-c844-4e8e-848f-e6081fe2a4a0",
        "colab": {
          "base_uri": "https://localhost:8080/"
        }
      },
      "execution_count": 104,
      "outputs": [
        {
          "output_type": "execute_result",
          "data": {
            "text/plain": [
              "tensor([[0.4916],\n",
              "        [0.4923],\n",
              "        [0.5223],\n",
              "        [0.4827],\n",
              "        [0.5736]], device='cuda:0')"
            ]
          },
          "metadata": {},
          "execution_count": 104
        }
      ]
    },
    {
      "cell_type": "markdown",
      "source": [
        "For out pred prob values we need to perform a range style rounding on them\n",
        "`y_pred_probs`>=0.5, `y=1` (class 1)\n",
        "\n",
        "else <0.5 then `y=0` (class 0)"
      ],
      "metadata": {
        "id": "MUhcdUDovTt-"
      }
    },
    {
      "cell_type": "code",
      "source": [
        "y_pred=torch.round(y_pred_probs).squeeze()\n",
        "y_pred\n",
        "\n",
        "#in full\n",
        "y_pred_labels = torch.round(torch.sigmoid(model_0(X_test.to(device))[:5])).squeeze()\n",
        "print(torch.eq(y_pred,y_pred_labels))"
      ],
      "metadata": {
        "id": "YifRGiKYvMZu",
        "outputId": "46d709f6-d9c5-4f64-8020-a9254ad94ea7",
        "colab": {
          "base_uri": "https://localhost:8080/"
        }
      },
      "execution_count": 105,
      "outputs": [
        {
          "output_type": "stream",
          "name": "stdout",
          "text": [
            "tensor([True, True, True, True, True], device='cuda:0')\n"
          ]
        }
      ]
    },
    {
      "cell_type": "code",
      "source": [
        "y_test[:5]"
      ],
      "metadata": {
        "id": "zNrSLohjvwNO",
        "outputId": "a7ad4afa-18ad-47af-b013-a7560985b86f",
        "colab": {
          "base_uri": "https://localhost:8080/"
        }
      },
      "execution_count": 106,
      "outputs": [
        {
          "output_type": "execute_result",
          "data": {
            "text/plain": [
              "tensor([1., 0., 1., 0., 1.])"
            ]
          },
          "metadata": {},
          "execution_count": 106
        }
      ]
    },
    {
      "cell_type": "code",
      "source": [
        "from torch.autograd import backward\n",
        "\n",
        "torch.cuda.manual_seed(42)\n",
        "torch.manual_seed(42)\n",
        "\n",
        "### 3.2 Building a training and testing loop\n",
        "epochs=100\n",
        "train_l=[]\n",
        "test_l=[]\n",
        "#put data to target device\n",
        "X_train,y_train=X_train.to(device),y_train.to(device)\n",
        "X_test,y_test=X_test.to(device),y_test.to(device)\n",
        "###Training\n",
        "for epoch in range(epochs):\n",
        "  #Put in train mode\n",
        "  model_0.train()\n",
        "  \n",
        "  #Forward pass\n",
        "  # y_pred_new=model_0(X_train)\n",
        "\n",
        "  y_logits=model_0(X_train).squeeze()\n",
        "  y_pred_new=torch.round(torch.sigmoid(y_logits))\n",
        "\n",
        "  #calc loss/accuracy\n",
        "  # loss=loss_fn(torch.sigmoid(y_logits)) #nn>BCEloss w/o logits!\n",
        "  train_loss=loss_fn(y_logits,y_train)#nn.BCEwithLogitsLoss expects the raw logits loss\n",
        "  train_l.append(train_loss.cpu().detach().numpy())\n",
        "  acc=accuracy(y_true=y_train,y_pred=y_pred_new)\n",
        "\n",
        "  #zero grad\n",
        "  optimizer.zero_grad()\n",
        "\n",
        "  #back prop\n",
        "  train_loss.backward()\n",
        "\n",
        "  #step optimizer\n",
        "  optimizer.step()\n",
        "\n",
        "  #Test loop\n",
        "  model_0.eval()\n",
        "  with torch.inference_mode():\n",
        "    #1. forward pass\n",
        "    test_logits=model_0(X_test).squeeze()\n",
        "\n",
        "    y_pred_test=torch.round(torch.sigmoid(test_logits))\n",
        "\n",
        "    test_loss=loss_fn(y_pred_test,y_test)\n",
        "    test_l.append(test_loss.cpu().detach().numpy())\n",
        "    test_acc=accuracy(y_test,y_pred_test)\n",
        "    if epoch%10==0:\n",
        "      print(f\"Epoch:{epoch} | Train Loss:{train_loss:.5f} | Train acc:{acc:.2f}% | Test Loss:{test_loss:.5f} | Test acc:{test_acc:.2f}%\")\n",
        "  "
      ],
      "metadata": {
        "id": "5bLQs5loyLjz",
        "outputId": "bbde29c7-68a0-4e51-f842-5c868a8407ed",
        "colab": {
          "base_uri": "https://localhost:8080/"
        }
      },
      "execution_count": 107,
      "outputs": [
        {
          "output_type": "stream",
          "name": "stdout",
          "text": [
            "Epoch:0 | Train Loss:0.69796 | Train acc:51.88% | Test Loss:0.74083 | Test acc:58.00%\n",
            "Epoch:10 | Train Loss:0.69590 | Train acc:51.25% | Test Loss:0.75742 | Test acc:53.00%\n",
            "Epoch:20 | Train Loss:0.69490 | Train acc:51.62% | Test Loss:0.76351 | Test acc:49.50%\n",
            "Epoch:30 | Train Loss:0.69435 | Train acc:51.12% | Test Loss:0.75991 | Test acc:49.50%\n",
            "Epoch:40 | Train Loss:0.69401 | Train acc:50.88% | Test Loss:0.75061 | Test acc:51.00%\n",
            "Epoch:50 | Train Loss:0.69378 | Train acc:50.25% | Test Loss:0.75441 | Test acc:50.00%\n",
            "Epoch:60 | Train Loss:0.69362 | Train acc:50.00% | Test Loss:0.74510 | Test acc:51.50%\n",
            "Epoch:70 | Train Loss:0.69351 | Train acc:50.25% | Test Loss:0.74820 | Test acc:51.00%\n",
            "Epoch:80 | Train Loss:0.69342 | Train acc:49.88% | Test Loss:0.75441 | Test acc:50.00%\n",
            "Epoch:90 | Train Loss:0.69336 | Train acc:49.88% | Test Loss:0.73941 | Test acc:53.00%\n"
          ]
        }
      ]
    },
    {
      "cell_type": "code",
      "source": [
        "#analysis\n",
        "circles.label.value_counts()"
      ],
      "metadata": {
        "id": "WngYthnx6Kak",
        "outputId": "71a23474-ed2b-4ce6-bd69-fb107082cdb9",
        "colab": {
          "base_uri": "https://localhost:8080/"
        }
      },
      "execution_count": 108,
      "outputs": [
        {
          "output_type": "execute_result",
          "data": {
            "text/plain": [
              "1    500\n",
              "0    500\n",
              "Name: label, dtype: int64"
            ]
          },
          "metadata": {},
          "execution_count": 108
        }
      ]
    },
    {
      "cell_type": "markdown",
      "source": [
        "## 4. Make predictions and evaluate the model\n",
        "\n",
        "From looking at the metrics it looks like the model isnt learning anything\n",
        "So to inspect we make preds and **visualize visualize visualize**\n",
        "\n",
        "To do so,we are going to import fun `plot_decision_boundary()`"
      ],
      "metadata": {
        "id": "jYLGZubq610t"
      }
    },
    {
      "cell_type": "code",
      "source": [
        "import requests\n",
        "from pathlib import Path\n",
        "#Download helper funs from learn_pytorch repo(if its not already dwnlded)\n",
        "\n",
        "if Path(\"helper_functions.py\").is_file():\n",
        "  print(\"Already imported\")\n",
        "else:\n",
        "  print(\"Downloading helper_funs\")\n",
        "  request=requests.get(\"https://github.com/mrdbourke/pytorch-deep-learning/raw/main/helper_functions.py\")\n",
        "  with open(\"helper_functions.py\",\"wb\") as f:\n",
        "    f.write(request.content)\n",
        "from helper_functions import plot_decision_boundary"
      ],
      "metadata": {
        "id": "4ViTYZq_7Jrl",
        "outputId": "43cceeb9-a1b7-4050-cd1e-472a863fba52",
        "colab": {
          "base_uri": "https://localhost:8080/"
        }
      },
      "execution_count": 109,
      "outputs": [
        {
          "output_type": "stream",
          "name": "stdout",
          "text": [
            "Already imported\n"
          ]
        }
      ]
    },
    {
      "cell_type": "code",
      "source": [
        "#PLOT THE DECISION BOUNDARY\n",
        "plt.figure(figsize=(12,6))\n",
        "plt.subplot(1,2,1)\n",
        "plt.title(\"Train\")\n",
        "plot_decision_boundary(model_0,X_train,y_train)\n",
        "plt.subplot(1,2,2)\n",
        "plt.title(\"Test\")\n",
        "plot_decision_boundary(model_0,X_test,y_test)"
      ],
      "metadata": {
        "id": "n9T1n80V9_MX",
        "outputId": "74c2c5d4-0735-433a-c595-d00fcb45f19a",
        "colab": {
          "base_uri": "https://localhost:8080/",
          "height": 390
        }
      },
      "execution_count": 110,
      "outputs": [
        {
          "output_type": "display_data",
          "data": {
            "text/plain": [
              "<Figure size 864x432 with 2 Axes>"
            ],
            "image/png": "[encoded data removed]"
          },
          "metadata": {
            "needs_background": "light"
          }
        }
      ]
    },
    {
      "cell_type": "code",
      "source": [
        "td=\"\"\"\n",
        "Make my own decision boundary fun(if poss)\n",
        "make helper fun(must)\n",
        "add it on my github(must)\n",
        "understant the funs inside(some of them)\n",
        "\"\"\""
      ],
      "metadata": {
        "id": "xg9tQ_v9ACHP"
      },
      "execution_count": 111,
      "outputs": []
    },
    {
      "cell_type": "code",
      "source": [
        "print(td)"
      ],
      "metadata": {
        "id": "7FlwGhckAxxT",
        "outputId": "993bea89-872b-4e55-fafc-840b198c4d7d",
        "colab": {
          "base_uri": "https://localhost:8080/"
        }
      },
      "execution_count": 112,
      "outputs": [
        {
          "output_type": "stream",
          "name": "stdout",
          "text": [
            "\n",
            "Make my own decision boundary fun(if poss)\n",
            "make helper fun(must)\n",
            "add it on my github(must)\n",
            "understant the funs inside(some of them)\n",
            "\n"
          ]
        }
      ]
    }
  ],
  "metadata": {
    "language_info": {
      "name": "python"
    },
    "orig_nbformat": 4,
    "colab": {
      "provenance": [],
      "include_colab_link": true
    },
    "kernelspec": {
      "name": "python3",
      "display_name": "Python 3"
    },
    "gpuClass": "standard",
    "accelerator": "GPU"
  },
  "nbformat": 4,
  "nbformat_minor": 0
}