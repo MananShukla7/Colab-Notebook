{
  "nbformat": 4,
  "nbformat_minor": 0,
  "metadata": {
    "colab": {
      "provenance": [],
      "authorship_tag": "ABX9TyMtfE78yR8vhjSonFkndslL",
      "include_colab_link": true
    },
    "kernelspec": {
      "name": "python3",
      "display_name": "Python 3"
    },
    "language_info": {
      "name": "python"
    },
    "gpuClass": "standard"
  },
  "cells": [
    {
      "cell_type": "markdown",
      "metadata": {
        "id": "view-in-github",
        "colab_type": "text"
      },
      "source": [
        "<a href=\"https://colab.research.google.com/github/MananShukla7/Colab-Notebook/blob/main/01_tensors_fundamentals.ipynb\" target=\"_parent\"><img src=\"https://colab.research.google.com/assets/colab-badge.svg\" alt=\"Open In Colab\"/></a>"
      ]
    },
    {
      "cell_type": "code",
      "execution_count": 1,
      "metadata": {
        "id": "OdtDlQZGfOSX",
        "colab": {
          "base_uri": "https://localhost:8080/"
        },
        "outputId": "05addab3-3da0-478f-b15e-9171e8000422"
      },
      "outputs": [
        {
          "output_type": "stream",
          "name": "stdout",
          "text": [
            "hello\n"
          ]
        }
      ],
      "source": [
        "print(\"hello\")"
      ]
    },
    {
      "cell_type": "code",
      "source": [
        "!nvidia-smi"
      ],
      "metadata": {
        "colab": {
          "base_uri": "https://localhost:8080/"
        },
        "id": "RLtc8il1iJGF",
        "outputId": "9227d61c-92c0-457a-aedd-53d4e921e325"
      },
      "execution_count": 2,
      "outputs": [
        {
          "output_type": "stream",
          "name": "stdout",
          "text": [
            "NVIDIA-SMI has failed because it couldn't communicate with the NVIDIA driver. Make sure that the latest NVIDIA driver is installed and running.\n",
            "\n"
          ]
        }
      ]
    },
    {
      "cell_type": "code",
      "source": [
        "import torch\n",
        "print(torch.__version__)"
      ],
      "metadata": {
        "colab": {
          "base_uri": "https://localhost:8080/"
        },
        "id": "iD923SrNi7FK",
        "outputId": "0b6598d7-ccab-411b-c6b4-a96155128fb9"
      },
      "execution_count": 3,
      "outputs": [
        {
          "output_type": "stream",
          "name": "stdout",
          "text": [
            "1.13.1+cu116\n"
          ]
        }
      ]
    },
    {
      "cell_type": "markdown",
      "source": [
        "Create Tensors"
      ],
      "metadata": {
        "id": "IbQe2tPQk7od"
      }
    },
    {
      "cell_type": "code",
      "source": [
        "#Scalar\n",
        "scalar=torch.tensor(7)\n",
        "scalar"
      ],
      "metadata": {
        "colab": {
          "base_uri": "https://localhost:8080/"
        },
        "id": "LloQgWtmktns",
        "outputId": "4f5b4b11-d18b-49ac-d63a-d81ac6dd03c2"
      },
      "execution_count": 4,
      "outputs": [
        {
          "output_type": "execute_result",
          "data": {
            "text/plain": [
              "tensor(7)"
            ]
          },
          "metadata": {},
          "execution_count": 4
        }
      ]
    },
    {
      "cell_type": "code",
      "source": [
        "scalar.ndim"
      ],
      "metadata": {
        "colab": {
          "base_uri": "https://localhost:8080/"
        },
        "id": "p-2Rx-8xlhCB",
        "outputId": "224c28b9-be5a-4f78-b6bc-a5b783f62ee6"
      },
      "execution_count": 5,
      "outputs": [
        {
          "output_type": "execute_result",
          "data": {
            "text/plain": [
              "0"
            ]
          },
          "metadata": {},
          "execution_count": 5
        }
      ]
    },
    {
      "cell_type": "code",
      "source": [
        "scalar.item()"
      ],
      "metadata": {
        "colab": {
          "base_uri": "https://localhost:8080/"
        },
        "id": "aC-KFXs7l0Pt",
        "outputId": "3c359374-bae9-4cf6-8602-a473e6a22e00"
      },
      "execution_count": 6,
      "outputs": [
        {
          "output_type": "execute_result",
          "data": {
            "text/plain": [
              "7"
            ]
          },
          "metadata": {},
          "execution_count": 6
        }
      ]
    },
    {
      "cell_type": "code",
      "source": [
        "vector=torch.tensor([7,7])\n",
        "vector"
      ],
      "metadata": {
        "colab": {
          "base_uri": "https://localhost:8080/"
        },
        "id": "1rslwvFMl2_5",
        "outputId": "b89e6cad-d198-4925-e7a7-a84f2a10a481"
      },
      "execution_count": 7,
      "outputs": [
        {
          "output_type": "execute_result",
          "data": {
            "text/plain": [
              "tensor([7, 7])"
            ]
          },
          "metadata": {},
          "execution_count": 7
        }
      ]
    },
    {
      "cell_type": "code",
      "source": [
        "vector.ndim"
      ],
      "metadata": {
        "colab": {
          "base_uri": "https://localhost:8080/"
        },
        "id": "0kmkcksbl9Bw",
        "outputId": "d537fefc-32a4-48d3-9a92-10262d943a10"
      },
      "execution_count": 8,
      "outputs": [
        {
          "output_type": "execute_result",
          "data": {
            "text/plain": [
              "1"
            ]
          },
          "metadata": {},
          "execution_count": 8
        }
      ]
    },
    {
      "cell_type": "code",
      "source": [
        "vector.shape"
      ],
      "metadata": {
        "colab": {
          "base_uri": "https://localhost:8080/"
        },
        "id": "lQ4Za--XmI7D",
        "outputId": "969c24e6-c02a-4d1e-e6d1-e077ea03cf4d"
      },
      "execution_count": 9,
      "outputs": [
        {
          "output_type": "execute_result",
          "data": {
            "text/plain": [
              "torch.Size([2])"
            ]
          },
          "metadata": {},
          "execution_count": 9
        }
      ]
    },
    {
      "cell_type": "code",
      "source": [
        "#Matrix   \n",
        "Matrix=torch.tensor([[1,2],\n",
        "                    [3,4]])\n",
        "Matrix"
      ],
      "metadata": {
        "colab": {
          "base_uri": "https://localhost:8080/"
        },
        "id": "oih04TSYmMuP",
        "outputId": "dc75aeb5-18f9-4931-d8bf-3f1ecba051fc"
      },
      "execution_count": 10,
      "outputs": [
        {
          "output_type": "execute_result",
          "data": {
            "text/plain": [
              "tensor([[1, 2],\n",
              "        [3, 4]])"
            ]
          },
          "metadata": {},
          "execution_count": 10
        }
      ]
    },
    {
      "cell_type": "code",
      "source": [
        "Matrix.ndim"
      ],
      "metadata": {
        "colab": {
          "base_uri": "https://localhost:8080/"
        },
        "id": "7l7_yLyApSRA",
        "outputId": "6af11d13-dda1-4410-8512-e03a65785f4b"
      },
      "execution_count": 11,
      "outputs": [
        {
          "output_type": "execute_result",
          "data": {
            "text/plain": [
              "2"
            ]
          },
          "metadata": {},
          "execution_count": 11
        }
      ]
    },
    {
      "cell_type": "code",
      "source": [
        "Matrix.shape"
      ],
      "metadata": {
        "colab": {
          "base_uri": "https://localhost:8080/"
        },
        "id": "p2Lfgb_0pUPh",
        "outputId": "a3d075ef-7902-4196-c670-99151874453f"
      },
      "execution_count": 12,
      "outputs": [
        {
          "output_type": "execute_result",
          "data": {
            "text/plain": [
              "torch.Size([2, 2])"
            ]
          },
          "metadata": {},
          "execution_count": 12
        }
      ]
    },
    {
      "cell_type": "code",
      "source": [
        "#Tensor\n",
        "Tensor=torch.tensor([[[[1,2,3],\n",
        "                      [4,7,3],\n",
        "                      [53,22,88]],\n",
        "                     [[1,2,8],\n",
        "                      [4,7,8],\n",
        "                      [53,22,8]]]\n",
        "                     ,\n",
        "                     [[[1,2,3],\n",
        "                      [4,7,3],\n",
        "                      [53,22,88]],\n",
        "                     [[1,2,8],\n",
        "                      [4,7,8],\n",
        "                      [53,22,8]]]])\n",
        "Tensor"
      ],
      "metadata": {
        "colab": {
          "base_uri": "https://localhost:8080/"
        },
        "id": "YFKhq8CmpWaz",
        "outputId": "815e98dc-2624-4dd9-ade4-e729484c7a72"
      },
      "execution_count": 13,
      "outputs": [
        {
          "output_type": "execute_result",
          "data": {
            "text/plain": [
              "tensor([[[[ 1,  2,  3],\n",
              "          [ 4,  7,  3],\n",
              "          [53, 22, 88]],\n",
              "\n",
              "         [[ 1,  2,  8],\n",
              "          [ 4,  7,  8],\n",
              "          [53, 22,  8]]],\n",
              "\n",
              "\n",
              "        [[[ 1,  2,  3],\n",
              "          [ 4,  7,  3],\n",
              "          [53, 22, 88]],\n",
              "\n",
              "         [[ 1,  2,  8],\n",
              "          [ 4,  7,  8],\n",
              "          [53, 22,  8]]]])"
            ]
          },
          "metadata": {},
          "execution_count": 13
        }
      ]
    },
    {
      "cell_type": "code",
      "source": [
        "Tensor.ndim"
      ],
      "metadata": {
        "colab": {
          "base_uri": "https://localhost:8080/"
        },
        "id": "IA3i_Kt0p2vG",
        "outputId": "3b85ad3b-c00c-462e-d57f-8b7fd2c7bc27"
      },
      "execution_count": 14,
      "outputs": [
        {
          "output_type": "execute_result",
          "data": {
            "text/plain": [
              "4"
            ]
          },
          "metadata": {},
          "execution_count": 14
        }
      ]
    },
    {
      "cell_type": "code",
      "source": [
        "Tensor.shape"
      ],
      "metadata": {
        "colab": {
          "base_uri": "https://localhost:8080/"
        },
        "id": "1yER4w-kp9AS",
        "outputId": "04c49ee8-2b73-43cd-8565-f6888ff5c326"
      },
      "execution_count": 15,
      "outputs": [
        {
          "output_type": "execute_result",
          "data": {
            "text/plain": [
              "torch.Size([2, 2, 3, 3])"
            ]
          },
          "metadata": {},
          "execution_count": 15
        }
      ]
    },
    {
      "cell_type": "code",
      "source": [
        "Tensor[0,0,2,2]"
      ],
      "metadata": {
        "colab": {
          "base_uri": "https://localhost:8080/"
        },
        "id": "RjGc_jiDp_N-",
        "outputId": "7a68b592-df24-4098-c874-cd94169be455"
      },
      "execution_count": 16,
      "outputs": [
        {
          "output_type": "execute_result",
          "data": {
            "text/plain": [
              "tensor(88)"
            ]
          },
          "metadata": {},
          "execution_count": 16
        }
      ]
    },
    {
      "cell_type": "code",
      "source": [
        "Tensor[1]"
      ],
      "metadata": {
        "colab": {
          "base_uri": "https://localhost:8080/"
        },
        "id": "XzXN_0FhqJ6f",
        "outputId": "c281008d-9dee-409e-a319-9f097812f7e7"
      },
      "execution_count": 17,
      "outputs": [
        {
          "output_type": "execute_result",
          "data": {
            "text/plain": [
              "tensor([[[ 1,  2,  3],\n",
              "         [ 4,  7,  3],\n",
              "         [53, 22, 88]],\n",
              "\n",
              "        [[ 1,  2,  8],\n",
              "         [ 4,  7,  8],\n",
              "         [53, 22,  8]]])"
            ]
          },
          "metadata": {},
          "execution_count": 17
        }
      ]
    },
    {
      "cell_type": "markdown",
      "source": [
        "### Random tensors\n",
        " Why Random tensors?\n",
        " - Randim tensirs are really imp concept as most neural networks start with tensors full of random nums and they adjust themm to better represent the data\n",
        "\n",
        "` start with random nums -> look at data -> update rand numbers ->look at data -> update random nums .... a lot LOTTT of times `\n"
      ],
      "metadata": {
        "id": "ezaUJ48dqMGw"
      }
    },
    {
      "cell_type": "code",
      "source": [
        "random_tensor=torch.randn(3,4)\n",
        "random_tensor\n"
      ],
      "metadata": {
        "id": "bPgZRh4W17Nx",
        "colab": {
          "base_uri": "https://localhost:8080/"
        },
        "outputId": "52624e55-f3ee-4b3f-da59-3ec80aedda22"
      },
      "execution_count": 18,
      "outputs": [
        {
          "output_type": "execute_result",
          "data": {
            "text/plain": [
              "tensor([[ 0.7758,  0.3971, -1.2929, -0.4976],\n",
              "        [-0.1728, -1.9037,  0.9066, -0.3191],\n",
              "        [-1.4388, -0.4991, -0.9731,  1.6242]])"
            ]
          },
          "metadata": {},
          "execution_count": 18
        }
      ]
    },
    {
      "cell_type": "code",
      "source": [],
      "metadata": {
        "id": "LUrGw0rs1z1d"
      },
      "execution_count": 18,
      "outputs": []
    },
    {
      "cell_type": "code",
      "source": [
        "#Create a random tensor with similar shape to an image tensor\n",
        "torch.random.manual_seed(20)\n",
        "rand_img=torch.rand(size=(3,224,224)) #height width,rgb\n",
        "rand_img.shape,rand_img"
      ],
      "metadata": {
        "colab": {
          "base_uri": "https://localhost:8080/"
        },
        "id": "2uoPVnisy914",
        "outputId": "8caca278-22eb-46a0-8668-012b00a6fdb1"
      },
      "execution_count": 19,
      "outputs": [
        {
          "output_type": "execute_result",
          "data": {
            "text/plain": [
              "(torch.Size([3, 224, 224]),\n",
              " tensor([[[0.5615, 0.1774, 0.8147,  ..., 0.8133, 0.5826, 0.7219],\n",
              "          [0.9545, 0.6889, 0.9372,  ..., 0.8040, 0.5368, 0.5657],\n",
              "          [0.2998, 0.8896, 0.2025,  ..., 0.9041, 0.9846, 0.8088],\n",
              "          ...,\n",
              "          [0.1133, 0.7002, 0.5240,  ..., 0.0859, 0.4293, 0.0065],\n",
              "          [0.8536, 0.2745, 0.6546,  ..., 0.9804, 0.9026, 0.3329],\n",
              "          [0.9143, 0.4673, 0.6598,  ..., 0.0129, 0.8840, 0.4839]],\n",
              " \n",
              "         [[0.4414, 0.4615, 0.2010,  ..., 0.6669, 0.0141, 0.3134],\n",
              "          [0.3577, 0.6521, 0.5361,  ..., 0.4245, 0.4969, 0.1932],\n",
              "          [0.8753, 0.4828, 0.1045,  ..., 0.6109, 0.3084, 0.9318],\n",
              "          ...,\n",
              "          [0.5102, 0.3285, 0.6713,  ..., 0.3853, 0.2388, 0.3782],\n",
              "          [0.8987, 0.2190, 0.8651,  ..., 0.5301, 0.7165, 0.7308],\n",
              "          [0.3581, 0.3365, 0.8670,  ..., 0.0835, 0.5875, 0.3445]],\n",
              " \n",
              "         [[0.1518, 0.6794, 0.0890,  ..., 0.2334, 0.5398, 0.1156],\n",
              "          [0.2920, 0.7287, 0.7171,  ..., 0.6051, 0.3439, 0.1311],\n",
              "          [0.9759, 0.0841, 0.1224,  ..., 0.2897, 0.4857, 0.7414],\n",
              "          ...,\n",
              "          [0.2380, 0.6903, 0.7459,  ..., 0.2904, 0.1061, 0.4152],\n",
              "          [0.3915, 0.5307, 0.6772,  ..., 0.5716, 0.0311, 0.2934],\n",
              "          [0.5900, 0.1671, 0.6884,  ..., 0.0774, 0.7775, 0.0977]]]))"
            ]
          },
          "metadata": {},
          "execution_count": 19
        }
      ]
    },
    {
      "cell_type": "code",
      "source": [
        "torch.random.manual_seed(20)\n",
        "rand_img1=torch.rand(size=(224,224,3)) #height width,rgb\n",
        "rand_img1"
      ],
      "metadata": {
        "colab": {
          "base_uri": "https://localhost:8080/"
        },
        "id": "llZR5Sfm0Ffe",
        "outputId": "8af5bcc5-7a43-4175-93b6-2dc0bc39f2f0"
      },
      "execution_count": 20,
      "outputs": [
        {
          "output_type": "execute_result",
          "data": {
            "text/plain": [
              "tensor([[[5.6148e-01, 1.7740e-01, 8.1471e-01],\n",
              "         [3.2954e-01, 2.3187e-01, 7.8316e-01],\n",
              "         [8.5439e-01, 1.0116e-01, 1.8773e-01],\n",
              "         ...,\n",
              "         [1.5617e-01, 8.2922e-01, 4.3268e-01],\n",
              "         [3.9768e-01, 6.4929e-01, 5.3315e-01],\n",
              "         [9.0405e-01, 9.8460e-01, 8.0881e-01]],\n",
              "\n",
              "        [[5.1825e-01, 5.5561e-01, 2.4194e-01],\n",
              "         [7.4006e-01, 9.5076e-01, 5.6104e-02],\n",
              "         [4.4172e-01, 6.3345e-01, 4.9667e-01],\n",
              "         ...,\n",
              "         [5.9040e-01, 6.5274e-01, 3.7073e-01],\n",
              "         [3.5165e-01, 5.5772e-01, 2.7343e-01],\n",
              "         [1.0802e-02, 7.3217e-01, 7.2024e-01]],\n",
              "\n",
              "        [[6.1730e-02, 1.4610e-01, 3.0265e-01],\n",
              "         [9.1708e-02, 9.3601e-01, 6.6629e-01],\n",
              "         [5.0826e-01, 7.7532e-01, 2.3762e-01],\n",
              "         ...,\n",
              "         [8.3002e-01, 3.7009e-02, 5.2244e-01],\n",
              "         [7.0728e-01, 3.4537e-01, 7.1478e-01],\n",
              "         [5.5738e-02, 5.8489e-01, 1.4803e-01]],\n",
              "\n",
              "        ...,\n",
              "\n",
              "        [[2.5475e-01, 5.1229e-01, 4.6777e-02],\n",
              "         [7.1190e-01, 5.7261e-01, 1.7255e-02],\n",
              "         [9.9651e-01, 9.3538e-01, 4.2957e-01],\n",
              "         ...,\n",
              "         [5.8238e-01, 7.0200e-01, 4.5580e-01],\n",
              "         [3.7068e-01, 9.3968e-01, 8.0300e-01],\n",
              "         [5.9883e-01, 5.7571e-01, 8.3725e-01]],\n",
              "\n",
              "        [[7.5341e-01, 4.2456e-01, 9.3048e-01],\n",
              "         [6.1972e-01, 6.1151e-01, 5.0943e-01],\n",
              "         [6.9552e-01, 3.3512e-01, 6.7199e-01],\n",
              "         ...,\n",
              "         [9.7831e-01, 9.5733e-01, 8.9472e-01],\n",
              "         [4.7363e-01, 8.4437e-01, 6.5648e-01],\n",
              "         [2.2785e-01, 4.8648e-01, 5.4910e-01]],\n",
              "\n",
              "        [[2.3802e-01, 6.9032e-01, 7.4592e-01],\n",
              "         [1.7417e-02, 7.9980e-01, 9.0361e-04],\n",
              "         [4.5460e-01, 8.5825e-01, 4.7121e-01],\n",
              "         ...,\n",
              "         [4.4494e-01, 7.3258e-01, 2.5267e-01],\n",
              "         [7.9002e-01, 1.7983e-01, 1.3318e-01],\n",
              "         [7.7444e-02, 7.7752e-01, 9.7694e-02]]])"
            ]
          },
          "metadata": {},
          "execution_count": 20
        }
      ]
    },
    {
      "cell_type": "code",
      "source": [
        "import torchvision\n",
        "import torchvision.transforms as T\n",
        "from PIL import Image"
      ],
      "metadata": {
        "id": "7ACzGsc82xu-"
      },
      "execution_count": 21,
      "outputs": []
    },
    {
      "cell_type": "code",
      "source": [
        "transform = T.ToPILImage()"
      ],
      "metadata": {
        "id": "f0urcJCO2yko"
      },
      "execution_count": 22,
      "outputs": []
    },
    {
      "cell_type": "code",
      "source": [
        "img = transform(rand_img)\n"
      ],
      "metadata": {
        "id": "ISR3PjVL25Gk"
      },
      "execution_count": 23,
      "outputs": []
    },
    {
      "cell_type": "code",
      "source": [
        "img"
      ],
      "metadata": {
        "colab": {
          "base_uri": "https://localhost:8080/",
          "height": 241
        },
        "id": "bqtHZafV3EZC",
        "outputId": "4b2220e0-6802-48b5-f5e2-accc299b52e1"
      },
      "execution_count": 24,
      "outputs": [
        {
          "output_type": "execute_result",
          "data": {
            "text/plain": [
              "<PIL.Image.Image image mode=RGB size=224x224 at 0x7F7B729496D0>"
            ],
            "image/png": "[encoded data removed]"
          },
          "metadata": {},
          "execution_count": 24
        }
      ]
    },
    {
      "cell_type": "code",
      "source": [
        "s=torch.arange(2,21,2).reshape(2,5)\n",
        "s"
      ],
      "metadata": {
        "colab": {
          "base_uri": "https://localhost:8080/"
        },
        "id": "WqhpP36B5X2R",
        "outputId": "f1ad476d-21b1-4d66-e9c9-bac45f1783e7"
      },
      "execution_count": 25,
      "outputs": [
        {
          "output_type": "execute_result",
          "data": {
            "text/plain": [
              "tensor([[ 2,  4,  6,  8, 10],\n",
              "        [12, 14, 16, 18, 20]])"
            ]
          },
          "metadata": {},
          "execution_count": 25
        }
      ]
    },
    {
      "cell_type": "markdown",
      "source": [
        "#Getting info from tensors\n",
        "1. Tensors not right datatype - to get datatype from tensor use `tensor.dtype`\n",
        "2. Tensors not right shape - to get shape from tensor use `tensor.shape`\n",
        "3. Tensors not on the right device to get the device name from tensor use `tensor.device`"
      ],
      "metadata": {
        "id": "haFeVagvZNrj"
      }
    },
    {
      "cell_type": "code",
      "source": [
        "some_tensor = torch.rand(3,4)\n",
        "some_tensor"
      ],
      "metadata": {
        "colab": {
          "base_uri": "https://localhost:8080/"
        },
        "id": "e9nOBAgdbQDP",
        "outputId": "d32553a6-991d-4680-8f42-8b5f351c7ba9"
      },
      "execution_count": 26,
      "outputs": [
        {
          "output_type": "execute_result",
          "data": {
            "text/plain": [
              "tensor([[0.9832, 0.2356, 0.4303, 0.2667],\n",
              "        [0.3754, 0.6492, 0.8164, 0.4326],\n",
              "        [0.9976, 0.2806, 0.7157, 0.2182]])"
            ]
          },
          "metadata": {},
          "execution_count": 26
        }
      ]
    },
    {
      "cell_type": "code",
      "source": [
        "print(f\"Datatype of tensor : {some_tensor.dtype}\")\n",
        "print(f\"Shape of tensor : {some_tensor.shape}\")\n",
        "print(f\"device: {some_tensor.device}\")"
      ],
      "metadata": {
        "colab": {
          "base_uri": "https://localhost:8080/"
        },
        "id": "Fii_qa2ybZXV",
        "outputId": "79478179-542f-40ac-c150-afee3df05c1d"
      },
      "execution_count": 27,
      "outputs": [
        {
          "output_type": "stream",
          "name": "stdout",
          "text": [
            "Datatype of tensor : torch.float32\n",
            "Shape of tensor : torch.Size([3, 4])\n",
            "device: cpu\n"
          ]
        }
      ]
    },
    {
      "cell_type": "code",
      "source": [
        "%%time\n",
        "print(\"h\"*100)"
      ],
      "metadata": {
        "id": "Bbn5G7bxiNwU",
        "outputId": "6428e8ff-f2aa-4ee6-ce36-7fa47607c636",
        "colab": {
          "base_uri": "https://localhost:8080/"
        }
      },
      "execution_count": 28,
      "outputs": [
        {
          "output_type": "stream",
          "name": "stdout",
          "text": [
            "hhhhhhhhhhhhhhhhhhhhhhhhhhhhhhhhhhhhhhhhhhhhhhhhhhhhhhhhhhhhhhhhhhhhhhhhhhhhhhhhhhhhhhhhhhhhhhhhhhhh\n",
            "CPU times: user 930 µs, sys: 0 ns, total: 930 µs\n",
            "Wall time: 937 µs\n"
          ]
        }
      ]
    },
    {
      "cell_type": "markdown",
      "source": [],
      "metadata": {
        "id": "-TLcYE8yd7Ou"
      }
    },
    {
      "cell_type": "code",
      "source": [
        "x=torch.arange(0,100,10, dtype=torch.int64)\n",
        "x,x.dtype"
      ],
      "metadata": {
        "id": "flCwvztjrD8f",
        "outputId": "583cc0e8-2199-45ad-c7e8-77e046c7ce3c",
        "colab": {
          "base_uri": "https://localhost:8080/"
        }
      },
      "execution_count": 29,
      "outputs": [
        {
          "output_type": "execute_result",
          "data": {
            "text/plain": [
              "(tensor([ 0, 10, 20, 30, 40, 50, 60, 70, 80, 90]), torch.int64)"
            ]
          },
          "metadata": {},
          "execution_count": 29
        }
      ]
    },
    {
      "cell_type": "code",
      "source": [
        "##error cause the mean requres a tensor of datatype float or complex\n",
        "x.mean()"
      ],
      "metadata": {
        "id": "arYaSA5prGym",
        "outputId": "a0d02049-778c-4e7f-a2b3-3f36fb948f53",
        "colab": {
          "base_uri": "https://localhost:8080/",
          "height": 200
        }
      },
      "execution_count": 31,
      "outputs": [
        {
          "output_type": "error",
          "ename": "RuntimeError",
          "evalue": "ignored",
          "traceback": [
            "\u001b[0;31m---------------------------------------------------------------------------\u001b[0m",
            "\u001b[0;31mRuntimeError\u001b[0m                              Traceback (most recent call last)",
            "\u001b[0;32m<ipython-input-31-fa657d93c0f1>\u001b[0m in \u001b[0;36m<module>\u001b[0;34m\u001b[0m\n\u001b[1;32m      1\u001b[0m \u001b[0;31m##error cause the mean requres a tensor of datatype float or complex\u001b[0m\u001b[0;34m\u001b[0m\u001b[0;34m\u001b[0m\u001b[0;34m\u001b[0m\u001b[0m\n\u001b[0;32m----> 2\u001b[0;31m \u001b[0mx\u001b[0m\u001b[0;34m.\u001b[0m\u001b[0mmean\u001b[0m\u001b[0;34m(\u001b[0m\u001b[0;34m)\u001b[0m\u001b[0;34m\u001b[0m\u001b[0;34m\u001b[0m\u001b[0m\n\u001b[0m",
            "\u001b[0;31mRuntimeError\u001b[0m: mean(): could not infer output dtype. Input dtype must be either a floating point or complex dtype. Got: Long"
          ]
        }
      ]
    },
    {
      "cell_type": "code",
      "source": [
        "x.type(torch.half).mean()"
      ],
      "metadata": {
        "id": "1s-y52OZroQV",
        "outputId": "9b71278d-5f9f-4d8c-8056-29d5f4373188",
        "colab": {
          "base_uri": "https://localhost:8080/"
        }
      },
      "execution_count": 42,
      "outputs": [
        {
          "output_type": "execute_result",
          "data": {
            "text/plain": [
              "tensor(45.5000, dtype=torch.float16)"
            ]
          },
          "metadata": {},
          "execution_count": 42
        }
      ]
    },
    {
      "cell_type": "code",
      "source": [
        "torch.max(x)"
      ],
      "metadata": {
        "id": "PnlQe7I_sTFe",
        "outputId": "1d162f6a-2875-4412-c283-88a76c4e523e",
        "colab": {
          "base_uri": "https://localhost:8080/"
        }
      },
      "execution_count": 43,
      "outputs": [
        {
          "output_type": "execute_result",
          "data": {
            "text/plain": [
              "tensor(90)"
            ]
          },
          "metadata": {},
          "execution_count": 43
        }
      ]
    },
    {
      "cell_type": "code",
      "source": [
        "torch.min(x)"
      ],
      "metadata": {
        "id": "uAv0dDJCsXe1",
        "outputId": "8fdf371b-d2df-4c22-91d1-8fac6b328d0a",
        "colab": {
          "base_uri": "https://localhost:8080/"
        }
      },
      "execution_count": 44,
      "outputs": [
        {
          "output_type": "execute_result",
          "data": {
            "text/plain": [
              "tensor(5)"
            ]
          },
          "metadata": {},
          "execution_count": 44
        }
      ]
    },
    {
      "cell_type": "code",
      "source": [
        "torch.std(x.type(torch.float16)),torch.std(x.type(torch.float32)),torch.std(x.type(torch.float64))"
      ],
      "metadata": {
        "id": "n2-OShM1sZvU",
        "outputId": "7cb3e8c9-d5c6-4e6f-930a-f524379ef9b4",
        "colab": {
          "base_uri": "https://localhost:8080/"
        }
      },
      "execution_count": 45,
      "outputs": [
        {
          "output_type": "execute_result",
          "data": {
            "text/plain": [
              "(tensor(29.4844, dtype=torch.float16),\n",
              " tensor(29.4816),\n",
              " tensor(29.4816, dtype=torch.float64))"
            ]
          },
          "metadata": {},
          "execution_count": 45
        }
      ]
    },
    {
      "cell_type": "code",
      "source": [
        "x.shape"
      ],
      "metadata": {
        "id": "rrK12_3csqTV",
        "outputId": "3cedd4a7-0a93-4aeb-c61f-b2bfba46a9ea",
        "colab": {
          "base_uri": "https://localhost:8080/"
        }
      },
      "execution_count": 46,
      "outputs": [
        {
          "output_type": "execute_result",
          "data": {
            "text/plain": [
              "torch.Size([10])"
            ]
          },
          "metadata": {},
          "execution_count": 46
        }
      ]
    },
    {
      "cell_type": "code",
      "source": [
        "x.median()"
      ],
      "metadata": {
        "id": "UldKJYXetBO2",
        "outputId": "979b6e39-9fa1-47a8-ae8c-022efdddc943",
        "colab": {
          "base_uri": "https://localhost:8080/"
        }
      },
      "execution_count": 47,
      "outputs": [
        {
          "output_type": "execute_result",
          "data": {
            "text/plain": [
              "tensor(40)"
            ]
          },
          "metadata": {},
          "execution_count": 47
        }
      ]
    },
    {
      "cell_type": "code",
      "source": [
        "torch.var(x.type(torch.float64))"
      ],
      "metadata": {
        "id": "NQauVSBjtJSL",
        "outputId": "93e05a7c-2db6-44e7-f013-a87c0f958429",
        "colab": {
          "base_uri": "https://localhost:8080/"
        }
      },
      "execution_count": 48,
      "outputs": [
        {
          "output_type": "execute_result",
          "data": {
            "text/plain": [
              "tensor(869.1667, dtype=torch.float64)"
            ]
          },
          "metadata": {},
          "execution_count": 48
        }
      ]
    },
    {
      "cell_type": "code",
      "source": [
        "x.argmax(),x.argmin()"
      ],
      "metadata": {
        "id": "rDYR2AuUucZd",
        "outputId": "abb2f1e5-f317-4509-8a7b-f8e1c9544812",
        "colab": {
          "base_uri": "https://localhost:8080/"
        }
      },
      "execution_count": 49,
      "outputs": [
        {
          "output_type": "execute_result",
          "data": {
            "text/plain": [
              "(tensor(9), tensor(0))"
            ]
          },
          "metadata": {},
          "execution_count": 49
        }
      ]
    },
    {
      "cell_type": "code",
      "source": [
        " x.reshape(5,2),x.shape"
      ],
      "metadata": {
        "id": "URVdkqWouebw",
        "outputId": "bf1c6d8a-78b2-48f0-e4d4-95f0cd944c5c",
        "colab": {
          "base_uri": "https://localhost:8080/"
        }
      },
      "execution_count": 50,
      "outputs": [
        {
          "output_type": "execute_result",
          "data": {
            "text/plain": [
              "(tensor([[ 5, 10],\n",
              "         [20, 30],\n",
              "         [40, 50],\n",
              "         [60, 70],\n",
              "         [80, 90]]), torch.Size([10]))"
            ]
          },
          "metadata": {},
          "execution_count": 50
        }
      ]
    },
    {
      "cell_type": "code",
      "source": [
        "z=x.view(5,2)\n",
        "z,x"
      ],
      "metadata": {
        "id": "6ygqEI0MjIkx",
        "outputId": "502e0723-a536-42dc-8912-da245bb7e78c",
        "colab": {
          "base_uri": "https://localhost:8080/"
        }
      },
      "execution_count": 51,
      "outputs": [
        {
          "output_type": "execute_result",
          "data": {
            "text/plain": [
              "(tensor([[ 5, 10],\n",
              "         [20, 30],\n",
              "         [40, 50],\n",
              "         [60, 70],\n",
              "         [80, 90]]), tensor([ 5, 10, 20, 30, 40, 50, 60, 70, 80, 90]))"
            ]
          },
          "metadata": {},
          "execution_count": 51
        }
      ]
    },
    {
      "cell_type": "code",
      "source": [
        "z[0,0]=5\n",
        "z,x"
      ],
      "metadata": {
        "id": "m4KsKacBjbtp",
        "outputId": "4bd32eb5-b2de-490d-bef3-438a5dc3984a",
        "colab": {
          "base_uri": "https://localhost:8080/"
        }
      },
      "execution_count": 52,
      "outputs": [
        {
          "output_type": "execute_result",
          "data": {
            "text/plain": [
              "(tensor([[ 5, 10],\n",
              "         [20, 30],\n",
              "         [40, 50],\n",
              "         [60, 70],\n",
              "         [80, 90]]), tensor([ 5, 10, 20, 30, 40, 50, 60, 70, 80, 90]))"
            ]
          },
          "metadata": {},
          "execution_count": 52
        }
      ]
    },
    {
      "cell_type": "code",
      "source": [
        "x.unsqueeze(dim=1)"
      ],
      "metadata": {
        "id": "dbjWSHQNrOM2",
        "outputId": "42188896-5564-4325-c170-150589a00952",
        "colab": {
          "base_uri": "https://localhost:8080/"
        }
      },
      "execution_count": 53,
      "outputs": [
        {
          "output_type": "execute_result",
          "data": {
            "text/plain": [
              "tensor([[ 5],\n",
              "        [10],\n",
              "        [20],\n",
              "        [30],\n",
              "        [40],\n",
              "        [50],\n",
              "        [60],\n",
              "        [70],\n",
              "        [80],\n",
              "        [90]])"
            ]
          },
          "metadata": {},
          "execution_count": 53
        }
      ]
    },
    {
      "cell_type": "code",
      "source": [
        "x1=torch.randn(5,2,3)\n",
        "x2=x1.permute(2,0,1)\n",
        "x1.shape,x2.shape"
      ],
      "metadata": {
        "id": "95-MMimYvBEG",
        "outputId": "217623d9-2c00-4968-bd29-d9c9127ab9d7",
        "colab": {
          "base_uri": "https://localhost:8080/"
        }
      },
      "execution_count": 54,
      "outputs": [
        {
          "output_type": "execute_result",
          "data": {
            "text/plain": [
              "(torch.Size([5, 2, 3]), torch.Size([3, 5, 2]))"
            ]
          },
          "metadata": {},
          "execution_count": 54
        }
      ]
    },
    {
      "cell_type": "code",
      "source": [
        "x=torch.arange(1,10,1).reshape(1,3,3)"
      ],
      "metadata": {
        "id": "982Nvb0QZvos"
      },
      "execution_count": 59,
      "outputs": []
    },
    {
      "cell_type": "code",
      "source": [
        "x[0]"
      ],
      "metadata": {
        "id": "lkqOTW_oaIzm",
        "outputId": "dc22115e-79a3-491a-c77a-32b0a2fa3189",
        "colab": {
          "base_uri": "https://localhost:8080/"
        }
      },
      "execution_count": 62,
      "outputs": [
        {
          "output_type": "execute_result",
          "data": {
            "text/plain": [
              "tensor([[1, 2, 3],\n",
              "        [4, 5, 6],\n",
              "        [7, 8, 9]])"
            ]
          },
          "metadata": {},
          "execution_count": 62
        }
      ]
    },
    {
      "cell_type": "code",
      "source": [
        "x[0,2,:]"
      ],
      "metadata": {
        "id": "CXTST7iradtJ",
        "outputId": "b5bca6e4-aeb8-4c31-9c3b-a65df99d3f17",
        "colab": {
          "base_uri": "https://localhost:8080/"
        }
      },
      "execution_count": 70,
      "outputs": [
        {
          "output_type": "execute_result",
          "data": {
            "text/plain": [
              "tensor([7, 8, 9])"
            ]
          },
          "metadata": {},
          "execution_count": 70
        }
      ]
    },
    {
      "cell_type": "code",
      "source": [
        "import torch\n",
        "import numpy as np"
      ],
      "metadata": {
        "id": "NFqDuWnda3WE"
      },
      "execution_count": 81,
      "outputs": []
    },
    {
      "cell_type": "code",
      "source": [
        "array=np.arange(1.0,8.0)\n",
        "array"
      ],
      "metadata": {
        "id": "ddPGdJYoa-lQ",
        "outputId": "4e54297b-2e06-4783-8ba5-037293f329dd",
        "colab": {
          "base_uri": "https://localhost:8080/"
        }
      },
      "execution_count": 82,
      "outputs": [
        {
          "output_type": "execute_result",
          "data": {
            "text/plain": [
              "array([1., 2., 3., 4., 5., 6., 7.])"
            ]
          },
          "metadata": {},
          "execution_count": 82
        }
      ]
    },
    {
      "cell_type": "code",
      "source": [
        "tensor=torch.from_numpy(array).type(torch.float64)\n",
        "tensor"
      ],
      "metadata": {
        "id": "knWqiUj1bqCK",
        "outputId": "9ace55d5-1983-489b-fa1d-e10eee121ade",
        "colab": {
          "base_uri": "https://localhost:8080/"
        }
      },
      "execution_count": 88,
      "outputs": [
        {
          "output_type": "execute_result",
          "data": {
            "text/plain": [
              "tensor([1., 2., 3., 4., 5., 6., 7.], dtype=torch.float64)"
            ]
          },
          "metadata": {},
          "execution_count": 88
        }
      ]
    },
    {
      "cell_type": "code",
      "source": [
        "array.dtype"
      ],
      "metadata": {
        "id": "zkHSubnWfyum",
        "outputId": "080a5b20-5763-482b-cca0-bf040592d166",
        "colab": {
          "base_uri": "https://localhost:8080/"
        }
      },
      "execution_count": 87,
      "outputs": [
        {
          "output_type": "execute_result",
          "data": {
            "text/plain": [
              "dtype('float64')"
            ]
          },
          "metadata": {},
          "execution_count": 87
        }
      ]
    },
    {
      "cell_type": "code",
      "source": [
        " array=array+1\n",
        " array,tensor"
      ],
      "metadata": {
        "id": "QrvJZzuPf9M6",
        "outputId": "c34258b9-be59-45a9-faa8-3f8697d483f1",
        "colab": {
          "base_uri": "https://localhost:8080/"
        }
      },
      "execution_count": 90,
      "outputs": [
        {
          "output_type": "execute_result",
          "data": {
            "text/plain": [
              "(array([3., 4., 5., 6., 7., 8., 9.]),\n",
              " tensor([1., 2., 3., 4., 5., 6., 7.], dtype=torch.float64))"
            ]
          },
          "metadata": {},
          "execution_count": 90
        }
      ]
    },
    {
      "cell_type": "code",
      "source": [
        "array.dtype"
      ],
      "metadata": {
        "id": "lj99GwwrhNrK",
        "outputId": "c8ef9add-97df-4796-847a-3f411087c5e5",
        "colab": {
          "base_uri": "https://localhost:8080/"
        }
      },
      "execution_count": 92,
      "outputs": [
        {
          "output_type": "execute_result",
          "data": {
            "text/plain": [
              "dtype('float64')"
            ]
          },
          "metadata": {},
          "execution_count": 92
        }
      ]
    },
    {
      "cell_type": "code",
      "source": [
        "tensor=torch.ones(7)\n",
        "numpy_tensor=tensor.numpy()\n",
        "tensor,numpy_tensor"
      ],
      "metadata": {
        "id": "JKE4XRy7hRJU",
        "outputId": "29c16634-4f67-432b-cbbf-cdb6784ae909",
        "colab": {
          "base_uri": "https://localhost:8080/"
        }
      },
      "execution_count": 96,
      "outputs": [
        {
          "output_type": "execute_result",
          "data": {
            "text/plain": [
              "(tensor([1., 1., 1., 1., 1., 1., 1.]),\n",
              " array([1., 1., 1., 1., 1., 1., 1.], dtype=float32))"
            ]
          },
          "metadata": {},
          "execution_count": 96
        }
      ]
    },
    {
      "cell_type": "code",
      "source": [
        "tensor+=1\n",
        "tensor,numpy_tensor"
      ],
      "metadata": {
        "id": "dfItaKJ-hmfj",
        "outputId": "ecce8991-4190-43c0-cdae-738df868aefb",
        "colab": {
          "base_uri": "https://localhost:8080/"
        }
      },
      "execution_count": 98,
      "outputs": [
        {
          "output_type": "execute_result",
          "data": {
            "text/plain": [
              "(tensor([3., 3., 3., 3., 3., 3., 3.]),\n",
              " array([3., 3., 3., 3., 3., 3., 3.], dtype=float32))"
            ]
          },
          "metadata": {},
          "execution_count": 98
        }
      ]
    },
    {
      "cell_type": "markdown",
      "source": [
        "##running tensors and pytorch obj on GPUs\n",
        "GPUs=faster on numbers calc thanks to cuda +nvidia hardware"
      ],
      "metadata": {
        "id": "iCJgAluZiBbl"
      }
    },
    {
      "cell_type": "markdown",
      "source": [
        "###Getting gpu\n",
        "use g.colab for free gpu opt to upgrade as well\n",
        "use your own gpus -takes a bit of setup!!\n"
      ],
      "metadata": {
        "id": "Ddms1zjWmdjc"
      }
    },
    {
      "cell_type": "code",
      "source": [],
      "metadata": {
        "id": "iy_lK-_ym2Bp"
      },
      "execution_count": null,
      "outputs": []
    },
    {
      "cell_type": "code",
      "source": [],
      "metadata": {
        "id": "R0KPIUxpmnXX"
      },
      "execution_count": null,
      "outputs": []
    }
  ]
}